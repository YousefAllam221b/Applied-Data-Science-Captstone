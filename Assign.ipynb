{
  "nbformat": 4,
  "nbformat_minor": 0,
  "metadata": {
    "kernelspec": {
      "display_name": "Python 3",
      "language": "python",
      "name": "python3"
    },
    "language_info": {
      "codemirror_mode": {
        "name": "ipython",
        "version": 3
      },
      "file_extension": ".py",
      "mimetype": "text/x-python",
      "name": "python",
      "nbconvert_exporter": "python",
      "pygments_lexer": "ipython3",
      "version": "3.7.3"
    },
    "colab": {
      "name": "Assign.ipynb",
      "provenance": [],
      "collapsed_sections": [],
      "toc_visible": true
    }
  },
  "cells": [
    {
      "cell_type": "markdown",
      "metadata": {
        "id": "X4eQ8N1kJPfC"
      },
      "source": [
        "This is notebook is going to be used for the capstone projects."
      ]
    },
    {
      "cell_type": "markdown",
      "metadata": {
        "id": "dBMRtmHSLEP9"
      },
      "source": [
        "Importing pandas and numpy."
      ]
    },
    {
      "cell_type": "code",
      "metadata": {
        "id": "aZ7uBa0dJPfD"
      },
      "source": [
        "import pandas as pd\n",
        "import numpy as np"
      ],
      "execution_count": 1,
      "outputs": []
    },
    {
      "cell_type": "markdown",
      "metadata": {
        "id": "2dvYLOOvLJC-"
      },
      "source": [
        "Reading the data file in a data frame."
      ]
    },
    {
      "cell_type": "code",
      "metadata": {
        "scrolled": false,
        "id": "wITcAEcEJPfI",
        "outputId": "b6ee9d9d-f86c-4bda-df06-56e44822d700",
        "colab": {
          "base_uri": "https://localhost:8080/",
          "height": 70
        }
      },
      "source": [
        "df=pd.read_csv(\"Data-Collisions.csv\")"
      ],
      "execution_count": 2,
      "outputs": [
        {
          "output_type": "stream",
          "text": [
            "/usr/local/lib/python3.6/dist-packages/IPython/core/interactiveshell.py:2718: DtypeWarning: Columns (33) have mixed types.Specify dtype option on import or set low_memory=False.\n",
            "  interactivity=interactivity, compiler=compiler, result=result)\n"
          ],
          "name": "stderr"
        }
      ]
    },
    {
      "cell_type": "markdown",
      "metadata": {
        "id": "ZJTlclSaLqgn"
      },
      "source": [
        "Priniting the first 5 rows of the data frame."
      ]
    },
    {
      "cell_type": "code",
      "metadata": {
        "scrolled": true,
        "id": "6tmwQiokJPfK",
        "outputId": "1d61fb30-abcd-4f39-976f-008a279d7bea",
        "colab": {
          "base_uri": "https://localhost:8080/",
          "height": 666
        }
      },
      "source": [
        "df.head()"
      ],
      "execution_count": 3,
      "outputs": [
        {
          "output_type": "execute_result",
          "data": {
            "text/html": [
              "<div>\n",
              "<style scoped>\n",
              "    .dataframe tbody tr th:only-of-type {\n",
              "        vertical-align: middle;\n",
              "    }\n",
              "\n",
              "    .dataframe tbody tr th {\n",
              "        vertical-align: top;\n",
              "    }\n",
              "\n",
              "    .dataframe thead th {\n",
              "        text-align: right;\n",
              "    }\n",
              "</style>\n",
              "<table border=\"1\" class=\"dataframe\">\n",
              "  <thead>\n",
              "    <tr style=\"text-align: right;\">\n",
              "      <th></th>\n",
              "      <th>SEVERITYCODE</th>\n",
              "      <th>X</th>\n",
              "      <th>Y</th>\n",
              "      <th>OBJECTID</th>\n",
              "      <th>INCKEY</th>\n",
              "      <th>COLDETKEY</th>\n",
              "      <th>REPORTNO</th>\n",
              "      <th>STATUS</th>\n",
              "      <th>ADDRTYPE</th>\n",
              "      <th>INTKEY</th>\n",
              "      <th>LOCATION</th>\n",
              "      <th>EXCEPTRSNCODE</th>\n",
              "      <th>EXCEPTRSNDESC</th>\n",
              "      <th>SEVERITYCODE.1</th>\n",
              "      <th>SEVERITYDESC</th>\n",
              "      <th>COLLISIONTYPE</th>\n",
              "      <th>PERSONCOUNT</th>\n",
              "      <th>PEDCOUNT</th>\n",
              "      <th>PEDCYLCOUNT</th>\n",
              "      <th>VEHCOUNT</th>\n",
              "      <th>INCDATE</th>\n",
              "      <th>INCDTTM</th>\n",
              "      <th>JUNCTIONTYPE</th>\n",
              "      <th>SDOT_COLCODE</th>\n",
              "      <th>SDOT_COLDESC</th>\n",
              "      <th>INATTENTIONIND</th>\n",
              "      <th>UNDERINFL</th>\n",
              "      <th>WEATHER</th>\n",
              "      <th>ROADCOND</th>\n",
              "      <th>LIGHTCOND</th>\n",
              "      <th>PEDROWNOTGRNT</th>\n",
              "      <th>SDOTCOLNUM</th>\n",
              "      <th>SPEEDING</th>\n",
              "      <th>ST_COLCODE</th>\n",
              "      <th>ST_COLDESC</th>\n",
              "      <th>SEGLANEKEY</th>\n",
              "      <th>CROSSWALKKEY</th>\n",
              "      <th>HITPARKEDCAR</th>\n",
              "    </tr>\n",
              "  </thead>\n",
              "  <tbody>\n",
              "    <tr>\n",
              "      <th>0</th>\n",
              "      <td>2</td>\n",
              "      <td>-122.323148</td>\n",
              "      <td>47.703140</td>\n",
              "      <td>1</td>\n",
              "      <td>1307</td>\n",
              "      <td>1307</td>\n",
              "      <td>3502005</td>\n",
              "      <td>Matched</td>\n",
              "      <td>Intersection</td>\n",
              "      <td>37475.0</td>\n",
              "      <td>5TH AVE NE AND NE 103RD ST</td>\n",
              "      <td></td>\n",
              "      <td>NaN</td>\n",
              "      <td>2</td>\n",
              "      <td>Injury Collision</td>\n",
              "      <td>Angles</td>\n",
              "      <td>2</td>\n",
              "      <td>0</td>\n",
              "      <td>0</td>\n",
              "      <td>2</td>\n",
              "      <td>2013/03/27 00:00:00+00</td>\n",
              "      <td>3/27/2013 2:54:00 PM</td>\n",
              "      <td>At Intersection (intersection related)</td>\n",
              "      <td>11</td>\n",
              "      <td>MOTOR VEHICLE STRUCK MOTOR VEHICLE, FRONT END ...</td>\n",
              "      <td>NaN</td>\n",
              "      <td>N</td>\n",
              "      <td>Overcast</td>\n",
              "      <td>Wet</td>\n",
              "      <td>Daylight</td>\n",
              "      <td>NaN</td>\n",
              "      <td>NaN</td>\n",
              "      <td>NaN</td>\n",
              "      <td>10</td>\n",
              "      <td>Entering at angle</td>\n",
              "      <td>0</td>\n",
              "      <td>0</td>\n",
              "      <td>N</td>\n",
              "    </tr>\n",
              "    <tr>\n",
              "      <th>1</th>\n",
              "      <td>1</td>\n",
              "      <td>-122.347294</td>\n",
              "      <td>47.647172</td>\n",
              "      <td>2</td>\n",
              "      <td>52200</td>\n",
              "      <td>52200</td>\n",
              "      <td>2607959</td>\n",
              "      <td>Matched</td>\n",
              "      <td>Block</td>\n",
              "      <td>NaN</td>\n",
              "      <td>AURORA BR BETWEEN RAYE ST AND BRIDGE WAY N</td>\n",
              "      <td>NaN</td>\n",
              "      <td>NaN</td>\n",
              "      <td>1</td>\n",
              "      <td>Property Damage Only Collision</td>\n",
              "      <td>Sideswipe</td>\n",
              "      <td>2</td>\n",
              "      <td>0</td>\n",
              "      <td>0</td>\n",
              "      <td>2</td>\n",
              "      <td>2006/12/20 00:00:00+00</td>\n",
              "      <td>12/20/2006 6:55:00 PM</td>\n",
              "      <td>Mid-Block (not related to intersection)</td>\n",
              "      <td>16</td>\n",
              "      <td>MOTOR VEHICLE STRUCK MOTOR VEHICLE, LEFT SIDE ...</td>\n",
              "      <td>NaN</td>\n",
              "      <td>0</td>\n",
              "      <td>Raining</td>\n",
              "      <td>Wet</td>\n",
              "      <td>Dark - Street Lights On</td>\n",
              "      <td>NaN</td>\n",
              "      <td>6354039.0</td>\n",
              "      <td>NaN</td>\n",
              "      <td>11</td>\n",
              "      <td>From same direction - both going straight - bo...</td>\n",
              "      <td>0</td>\n",
              "      <td>0</td>\n",
              "      <td>N</td>\n",
              "    </tr>\n",
              "    <tr>\n",
              "      <th>2</th>\n",
              "      <td>1</td>\n",
              "      <td>-122.334540</td>\n",
              "      <td>47.607871</td>\n",
              "      <td>3</td>\n",
              "      <td>26700</td>\n",
              "      <td>26700</td>\n",
              "      <td>1482393</td>\n",
              "      <td>Matched</td>\n",
              "      <td>Block</td>\n",
              "      <td>NaN</td>\n",
              "      <td>4TH AVE BETWEEN SENECA ST AND UNIVERSITY ST</td>\n",
              "      <td>NaN</td>\n",
              "      <td>NaN</td>\n",
              "      <td>1</td>\n",
              "      <td>Property Damage Only Collision</td>\n",
              "      <td>Parked Car</td>\n",
              "      <td>4</td>\n",
              "      <td>0</td>\n",
              "      <td>0</td>\n",
              "      <td>3</td>\n",
              "      <td>2004/11/18 00:00:00+00</td>\n",
              "      <td>11/18/2004 10:20:00 AM</td>\n",
              "      <td>Mid-Block (not related to intersection)</td>\n",
              "      <td>14</td>\n",
              "      <td>MOTOR VEHICLE STRUCK MOTOR VEHICLE, REAR END</td>\n",
              "      <td>NaN</td>\n",
              "      <td>0</td>\n",
              "      <td>Overcast</td>\n",
              "      <td>Dry</td>\n",
              "      <td>Daylight</td>\n",
              "      <td>NaN</td>\n",
              "      <td>4323031.0</td>\n",
              "      <td>NaN</td>\n",
              "      <td>32</td>\n",
              "      <td>One parked--one moving</td>\n",
              "      <td>0</td>\n",
              "      <td>0</td>\n",
              "      <td>N</td>\n",
              "    </tr>\n",
              "    <tr>\n",
              "      <th>3</th>\n",
              "      <td>1</td>\n",
              "      <td>-122.334803</td>\n",
              "      <td>47.604803</td>\n",
              "      <td>4</td>\n",
              "      <td>1144</td>\n",
              "      <td>1144</td>\n",
              "      <td>3503937</td>\n",
              "      <td>Matched</td>\n",
              "      <td>Block</td>\n",
              "      <td>NaN</td>\n",
              "      <td>2ND AVE BETWEEN MARION ST AND MADISON ST</td>\n",
              "      <td></td>\n",
              "      <td>NaN</td>\n",
              "      <td>1</td>\n",
              "      <td>Property Damage Only Collision</td>\n",
              "      <td>Other</td>\n",
              "      <td>3</td>\n",
              "      <td>0</td>\n",
              "      <td>0</td>\n",
              "      <td>3</td>\n",
              "      <td>2013/03/29 00:00:00+00</td>\n",
              "      <td>3/29/2013 9:26:00 AM</td>\n",
              "      <td>Mid-Block (not related to intersection)</td>\n",
              "      <td>11</td>\n",
              "      <td>MOTOR VEHICLE STRUCK MOTOR VEHICLE, FRONT END ...</td>\n",
              "      <td>NaN</td>\n",
              "      <td>N</td>\n",
              "      <td>Clear</td>\n",
              "      <td>Dry</td>\n",
              "      <td>Daylight</td>\n",
              "      <td>NaN</td>\n",
              "      <td>NaN</td>\n",
              "      <td>NaN</td>\n",
              "      <td>23</td>\n",
              "      <td>From same direction - all others</td>\n",
              "      <td>0</td>\n",
              "      <td>0</td>\n",
              "      <td>N</td>\n",
              "    </tr>\n",
              "    <tr>\n",
              "      <th>4</th>\n",
              "      <td>2</td>\n",
              "      <td>-122.306426</td>\n",
              "      <td>47.545739</td>\n",
              "      <td>5</td>\n",
              "      <td>17700</td>\n",
              "      <td>17700</td>\n",
              "      <td>1807429</td>\n",
              "      <td>Matched</td>\n",
              "      <td>Intersection</td>\n",
              "      <td>34387.0</td>\n",
              "      <td>SWIFT AVE S AND SWIFT AV OFF RP</td>\n",
              "      <td>NaN</td>\n",
              "      <td>NaN</td>\n",
              "      <td>2</td>\n",
              "      <td>Injury Collision</td>\n",
              "      <td>Angles</td>\n",
              "      <td>2</td>\n",
              "      <td>0</td>\n",
              "      <td>0</td>\n",
              "      <td>2</td>\n",
              "      <td>2004/01/28 00:00:00+00</td>\n",
              "      <td>1/28/2004 8:04:00 AM</td>\n",
              "      <td>At Intersection (intersection related)</td>\n",
              "      <td>11</td>\n",
              "      <td>MOTOR VEHICLE STRUCK MOTOR VEHICLE, FRONT END ...</td>\n",
              "      <td>NaN</td>\n",
              "      <td>0</td>\n",
              "      <td>Raining</td>\n",
              "      <td>Wet</td>\n",
              "      <td>Daylight</td>\n",
              "      <td>NaN</td>\n",
              "      <td>4028032.0</td>\n",
              "      <td>NaN</td>\n",
              "      <td>10</td>\n",
              "      <td>Entering at angle</td>\n",
              "      <td>0</td>\n",
              "      <td>0</td>\n",
              "      <td>N</td>\n",
              "    </tr>\n",
              "  </tbody>\n",
              "</table>\n",
              "</div>"
            ],
            "text/plain": [
              "   SEVERITYCODE           X          Y  ...  SEGLANEKEY  CROSSWALKKEY  HITPARKEDCAR\n",
              "0             2 -122.323148  47.703140  ...           0             0             N\n",
              "1             1 -122.347294  47.647172  ...           0             0             N\n",
              "2             1 -122.334540  47.607871  ...           0             0             N\n",
              "3             1 -122.334803  47.604803  ...           0             0             N\n",
              "4             2 -122.306426  47.545739  ...           0             0             N\n",
              "\n",
              "[5 rows x 38 columns]"
            ]
          },
          "metadata": {
            "tags": []
          },
          "execution_count": 3
        }
      ]
    },
    {
      "cell_type": "markdown",
      "metadata": {
        "id": "lVltupSdMGob"
      },
      "source": [
        "Printing the correlation between the columns."
      ]
    },
    {
      "cell_type": "code",
      "metadata": {
        "id": "vkEmGocpLwuP",
        "outputId": "5495f378-2a7c-4e59-bca8-b2ae7f2f7259",
        "colab": {
          "base_uri": "https://localhost:8080/",
          "height": 527
        }
      },
      "source": [
        "df.corr()"
      ],
      "execution_count": 4,
      "outputs": [
        {
          "output_type": "execute_result",
          "data": {
            "text/html": [
              "<div>\n",
              "<style scoped>\n",
              "    .dataframe tbody tr th:only-of-type {\n",
              "        vertical-align: middle;\n",
              "    }\n",
              "\n",
              "    .dataframe tbody tr th {\n",
              "        vertical-align: top;\n",
              "    }\n",
              "\n",
              "    .dataframe thead th {\n",
              "        text-align: right;\n",
              "    }\n",
              "</style>\n",
              "<table border=\"1\" class=\"dataframe\">\n",
              "  <thead>\n",
              "    <tr style=\"text-align: right;\">\n",
              "      <th></th>\n",
              "      <th>SEVERITYCODE</th>\n",
              "      <th>X</th>\n",
              "      <th>Y</th>\n",
              "      <th>OBJECTID</th>\n",
              "      <th>INCKEY</th>\n",
              "      <th>COLDETKEY</th>\n",
              "      <th>INTKEY</th>\n",
              "      <th>SEVERITYCODE.1</th>\n",
              "      <th>PERSONCOUNT</th>\n",
              "      <th>PEDCOUNT</th>\n",
              "      <th>PEDCYLCOUNT</th>\n",
              "      <th>VEHCOUNT</th>\n",
              "      <th>SDOT_COLCODE</th>\n",
              "      <th>SDOTCOLNUM</th>\n",
              "      <th>SEGLANEKEY</th>\n",
              "      <th>CROSSWALKKEY</th>\n",
              "    </tr>\n",
              "  </thead>\n",
              "  <tbody>\n",
              "    <tr>\n",
              "      <th>SEVERITYCODE</th>\n",
              "      <td>1.000000</td>\n",
              "      <td>0.010309</td>\n",
              "      <td>0.017737</td>\n",
              "      <td>0.020131</td>\n",
              "      <td>0.022065</td>\n",
              "      <td>0.022079</td>\n",
              "      <td>0.006553</td>\n",
              "      <td>1.000000</td>\n",
              "      <td>0.130949</td>\n",
              "      <td>0.246338</td>\n",
              "      <td>0.214218</td>\n",
              "      <td>-0.054686</td>\n",
              "      <td>0.188905</td>\n",
              "      <td>0.004226</td>\n",
              "      <td>0.104276</td>\n",
              "      <td>0.175093</td>\n",
              "    </tr>\n",
              "    <tr>\n",
              "      <th>X</th>\n",
              "      <td>0.010309</td>\n",
              "      <td>1.000000</td>\n",
              "      <td>-0.160262</td>\n",
              "      <td>0.009956</td>\n",
              "      <td>0.010309</td>\n",
              "      <td>0.010300</td>\n",
              "      <td>0.120754</td>\n",
              "      <td>0.010309</td>\n",
              "      <td>0.012887</td>\n",
              "      <td>0.011304</td>\n",
              "      <td>-0.001752</td>\n",
              "      <td>-0.012168</td>\n",
              "      <td>0.010904</td>\n",
              "      <td>-0.001016</td>\n",
              "      <td>-0.001618</td>\n",
              "      <td>0.013586</td>\n",
              "    </tr>\n",
              "    <tr>\n",
              "      <th>Y</th>\n",
              "      <td>0.017737</td>\n",
              "      <td>-0.160262</td>\n",
              "      <td>1.000000</td>\n",
              "      <td>-0.023848</td>\n",
              "      <td>-0.027396</td>\n",
              "      <td>-0.027415</td>\n",
              "      <td>-0.114935</td>\n",
              "      <td>0.017737</td>\n",
              "      <td>-0.013850</td>\n",
              "      <td>0.010178</td>\n",
              "      <td>0.026304</td>\n",
              "      <td>0.017058</td>\n",
              "      <td>-0.019694</td>\n",
              "      <td>-0.006958</td>\n",
              "      <td>0.004618</td>\n",
              "      <td>0.009508</td>\n",
              "    </tr>\n",
              "    <tr>\n",
              "      <th>OBJECTID</th>\n",
              "      <td>0.020131</td>\n",
              "      <td>0.009956</td>\n",
              "      <td>-0.023848</td>\n",
              "      <td>1.000000</td>\n",
              "      <td>0.946383</td>\n",
              "      <td>0.945837</td>\n",
              "      <td>0.046929</td>\n",
              "      <td>0.020131</td>\n",
              "      <td>-0.062333</td>\n",
              "      <td>0.024604</td>\n",
              "      <td>0.034432</td>\n",
              "      <td>-0.094280</td>\n",
              "      <td>-0.037094</td>\n",
              "      <td>0.969276</td>\n",
              "      <td>0.028076</td>\n",
              "      <td>0.056046</td>\n",
              "    </tr>\n",
              "    <tr>\n",
              "      <th>INCKEY</th>\n",
              "      <td>0.022065</td>\n",
              "      <td>0.010309</td>\n",
              "      <td>-0.027396</td>\n",
              "      <td>0.946383</td>\n",
              "      <td>1.000000</td>\n",
              "      <td>0.999996</td>\n",
              "      <td>0.048524</td>\n",
              "      <td>0.022065</td>\n",
              "      <td>-0.061500</td>\n",
              "      <td>0.024918</td>\n",
              "      <td>0.031342</td>\n",
              "      <td>-0.107528</td>\n",
              "      <td>-0.027617</td>\n",
              "      <td>0.990571</td>\n",
              "      <td>0.019701</td>\n",
              "      <td>0.048179</td>\n",
              "    </tr>\n",
              "    <tr>\n",
              "      <th>COLDETKEY</th>\n",
              "      <td>0.022079</td>\n",
              "      <td>0.010300</td>\n",
              "      <td>-0.027415</td>\n",
              "      <td>0.945837</td>\n",
              "      <td>0.999996</td>\n",
              "      <td>1.000000</td>\n",
              "      <td>0.048499</td>\n",
              "      <td>0.022079</td>\n",
              "      <td>-0.061403</td>\n",
              "      <td>0.024914</td>\n",
              "      <td>0.031296</td>\n",
              "      <td>-0.107598</td>\n",
              "      <td>-0.027461</td>\n",
              "      <td>0.990571</td>\n",
              "      <td>0.019586</td>\n",
              "      <td>0.048063</td>\n",
              "    </tr>\n",
              "    <tr>\n",
              "      <th>INTKEY</th>\n",
              "      <td>0.006553</td>\n",
              "      <td>0.120754</td>\n",
              "      <td>-0.114935</td>\n",
              "      <td>0.046929</td>\n",
              "      <td>0.048524</td>\n",
              "      <td>0.048499</td>\n",
              "      <td>1.000000</td>\n",
              "      <td>0.006553</td>\n",
              "      <td>0.001886</td>\n",
              "      <td>-0.004784</td>\n",
              "      <td>0.000531</td>\n",
              "      <td>-0.012929</td>\n",
              "      <td>0.007114</td>\n",
              "      <td>0.032604</td>\n",
              "      <td>-0.010510</td>\n",
              "      <td>0.018420</td>\n",
              "    </tr>\n",
              "    <tr>\n",
              "      <th>SEVERITYCODE.1</th>\n",
              "      <td>1.000000</td>\n",
              "      <td>0.010309</td>\n",
              "      <td>0.017737</td>\n",
              "      <td>0.020131</td>\n",
              "      <td>0.022065</td>\n",
              "      <td>0.022079</td>\n",
              "      <td>0.006553</td>\n",
              "      <td>1.000000</td>\n",
              "      <td>0.130949</td>\n",
              "      <td>0.246338</td>\n",
              "      <td>0.214218</td>\n",
              "      <td>-0.054686</td>\n",
              "      <td>0.188905</td>\n",
              "      <td>0.004226</td>\n",
              "      <td>0.104276</td>\n",
              "      <td>0.175093</td>\n",
              "    </tr>\n",
              "    <tr>\n",
              "      <th>PERSONCOUNT</th>\n",
              "      <td>0.130949</td>\n",
              "      <td>0.012887</td>\n",
              "      <td>-0.013850</td>\n",
              "      <td>-0.062333</td>\n",
              "      <td>-0.061500</td>\n",
              "      <td>-0.061403</td>\n",
              "      <td>0.001886</td>\n",
              "      <td>0.130949</td>\n",
              "      <td>1.000000</td>\n",
              "      <td>-0.023464</td>\n",
              "      <td>-0.038809</td>\n",
              "      <td>0.380523</td>\n",
              "      <td>-0.128960</td>\n",
              "      <td>0.011784</td>\n",
              "      <td>-0.021383</td>\n",
              "      <td>-0.032258</td>\n",
              "    </tr>\n",
              "    <tr>\n",
              "      <th>PEDCOUNT</th>\n",
              "      <td>0.246338</td>\n",
              "      <td>0.011304</td>\n",
              "      <td>0.010178</td>\n",
              "      <td>0.024604</td>\n",
              "      <td>0.024918</td>\n",
              "      <td>0.024914</td>\n",
              "      <td>-0.004784</td>\n",
              "      <td>0.246338</td>\n",
              "      <td>-0.023464</td>\n",
              "      <td>1.000000</td>\n",
              "      <td>-0.016920</td>\n",
              "      <td>-0.261285</td>\n",
              "      <td>0.260393</td>\n",
              "      <td>0.021461</td>\n",
              "      <td>0.001810</td>\n",
              "      <td>0.565326</td>\n",
              "    </tr>\n",
              "    <tr>\n",
              "      <th>PEDCYLCOUNT</th>\n",
              "      <td>0.214218</td>\n",
              "      <td>-0.001752</td>\n",
              "      <td>0.026304</td>\n",
              "      <td>0.034432</td>\n",
              "      <td>0.031342</td>\n",
              "      <td>0.031296</td>\n",
              "      <td>0.000531</td>\n",
              "      <td>0.214218</td>\n",
              "      <td>-0.038809</td>\n",
              "      <td>-0.016920</td>\n",
              "      <td>1.000000</td>\n",
              "      <td>-0.253773</td>\n",
              "      <td>0.382521</td>\n",
              "      <td>0.034593</td>\n",
              "      <td>0.453657</td>\n",
              "      <td>0.109820</td>\n",
              "    </tr>\n",
              "    <tr>\n",
              "      <th>VEHCOUNT</th>\n",
              "      <td>-0.054686</td>\n",
              "      <td>-0.012168</td>\n",
              "      <td>0.017058</td>\n",
              "      <td>-0.094280</td>\n",
              "      <td>-0.107528</td>\n",
              "      <td>-0.107598</td>\n",
              "      <td>-0.012929</td>\n",
              "      <td>-0.054686</td>\n",
              "      <td>0.380523</td>\n",
              "      <td>-0.261285</td>\n",
              "      <td>-0.253773</td>\n",
              "      <td>1.000000</td>\n",
              "      <td>-0.365814</td>\n",
              "      <td>-0.023813</td>\n",
              "      <td>-0.122941</td>\n",
              "      <td>-0.200526</td>\n",
              "    </tr>\n",
              "    <tr>\n",
              "      <th>SDOT_COLCODE</th>\n",
              "      <td>0.188905</td>\n",
              "      <td>0.010904</td>\n",
              "      <td>-0.019694</td>\n",
              "      <td>-0.037094</td>\n",
              "      <td>-0.027617</td>\n",
              "      <td>-0.027461</td>\n",
              "      <td>0.007114</td>\n",
              "      <td>0.188905</td>\n",
              "      <td>-0.128960</td>\n",
              "      <td>0.260393</td>\n",
              "      <td>0.382521</td>\n",
              "      <td>-0.365814</td>\n",
              "      <td>1.000000</td>\n",
              "      <td>-0.041084</td>\n",
              "      <td>0.206835</td>\n",
              "      <td>0.189518</td>\n",
              "    </tr>\n",
              "    <tr>\n",
              "      <th>SDOTCOLNUM</th>\n",
              "      <td>0.004226</td>\n",
              "      <td>-0.001016</td>\n",
              "      <td>-0.006958</td>\n",
              "      <td>0.969276</td>\n",
              "      <td>0.990571</td>\n",
              "      <td>0.990571</td>\n",
              "      <td>0.032604</td>\n",
              "      <td>0.004226</td>\n",
              "      <td>0.011784</td>\n",
              "      <td>0.021461</td>\n",
              "      <td>0.034593</td>\n",
              "      <td>-0.023813</td>\n",
              "      <td>-0.041084</td>\n",
              "      <td>1.000000</td>\n",
              "      <td>0.066449</td>\n",
              "      <td>0.086228</td>\n",
              "    </tr>\n",
              "    <tr>\n",
              "      <th>SEGLANEKEY</th>\n",
              "      <td>0.104276</td>\n",
              "      <td>-0.001618</td>\n",
              "      <td>0.004618</td>\n",
              "      <td>0.028076</td>\n",
              "      <td>0.019701</td>\n",
              "      <td>0.019586</td>\n",
              "      <td>-0.010510</td>\n",
              "      <td>0.104276</td>\n",
              "      <td>-0.021383</td>\n",
              "      <td>0.001810</td>\n",
              "      <td>0.453657</td>\n",
              "      <td>-0.122941</td>\n",
              "      <td>0.206835</td>\n",
              "      <td>0.066449</td>\n",
              "      <td>1.000000</td>\n",
              "      <td>-0.003422</td>\n",
              "    </tr>\n",
              "    <tr>\n",
              "      <th>CROSSWALKKEY</th>\n",
              "      <td>0.175093</td>\n",
              "      <td>0.013586</td>\n",
              "      <td>0.009508</td>\n",
              "      <td>0.056046</td>\n",
              "      <td>0.048179</td>\n",
              "      <td>0.048063</td>\n",
              "      <td>0.018420</td>\n",
              "      <td>0.175093</td>\n",
              "      <td>-0.032258</td>\n",
              "      <td>0.565326</td>\n",
              "      <td>0.109820</td>\n",
              "      <td>-0.200526</td>\n",
              "      <td>0.189518</td>\n",
              "      <td>0.086228</td>\n",
              "      <td>-0.003422</td>\n",
              "      <td>1.000000</td>\n",
              "    </tr>\n",
              "  </tbody>\n",
              "</table>\n",
              "</div>"
            ],
            "text/plain": [
              "                SEVERITYCODE         X  ...  SEGLANEKEY  CROSSWALKKEY\n",
              "SEVERITYCODE        1.000000  0.010309  ...    0.104276      0.175093\n",
              "X                   0.010309  1.000000  ...   -0.001618      0.013586\n",
              "Y                   0.017737 -0.160262  ...    0.004618      0.009508\n",
              "OBJECTID            0.020131  0.009956  ...    0.028076      0.056046\n",
              "INCKEY              0.022065  0.010309  ...    0.019701      0.048179\n",
              "COLDETKEY           0.022079  0.010300  ...    0.019586      0.048063\n",
              "INTKEY              0.006553  0.120754  ...   -0.010510      0.018420\n",
              "SEVERITYCODE.1      1.000000  0.010309  ...    0.104276      0.175093\n",
              "PERSONCOUNT         0.130949  0.012887  ...   -0.021383     -0.032258\n",
              "PEDCOUNT            0.246338  0.011304  ...    0.001810      0.565326\n",
              "PEDCYLCOUNT         0.214218 -0.001752  ...    0.453657      0.109820\n",
              "VEHCOUNT           -0.054686 -0.012168  ...   -0.122941     -0.200526\n",
              "SDOT_COLCODE        0.188905  0.010904  ...    0.206835      0.189518\n",
              "SDOTCOLNUM          0.004226 -0.001016  ...    0.066449      0.086228\n",
              "SEGLANEKEY          0.104276 -0.001618  ...    1.000000     -0.003422\n",
              "CROSSWALKKEY        0.175093  0.013586  ...   -0.003422      1.000000\n",
              "\n",
              "[16 rows x 16 columns]"
            ]
          },
          "metadata": {
            "tags": []
          },
          "execution_count": 4
        }
      ]
    },
    {
      "cell_type": "markdown",
      "metadata": {
        "id": "DQf60cBBMLNn"
      },
      "source": [
        "Ploting a heat map for the correlation"
      ]
    },
    {
      "cell_type": "code",
      "metadata": {
        "id": "WakMOtXRLyWV",
        "outputId": "28f6c49c-c856-42da-ad7c-f417366fc9e9",
        "colab": {
          "base_uri": "https://localhost:8080/",
          "height": 410
        }
      },
      "source": [
        "import seaborn as sns\n",
        "df['SEVERITYCODE'] = df['SEVERITYCODE'].astype(int)\n",
        "cmap = sns.diverging_palette(220, 20, sep=20, as_cmap=True)\n",
        "sns.heatmap(df.corr(), annot=True,cmap=cmap, center=0).set_title(\"Correlation Heatmap\", fontsize=16)\n",
        "sns.set(rc={'figure.figsize':(60,50)})"
      ],
      "execution_count": 5,
      "outputs": [
        {
          "output_type": "stream",
          "text": [
            "/usr/local/lib/python3.6/dist-packages/statsmodels/tools/_testing.py:19: FutureWarning: pandas.util.testing is deprecated. Use the functions in the public API at pandas.testing instead.\n",
            "  import pandas.util.testing as tm\n"
          ],
          "name": "stderr"
        },
        {
          "output_type": "display_data",
          "data": {
            "image/png": "iVBORw0KGgoAAAANSUhEUgAAAbEAAAFVCAYAAABhBdElAAAABHNCSVQICAgIfAhkiAAAAAlwSFlzAAALEgAACxIB0t1+/AAAADh0RVh0U29mdHdhcmUAbWF0cGxvdGxpYiB2ZXJzaW9uMy4yLjIsIGh0dHA6Ly9tYXRwbG90bGliLm9yZy+WH4yJAAAgAElEQVR4nOydd3gU1frHP+8mWUJIIT0QggSCS7eBCCpFNCJF0Z8VGyKKBRUvIqDSO4gKgpSLFLmEotJFioWO0qQkQKQFQoA0CCSBZJPN+f0xu8tukg0JCYr3zud55oGdOec97zkzmTPnzJnvK0opdHR0dHR0/okY/m4HdHR0dHR0rhe9E9PR0dHR+ceid2I6Ojo6Ov9Y9E5MR0dHR+cfi96J6ejo6Oj8Y9E7MR0dHR2dfyx6J6ZzQxGRFiKyWETOiIhZRNJFZL2IvCwibn+3fzZEJEFE5lxHvi4i8q9i9rcRESUibSrCvzL4M8Rarnsxx6Ksx7rdwPJ7i8gTN8q+jk5h9E5M54YhIr2BrUAA0A94EOgO/AlMBTr9fd5VGF2AIp0YsAdoYf33f4negN6J6fxlFHla09GpCESkFfAZMFkp9W6hw8tF5DOgSgWUU0kplVvMfg8gX/1NX/MrpS4Bv/0dZevo/C+hj8R0bhT9gPPAh8UdVEodU0rtt/0WkbtF5CcRyRKRbBH5WUTudswjInNE5LR1inKbiFwBxolILes02VsiMk5EzgC5QFVrvidE5DcRuSwiGSLyrYjULMl5EQkWkeki8qc1X6KIxIhIuKM/wMtAuLV8JSIJ1mNFphNF430RibdOrZ4Vkcki4luobCUiI0TkXRE5ISKZIrJRRBpeu9nLjojcJiIrROSCiFwRka0icn+hNM1E5Dtr+1+x1mGUiFR2SJMA3AI879Aec6zHbNOc9URkrfUcnxKRV6zHXxSRw9bz/6uI1ClU/rMi8ouIpFrT/CEiLxdTFyUiI0XkYwdfN4nI7RXfcjo3A3onplPhWN91tQXWKaVySpG+CbAR8Ae6AS8BvsBGEbmtUHI/YCGwAHgEiHE49jFwK/A68DiQIyJvAN8DB4EngZ5AI6ttnxLcCgBygAFAe6AvUBfYKiKe1jTDgdVAKtrUYQtrua4YiTY6XQ90BsZZ6/uDiBT+W3wB6Ai8B7wC1EQbwZZ29sRNRNwdN6DIO0gRuRPYZq3va8D/AenATyJyl0PSmsBe4A209piINjU82yHN48A5YC1X22N4oSK/BX5Am4bdDcwSkVHAm0B/a11NOJ9XgNrAd8Dz1rwrgZnW81uYl4AOQC+09g0FfhaRgGLS6vzTUUrpm75V6IZ201DA6FKm/w7IAKo67PNFG8ktcdg3x2r3sUL5a1n37wHEYb83cBGYVSh9JGAGejvsSwDmlOCjGxBhLefxQj6dLiZ9G2vaNtbfAWijwzmF0r1gTfeowz4FHAE8HPY9ad3f8hptOcSarqStm0P6n4FDgLFQXQ8By1yUIWivIl4ACoDAQu34nxL8eslhnz+Qj9Zp+jrsf9ea9hYX5Rus5f8b2FfomALSgCqFro88YPjf/behbxW/6SMxnZuBVsAqpVSGbYfS3imtAFoXSpsHrHJhZ5my3rWstEDrDOcXGpEkAoet5bpERN4UkX0ikoV2sz1lPWQqZb0cuQcwAv8ptH+h1Xbheq5XSuU5/D5g/bfEadBC5TUrtDmNEq1Tga3RRkcFDu0jwE84tI+I+IrIWBE5htYZ5wHzrGnrltIngB9t/1FKXQBSgN+s59vGYeu/EQ7l1xWRBSKSZC07D+hB8editVIq26GcBLT3ky3K4KfOPwR9YYfOjSAduIL2fqQ0BABni9l/Du1p3ZFUpZTFhZ3CNkKs//7kIv0FVw6JyDvAJLTpv77WtAa0m6Gnq3wlYJvKcvJRKZUvIukOx22cL/TbtniltGXvVkrlO+4QkYxCaQLQRl0DrVsRRMSglCpAmzZ8EBiENq2YDdwNTCmDT1C0zc0u9mGzKyLeaFOwl9GmHI9Z07yJNqVZmGQX+27IO0Wdvxe9E9OpcKw35g3AQ+Ji9WAhzgNhxewPo+gNrqTVhoWPpVv/7QbEFZM+swRbzwI/K6X62HaISGQJ6a+FrVMKc/TFOvIJpGin9VeQgTYdOAX4prgESqkC6zvAx4AhSqmJtmMi0vgv8VIbQd0C3K+U2uJQvqv7V6iLfUk3wDedvxm9E9O5UYwBNqAtXniv8EFrh+CjtBWKG4EOIuKjlMq0HvdBW/ywoRw+bEPrqKKUUnPLmNcLuFRo3yvFpMsFKhezvzC/oY0enkV7D2XjGbS/ww1l9K/cKKWyRWQzcBuwxzriKo5KaCO2vEL7uxWTtrTtURa8rP/ayxcRf7SOtTg6iEgV25SiiNRCm14dU8F+6dwE6J2Yzg1BKbVJNCWLz0SkAdoCiFNo04Pt0N5ndAX2o61g64S2gmws2oiqH9rNa1g5fLgkIn2BKSISjPY+5iIQjvYuaINSqvAqOBtrgH4i8hGwA3gAbXFFYQ4CASLyJrALyFFKHSicSCl1XkQmAANEJBttVWN9YASwBW3F3t/Bv4BNwFoR+RptujMIuBNwU0r1V0pdFJHfgD4ichZt4UR3tHYszEHgfhHphDYdnGZ9J1UetqE9UEwRkcFo3xd+YvXDr5j0V4B1IjIerQMeas3/eTn90LkJ0TsxnRuGUuoLEdkBvA98inZzzES72fdEWyaNUmq/aN9TjQTmoi0W+A1orZTaV04fpotIItp7ra5o13wSsBnt3Y4rhqF9Z/Y+2ruZjcDDwPFC6WaiPeWPsqY/ibYarjg+RluO/wbwFtp05zfAgBJGQTcUpdQeEWkGDEZ7B+hn9XEPMM0h6XNoKitT0DqJxWgj7MKLbAagrRpcjDYim0vxI7ay+JgqIo8DE9BWsp5BW+IfYPW7MN+gvbObjHbN7QSeVUr9HVO2OjcYcV7MpaOjo/PPRUQUMFIp9cnf7YvOX4O+xF5HR0dH5x+L3onp6Ojo6JQbEZklIikiEuviuIjIJBE5KiL7rWox5UbvxHR0dP5rUEqJPpX4tzEHTZLMFY+gfRhfF00abmpFFKp3Yjo6Ojo65UYptYmSv3d8DPhGafwGVBWRauUtV1+deBOx5el7y73K5rav11SEKzoVxL5XS3owLR13TVxYrvzm9JRy+yAexvLbqF6r/DZSz5QrvwquXm4fjLnZ1050DfKzCn+CWHaq1LpVymujLPec+7/d1hNtBGVjhlJqRhmKC0eTfLNx2rqvOLWeUqN3Yjo6Ojo618TaYZWl0/pL0DsxHR0dnf9VDOUezJWFJBxEnYEaVIAUmN6J/UOo++YA/O+8l7yLF/jjgxeLTXPgkpmhTzxBQUEBXbp0oVu3bk7HzWYzgwcP5tChQ/j5+TF69GiqV6/OunXrGDp0KGazmUaNGjF79uxS5cvIyKBfv34cPHiQTp060a9fP7Zt28ann35KVlYWAAEBAQQHBzN8+HCqVq3q0tasWbOYOXMmBQUF+Pv7M2zYMJo1a3ZNH3777TcmT55MXl4eubm5mM1mjEYjHTt2JDY2ltOnT+Pm5sb9999Pz549i9hISEhgxIgRXLhwAR8fH0JCQnjvvfdo1qwZOTk59O3bl3379mE2m6latSqzZs2ienVtSmr27NksX74cg8FA3759adFCE0nPzMxk+PDhHDt2DPO5C3SL8CaqigcAP6de4Zf0HAzA6NGjuPO+1tc8p8Ne7EaBpYDHOz5C9+efczq+e99+xk/+iiPHjjNm0Cc81EYTnj9zLpl/DRxMQYHi4sUM8vLy8KpcmcfateXlJx51sjF/xQ+s+HkDbgYDVf18GfjW61QLCQbgnqeep07NmmRfucKFixcJrOrPY9Ht6Pakc9i0+ctWsnz9z3Ybg959m7DgICb8exbL1v1MXl4eTW67jZkzZxap46FDhxgyZAi5ubnce++9fPDBB4gI06dPZ9myZfj7axrQbdu2Zc2qVZjzzKSkn6fOLZqgf+N6Jj565y32HIjl0+kzOXoigZef+j9+3rINS4GFLu2jyczMYsvOXSg3d3r06EGbNm2KvZ5KOq8AFouFp7u9SkhwMJPHj2HLb7/Td+AQcs1mfH18aNXyHgZ++AEe7tqtddfefYyb+CVHjh1n7NBBRLdtw5bffmfs5xOxWAp4/JGHeOWZp5zP6YFYJkz7N0eOJzD6ow958P577ce+mDmbLb/vpEApEhJPTwLei4+Pv+7XECJ/aSe2AuglIguB5sBFpVS5phKhAhd2WCOpxlmXTu4VkeYissEaAXavdftORFqLyPZCed1FJFlEqosWvfeEQ55t1jTdrFFd94oWAfZ9h/xDROQDEZliPX7QGtHVZqOviCxySO8rIsdEpLaI3Coiq0XkiIjsEZHFIhJqTXefiOywlndYRF4vVGaS1f4REVlilVeyHS9S9/K0b/KG1cSN+pfL4wVKMT8pi0mTJvHtt9+ydu1ajh93FpdYvnw5Pj4+LFu2jK5du/Lll19isViYPHkyQ4YM4YMPPuDUqVOlygdQqVIl3nzzTd57T5NGtFgsjB07ls8//5yCggKqVq3KqFGjiIqKYtGiRSX68N133zFt2jQ2b95M5cqV+eijj0rlQ9WqVfn888+JiYnBbDaTn5/Pt99+y08//US7du34/vvvmT9/Pvv27eOzzz5zsjFp0iTGjh1L//79+f777wkMDKRHjx4MGjTIXu4tt9xC+/bt2bx5M1WqVGHwYE0g4vjx46xbt47Fixfz5ZdfMmbMGCwWTVz/008/pWXLlnz//fcMubUq1T21WJSHs8z8ccnMkFurMryeP2rb2lKd0yljR7Fk7tes+eVXjiWcdEoTFhLCsP4f8siDDzjtDw4M4Jspk1gw4yvcDAbc3NyYPPgj1m7ZxvHE005pTZG1mDtuBDGfj+WBe+7my3kL7McqGY18M24kIkLMpM9YPOVz1m3awvFTic42akfyzWdjWfDlZ7Rr2YJJc+axbfcfnDpzlgmf9KPXyy9w9OjRYus5evRoPvnkE5YuXUpiYiLbtm2zH+vatSsxMTHMmzePVatWMWn4YKaMGoabwcDID/uwYMpEPnrnLWtbBDO0z3s83KYVy9auZ9LwwXw3fQpLVq9hT2wcMVMmMnfuXP7zn/+wePHiYq+nks4rwIIFC4ispQVnsFgsjJrwBR++24vf1v9IUEAAaennWbLyqohJtdAQRnw8gEceaueU58sRQ/j+31NY8+smjp88hSPVgoMZ0qc37ds6R+fZF3eIfXGHWDTtS76dPhm08DqFQ/j8bYjIAmA7YBItqvarIvKGXA1cuhpN8eYomqrLWxVRboV0YiLSAk377k6lVBO0kA22q/x5pdTt1u1JNLmfGiLiGKbjQSBOKWV7a9vXIU9Lh3SLlFK3A/cCH4uI49AUpdTb1uMdgGM2G2iSRxEi8qA16TBgFpp8zQ/AVKVUXaXUncBXQLCIhKFFl31DKVUPuA/oKSIdHYr83FpGXWAR8ItVo89G4bpfN5cO7SvxZfDxy/mEGN2oUaMGHh4eREdHs3HjRqc0GzdupFOnTgC0a9eOHTt2EBsbS82aNXnooYfw8vIiIiKiVPmUUlSuXJnbb7+dSpUqARAXF0dERATh4Zqk3n333ceGDRvIzs4mODi4RB9q165NkyZN8PDwoFOnTly+fBmz2XxNH+rVq0dwcDBxcXHUrl2b/Px8lFK0b9+e9HRNxN7Dw4N69eqxZ88eJxvbt28nIiKCVq1aUb16daKjozl+/Lh9ROfp6UlCQgKdOnXCw8OD5s2bc/jwYZRSbNy4kejoaIxGI+Hh4URERBAXF0dWVhZ//PEHjz2madO6GwQvN+3P7Ne0HDqEVMbDOoVjObK/dOe0enU8PDx4+IE2bNi61SlNeLUwbq1Tm8KBoT08PDAajcQejqdaSDAGgwEPd3ei72vBpp27ndI2bdwQT+s5bHxrXVLSnReYxR09SkS1MGqEheLh4cFD99/Lxt93Otto0uiqDVNdUtLS2fj7Tjq2bUPz22+jQd06WCwW0tLSnPKlpaWRnZ1N48aNERE6dOjAhg0birSF7dqqUS0MD3d3vKt4seG3353SVA8NpW5kJBcvZRLoX1VL6+FBrYgaVPb0xN3NjcqVKxMVFcUPP/xQ7PXk6rwCJCcns3XrVp7orOWLPXSImjXCebxzR4xGI+0ffAARITkl1eH8VOPWqDoYrOfHlsfm28NtWrFhe6F6hIVya+1IDIWn+kTINZvJy8/HnJcH4EHxYWdKjxhKv10DpdRzSqlqSikPpVQNpdTXSqlpSqlp1uPKeo+uo5RqrJTaVS7frVTUSKwamtBnLoBSKs2hQ3LCqhG3GE3N28azaOHmS4VSKh2tNy/V8kxroMQ3gC9EpCmaAO14NC297UqplQ5pNyilYoG30aLw7rHVCfgQLZ5RcWUsAtZZbf7lZOQVEGC8ejpDQkJISXFelZaSkkJoqBalwt3dHW9vb06ePGnfB+Dl5VWqfBcvXizigy2du7s7/fv3Z+HChXz99decOHHCflMvjQ9paWn4+flhNBqL2HblQ0pKCvn5+dSrVw+j0ehU/8zMTDZv3kx+fr6TjUqVKtmnqmxt9scff9htOJabmZnJ1q1b8fX15eLFi07+OLZ3UlISVatWZejQoXTt2pU5iZnkWrTZnuRcC39m5zHiSAZjj2Zw4nJhUXhnCp/T0OBgUlLTS8jhzLmUFPoNHcEfBw/zUpfOBAf4ExIQQGq661XQK37+lRZ33mb/bTbnMWjiV8QfO8GG33ZofgQFlmhj+fpfaHnXHaSmpxMaHGjfbzQaS7y2AEJDQ0lNvdoJLF68mGeffZYpU6YQEHA15FpmVjbzlyzjtb4D+CPWOcrOldxcqvr62n9H3VKLYydPciUnl4yMDHbv3s358+eLvZ5cnVeACRMm8O6772KwTsElp6YRGhJiTxsUGMiBg4e4t/ndLtumcJ6QoEBS0kp3Tm9rUI9mtzUm+rmXefi5lwHWxsfHHypVZleIlH67SamoTmwd2kjnTxH5SkQch7jzHabUxlv3LcDaiYlIJbSR0/cOecY75JlfuDARqYkmyrq/tA5aQ36sRQuD8Y5Sygw0Ana7yNKwmGO7KDmw3h6gnsPv4uruhIi8LiK7RGTXiuPnSlOVm578/Hy+//573nzzTR599FGioqKKvGdzxbFjx1i/fj1NmzYtU5nJyckcPHiwyDRkfn4+H3/8Mc888wzu7iW/Ak5JSWH//v1FbFgsllLbsFgsxMfH8+STTxITE4PRIKxOuawdA7LzFR9H+fFU9SpMO5nJjdQuDQsJoc9bb/Bgy3v4YcMm0jOKPng48uPGLRw6doIXH+tk37d82iTeefE57mrSiM9mzub02ZKv0dW/buLQ0WO8+ISrKCml58knn2TZsmXExMTg6+tLbKwmBBHkH0Cfnj2Ibn0//3r9VT4eO4Gs7Msu7URF3kK1kBC69/mQjz76iMaNyx4GbfPmzQQEBFC/fn2XaVas/pGQoCDuuv02l2nKw6mkM5xIPM2a+bNZEzMH4AGTyXT/DSnsH0SFdGJKqSzgLrRvCFKBRSLSzXrYcUqtrzX9LsBbRExoX3H/Xkhh2nE68XmH/c+IyH60UdhXSqmcMro6BUhSSm0oax1LSeHHlSJ1L4xSaoZSqqlSqumjtYuLC1k6qnoYOG++KoSekpJCiMMTH2hPlcnJ2uxDfn4+WVlZ3HLLLfZ9AJcvXy5VPj+/ohEwbOni4+PtaUNCQnjooYfYv3//NX1ITk6mb9++tG3blsjIyGJtF+dDcnIyMTExREZGUqNGDaf6jxw5koiICLp27VrERm5uLhcuXLDb+M9//sPDDz9st2Erd+zYsURERPD000/by3W05ViebWvUqBEATf0qcfKKFmA5wMPAXVWNiAi1vTwQ4LLFdSdW+Jwmp6YS4jCyKQ0hwUFczMykTs0I9h46TMr58wQHFg4iDTv2HWD298v4dEAfjB4eV/MHBhAc4E9WdjZ3NmpI/PETJKelF2vj9737mTh7Lpdzcuj2wQACA/xJdhg5ms3mEq8t0M6Dbeo5MDAQNzc3DAYDjzzyiH2EZjR6kJmdTXBgIPXrRlGjWhinkq4ucqtcqRIZl65O0yanpdG6RXMWTJnIV199hVKKoKCgYq8nV+d13759bNq0ic6dO/Ph4GHs2L2HJStWkWwdpU2dNYfzGRk83K5tiecjNDjIngcgJS2dkKDSndNft/1G43omvCpXxqtyZdBCC7W4RrYSETf3Um83KxW2sEMpZbFOxQ0GegH/d40sttFYWaYSF1nfubUExljfW5WFAutmIw6t8y2Og8Ucu4viIwTbuAMo3/D+Oon0cifZbCEpKYm8vDzWrVtHq1atnNK0atWKVau0l84///wzzZo1o2HDhiQmJpKUlITFYiExMbFU+Ypb1dSgQQMSExMpKCjg2LFj/Pjjj7Rq1Yrff//d3im58uHkyZO8/fbbvPHGGxw4cKDUPmRmZtK7d2969+5NRkaGU/3PnDlDVlYWffr0KdZG8+bNSUxM5M8//+S9997Dy8uLZ555pki9Tpw4QZ8+fZzKbdWqFevWrcNsNpOUlERiYiINGzYkKCiI0NBQEhISADiUZaa6p3YDuMPXyOEsbQrxXK6FfAVebq6naezn9OxZ8vLyWPvLBlq3bOkyvSPJKank5ObS0GTi5Jmz7DoQR3hIMOu2bOf+ps6XdfzxBEZP/5pP+/chwOHh5FJWFua8PBpE1SHhdBJ7DsQSUS2M9Zu30qp5M2cbx44z+qvp/HvMCBZN/pyYiZ/Spvnd/PDrBpRSHD+ViJubG0FBQU75goKCqFKlCgcOHEApxerVq2ndWpvIcXx/lmTtpJLOnSMlLZ21GzbT+p7mnD57jlNnzhBe7eqtwM/Xh/QLF0g6d05rtw2bubORNoFy5MgRjhw5QufOnYu9nlyd1169erF69WpWrlzJuKGDuPuuO5k8fgwnT59m5jf/Ycv23zAY3Gh7/30lnpeG9epx8vRpB9820foe19OPjoQFB7N7fyz5Fgt5+fmgLer4W+43NxMVEorFOqIqUEodsf4egRZbqRHwQXEv8ESkPtqSSz8g0iEK6xxglVLqu0LpuwFNlVK9rL8nApeVUgNEZAiQpZT61HqsltVGo0I2nPaLSGXgAPCeUuoH675WaNIp6cDvwKNKqb0iEogWKHGYUmplMWX+H9pIr7E1/tEGV3V3RUlfz5veG4Jfgztw96lK3sXznFr8Ncm/Oody2n/JzFJLVSwWC48++iivvvoq06ZNo379+rRu3Zrc3FwGDRpEfHw8vr6+jBo1iho1arBlyxb69OlDQUEBbm5uBAQEcP/999OyZcsS8wF07tyZ7Oxs8vLy8PHxoXv37sTExHDJ+iQcFBREbm4ur732Gh06dHBpa+DAgaxZswZ3d3d8fX0JDAykWbNm3HnnnSX6MHPmTObMmUPNmjXJysoiNTWVoKAgHnzwQebNm4efnx9VqlTB29ubJ554gp07dzrZSEhIYPDgwVy6dImAgAACAwNJS0vjvffeo2nTpnTs2BEvLy/y8vIwGAz06NGDV17RAjx//fXXrFixAjc3N/r06cO992pLoePj4xkxYgR5eXl4p5yie4Q3VdwN5BcoZidmcSonH3eBqV98Ts3b7rr2Oc3zoaCggMceac9rLz7PV7Pm0MB0K23ubUns4cP865MhXMrKopLRg8CAAJbM+Zrtu3bz2VfTtI7+0iVyzGa8PD3p/EAbuj/ZhekLvqV+VG1aNbuLt4eM5NipRAKt7wfDggKZMOAD9h/+k9HTv0ZEyLpyBXOumcqVPXn0wQfo/vT/MW3+QupH1aF182a8NXAoxxJOERhgtREcxISP+zFu+kxWrP+FfIsFNzc3/P39GThwIF9++SUxMVo80oMHD9qX2Lds2ZIPP/wQEWHgwIH8+eefiAjVqlXjoYceYub0aWRlX0YpRXBgAOkXLtDl4WjeevkF4uKP8MHwUVzKysJgMJCXl0dIUBAd27Vl/aYtXLh4Ed+qVRk9ejS1atVyeU27Oq829m3fwtwFi5g8fgybt/3G2337aXXz8yMwIAAf7yq8+OwztL3/XmIPHaL3gIFcysykktFIUEAA/3r7TcZ+MZGCggIejX6QHl2fYerc/9Dg1rq0btGcuPg/6TNsFJcys6hkNBLoX5Xv/v0VFouF0ZOnsudAHCLCiVOJn8fHx7te3loKtr/8UKk7gBZz19+UL8YqqhO7C/gSrePKR5vuex0tgF01tCB6oC3+eNAh317gsFLqWYd9c9CeMBwn8O9GWzDh2IlVR3sHVRfow3V0YtZ99YAvgDpo4c/3o3VqydYObQLggzZV+IVSaqo13xDgNbTp0ypALPCxUuqg9fiGkupeHLrs1H8fuuyUgw1ddsrOzSI7tf2V6NJ3YrPX3ZSdWIVMdCqldqNN8RWmzTXy3V7Mvm4uks+xbrZ0ZwDbHMKQQjYS0EaBhW0X2a+UOowL5WWroGUzF8eGFC630PE2ro7p6Ojo6FQMN+/buv9BKmIUVd4n/xpf/VBuHwIruZXbxs2Ax+XyPy1XxDnNL2d+g3fVcvtws1ARI6nyYq5UpfxGKsJGBSCGf/7fqh6KRUdHR0fnH4s+EtPR0dH5H0UM//xxjN6J6ejo6PyvUgo5qZsdvRO7STCZTO1r1qxZZgX6wkryrt6IlUYFH0ApxdQvPmPH9m14enrS5+OB1DXVK5Ju9vSp/LRmNVmZmSz/aYN9/87ftvPF6BFkZGTg6+tLs2bNGDlyZJnq0bRpU06ePFmutqgIG83uuI2TiacpKCjg8Y4dePUFZ0Wx3Xv3Me7LKRw5fpyxgwfyUBvt+6bDR44y8rMvSElNI92qjt+1a9e/NKpA4frv3r2btLQ0LBYLt99+O++//z7Dhg1zslGtWjVGjhzJjz/+iNlspl27dowZM8Ze7pQpU1i9ejUZGRnUqFGjiOr8xYsXGTBgAGfPnqVatWqMHj2aGTNmsHHjRjIyMsjPz+ftt9/mxRevXn/z589n8eLFpKSk4O7uTseOHenXrx8iwk8//cQXX3zBuXPnCAkJ4emnn6Zbt25OkQvc3FEGMKQAACAASURBVNzw8fEhOTnZZVt07NgRNzc3tm7diqenJ/Xr12fHjh1cunSJzZs3231xVNNv2bIlIsLWrVvx8PDAy8uLS5cuUa1aNcaMGYOvry8JCQn079+fo0eP4ufnR/v27V22xRNPPMFXX32F2WxGKcX58+d566237G1hNpv56KOP+P3337FYLPbIDzVr1iwSKaIwJpNpBVA7Pj6+yGK2a1Hc957/NP753fBNiohEWNX4A6y//a2/axVOazKZ3IApZVWgh6JK8q64lgq+jZ3bt5F0OpHZi77jvQ/78+Wn44pNd8+99zHp3843V4vFwsSxo/H29uaHH34gMDCQJ5901j2+Vj3eeecd9uzZU2Y1/hthY/e+/Xw1fgxLv5nNmp9/4Zj1A2YbYaGhDP+oH4882M5pv6dnJYb2/xB3dzemT58OwOrVq/+yqALF1b9nz54sWLCARYsWceHCBcaNG1fExtatWzl79iyTJ0/mhRdeYM+ePU7ltmrVirlz52I2m4tVnZ8zZw533303S5cu5e6772bkyJEkJiYyd+5c+vbtS9WqzgtMUlJSWLRoEb6+vsyYMYOWLVuyd+9eu71atWqhlKJhw4aMGTPGfh5tkQsWLVrEfffdR1xcXIl/F+fOnSMxMZGlS5fy8ccfExcXx9y5cymMo5r+gQMH2L9/P0uXLsVkMpGWlmav15w5cwDw9fXFYrHQsWNHXn75ZZdt0bRpU0aMGMGkSZP4+uuvMRqNdvFhx3N6/Phx+vTpw+DBg6lXrx6RkZHX/Ps2mUxPAFnFHvwfQe/EbhBKqURgKmB7lB2DFs47oZjkdwNHy6pAX5ySvCuupYJvY/uWTTzY/hFEhPqNGpOdmUl6IeVxgPqNGhNYSH0h/tBBDAYDL7zwAoGBgURHR7N3794y1SMtLQ1vb+8yq/HfCBs+VarYFeTbt3uADVu2OdnQFOSvKpTbqBURQWZmJhHh4TRp0oTAwEBatGjxl0UVKK7+O3dqqvMWi4X8/HwOHz5cxMbGjRvp3Lkzd9xxB7Vr18ZsNjupZjhqDhanOu/oV6dOndixYwcdOnQgMDCQxx57jLy8PLKznb+xMpvNZGVlUb9+fXJzc+2RD0CTQLPdyN3d3e3n0Ra5ALQPpQ0Gg33kWNzfxZkzZ+jQoQMiQuPGjcnPL7res7CafpUqVahSpQoiwsGDB3F3dyctLY1OnTrZ/SsoKKCgoIDq1auX2BZRUVHk5+dTo0YNQkNDefTRRzl92jkczi+//MLly5d57LHHaNeuHbt27cLb27vEv2+TyeQN/AsYUeRgKRE3t1JvNyt6J3Zj+Ry4R0R6o4Vy+dRFunCuhq4ptQJ9cUry5SUtNZXgkKsq3kEhIaQ7qIqXRHpqCkopTp48Sffu3Vm2bJldM9HGteqRmZmJl5eX/ff1tEVF2ais6dNpNoKDSC5lOwCkpKURFhJCbGwseXl51K1b9y+LKuCq/r169bJ3jhaLpYiNM2fOEBZ2Vb7JVdmOU1COqvPnz5+3y0oFBgZy5coVJ3tVqlSxB0u1+fXwww+TlJRE+/bt8fb25t5777XbK0lR3saJEye49dZbMRqNLv8uCvsRGhp6TTX93NxccnNz7fWqXr06KSkpBAYGcv78+WLzuGoLW5w7x3oU7szPnj2Lv78/Q4cO5aWXXiIvL49z564pCD4cTYzBtfrx/wB6J3YDUUrlAX3ROrPe1t9OiMjr586dG5uZmflYaZXeb2aUKiAxMZEZM2bw1FNPsWvXLjIzM/9ut/4WcnJyGDRoEIMHD74p3j1MnjyZNWvWYDabuXLlyrUzlIPS1PfSpUvs2bOH2267jTVr1nDlyhW2b99+zXw2jh07Rnp6Or169SqPq2VCRK7rXF4rj1KKY8eO2aMfiAgLF7pWarGKbNeJj49fWmZnnByruHhifxc3r2f/PTwCnKUYBRHQVOzDwsJe8PHx2WPT5CutAn1xSvLXwy9pVxgSf4Eh8RcICAwiNeWqindaSgqBwcEl5L5KYHAISmnvTtzd3cnLyyMgIIBTp65Grr1WPXx8fLh8+eqD5fW0RUXZcLzRp6SmEVrKdgDw8fZm0/btvPXWWzRu3PgvjSpQUv0rVapE69atKSgoIDk5mcWLF/Pcc89x9uxZwsLCnJ7+XZXtKFXnqDofEBDArFmz6Nq1K08//TSenp5O9rKzs/H29rb/3rFjBxEREZw/fx53d3fatm1LbGys3Z4rRXlbuX379sVkMmGwLhN3bIvFixfTtWtXpk2bVsSP5OTkYut19OhRunbtSteuXTEajfYpvICAAM6cOUNISAhpaWn2GHQlKfAHBATYp2KNRiNuDtNxKSkpVKni/LFzaGgo/v7+NGrUiPz8fE0b8cQJXHHgwAGApiaTKQHYAtxqMpk2uMzgAjFIqbebFb0Tu4GIyO3AQ8A9wPsi4iqI506gblkV6Cvq6f6BoMoMMfkzxORPy1at+GnNjyilOBR7AC9v7yLvvlxhqlcfi8XC5s2bycvL48cffyQnJ8ce6bk09QgPDycrK6vMavw3wkZmVjanz2gK8mt+/oXW95Yu6kVeXh4z583H3d2D+vXr/+VRBQrXf82aNfb3Wfn5+WzdupVGjRqxatUq+4q/Bx54gLZt27J69WqUUpw+fRoPD49iVeeBYlXnW7dujcFgICYmhg4dOnD33Xfb7R04cACj0eh08w4LC+Po0aN4eXmxf/9+duzYQUpKit2eLSpCbm4u+fn59ja0RS7o1asXHTt2LLYtnn76aWJiYnjjjTcIDw938sPb27vYeoWFhTFgwADmz59PdnY2WVlZKKVo0KABeXl5BAUFsWrVKrt/NgX+5OTkYtvC5tfRo0dxd3d3uh5r1qzpVP6DD2qyqgkJCfz8888EBwdTp04dl9fYk08+SXx8fPX4+PhaaK8q/oyPj2/jMsN/MRUiAKxTFNHuKtuAQUqp9SLyDnBPofhodkwmU4eaNWv+UFYFenBWkvfMz+VftX3t4T/s9kuhgg8QPmUVUz4bz67ffqOSpyd9PhrIrdZAgG++/AJT5/4HgJlTvuTX9WtJT0sjMCiI9p0f48VXX+P3bVsZP2wwV65cwdfXlz59+nDixIky1SMnJweLxUJQUBBPPPHEdbVFxdi4otkIDOSpRzvz2ksvMOXr2TQ03Uqb++4l9tBh3v9k0FW18QB/ln4zm1Xr1jN49DhCQ4LtUXu7dOlCv379/rKoAo71b9++PTt37uTs2bMYjUZat27N22+/zbBhw5xshIeHM27cOJYsWYJSCg8PD/z8/Jg8eTKffPIJzZs3Z+3ataSkpODm5oaXlxft27e3q85nZGQwYMAAzp07R7Vq1Rg1ahTTp09ny5YtpKSk4OHhgbu7O15eXvj4+LBo0SKmT5/OypUrSU9Px93dnQ4dOtC/f39EhF9//ZURI0Zw8eJFDAYD4eHhLF26lJ49e7J//34iIyMpKCjg3Llz+Pr6UrVq1WLbwmw2IyL4+vri7e2NyWRi165dpKam4ubmxiuvvELPnj2d1PRbtNAeWLZv325fYp+ZmUm1atVIT09n0aJFpKWl8dxzz5GRkQGAp6cnq1evxsfHp0hbdOnShWnTppGXl2eP8GA2m/Hy8mL58uV4eHjw/vvv88cff2AwGLjtttvsS/kLR4qYPHkytWvXxsfHR6z3jlrAqutZYr/r3adL3QE0nbT4phyO6Z3YDUJEXgfaKaWesf52Qxtxva+U2lhcnszMzHKfDF07seKoCO3EPC/fCvBER6cotk6sPOx675nSd2ITF92UnZj+sfMNQik1A5jh8NsC3Pn3eaSjo6PjjNzECzZKi96J/ZdR3pHU6bc6ltuHwP+SmGYXK5df/d3LKZC4js5Nxk2wara8/PO7YR0dHR2d/1n0TkxHR0fnfxQxGEq9XdOWSHsRiReRoyLSv5jjNUXkVxH5Q0T2i0iHiqiDPp34N2IymdoDEwE3YOauXbucjpdW9NcmCqqU4qP332Xfnt2IwUDUrSaGjv0Uv0Kada7EewF2ZuSy/NxlBIio7M7rt/jYj7kSEVZKseBMNgcumTEahDGHD1OvXlHRYEeBVUfh2IkTJ7Jx40YuXrxIbm4u1atXZ9iwYXYb586d46mnnuL111+nadOmZbJx4sQJ5s2bZ/fhyJEjDB8+nNmzZxdrY9OmTXh4eFCjRg0+GDiE2TOm8cv6dWRnZRESGoanpyfHjh5h5rwY6ppMAPz7q8ms+eEHsjIvMWzMOCZN+JSCAgt3NrubPw/GcfToUUaOHMmDDz5YqnNaWLA2OjqatWvXIiJ2YdiqVau6bM+ffvqJGTNmcOLECebOnUtGRgaffvqpXQy4ffv29vZ88cUXi/UpISGBcePGkZqaisVi4fHHH3cSn3VVD0dx3tzcXMxmM0ajkS5duvD8888zbtw4du/ejYjw+uuvs2HDhlJf31lZWXTp0oXs7GxEBKPRSOfOnenTp0+J11mfPn2YMGECq1evJicnh9DQUKKiohg8eDA+Pj7F5qtduzYJCQkUFBTQvn179u/fbxfzHTNmDJ6enrz88sskJCTg5uZGcHAwSUlJrF+/niVLlrB8+XJyc3PtftpEqC0WCy+++CIhISGMGzfO3oY5OTkYjUaMRiNPPvkkV65cYfny5RgMBvr27WtfLblgwQKWLtW+bz5+/Hjv+Pj4L6z3kiHAa4BNVuaj+Pj41UX+CAtTQdOJ1oVrU9A+KToN7BSRFUqpgw7JPgEWK6WmikgDYDVQq7xl6yOxG4RobBGRRxz2PSUia+Cq6C/ax9ANgOfKK/q7efNm9u3Zzfxlqxj/5Vcknz3Diu+/LeJbceK9AEmJp/gh+TIDovwYXs+fZ6s7f5DpSkT4QGYeybkWRtXz56Ua3owePbrYNnEUWHUUS23evDm9e/emYcOGPPXUU5hMJicbn332GS1btrwuG4888ggxMTHExMQwbNgwqlevTkxMjEsbixYtYuHChdSsWZPxI4dz+tQplq1Zz8RpM/Dx9eXjYcOpVj3c3oEBtLy/FdPnfoNSis/HjWX8xC/5ZvH37PtjDz169ODhhx8u0zl1FKzt378/06dPZ/r06SxcuJCoqCgWLVpUYlvUqVOHcePGcccdd1BQUMDYsWOdxICHDx9ub8/ifJo0aRJjx45lwoQJTJw4EX9/f/uy8GvVwybOGxMTY5dbspU7YcIE/P39WbJkCd9++y3nzp0r0/W9d+9eGjRowLZt25g+fTr5+fm0bdv2mtfZzJkzSUxMZNSoUUydOhU/Pz9q1qxZJDqALd93333H77//zssvv8y3337L999/T1RUlJMA8PLly2ncuDHbt29n4MCBBAYGcuedd5Kens66detYsGABbm5uduUNm3jxggULiIyMdGrD7t27U6NGDRo0aMB3332HyWRi3bp1LF68mC+//JIxY8ZgsVg4evQoS5cu5ZtvviEmJgagk8lkinKowufx8fG3W7drd2BU6EjsbuCoUuq4UsoMLAQeK5RGAbblun7AmdL4eC30TuwGobRvF94APhMRTxHxBkYBb1uT3A0cjY+PPx4fH28GFpZX9HfTpk14GI3k5uZQr2EjcnNy8fT0LOJbceK9AD+uWM4DQZWp4q5dFr4ezpeHKxHhvRfNtPT3RESoU8WDzMxMJ+FYKCqw6iiWes8997B582Y6dOhAkyZNUErZbWzYsIHw8HBq165Ndnb2ddmwsXbtWu67774Sbbi7a5MTjRs35uiff/Jwx06ICA0bNyErM5OVS5fQLjraqW4NGzchKCiYgoICwiNqUN0qvNu+QycSEhLsihKlPaeOgrWNGjVCKUVSUhJKKbKzswkODi6xPSMjI6lVqxagSTNFRETYxYCjoqLsIw1XPm3fvp2IiAjq1KlD06ZNady4MUlJSU51dlUPmzhvXFwctWvXJj8/H6UU0dHRrFmzBpsqjcFgYOfOnWW6vjdu3GhvF19fX/Ly8oiIiLjmdbZu3To6dOhAixYtuP3228nMzOSWW25x0k90zHfw4EEiIiKIjY3Fw8ODgoICjEYjgF0AuHD94+Li7ALF0dHRHDlyhFq1ahEZGcmff/5JdHQ0P/zwA1u3bqVLly5Obfjdd9/xySefsHPnTpRS7N27l+joaIxGI+Hh4URERBAXF0dCQgKNGjXC09PTdp1uBJ6gPIiUehOR10Vkl8P2uoMlJ/1XtNFYuHNhDAFeEJHTaKOwd8rluxW9E7uBKKVigZVAP2AQ8I1S6pj1cJGTXl7R37S0NJ7q+gJvvNiVro91BIFGt99Ran9PJ54iOdfC6CMZjDySwYFL5lLlu5BnIcChwyuNwKqjWCpAamoqYWFhrFixgpYtWxIaGsqpU6eYO3cur732GqBNJ5XVhqMf69ato0mTJiXasLFixQoqe1UmxCFtcEgIm379lXbRrr/FCwm9KjQbHHp9Qs6OgrXu7u5ERkbSs2dP2rdvz4kTJ3jssceu2Z42Lly4YE93+fJlDhw4YB8JuPKpUqVKdmkl0EKOFNZavFY9UlJSyM/Pp169ehiNRnvYkqlTp/L888/Tr18/zp49W6br23Z+QTuXwcHBRepcXLtcvHixiADwypUrnUajjvlSUlIICwuz287JybEL9toEgB3T5+fnk5+fT9OmTe37bf/aRItDQkL46aefePfdd+3qKrY0SUlJ/Pzzz1y+fJm33nqL48ePFyt8XKdOHfbu3UtGRgY5OTkAHQDHXryXyWTabzKZZplMJn9KgYih1JtSaoZSqqnDNuPaJTjxHDBHKVXD6vs8qYA1/nonduMZCnRFmzYsEpzL9nSTnJw89PDhw+UqSCnFts0bmTJ7HjHLf6By5cqsX136JfcWi4XkXAt9o/x4vaYPc09ncdny1y0RX7VqFW5ubjzyiDYDu3TpUrp27eqkyF5WGzZiY2Px9PQs8uReHF9//bX1PYezvl52djZGo5HaUVEuclY8+fn5pKSkMGLECNasWUNUVFSRabDSMmPGDFq0aGEfbd5IkpOTOXjwIB999BGghS25cuUKTZo0Yf78+TRu3Jj09PTrtr9u3ToCAgKuK++ZM2cwGAxFrpHSUJwA8KZNm6hUqRK+vq4/bI+Pj7cH5CyM2WymUqVKhISE0KFDB3vYnMJERkby0ksv0atXL9555x2AvYDFengqUAe4HU2rdUKZK1c+knDuUGtY9znyKrAYQCm1HfAESqdpVwL6wo4bjFIqW0QWAVlKqVyHQ0lAhFKqBzDDZDINaNWq1SjHvDaB0dDQUJeivzbRUoBq1aqRZzZT3Sq7I2Lg9KmTpfY1KDiEUD8j7iIEV3IjtJIbybkWIr2KPuv8knaFTek5ANTycud83tXOzpXAamGx1MzMTLvvVapU4eTJkyxYsAARITk5mcuXLzNp0iQmTZpkV8K3TeuU1obNj7Vr1/Lwww+XKNoKMHDgQH799Vdq1KhBvYaNSXFIm3Q6kcee+L8S2zAl+arQbGqy9gR+8uTVc+DqnC5evJhly5Zx8eJFvLy87IK18fHx5OXl0ahRI0SEhx56iDlz5tClS5cS62HD398f24Kh2NhYjh3TJgKUUhgMBoxGYxGfcnNzuXDhgt3GpUuXnMLSlFQPmy8xMTFERkbaJaAyMzNxd3fngQceADStwOnTp5fp+m7QoAHnzp3jzz//xGKxkJWV5fI6s7XnpUuX8PX1tbfnypUrSU1NZcqUKU6dkeN1ERISwrlz5+x6k56ennbNR5sAsGP916xZg8FgwM/Pz77/rrvucrJ3+PBhzp07R+fOne0x1GwRqUNCQmjVqhWzZ8+mY8eOjBo1yqXwcZcuXezTkU2bNr2ANm1HfHy8PYPJZPo3UFRTrjhKseqwlOwE6opIJNq97Vm0h3dHTgHtgDkiUh+tEyt9fCMX6COxv4YC6+bITqCuyWSKNJlMRuDZ6xH9jYqKsi9ceOCBBzhz+jQXzp/nUOwBLBYLdW41UVpatmpNfJYWLSYzv4DkXAvBxuIlpBxFg+/wq8S2CzlaOInsPJcCq1WqVHESjn3llVeIiYmhV69e9lhWlSpVsou0zp07l5UrV7Jy5Uqee+45Xn31VcLCwspkIygoiIKCAn766Seio6OL9cMm2rpt2zYOHz7MypUrWbhwIfe3acPaH1ZpwrH79pFz5Qqdu7h+BWEwGDh9KpEzVqHXn9evLbV4ryvB2vT0dPLy8uwq6L///juRkZEl1sOR2rVr2wWFp06dSlhYGDNnzuS5557jlVde4ZlnniniU/Pmze158vLyiIuLo3r16qWqh02ct3fv3mRkZNhtrF+/nmbNmrF7924Adu7cSURERJmu7zZt2rB69WrWrFnD7bffXuJ1Vr9+febPn0/t2rWJjo5m9erVbN26lRkzZjh1rsVdn/Xr1ycxMZFGjRqRl5eHwWCwxxazCQDb6p+VlcXOnTtp3rw5IkKrVq1Yt24dUVFRnDhxwh7vLDMzk1mzZrFy5UpGjhxJs2bN6N69O6tWraJNmzbMmzePZs2asWfPHiIiIli3bh1ms5mkpCQSExNp2LAhgD2WmbVTfgKIATCZTI7i4o8DsUWv0KLYRpal2UpCKZUP9ALWAofQViHGicgwEXnUmqwP8JqI7AMWAN1UBege6tqJfwEiMgRtJOYUFNNkMnUAvkBbYj9r165dI65H9NcmChoZGUn3117nYOwBDAYDt9arz5Ax4/H18yuVeK9Sigld2hCbmYdBoGOIF839r75cdyUirJRiflI2sZnaEvvRM2bToEEDALp27WpbSeUksNqyZUu7cGyXLl0wm83k5uZy+fJlKleuzOTJk51stG7dGi8vL+66664y29i1axe9e/dmy5Yt1/QjLy/PPhowNWyEm5sbO7ZvR6kCPCtXZu5CbbVn967PMitGi/c0ddIX/LR2DWmpqfj4+oICbx8fmjW/h+1bNpGenk6lSpUICwtj3rx51zynhQVr77vvPjZu3Ii7uztnz55l+fLlVK1a1WU9fv31V8aPH8+FCxfw8fEhODiYK1c0MWObuPRrr71GjRo1GDx4cLHXWUJCAp999hlJSUm4u7tjMBgQEXr16sXTTz/t8tqcOXMmc+bMoWbNmmRlZZGamkpQUBBdunShQ4cOvPbaa4gINWrUYMCAAUyZMqVM17dNoDg8PJwRI0aU6jrr27cv48ePZ8mSJYgI1atXx9PTk0aNGhEbG1tsvsjISE6dOoXFYiE6OprY2Fji4+MJDQ21h3cZNGgQe/bswWKx8M0339h9//rrr1mxYgVms/ZO2Wg0Ool6e3h4cODAAcaOHcugQYM4dOgQly5dIiAgAD8/PwYMGMDmzZtZsWIFbm5u9OnTh3vvvReAHj16cPHiRdzd3Tly5MiD8fHxP1vvJfPQphIVkAD0jI+PP3ute9O+T3qWugO4bcT0m1LeQ+/E/gJcdWKFqQgB4PRcy7UTlUBFyE7d9l8iO3VZlX+iwkt02SmdG0NFCADvH/hGqe85TYZPuyk7Mf2d2F+AUmrI3+2Djo6Ozn8jeiemo6Oj87/KTRyxubTondh/GeWN5VURCvTljWkGYPCsfO1EN5jGU5b+3S78V5Ej5b/deKr8cuXf37NTuX1oMr10C//+CeihWHR0dHR0/rlU3BL7vw29E9PR0dH5X+W/IJ6Y3ondJJhMpvY1a9a0K41369bN6fj1qIaX1saFCxfo2rUraWlp+Pr6MmXKlDKr0Duqv/+fpQAvt6tPeOlmCwPjL/BoqBfvDB5erBK+I1Vva06d7u+DwUDKxh9JWrXQ6XilwBDq9PgAD5+q5GdncmTaaMwXNI3EFnPWcjnxBG6eXnj4+WO+eL5MNg5kXGFJrjf55lyemj+fHj16OEkuuWpDG46K+3Xq1GHMmDGkpqbi5+dHQEAASUlJ9OzZk65du7q0tX37dgYNGkRmZiZubm7861//4v/+r+hH1q7OB2hitsuXLwc0Hch///vfTteKm5ub/WPb0l5P27ZtIy0tza7H+dlnnzFx4sQi/sfGxjJq1CiUUqSkpODu7o6/vz8DhgzHVL8+FouFHi92JTg4hHETv+TwoYOMGjyI3NxcWtx7H+/11T4VOPJnPONHjuB04inMublUqx7O8GFDyxTdYOrUqWzcuBGDwYC/vz9vN2hKk+7vcVkJS7/7joWzZ1Kg4ExOPhNvCyEwrBpRr/fDw7cq+VmX+POrkew+cZpFKWYMVXzp8kg093h5YTAYyMnJIT8//7r+NsPCwpg9e7Y9MsHAgQP5/PPPi9g4c+YMTz31FLfccgsAjRo1squgWL8vnQy0QfsO9eP4+Pjvi/2j+i/mHz2WFJEaIrJcRI6IyDERmSgiRhFpIyIXRWSvNW7NTyISYs3TTUQmW/8/RESSrOlsW1XrsbtFZJM1Ps4fIjJTRN52SGcWkQPW/48pwe4REVliDT1QLDZFe0el8dIq2pekGl5aG3/88QehoaF8+OGH3HXXXdelQu+o/v5DsrPO3qIz2TTy0ZQ2XCnhXz2pBuq82oeDn37E3v6vEnRPWypXr+mU5JbnepK6dT37PnmdxGXzqPn0q/ZjBWYz+wa9BcDej18vk40CpZiXcIHpUyYzONyNVatWERcXV6o2tGFT3Lepx3/11Vds2rQJf39/hg4diqenp1153ZWtkydPUqdOHbZv384nn3zC+PHjy3Q+duzYwapVq1iwYAGbN2/m4sWLHD9+3H6tLFq0iPvuu4+4uLgyXU9XrlxhxIgR9o+PN2/eXKz/UVFRfPPNN7z99tvUrVsXi8VC//79+XT0SAC+XRDDLbWu6jdOGD2SDwcOYuGyFSQmnuK3bVsBGDt8KK3atqV+w0a817cf9Rs2LHN0gxdffJGFCxcSExNDq1atqP1Kb+LGfUh8/24816Uz4x66i/8L98bkY8Tb3UCt598iZfNa9vbvTuKSudR4qgf/OXWJd2tWZlBYAcsWzCc2VvuOOD8/v8Tz6Kots+Bg5gAAIABJREFU16xZw7hx45wiE4wcOdLldRUeHm5vc1sHZuVjICU+Pv5WtEgYzgripaAs2ok3KzevZ9dAtEfOJcAypVRd4FbAGxhpTbJZKXW7UqoJmjrG28Vb4nNrOtuWISKhwLdAP6WUSSl1B7AG+M6WDi2MQFvr7yIB4Bzs1gUWAb+ISFFdII27gaM2pXGbGrYj16MaXlob27dv59lnn8XT05PAwMDrUqF3VH+/4CBBtediLkFGN8I9tQUnrpTwbfhE1Sfn3GlyU8+iLPmk/baBgDvvdUrjVf0WLh7ca7W3l4A7Wzod965j4krKmTLbOJ5lJsTTg4gaNXA3SJnaEHBS3E9OTnZSj4+OjiYmJobw8HCqVatWoq1jx47RpUsXRIT27dtTUFDAmTPOUStKOh+zZs2idu3aREZG4uHhwSOPPMLGjRvt1wpoH/YaDAbMZnOpr6fC4ryu/LeprG/cuJHWrVtjMBho1KgRWVmZHD50kO1bNtuVT9JSU8nOyqZR4yZafTt2YvOGXwFIPHmKM6eTaN+xE3ff04KDsbFljm7g7e1t99fX15eU04nkpmjXRer2Xwi46z5+P59Dc39tdOkVfgsX4/YAcPHgHyQZfQnxdCOkkjvuBqG5vydbtmyxd2AltYOrtnzooYcwm81cuXLFHpngzJkzLq+rEugOjAaIj48viI+PT7tG+qKUQcX+ZuUf24kBDwA5SqnZAEopC/A+2om1K8ZaOzsf4EJxRlzwNjDXKlKJ1f53SqnkEvK4RCm1CFhHUS0xG06K9jbVakfKqhpeFhuO6uBwfSr0NlasWEFjXw8AciyKH1Ou8Gho6QV8jQHB5KZfLdt8PhWjf6BTmuzE4//P3nmHR1W0ffie3fRGOjV0WDrSRbp0KSLyAWIDQSyAqIjSu0hHKQqIUpTQpSNBUYTQpEkIJUBIIICkQUhCSLJlvj/O7rKbZJONoG+U/V3XuZKdM/OcOWdmd860+yGgYXMA/Bs2x8ndEycvBb6qcnahyluj8Cxb2dy42WsjVeWCv4salbMLdSYvJiQkJFdjbusZZmRk5EvcDw4O5uzZs1a+xewpj3379uHl5UVKSorNfIB1edy8eRODwcDrr7/O4MGD0Wq1ucrThENycXGxuz5ptVomT55Mv379WL58eb51MjIykrCwMBYuXMjo0aNxcnIiOLg4X37xOe8Mfx9hXNqdlJhAkOVzKl6cJGNeK1SqSNTFCwQXL8GvP/9EfPztv+TdYPHixXTp0oXLly/jk37HHJ59JxEnv0AiU7NoYGzE7l+LJqCxggrzb9SCpHupBHo8dGfk56ImMTERrVZbYDnaepYlSpSgXr169O3b1+yZQAhh08atW7fo168fgwcP5vTp0wBmligwVaPRnNJoNBs1Gs3Dh2CnHhd26n+pf3MjVhM4aRkgpUxFgUxWBloIIf4wfm4HfGvDzgcWQ4S/GsNq5bT9GHQKyDXRJIQYfPv27ZlpaWnP/1U6OeSmhv8vZKK/P+2roKq2xWfQIcgdN/Xj/QLErl2KT7U61Jm6BB9NHbLuJCINCqnk5If9uL5hOakX/6D8y+/iGlzSfhvSYLYRMXEI2dnZZseGBWnZsmX5Evf1ej23bt2iXbt2dt9ndHQ0CxcuNM+H2Cu9Xk92djYrV67kvffeY8OGDbnsJicnM3ToUJs28qpPpmHjr7/+mtOnT1v+kOZSrVq1qF+/PuPGjTN70U5JScHb25tq1W2OrFtp9ITJ3P7zFjOmTCIj4z7OzsrLUWG9GwwZMoRdu3ZRr149bmVqrc4lZemo7KUMJQLErvmSYtWeou705RSr/hTatHtYdojUHp4IIdDr7Sfj5EX0j46OZs2aNWbPBJbAZUsFBgayc+dOQkND+eCDDxg3bhzp6emm65cBDkdFRdUHjgD5EoHylEpl/1FE9V9e2HFQStkVQAjxCYoblLfziDe/IBzUY1Kev4RSymUajeYsMGnAgAEdwJpabVJhqeEF2Vi3bh1//vkn77zzDjVr1jRTvk327KHQW1LTd+zYQXh4OF999RVRQxTKdkyGlpMpWWy8dZ8MvUQIcFYJnrM1qIryduwa8PDaLv5BZN+1dtmhTUkmasFkAFSubgQ0aoE+Q/H3lH03may7Sag9vEi9eAavcpXttlFM6riTrTfHNd2jWq02Dx/ZKofIyEj27dtnJu4bDAarZ3j8+HGCg4MJCHjYI8yvPKKioli/fj2TJ09mypQphSqP4OBgDAYDwuhU02Aw4O3tbY43cuRINBqN2VmnvfXJ1Jh6enrSqVMnlixZkutZhIWFmReU1KhRA5VKhYeHB9HR0STE3+bunWR6de1MdnY299OVhinRkthu9EzQ/6XeALRs3Yb6jRqjqV6DI+EH7fZukBfRv3bt2tyOu27+7OIfxMkbf9LE/2FPKzslmYufjzfWC3eKv/4xyQ8yMQ3uZAWXzWW7sN/Nc+fOmRdBAbRv356ffvopTxtCCPO9Va9endKlS3P9+nWTS5cMlCkVUKY/BlJIFeW5Lnv1b76D80ADywAhhA9QFriSI+52oCX261xO249B9VDoznnpOFDFRPzeu3ev3fRzW9Twgmz4+fnx7LPPsnbtWjMd3ERNt5dCb0l/X716NfPmzbPyJD2qsi+zavgzq4Y/7YPc6BLsTtvA/Dcxp0VfxL1kGVwDSyDUTgQ+3Zo7pw9bxXHy8jGP0Zfp9hIJB5QN2moPL4STM+lXo3AvWQafanV4cPuG3TYqeLmQkKUnSQc6g2Tv3r20bdsWg+HhHJ+tcli+fHku4r5WqzWXx8GDB81zHgWVR+PGjVm8eDFDhgxBrVYXujyee+45M4X+ypUrZGRk0KFDB3NdGTp0KF26dClUfQoLC6NePcXBqk6n4+DBg9SpUyeXjT59+jB79mxWr15N69at+eGHH4iJiSElJYUyISFs37uPTTt/ZNL0GTRo1IhP58zD08uTyLMRSCnZs2snr70xkJVrNzB/8RJatG7Dnp07WLl8GQ2bPG23dwPTs7h+/WGjFRYWRrly5XANUupWQNNn2bznJ+oVewi5dvIu9rBePP8ywYnXiM/Uk5ilQ2eQHIr9kxYtWtgsR3ue5cmTJ0lPTzf3vo4dO0blypXztHH37l1zr+/GjRvExcVRunRp0+jADpSViaC4ODnPE6h/c09sHzBDCPGalHK1EEKN4ghuJcobiqWaA9HYr0XA70KIXVLKYwBCiJ7Aob8yLyaEeBHogOKKIJeioqJ0Go1m6LBhw3aZSOOVKlXCkmj//PPPM2HCBHr06GEmfgOsX7+euLg4VqxYgZSSXr16manh9tpo1qwZY8aM4cgRZQrQ19eXq1evUrFiRSs6+KhRo6zo4Cay9qxZs9BqtQwZoqydKZmczmtlvHLeJmBNwm/01RYzCd8sg57ob+dT4+MZCKEi/sAeHty8RkjP10mPucTd00coVr0uZf9PeelMvRjB1dXKSi6PUmWpOOADkAaQoHJxpdp7k+22oRaCN5+uzcLL8RgMenr+X2fKlSvHwoULC3yGOaVSqRg5ciTDhg1Dp9Oh1Wrp27evXeVx7do1srKyGDduHEIISpQowZ07d/D397erPF544QX27dtHr169AKVRq1y5Mm+99RaxsbEsX74cg8HA7du3OXr0KL6+vgXWp65duzJnzhzi4+NxcXGhTZs2vPvuu0yePDlX/v/44w9WrVqFWq3MH6nVar744gtGT5pifj4zp042r1AcMWoMn06aQFZmFk83a8bTzZS5yp/2/MjmDetIuXsXgSC4eHEmTZxgtmHybpDfs1i4cCHXrl1DpVJRsmRJ6sRfpPaoOaBScXz3NtwT4qjy8YekX73InVOHKVb9Kcr1HQxSknrxDNErPueVsj7Mu3wXqVLT+7XXKV++/CN/N4sVK0avXr3w8PCgcuXKTJkyhblz5+aycerUKZYuXYqTkxNCCEaPHm3pc+0T4DuNRvM5il+uAXlWxvxUhOe67NW/mmIvhAgBvkSZa1IBu4GPgKbANiAGZRjvHjBISnlJCDEIqC6lHGGky7+JtWO2HlLKWCFEU5QhyGCUPRgHgA+klBnGa8cCDaWUScbP/Y2fh+aw64ni22eslDLfN6XHQbEvCnJgpxzKSw7s1OPV46DYX5gz2u7fnOoffVYkW7x/c08MKWUc0C2PU/uBYnmEg7Ig5LIx/SRgkg3bR4AWeZ0zni+f4/NKlF5gvnYdcsghh4qM/gM9sX91I1ZYCSF+BFxwNDB/qx5HL8qQ+aDgSA79q1QURn2k7tF6cv81iSK86tBePVGNmJSy8/86Dw455JBDDj0+PVGNmEMOOeSQQxb6DyyxdzRi/0NpNJpOwBeAGlh+4sQJq/P2gEWdnZ0ZPnw4jRo1Yv/+/YwbNw6dToePjw/dunVj2LBhBdp7nADgjh07MnDGClRqFSd2b2Pygi/N6W9kaJnVpg4th43OF94LkJl4mwuzPsnzuVV5Z3SBEOH8lF/6s6nZrL11HyklvVeutBuibNKuXbuYNGkSPj4+vPrqq/Tv35+1a9eyZYuySKRr165cuHAh3zJ1cnKiZMmSXLlyBVdXVzOxQ61W06JFC3OZFnUAMChDiIMHD6Z169Z8PmcmP+7YQWZWJiVKlGT9th25ymbZ4kWE7d5JWmoqew8eRkrJF3Nm8dsv+0i9l4pOp2X69Om5No3bC6ceXLsx1Qd+gFCp2Ll5E18tW4ZBQlM/V7oU98A1sDhV3hljBgBHLZxC9h1l3Vf5l9/Br94zHD95kunTp6PX6+0GbcfGxjJt2jTu3r2Lt7c3wcHB5u+tPfXKEnb86qtKndVoNB8AgwAJnAUGREVFZdqq93mpKJM47NW/vxm2Q0KIdOPf8kIIKYQYZnFukXFloenzR0KIi0aCx3EhxGvG8P1CiIbG/ysYwb4dc8CGTUd7IUS4EKKzhd3/E0KYPU6aoL9AZxR450uFhf6uX7+eSZMmMWHCBPR6PfPmzWPs2LEcPHgQf39/jh07xqFDhwq09zgBwK+++irzRgzlj1EDqd+2I7M7NmZK7RK8WcmfQFc1z7wxNH947/i3OTP+bZsNGNgBES5AttIbpGTNzXQ+qODDVI1foSDKoJAyPvvsM5o2bcqrr75KWFgY+/fvZ8uWLaxevZrQ0FC2bduGECLfMu3RoweHDh1iy5YtjBw5knv37rF582bWrFnDmTNnzGVa1AHAoaGhLFy4kOnTp3Pw4EFuxF1nxvzP+WT8BJKTciPLAJq1bMnSVd+ZPx89FM6NuOssXr6Cj8eNM2/azil76ma5cuUo98aHnJs+gq8GvEjjDp2Z/Ww9xlf15bfkTJKy9VR4dSgJB/ZweuTrXN+0gvL9FD6CX72meFbQcHLk60yZMoVly5bZDdpesGABM2fOZNSoUWzevJmAgAAGDRrEhAkTbKaxBZY2yYgRew9oGBUVVQvlRbhvng8nPznYif9KJQDDhRAuOU8IId4G2gONjZDftuQgbQghyqDAgEdIKcOMwSbYsOn4CYUOMk8I4SaE8AKmYw0hbgxciYqKuhoVFZUNrCss9BegUqVKZGVl8ccff1C2bFk6d+5s7hG5uLhYMfP+bgCwSqVCq9Vy5dr1XODdY8kZNAnwKBDea48Kggj/1fRXM3QEu6gJclX/JQDwd999h5+fHzVr1kStVtOhQwd++uknatWqZYbi6vV6fHx8cqW3LNNLly7h5OSEVqulYcOGGAwGkpKScHZ2plq1aiQkJPwrAMAAWVlZCCE4cOAAnZ7rSr0GDalX33RPuRuymrXrEBj4kIgR/ttvdHquK6VKl6bjc13R6XSkplqXnb1w6hYtWvBn3HWyEm4hdXoO7f0Rv4bN0RokTgLcVAL3MhVIiVSIc/fOncK/obJA2aNMBVIv/MHV9CxCQkIoVaoU7u7udtWRI0eOEBISQsuWLSlVqhQdOnTg6tWr5p5uQfXKEnacQ06Au0ajcUJBitzKGaFACZX9RxFV0c3Z36dElI3Sr+dxbgzwjpHBiJQyVUq5yuJ8SRSQ71gp5fb8LiKljETZUf8JMAFYLaW03HBtBf0FbhQW+gvK7v5q1apx9+5dKwiqj48P0dHR5uGK/Ow9LgCwSqUiKiqK2r7KcJMlePd3YyNWELy3zuTF1J6wEP9GNnc3/G1K0Rrwd3n4lSgMRDkjI4Pt27dTv359q/SgbP5NSUkhMzOTxMREMjMzc6W31IULFyhfvrwZN2Qqj7S0NA4ePEijRo3+FQDg3r1707dvX0aPHk1SUhLBFnVMrXYyg37zU2JiglU6Nze3XI2YvXDqyMhI5F0lvIGvC/cS4zmODyMv3KFjsAdeTiruX7tMYGNlA3VA41Y4eSj18/61K/jVbcI9qaZ48eLmzcf21BFXV1f8/PzM54ODgzl9+rT52eaVxhZY2tIGCivxOvAncC8qKmpvgQ/0P6gnsREDmAl8ZKR8AGZklbeU8qrtZKwCFkkpN+UIb5FjOLGSMXwyCrm+M8rG6VwSQgwWQpyIj4+ffPHixULdhAkQmxP6axoCqly5spnP9k9o3759CCFoGmANZo1Oz8JFpaKMh0uB8N6IiUO49NV0Kr4+HLfipf+xvD+qli1bRvPmzc1v/Sb5+Pjw2muvMXToUIYNG4arqytqtdqGFaVMY2JizPMeJun1esaOHUufPn0KLNOiAgDesGEDq1evZsWKFVborv+FvvnmG1QqFcHGl5SYDB0CQfMAV2ZW8ycs8QGJWXpiv1uMT416PDVzBcVqPEVWcgLSYCAl4nfunD5CuZcGm3vUf1UJCQlERETYBeu2BZY2NuTPAxWAUoCnRqN5pbB5ESqV3UeBtoToZPS/eEUIkZd7KoQQvYUQ54UQ54QQoYXNb156Ihd2SCmvCiGOYds1ii39DLwihFhpIncYZYYN57jOfSHEeiBdSpmV4/RNIERKOQhYptFoRrds2dKKYVQQWHTkyJFMnjyZMmXKcOfOHTMQ9tNPP8Xd3Z3mzZtjy97fAQCOjIxk0qRJnFimjMCawLu/J2fwtLFhKwjeC5CV+Cf3zp/Gs3wVMuNv5nysf5t8nVXcyX74Y1sYEHNkZCRxcXGkpaXh4uKCSqWibt261KlThx49etCjhwJF7t69u3lexzL9hg0b2LhxIzdu3ODpp5+2+tE3QWRDQkLo16+fVT4s4xQFALAFEokNGzawdetW4uLiaNy4MQkWdUyv1xGY49ma9MOG9WRmZjKgXx+q1ahplS4zM9M8HJuzTPJ6FvAQTv3111/DtUsAHLubxUshpdDeScLHWUVlDydiH+gIupvExblK46JydSegSWv0GekA3NiympT7Wm4GVgcUGr09dSQrK8vMSYyPj+f777+nY8eOVi8j9oKlVSoVLi4uJpB0TFRUVCKARqP5AXgG+D7Ph2pDj2thh7FDsBhlOuYGcFwIsd2SUiSEqAKMBppJKe8Ko6PiR9WT2hMDZY7qE4xzXsYhxHQhRK6BZwvNQoH1bhTCboaOwXjk1HGgikajqWB0M963sNDfoUOH8tRTTwEKMTwuLo6ZM2eSmprKgwcP/nEA8Ntvv60Mn1jAe5NPHeL35Ac0NjZiBcF7TXF8NLXJuBFr5yN+PKrg4UR8tp7ELL0ZAGxvmSxfvpxdu3YRFBREly5deO2117h9+zYtW7bkzh3Fh9Xt27fJzMw0D7lZpu/cuTNOTk58+umnvPjii+byOHv2LBkZGeh0OkaMeIjeLKoAYCEEN2/eRKfT0bt3b+bOnYunpyft27dnz+6dSCm5dPEiQqWymvuyVM/efXBzc2NF6HoFAGxMd+5sBE5OTrkaMXvh1E5OTgpcOqgkQR4uVGzZnjsnwsnSS65m6CjhqrYCAIe88Crxv+5SLiJUOHn5UMHDibi4OG7dukVmZqZddaRJkybExcVx6dIlhg8fjoeHB3369LG7XlnCjgcMGECfPn1Mw/9PazQaD41GI1Dm720Bxm3r8bliaQxckVJelVJmA+tQeoqWehNYLKW8CyClLHg82Q79q9mJ9koIkS6l9BJClAd2SilrGcM3AE8DE6SUK4UQ76JgrPpIKVONCzJ6GgHD+1G4jCeBUCAb6A+0Aj7KqydmvMYklJ5YLncvGo3mOeBzlJVF3544cWKaJVg0KyuLCRMmEBUVZYaClilThuXLl7Ny5UrKli1rtrVo0SIOHz7MpEmTcHJyolixYgQEBBAcHMwLL7yQrz0pJa1ateLBA4WS4evry9KlS3MBgM+fP28FWf34448RQtCjRw+0Wi3FihWjQYMGvDNwAMVcnIk/sId9a77F7blXqHf/JndPHyGgUYtc4F2p0+JducZDeK9QcWvnOmswsOVzs4AIa+/dyQ0RLkD5pY9IzWbdzXQMQK+BbzFw4EDsKROTwsPDmTBhAkII+vXrx8CBA+nSpQtSSooVK8bQoUPZvn17vmUqpSQhIQEPDw9cXFy4du2aeY7s2rVrjBw5kh49etgsD61Wy9ChQ4mIiACgc+fOTJgwgbfeeouIiAgqVKhgBgD7+PiYAcA585Genk5iYqIZAHzw4ME8AcA572XXrl2sWrXKPG/05ptv0qpVK6bPms2enTvIzs5GSggIDOCNwW+zecM6VoSuB+DLLz7n57AfSUpMJDAoiC7de3DvXgoH9+/n7p1k1Go17u7uBAQE4OTkVKi6CdC+alneHPEJUqVmx5bNLPlqCf3fHYr6+iXKXzlOQJPWyopEKbl34QzR38xF6rQIZxfqzVRcEh69FMNnn32GCdZtTx2JjY1l4sSJpKam4u/vT0BAAElJSQwfPpwuXboUWK8Ali5dioeHh3mouWHDhlOAPoAOOA0MioqKyjnik68uL51hdwNQ9e3RbwGDLYKWSSmXAQghegGdjCNLCCFeBZpIKc1j1kKIrcAloBnKb94kKeUeHlFPeiNWF6Xw3zA2YgIYieKXR2s85kopvzc1YlLKE8aVjTuBM8AuHsKGTZpmmjfLrxHLqf8KAPjskBce2UZRwE7V/eaRv18OWegBtucC7ZU7f30uCh4PnLqo1IvHAQC+smym3b85lQd/YvN6djZiO1F+U3ujOPQ8ANSWUqbkYdJuPRFzYlJKL+PfWBSvzabwM1gMqUqlRZ9FHoswpJStLf7PRnGtYpIt2LAJBuyQQw459F/WTSDE4nMZY5ilbgDHpJRaIEYIcQmogjK18pf1JM+JOeSQQw492Xp8+8SOA1WMIAgXlI3XObchbcXoxFMIEQhUBfJbDW6XnoiemEMOOeSQQ7n1uCj2UkqdEGIoEIZxjl9KeU4IMQU4YdxXGwZ0EEKcB/TASCll8qNe29GIOeSQQw459MiSUu5GcUxsGTbB4n8JfGg8HpscjZhDDjnk0BMqoXr0xTb/azkasf+hHBT7J4Niv2bNGjNRvmLFihgMBi5duvSPU+xTUlL45JNPOH/+PJ07dyYtLS3fuvVfpthnScHmTRtZ9+1yAG5k6plQ1ZcqIaWfKIr9f0FFamGHEKKEEGKdECJaCHFSCLFbCFFVCFFTCPGLEWlyWQgx3rgcHiFEfyHEojxsxQohzhqP80KIaUIIN+O58kKIBzlQUa8JIY4Z/78uhEi0OFfeaC/QmL6BECJGCFHPeP3EHLZqCIWEX9siPyOFEEtNnx0U+yeDYn/ixAnWr1/P6tWr2bBhA3Fxcdy7d+9/QrF3dXXlnXfeYfjw4cTExORbt/7rFPvzH73CS893Y+az9RhU1ptAFxVl3Z2ePIq9Sth/FFEVmUbM2ChtAfZLKStJKRugIEqKo6xymSGl1AB1UfAq79phto2UsjbKbvKKwFKLc9E5yPOrpZRNjPT6CcB6i3OxFvmsA2xC2RB92hi8Poet88D7wJdCUWkUqr0lT8xBsX8CKPZHjhxBr9eTlZWFTqcjPj7eTJP4pyn27u7uPPXUU7i6unLr1q1869Z/nmKv15F4eB8BjVpwLCWLxr6uAE8cxV4IYfdRVFVkGjGgDaCVUi4xBRj3cVUFDkkp9xrDMoChWDcI+UpKmY7SiPQQQvg/Qh6roywTfVVK+XsB19yDQpd+DZiPsjv9rkUUB8X+CaDYZ2Rk8Morr9C1a1c6deqETqejbdu2udJb6p+g2D948CDfuvVfp9gDZCUn4OIfxHGLRsxBsf/3qSg1YrVQkE45VTNnuNGliZdQyPN2ychGjEHZXAdQKccQoD2/mtuAoVLK8BzhfXLYcjeGvw98CgRJKb8jDwkHxf4/TbHPzs7mt99+Y/v27ezZsweDwcAvv/xi084/QbG3R/91ir1JqVo9LipBGXel3J44ir3aye6jqKro5uzvkWWfONo4dFgY/QwMEkKESSkta/F6S7yKSVLKW0KIX1AQVTnloNg/ARR7Dw8PSpUqZX4TL1myJKdOneKll176n1DsTXJ3d8+3bv3XKfYArgHBRNz8kybGXhhA9hNGsS/KHpvtVVHqiZ0DGuQRfj5nuFBI8+km55X2SAjhDZRHAVD+VZkaqi/zjWUtB8X+CafYR0ZGkpmZaZ4vMlHt/2mKvaVKlSr1RFPshdqJwGfaErr7Z/NQIvDkUez/AyoyAGDjwo6jwDcWZOQ6KFzCVcBgKeXPxqG6jUCYlHKhEKI/0DBnT0gIEWsMTxIKjf4rwCClfD0nCDiPvOSyabIHpKPsPP9NSjnB1vUt0q00XiunI00Hxf4Jodi/+eab3LhxA29vbypXroxWq+Xy5cv/OMV+yZIlbN682TzcKKXE19eXgICAJ45ij0rNubBtjP98MUvHfkR69EXunAx/4ij219YutbsBKPfSW0Wy21ZkGjEAIUQplB/1BkAmEIsyr+QGLARKovzgfwdMkVJKYyOyCLAkIT8NhANpKEOIKpSVj1OllJnGRuwCEGWR5lsp5QJjPvpjoxEzNorFgN+Ar4H7wGysYZfvSikPG9OtxEYjllMOiv1DOSj2/z05KPaPV4+DYn9t3TL7G7G+g4tkI1agozNkAAAgAElEQVSk5sSklLdQMP15qbWNNCuBlXmcKp/PdWIB93zO57IppSxv8f89wHI+La/rm+L2t3XOIYcccsihR1ORasQcenQ5Z/z1/VMA99x9HzkPtRdveWQbRUH/pbf2oqBH7UU9DjnKw1pFedWhvSpKCzsccsghhxxyqFD69zfDDjnkkEMO/TUVYZyUvXI0Yg455JBDT6iKMk7KXjkasX9YOcn1UVFRMyzP50ezXrFiBdu2bUOlUjFy5EiaNm0KQFpaGlOnTiUyMpK7d+7g5+dL3xd6MPCVfoRu/oH1W5Q0VStVJPZ6HJevXmXmxPG0b63spbl4+Qqfzvuc9Pv3kWongoKDuRkXh6ubG6MnTkZTrXqu+/j6y0Xs2bWL9LRUpsyYxYK5czAY9NRv1JhL589x5coVPv30U9q1a2cXobtnz554eHjg5eVFq1atOH78ocfymzdvMnDgQC5cuGC3jR49euDq6sqWLcr8XI8ePejVq1ehSeF7Ex9wMDkTBJRxU/NGiDfOKmFFwl89uI+ZfN/C343nilvTFewpUxNj0ESMf/HFF5k6dSrR0dEIIRg9ejSbNm3iwoUL6HQ61Go1rq6uNGvWDB8fH7Zt24YQgooVKxIdHY2bmxslS5YkMjISPz8/K2rHnj17mDp1Knq9Hh8fHzw9PZFS0qlTJyIiIvjzzz8pWbIkM2bMwM3NzZx3FxcXYmNjzRT5FStWsHr1ajIzM/H396d169Z89NFHHDlyhDlz5qDX6wkICODOnTvm/ERHR+Pl5QXAxIkT0Wg0fP/993z55ZdIKfHy8uK1115jy5Yt3L+vPNO7d++yatUqatSoASjA6g8++ICsrCxUKhUffvghL774os3vyJYtW5g1axYAxYoV48GDB7z11lv069ePn3/+maVLlxITE0NwcDBBQUG5aPymLQ9OTk74+fkxZswY5syZg1arRa/X07ZtW9566y2bJP2ff/6Zzz//nNu3bxMcHEzv3r3p37+/XV4FLON07dqVTz55CMbWaDQvAWNQKPa3gFeioqKsoadPgJ6YOTEhRLrxb3khhBRCDLM4t8hIo19sxEadz0G57yWEWCmE6GWM7y+EOC2EGJAPEX+NEOIdi2s0EUJESCmtyPUajaaGZT5t0ayvXr3K3r172bBhAwsXLmTGjBlm9M2cOXN4+umncXZ2ZuOK5az7eil79v3C1t0/sj/8MBu//Zotq1fwWp/eTB3zCZ3btbV6Nm5urkwbM4otq1fQ77X+nD5xgqWrvmfkmHHMm5E30f6ZFi1Zumo1Ukrmz5rJ7C8WsnrDZs6cPsWgQYPo2LFjgfdk0ty5c1Gr1fTo0YONGzfy+++/m2np3333HW5ubmRnZxfKxvbt2830+NDQUMLDw1m5cmWhSOF3tXr2JT1gfFVfpmr8MEg4lqJswzGR8PV6vRX5/lhKFrcydVZ2CyrTtWvXolarEUKwbt06wsLCmDhxIs888wybN29m7dq1nD9/Hm9vb8aNG4enpyfVqlVjw4YNtGzZ0lwv+vfvz9GjR9m0aRNjx44lLi4u1z0CTJs2jffff5/w8HBSU1MpV64cGzduZPPmzVSuXJktW7bQuHFjVq5cac775s2bAczkkatXr7Jt2zbKlSvHhg0bcHJy4ty5cxw/fpyZM2eyYMECPvzwQ65cucLcuXMZO3YsZ8+e5b333jNT8DUaDaA0qkuWLOHw4cOEhISwcOFCFixYwMKFC/H29s7lFujChQu0b9+eI0eO8MEHHzBnzhx0Ol2e3xETfmvjxo0cOHAAX19fnJycaNOmDaAAtNu2bUtgYCBz5szJk8Y/ZMgQqlSpgl6vZ9SoUcydO5clS5awdu1aQkNDOXz4MGfPnrVJ0i9fvjxSSmrWrMmMGTPM5Ht7vApYxrGUTqcD5WW4TVRUVB0ggocwBvslVPYfRVRFN2d/rxKA4UIIF8tAKeUQI4rqOawp9+Y9XsY9YmHAMinlCmNwLiI+ivfSkUKIICGEClgUGBi4WAhhRa5H4Z+ZZYtm/dtvv9GhQwdcXFwoXbo0ISEhnDt3jvT0dE6fPk2lSpUICQmhQrmyBPj70ants3y3YRNvvPySGTJas5qGqpUqocpRIcuHhFAuRNlYGfHHafwCAriXkkLN2nVIT0vLlzZuMBgoHVKGUmXK4OzsTKfnuhIbG4vKwu15QYRuV1dX/P39KVasGM7OzlZk8OPHj1O6dGn++OOPQtmoXr063t7eZqJ6/fr12bNnT6FJ4XoJ2QaJXkqyDRJfZ+W+TCT8yKhLVuT7xr6unL6XbWWjoDK9fPky5cuXp0KFCly6dInWrVtz+vRpnn9eqRrOzs4cO3aMrl27smnTJoYPH86JEyeQUvLHH3+Y60VkZCQhISGcP3+e2rVrYzAYTD92ZiUlJZGVlUWvXr04f/48ZcqU4cyZMzg7O2MwGMx1pWvXruzfv9+c9/Xr19OzZ09SU1PNeW/SpAk6nY6goCBKly5NWload+7cISQkhDJlyhAeHk6zZs04cOAAtWvXRqvV5kmgf/DgAXXq1EEIQYUKFRBCUKZMGapWrUrXrl1zAZIPHz5Mt27dAGjcuLGZtJ/Xd2Tnzp3m/Jjqhbu7OyVLlgSgQoUKREZG4u/vn6t8THXnt99+o1WrVqhUKmrVqkVaWhoZGRmA0pjodDru3btnk6SfkZFBhQoVcHV1xcnJyVy/7fEqYBknDwkUZqIAfHBQ7J8oJQL7gNcLmc4L+BEIlVJ+lV9EKWU8CmV6FgpBP8Lf3z+ZHOR6FJq9WbZo1jlJ3SZ69s2bN/H19WXx4sUKtWDmHDIePCA4KJCk5GRORZzl5bfe5Y1h7xN5oWDAcOzVaABKG2kBQcHBJCXk7fvJnJfiDynjQcULR35ftWoVzzzzjHmIyfLeAMLCwujYsWOhbVSpUoW4uDhSUlLIzMzk0KFDpKSkFIoU7uespmOQOx9fuMOH5+7grlZRy9vqvYfEpCQr8r2fs4oUrTVlrKAyNf013bdarcbJyclMjJ86daqZq3f9+nUzimrgwIFcvHjRbDsxMdHKA0Hx4sVJTk7OlRdPT09+++03EhISEEJw/77CrszMzDT/bxoGNA2j7d+/n969e+Ps7ExGRgYJCQnUrVuXhg0b0qlTJ06dOkXFihVxcnKyyk9ISIg5P25ubnzzzTf07duXuXPnkp2dbb73X3/9lRdffJEff/zRCitloufnvIeUlBR69+7Nyy+/jJ+fH/fv38/zO3Lt2jWrsLi4OHMDZmnP1HjnReMPCwtj4cKFjB492nx/t2/fpl+/frRv354mTZrg7+9vk6Rv67trqYK8CuSUETT9DoozzFsoIzvf2ExgSyqV/UcRVdHN2d+vmcBHQojCYATmAeFSyvk5wm0R8ZegVK6RwMd5GXzw4EFNIcQJIcSJFStW5BUlX+n1eqKiomjatClt2rTB3c2Nb9esBcBgkNxLTeX7JYv54J23GDlxirnnkZcSk5K5HHWJV/u/YdWT+rtkInSbfkBySqvVcuDAgVxefO2xERQURLVq1Rg6dCjDhg2jatWqNt8mbZHC7+sM/JGazczq/syt6U+WQXLk7t/vOFdKSUpKCr169SI0NBR3d3czQNb01h8cHMybb77JkSNH8i3TvFShQgU2btzIggUL0Ov1eZa15dv30qVLGTZsWK54ycnJxMTEsHv3bjp06EB0dDSxsbE2rxsSEsKsWbNYvXo1qamprFq1ynyuTZs2bN68mU6dOpGenl7gPWg0GjMlPy0tjaysgmlLWq2WqKioQnl2qFWrFvXr12fcuHGsWLHCfB2VSkVoaCi7d+/m3LlzxMXFFWDp8crYw34HqIdCsY9A8b9YKAmhsvsoqnpiF3ZIKa8KIY4B/QqR7BfgeSHEHCml5atUnkR8KaVBKN6cG0opkzUazU0gxCJKGXd3971Sys9AwU6dPHkyT5p1TlK3iZ5tOho0aMDJkyd56+W+fLtmLe5ubvgW86FtyxYIIahdozoqleBuHm93637YysbtO4i7cZNadZ/C06JHk5iQQGBw3qBWc17iH1LGE+MTzG/AJhVE6M7OziYlJYUVK1bg4uJCRkYGwcHBHDp0iGrVqpkZkIW10aRJEwYMGADA4sWL8fPzKxQpPC1dS6CLCm8n5QvcoJgLV+7raPrQNRRBgYFW5Pu7WoN5yLGg+zeFN2jQwFy2wcHBXLx4ES8vL2rVUtCebdu2Zc+ePWYbrVq1IiwszEy7/+KLL1izZg01atQgMjLSTFWPj4830c6t8pKamsqKFSuIiIhg0qRJ5h6sm5sbnp6egDLM5+fnR3BwMFFRUYwZMwYpJRkZGSxcuJCmTZvy+++/m0n9d+7coV69ehw9epRLly5x4cIFM5S6atWqANy5c4fixYvj4uJCt27d+P7773nhhRes6nWJEiXQ6/WkpKTg6+tLQkICzs7ONp9nSEgIUkrFX1ke35FatWqZXd8cOnSIgIAAK+aoyZ4Jymwqn7CwMLZt2wYocG2VSoWHhwfR0dFWXh68vb1p2LAhMTEx+XoVyOu7a6n8vArkpaioKNPfaACNRrOBQvhY/C+p6Dav/4ymA59g7aIlP61D6V3tNlLx7ZElxT4XuR7Fa7VZtmjWpgn87Oxsbt68SVxcHDVr1iQwMJDixYvj6elJXFwcP+3/jXIhZdiz7xc6tX2W46cVL8qxcXFotTr88vhivNitC/6+vrw3eBC9+71M2K6H1HBPLy+btHFQ3khvXI/jlpF2vu+nsEKR33fs2MGuXbvw8PCgZ8+e9OzZ00wGNw0l/lUbdevWBZRVh7/88gvdu3cvFCk8wFnF1fs6sgwSKSUX0rWUcrXuuNfUVLUi3/+eksVTxax7hQWVaeXKlYmJiSEmJoaqVaty6NAhSpUqZe7V/P7771StWpWdO3fSqlUrNm3aRKNGjbh+/Tqenp4EBASwcuVKateuTVxcHDVq1ODs2bN4eXmZ53pMCgwMxM3NjbNnz6LRaLhx4wbNmzdHq9WiUqnMPQ3TtVq2bEnLli3ZsWMHw4YNo2TJkowaNYr+/fsTExPDiRMnuH79OtevX+fmzZvm4b3Zs2fTvHlzDh06RIsWLTh79ixubm4EBgaa568qVapEYGAgzs7OREREmL2MSylJT09Hq9Wyd+/eXD/mderUYceOHQBs3rwZlUpF6dKl8/yOdOnSxUz0//HHH9FqtXnWz5yeBfr06cPs2bNZvXo1rVu35ocffiAmJoaUlBTc3d3Nc1SZmZkcO3aMmjVr2iTpmxpzk3fvvMj3trwK2JKxEayh0WhMX872/BWKvRD2H0VURQoA/HdKCJEupfTKSbAXQmxAAQZPMDITyYtybwnyFULMBOoDXVC68nYT8XOS66Oioj7VaDRTgBMnTpzYlh/N+ptvvmH79u2o1WpGjBhBs2bNAOWtbNq0aaSkpJBy9y5+vr707Poc/V/qQ99Bb5N+/z6+xXzo2fU5ln8fSmpaOq4uLgT4+7Fl9Qp27v2JiZ/NolKF8uhQkZSYgIurK17ePoyeMIlqxqXNb/Try7eh6wD4asHn/By2h6TERLx9fECCl7c3jZo8zZHwAyQnJ+Pq6kqJEiX47rvvCiR0jx07lmPHjuHp6Un37t3p168f7dq1Y8KECXTs2NEuyndOG0eOHCE2NhZ3d3fGjx9P3bp1C0UKPzOwE1tv3+d4SjYqAWXdnehfxgtnlbAi4f/y4y4+nTYNbUY6zf3d6Frcg62371Pe3YnXN/2ab95NZWpyU+/i4kL37t1p3rw5w4cPx9nZmapVqzJ69Ghmz57NxYsXSU9Px8fHBw8PD95//30iIiLYvn07KpWKcuXKERMTY24wrly5QkpKCkIIRo0aRY8ePZg/fz4bNmxASknx4sVRqVQYDAY6dOhAZGQkUVFRFC9enCVLluDm5maV9+LFi9OxY0fatWvH8uXL+e6778jKyiIgIIC2bdvy4YcfEh4ezrx589DpdPj5+ZGSkoKbmxsuLi5men5iYqL5xWPmzJls3boVUHo2r7zyClu3biU9PZ2srCyys7NRq9WULVuW0NBQtm7dyvz5883hH3zwgXmJfV7fkfDwcObMmcOtW7cYMGAA77zzjpk6bzAYmDVrFklJSQghcHd3Z82aNVY0frVaTWJiImq1Gl9fXwYMGMDq1asxGAxcv36dAQMG8Oabb9ok6f/6669MmzaNe/fumRvcLVu22OVVAKBbt27cv38frVaLt7c3ixYtomLFijRs2PAdYDigBa4B/aOioqwnQQvQrR832t0AlOr8f0WyJXM0YkLURXFj8Ia9jZjx8wrAA2Uc+hyFIOLb0uOg2BcFdqKH+N968X1ccrATHSrKehwU+8fZiAkhrPbASiln2Ij3IrAJaCSlPFGI7OapJ2ZOTErpZfwbC9SyCD9DjmHVnHGMYf1zfB5g8bFQRHyHHHLIoaIg8ZgWcBkXyC1GGda8ARwXQmyXUp7PEc8bpfd47LFcmCeoEfs3qCi8+Xvk6YT6ydTj6EU9jjJt8MW6R0qfnZxQcKQCJJzzXkFaKBulyj+6jcRCb4WykgwqVXCkAuSSdf+RbejSH23EBABve6fl89Hjm+tqDFyRUl5VzArTHtjzOeJNRVkZPvJxXfhJX9jhkEMOOeSQHRJCDDZtBzIegy1Ol6aAPbBCiPpAiJRy1+PMl6Mn5pBDDjn0hKow+7+klMuAZX/tOkKFss+2/19Jn58cjdi/RJbA2dMfvZpnnLOp2Uzu2RODwUCPHj3o37+/1XlbINq9e/cyefJksrOzqVWrFjk3XdtKlxec9PDhw8yZM8e8YdXf35+goCCmTp2Kr6+vTVvffvsty5cvx2Aw4Ofnx5QpU2jUqFGBeTh69CiLFi1Cq9WaV7K5uLjQpUsXIiMjuXHjBmq1mhYtWvDWW2/lshEbG8u0adO4e/cu3t7eBAcHM3z4cBo1akRmZiYjR47kzJkzZGdn4+vry7fffms3kDk6Oprs23fpH+JFZU9lr9O+xAf8kpyJCvjss+nUb96qwDKd8mp/DHoDL3TpzBsvv2R1/uSZCGYv+pLL0VeZMWEc7VsrS7dv3Y7nw/ETlQ3v91LQarV4uLvzfNs2vN6zu5WNNdt3sX3fftQqFb7FfBj/7mBKGvcGPv1/L1OpbFnuP3jA3Xv3CPD14/kObenf6wVrG1t3sO2nfWYbE94bQomgQOZ+/S1b9+5Dq9VSp25dli9fnusebYFzly5dytatW828xjZt2rBn506ytdkkJN+hUjllv1ftahrGDHuXU2cjmbN0OVdiYnn9/15kX/hh9AY9PTp1IC0tnfDjJ5BqJwYNGkTr1q0LDdoGBS7Qu/9AgoOCWDR7BuFHjzFy/CSysrPx8fam5TNPM/7jj3BWiBqc+OMMs75YyOXoq8ycPIEObVoTfvQYM+d/gV5v4IXO7RnQ5/+sy/RsJHOXfM3lq7F8NuZj2rVoZj73+fIVhB87jkFKYuNuLACGR0VF/fUFYY9vODHXHlhjmEneKOsM9hu3DpQAtgshuj/q4g67mmEhxFghxDkhRISRSNFECLFfCBFlQanYJIRoJYQ4kiOtkxAiXghRygjRjbFIc9gYp78QItEYdlEI8YFF+klCiI/ygfOOFEKst4jvI4SIFkJUFEJUFULsFkJcFkKcEkJsEEIUN8ZrLoT43Xi9i5ZdY+M1bxrtXxZC/CCEqGFxPte95/HMAoQQvwoh0oUQiwpTKHnJBJy1JYOUrLmZzoIFC9i4caMZMmqpvEC0er2eRYsWMWnSJD766COuX79uVzrIDSfV6/XMnDmT+fPnYzAY8PX1Zfr06VSuXJn169fnm4dNmzaxZMkSDh48iLu7O2PGjLErD76+vsyfP5/Q0FCys7PR6XRs3LiRn3/+mbZt27J582bWrFnDmTNnmDdvnpWNBQsWMHPmTEaNGsXmzZsJCAhg0KBBTJgwwXzdcuXK0alTJw4ePIinpycTJ04ECgYym+C9k6r6UspN2Vt2MT2b06nZTKrqy9RqfsjDYXaV6eKZ0/lh1Tfs+eVXomOvWcUpERzMlFEf07nds1bhQQH+rF68gLXLvkStUqFWq1k0cQxh4Ye5GnfDKq6mQnlWzZpG6PyZPPt0YxZ+t9Z8ztXFhdWzPkUIQeiCeWxYPJ+9B8K5et2aUKGpWIHV82ayduE82j7TlAUrv+PwydNcv/Unc8d9wtDXX+HKlSt53qctcC5Av379zCDonTt3smDqRBZPn4JapeLTj0ewdvEXjBn2rvFZBDF5xHA6tm7J1rCfWDB1IpuWLuaH3Xs4FXmO0MVfsGrVKr7//ns2bNhQaNA2wNq1a6lQvhyg1Pfpcz/n4/eGcvSnHwn09ycp+Q4/7Nhpjl+yeDDTxo6mc/u2VmkWTpvE5q8Xs+fXA1y9dt3qeZQMCmLSiPfp1KaVVfiZcxc4c+4C65csZOPSRQCNAOtIhdXj2yd2HKgihKggFCat1R5YKeU9KWWglLK8lLI8cBR45AYM7GjEhBBNga5AfSllHaAdD8c+X7aA3vYCDgJlhBDlLEy0A85JKU0zsiMt0jxjEW+9kXrRDBgrhLBs1W3CeVH4hCFCCBObaArwLQpPbBfwlZSyipSyPvAlECSEKAGEAm9LKasBzYG3hBBdLC4533iNKsB64BchhOWu35z3nlOZwHjgI5sPtxAyAWdt6WqGjmAXtRl0agnRNSkvEG1kZCRly5alffv2eHh4EBISYle6vOCk586dIyQkhNKllaHw5s2bs3//fu7fv2+mF9jKQ8WKFalTpw7Ozs507dqVjIwM896p/PJQrVo1goKCOHfuHBUrVjTDYDt16mTmBjo7O1OtWjVOnTplZePIkSOEhITQsmVLSpUqRYcOHbh69aq5R+fm5kZsbCxdu3bF2dmZJk2acPHiRbuAzCZ4r5NK4KFWvma/JmXyXLA7zkZHhPrLEfaVaalSODs70/HZ1uw/dMgqTumSJahaqWKuYSFnZ2cFCnwxipLBQahUKpydnOjQvCkHjp+0ituwdk3cjGVYu2oVEpLvWJ0/d+UKISVLUKZEcZydnWnfohm/HTtubaNOrYc2NFVISErmt2PH6dKmNU2eqkuNKpXQ6/UkJVl7CklKSrIJzrXKg7FulSlZAmcnJ7w8Pdh/1HqBW6nixalSoQL3UtMI8PNV4jo7Uz6kDO5ubjip1bi7u1O5cmV27dpVKNA2KBSOQ4cO0bObki7ywgXKlinNC9264OLiQqd2zyKEIN6CNVq6ZEmqVn4I3TalMeWtY+uW7D+S4z5KFKdqxQqocjqsFIKs7Gy0Oh3ZCk/SGYjnESRUaruP/CSl1KFQ9MNQNl1vkFKeE0JMEUJ0zzfxI8qenlhJIElKmQUgpUyyaJCsJKU0ABtQWmGT+gJr84pvw0YycMV4XXviSxTA7udCiIZAW2A2Ck7qiJRyh0Xc/VLKSGAIsFJKecp0TyhswzyxLVLK9cBeCoGoklLel1KGozRmf7tStAYrEG1ekNG8QLQ5AakeHh52A3xzyhTPycmJUaNGsW7dOr755htiYmLMP+r25CEpKYlixYpZ8RALykNCQgI6nY5q1arh4uJidf9paWkcPHgQnU5nZcPV1dU8VGV6ZqdPnzbbsLxuWloahw4dwsfHxy4gswneuzIujSy9MtoTn6Xn0n0t0y6nMPNKCjEZ1mDbnMpZpsWDgkhItH8v6+2EBD6ZPI3T5y/yWo9uBPn7EezvT2KORspS2/f9StP6dc2fs7O1TPjiS6KiY9h/9HclH4EB+drY9tMvPNOgHonJyRQPeoi9cnFxybdugTU4F2DDhg307duXxYsXW9FH0tLvs+aHrbw5cjSnI89Z2XyQlYWvBUS4crnyRF+7xoPMLFJSUjh58qQZgQX2gbZBcffz3nvvoTL2SuITkyhugY8KDAjg7PkLNGvS2OazyZkmODCAhCT7yrRujWo0qlubDi+9TseXXgcIi4qKKjyl42+SlHK3lLKqlLKSlPJTY9gEKeX2POK2fhy9MLCvEduL0tO5JIT4Ughh2X1dYzGkNtsYthZjIyaEcEXpOW22SDPbIs2anBcTQpQF3FCAlnZJShmB8gawDxgmpcxGGX89aSNJzTzOnTCG29IpwNKxUV73XmhZrvjZfvV2wQn+BdLpdGzevJl33nmH7t27U7ly5VzzbLYUHR3NTz/9RMOGDQt1zfj4eM6fP59rGFKn0zF27Fj69OljIn/bVEJCAhEREbls6PV6u22YgMwmeK+LSrA7QXHboQfu6yRjKxfj/0p5suRaWqHhvYVRieBgRrz7Nu2eeZpd+w+QnGKbig7w42/hXIiO4dXnu5rDti1ZwLBXX6JBnVrMW76CG3/mX0d3/3qAC1eiebXn8/nGs0e9evVi69athIaG4uPjQ2RkJACBfv6MeGsQHVq14MPBAxk7cy7p9zNs2qlcoRwlg4N5Y8THjBkzhtq1axc6LwcPHsTf35/q1XM7iDVp++4fCQ4MpMFTdW3GeRRdv3mLmLgb7Fmzgj2hKwGe1Wg0LQpIlq/Ek+CKRUqZDjQABqO4MFlvpFCA9ZDaSGP8E4CXEEKD4vzxmJTS8rXNcjjxZYvwPkKICJRe2JdSysL2YBYDN6WU+wuZzl7lLMVc9/5XJKVcJqVsKKVs2L1iiYIT2JCvs8oKRJsXZNQSRGqCjJYrV84KTmqC7xaULi84qSmeCU6q0+kIDg6mffv2REREFJiH+Ph4Ro4cSZs2bahQoYLdeYiPjyc0NJQKFSqYUT2m+//0008JCQmhX79+uWxkZWWZ6fDx8fF8//33dOzY0QpFFRwczMyZMwkJCaF37952A5lN8N6GxVy59kDx6eXvrKKBrwtCCCp6OCOADL3tRixnmcYnJhIcFGAzfl4KDgrkXloalcqG8MeFiyTcuUNQgH+ueL+fOcuKzVuZM3oELhbA3eAAf4L8/Ui/f5/6tWoSdTWG+KTkPM894/8AACAASURBVG0c+yOCL1asIiMzk/4fjSbA3494i55jdnZ2vnULrMG5AQEBqNVqVCoVnTt3NvfQXFycSbt/n6CAAKpXqUyZkiW4fvPhGgJ3V1dSLPyWxScl0appE9Yu/sLsQTowMDDP+mSrXM+cOcOBAwfo1q0bH0+cwu8nT/HD9p3EG3tpX327kjspKXRs2ybf8igeFGhOA5CQlExwoH1l+uvho9SupsHD3R0Pd3dQ3EI1LSBZ/lIJ+48iKrsWdkgp9cahuIko454vFpDE1BsrzFDieuOc2zPADOO8VWFkCdoFBQXVwEbc83mca2BMY0v1+CuAzX9IFTyciM/Wc9MI4s0LMpoXiLZmzZpmQKperycuLs5ugG9OmUCnBoOB6OhofvzxR1q2bMmxY8fMjZKtPFy7do0hQ4bw9ttvc/bsWbvzkJaWxvvvv8/7779PSkqK1f3funWL9PR0RowYkaeNJk2aEBcXx6VLlxg+fDgeHh706dMn133FxMQwYsSIQgGZTfDeC+nZlHJTem/1fFy4mK4MId7O0qOT4KG2/eNgLtM//0Sr1RL2y35aPfOMzfiWik9IJDMri5oaDddu/cmJs+coHRzE3vAjtGhoXfWjrsby2dJvmDNqBP4WLyep6elka7XUqFyJ2Bs3OXU2kpCSJfjp4CFaNmlkbSP6Kp99uZSvZ0xj/aL5hH4xh9ZNGrPr1/1IKbl6PQ61Wk1gYKBVusDAQJvgXMv5s5vGRurm7dskJCUTtv8grZ5uwo0/b3P91i1Kl3z4c1HMx5vku3e5efu28tz2H6R+LWWQ5fLly1y+fJlu3boVCrQ9dOhQdu/ezY4dO5g1eQKNG9Rn0ewZXLtxg+Wrvyf8yFFUKjVtWjTPt1xqVqvGtRs3LPJ2gFZP2x5+tFSJoCBORkSi0+vRKq5YWvGov0n/Ac/OBbITjT0qg5TysvHzNMAXZbjuo7zGNYUQ1VFWphQDKkgp7xvDV2LBH7SI3x8LvqAQ4gsgQ0o5WggxCUiXUs4xnitPHsDdnOFCCHcUh3HDTZvrhBAtgTtAMgr2pLuU8g8hRACwB5gipdyRxzVfROnp1ZZSJgoh9tu69zyehdW95afw3s1sFoYlcFZ77w7XN3xD/K87reJEpGazRe+LXq+ne/fuDBw40Aw6bdWqlU0QbXh4OCNGjMBgMKBWq/H396dFixY888wz+aaD3HDSN954g9DQULMH38DAQLKysnjzzTd57rnnbNoaP348e/bswcnJCR8fHwICAmjUqBH169fPNw/Lly9n5cqVlC1blvT0dBITEwkMDKRdu3Z89913FCtWDE9PT7y8vOjZsyfHjx+3shEbG8vEiRNJTU3F39+fgIAAkpKSGD58OA0bNqRLly54eHiYKe+DBg0yu3cpCMis1WrxSrjOGyFeeDqp0BkkK+LSuZ6pw0nAV5/Pp2zdBgWXqdYbg8HA85078earL/PltyupoalK62bPEHnxIh+Om0RqejquLs4E+Pvzw8pvOHLiJPO+XKI09KmpZGZn4+HmRrdnW/NGrx4sXbuR6pUr0rJRA4ZM+pTo63EEGOcHSwQGMHf0R0RcvMRnS79BCEH6gwdkZ2Xj7u5G93bP8kbvF1myZh3VK1eiVZNGvDt+MtGx1wnwN9oICmTu2E+YtXQ523/6BZ1ej1qtxs/Pj/Hjx7Nw4UJCQ0MBbIJzx48fz6VLlxBCULJkSdq3b8/ypUtIv5+BlJKgAH+S796lR8cOvPv6K5yLusxHU6eTmp6OSqVCq9USHBhIl7Zt+OlAOHfv3cPH15fPPvuM8uXLFxq0bdKZI+GsWrueRbNncPDwUYaM/ES5t2LFCPD3x9vLk1f79qFNi2ZEXrjA+6PHk5qWhquLC4H+/nw45B1mfv4FBoOB7h3aMahfH75a9T01qlahVdMmnIu6xIgp0x+Cuv182fT1l+j1ej5b9BWnzp5DCEHM9bj5UVFRtpe32qHE8L12j2cHNe9QJLtj9jRiDYCFKA2XDmW4bzAKwLEk8MAYNUlK2c4i3R/ARSllX4uwlfw/e+cdXkXR9uF70jsJ6SEJoSaELkhXmiJNAQVUBF9ERRAQRUEQpEvoSpMu1dBUepcSepEmoQQSCARIL5yTQnJOMt8fe3I4Jz0SP3l987uuvSC7M8/OzszZZ3d25n6UpwfDwfkmKBMmDJ2YF8o3qBrAl/wFJ6bbF4BCjK+GQnr+E8Wpxeoc2hyU9QsC+EHqojXrnNjHKMOntkAoMDaXA6ZzYvmuXTcLp7GUcrwuXSRK2HALIAXokJclZqiinFhJVQ6cfb5Ujp0ysFGOndKrLLBTtn41n9mpxJ/8veROrOUr/51OrFz/fyp3Yv8+lTsxAxvlTkyvcidWdip3Ys+RMqKjnrkxtHbPHkqlXGUns9SUZ7ZxYfg7xScqRs/Dw03auSPPbCO7UdETJ0oih6KXPP3XqCxCsSScPlzie45L83bPpRMrx06Vq1z/cj0PDux50b/FgZWZnuOp8yVVuRMrV7nKVa7/UT3P679KqnInVq5ylatc/6sqo6CY/6TKndhzIn9//46VfbxLTSvfse8AU+d8j5QSezs7Bg4aRM+eT1GOJSHQd+nSBVNTU06ePImVlRXW1tY8efKE7OxsGjRowNdfK1OIC6ONHzx4kKCgIFQqFT4+PgQFBREQ8BRuEhMTQ69evejWrRvnz5/Plx8UsOqyZcvIyMjAzs6OhQsXkpKSoifUm5ubM3z4cOzs7Aosw1+1UbVqVSIjI/XkfysrK7Zs2YKpqSktW7Zk8ODBjBkzhjNnzpCVlUWnTp2YPHkyUDjtfNKkSZw4cQJLS0sszc30bdqyaRO+m/sD6RkZeHl40Lv7Gyxc8VORBHpttpaWmgzauBQcPLyw6AZSSjY8SuOqKguHd95h4sSJRm2Sq8LadN68eYSEhPD48WMyMzPx8vJi8uTJaLVapk2bpj/HwIED8fDwKNDG4sWLCQkJwcTERJnqnxiPEIJXXmxIxMNoHsUnYmFuztf9enM1/C5bj53C1ERgbWnJV3164ufpjjY7m5nrt3Ar6iFabTb27mtJSU7GysqKUd9OpGYB17Ry8SIO7NmDWq1iz9HjnDt9ioVzZ6NWqTA1McHFxQVra2vGjh1L1apVi/2NXLt2DW9vb548eYKVlRVjxozhp59+MoqQMGzYsFLXpYeHR74oEIXZMKxLJycnJk6ciL29Pf7+/u8BX6PMsFYDg8PCwq4Udp/5V0pK+cwbClHnMspU9C2ATZ79udto3f6jQBhwBYV+3MDA1gCU9V1/6ux10+0XwDjgNnALOALUNsgXCfxq8HdPFD5i7t+dUNBS14FLwByDYwOBm7rtHNAqj10Xg7/boEzlByU2Tg5Qz+B4KOCHsg7tMnAfZap+bh345a2/mjVrmtasWTPi1h9n5ON7EbJrp47y6qnjMv3Rff12+8I5efn4UTli6Kdye/B6mf7ovlRH3ZVtW78sr50+Lh/fi5CdX+sgW7RoISMiIqRKpZIqlUquXLlSjh49WqpUKrllyxY5ZMgQqVKpZGxsrDx27Jj86aef5IABA2T//v3l48eP5cmTJ2W3bt2kSqWSjx8/lp988oncsmWLVKlUsnv37vLkyZPy8ePHsn///nLv3r1SpVLJVatWyd69e8u3335brl+/Xvbo0UN/fpVKJQcNGiQHDx4sX3rppQLzHz58WHbt2lW+//778vHjx3Lv3r2yR48e8ty5c/pruXjxomzZsmWhZfgrNpKSkmTdunXlunXrZGJiomzbtq186623ZEJCglSpVDIyMlKuXLlSjhw5Uh47dkx+9dVXsl27dlKlUsnLly/LLl26yISEBHnjxg3Ztm1bmZycLFUqlTx69Kg8c+aMDAwMlIZt2qnDq/LYnp0y/dF9GbxiqRz/9ch8bZr+6L58fC9CpkSGy/RH92VCeJhsXjtA7ujeVB7v1SLfdmX8YHlxVH+Zei/CaP+i1xrLNxvVlsd6NpcnT57M1ya5W2H1eeDAAblr1y7Zv39/OWXKFDl8+HDZo0cPGRcXJ5OSkqRKpZJ37tyRTZs2LdTGo0ePpEqlksnJyfLFF1+Ug/v0lvf3/SqbvNBQfv3Rf2T079vlmfXL5Tuvd5bhOzfJ6N+3y+jft8tf5k6Tfbt3ldG/b5drgybKQe/2ktG/b5ebZk+VderWledDb8gDx07KN3r0kA+SVfm2A8dOyiu378h69evLewnJsnXbtvJc6HUZeuee7NKli7x8+bLcuXOn/M9//lOi38jYsWPlyy+/bPT7OHz4sFSpVDIxMVH27t1b7t27t9R1afgbHDt2bJHtkVuXKpVKLlu2TI4ePVrq7h0tatas6aT7f6eaNWueLc29O/H8MVnSrSx8xd+xldW7ZIZU8Et1gCwUIK/h/txtukGe96SU9VHI8rMAhBDewFidE6kHNOMpQ3EICs2jvpSyJhCEEo/GysBmI8OQKbkSQtQBFgJ9pZSBQGOU9W4IIboCn+jOGaAre3ApiCEPdGU2kpSyqVQo++PREfp1W2QBNpoA4aWllYfeDMPXuxJVKlfG3Nyctq1a8uSJMa2rJAT6R48e0blzZ4QQ1K1bl7S0NBISEsjOzkar1SKEKJI2fvPmTXr27IkQgurVq6NWq/W0haNHj1KpUiU8PDzIysoqMP8vv/yCq6srXbt2RQhBy5YtUavVuLi46BFE1apVIyMjg9TU1DKzcf36dXx8fAgNDcXc3BwrKyuqVKmih/9WrFiRkJAQunXrRoMGDahfvz5xcXHF0s5feOEFYmJiMDc3NyLQRz18RKP69QBo1rgR5y5eKpJAD5ClyaKo6WOFRTe4/DiLFk5W+jY1bJNcFdWmzZo14/jx43Tu3Jl69eohpUStVpOamqrnR2ZmZiKlLNSGnZ0doBDoHRwcsLW2wtzMDHsbGzQ5ClynsocbMYlJZGqewpAzMrPIpbwJ3d/a7GxOXLmGna0dtnZ2BNatS6paTWKeawIIrFsXZx0Z5Ob1a1Ty9sGrkjeOTk766A4ZGRn6N/jifiMRERFUrlzZ6Pfh5+enb6uAgAAiIiJKXZdpaWlGUSCKao/cugSMyh4WFnYqLCwsWXfoDEocr5LLxKTk23Oqv6Nkx4HqpUh/mqdhrN1QXolTQeE2Sinv6o59DQyVUqbrjh0ATgGG/MU5FOBQUAj130kpb+ryZkvdwmad3ZFSIdkjFbL9GhSnWRLtAmrryCZ/VUahvUtKK4+LT8DD1Y2YuDh6DfiY1Rs2UaNGDf1NG0pGoM/IyMDD46nPdnd356uvvtKHZ2nfvn2RtPH4+Ph8+ePi4khPT2fNmjV8/PHHpKWlGf0QDfPfv3+f+/fvs2LFCgYOHMi1a9f0NnJ16NAhfH19853nWWzExcXh4eGht5GWlkZ4eDj/+c9/9DYMr9vExARzc/NiaecAiYmJRrBgd1dX7O3tOHJCiZV18OgxYgxCduRVbpt27N2HTm7WOJmXblpdsiabiuYGBPw8dZF7/UUR5HPbdceOHbRo0UJvIzQ0lN69e/POO+/w/vvvF2lj0aJFfPHFF6SkpPBh19cA8HZ34cZdJYbWjcj7xCalEJ/ymK0hJ3l3fBBLtu5meG8FINzmhXpYW1rw5pgpHDx3kVc7dcZBh8ZydXMnIb7oNXAJcXG4GZQvMjKS1atXs2DBAr766qt89VDQb0StVmNjY1NgXeZGSPD19f1LdVma9li0aBFdunRh7969DBo0iAL0IQpPscQSwqTE2/OqMi2ZEMIMZdjuqm6XtQHp/bIQIj+YDjoC23T/v4ISH+euEGKVEOJ1nV0HwFZKeSdP3rzk+c3AC0KIvE60rIn2hsoBZgLfFJewIAkhBsbExMxQq9XdVq7PB/UvkTzc3Njy03K+GDyQyMhIfRytZ9GoUaPYt28fWVlZnD9/vvgMBWjZsmX06dPH6AZQkLRarZ42/9lnnzFmzBgjuntERAQLFixgwIABf6uN7OxssrKyWL16td5GWapJw4Zs3r6DdwcOJi09HXPzwj9J57bpjp/XcCopk8eanELT/p3atWsXpqamdOrUSb+vTp06bN68mbVr17Jz505ycgov25AhQxgzZgze3t78FqKMLrSoE4hGq+XDaXP59ehJqnt7YSIEPVq3ZMPkMXzSowtr9x4CFCdnYmLCb0Hf8oJ/dQ4f3M+jhw8KPV9xatKkCZ07d2bYsGGsXLnyL9sB4wgJecHGBamguiyNhgwZwu7du+nUqRObN282Oubv798WxYl9XSqjZRcU8x9TWTkxax1m6g+Ub0C5vSPvcOImgzw/CyHuorw5LQLlDQnFqfVE+e71vQ4BVVJlowxNluXdp6DRnLz7goFmQogqBaQt2riUyzw8PPra29tf/LCv8lJZUlq5m6sLMQZPohlPnuDu7s6lS5eepimE/r5582b69OnDkiVLsLKyIibmaYiN2NhY3NzcsLS0pHXr1oSEhOSje2/fvp2rV6/Sp08fXFxcCswfGhrK/Pnzef311zlw4AAPHz7UR3iOjY1FrVbTp08fYmJiqFq1KrGxsdSpUwchBDExMfpzjhw5kkmTJlGnTp18xPNnseHm5kZMTIz+zdXa2lqfN/dfJycnffqcnBw0Gk2RtPNcOTs7o1Ugrfo2rV7VjyWzZ7Bh2WI6tW+Ht1fx9Ag3Fxe8rEy5nVZ07DGAwwkZTAxLZmJYMhXMTUgycHy5bWJkuwCCfG599unTh7S0NC5cuMDUqVOVYI95bFSpUgV7e3s9nDfXhuFIQO55rKysOHZJebZVpaXzWtPGrPxmBGP/8w6PU9PwMiC5t29UnxNXlKHZZdv38mf4XT6ZMQ93Zyc8K3lz64bCvI2Pi8XFtWjn4eLmRlwB7dShQwf9UF1Bv5H9+/fr68HOzo709KehXnLrobAICX+lLgtrj7x1CdCpUycOHTqk/9vf378esALoFhYW9uxPsP9lKutvYg2klLnxvIrTe0BVlKG7Bbk7paJzUsogFAr+W1JKFZAmhKiax0ZB5Pl1wMuAYWToZyHaJwJOBscqAkYD8VKJajqH0j4FPdV5oEZpaeW1/f25ey+KO/fuodFo2HPwMCkpKfrxeiic/t67d2+Cg4MZNGgQlSpVYs+ePUgpOX/+PFZWVri4uKDVajl58iR+fn75aONJSUlMmjSJ4OBg2rRpo88fHh6OnZ0dLi4urFixgp07d7Jz507ee+89XF1dCQwM1NPKP/jgA4KDg/nss8+wtbVlz549REZGkp6ejoODA5aWlnz++ecMHTqUBg0aFEg8fxYbtWrVIioqijp16qDRaMjIyMDUVBm2u3fvHlqtlnbt2unr7/r167i5uRVJO89VjRo10Gg0RgT6BrrwLDk5OSxft55ebzyN22WoXAI9gEqtJjxNg4dl8cOJ7VysmejvxER/JxpWsORU8hOklFy9elXfJoYqqj6HDh3Ko0eP8PDwwNLSUm8jMzNT75yjo6N59OgRDg4OBVLo799XhgwDAwO5c+cOrk6OaLRaDp6/SNPayuj7rpPnqFe9Cslqtb5cp0Nv4u2mlLV5nVq84F+dld+MoEktf27dvIG3b2WuX72KrZ2d/ttXYQqoFcjDqCiiHz0kMiJCH93hxIkT+Pr6AgX/Rt5++22Cg4MJDg4mICCAe/fuGdXl5s2bjSIk/JW6LA3RP7cuQfnOnPsb9/f39wV+A/qFhYXdKraT5NW/4E2sTLBTQohUKaVdKfYfRUeB19HmI4B2gArw0H2XQgjxEdBdStlVCPEZ0AHoJaXMEEK8AixDmaGYoYPtNpZSJgghPkWJ0nxYStlfCFEPpaE7SylvCWWAd6CUcokO2vst0FFKmSiEaIBC4G8qpYwWQsxGIeqPF0KYosy+3CalXGtIqBdCWKA4RHtd3kjdNejTFFWH/v7+nX29K+0uLa18+bqfWbZ2HUhwsLfnk8GDiYuLK5ZcD08J9FlZWQghcHBwwNraGiEEpqam5OTkkJSUpKfLF0YbP3z4MBMmTNA7gVq1arF69WoA+vTpQ3BwMEuXLkWtVnPu3Ll8+TUaDZMmTeLUqVNkZGTg6urK9OnTOXXqFKtXr0ZKSeXKlQH47LPPmDt3bpnZqFKlCvfv3yc7O5uuXbty//59Tp8+ja2tLePGjaNevXqMHz+eo0eVkCLm5uZUqFCBhQsXcuTIkQJp59988w0XLlwgOTkZgdIufXq+iY21NUvXrMPCwpzXO7xK+5dfYsS3RRPopZQ0z4qntbNVvj4DhUc3kFLy88M0QtVZOPhUYcKECQQGBhq1CRROkO/evTtZWVlkZmaSnp6OtbU1Cxcu5O7du6xZs4aHDx/i5+fHxx9/jJubW4E2Ro4cyb179zAxMcHS0pKkmGiEgEYBNbh0KwJVajrebi7MHPohq3Yd5ELYbcxMTbCztuHzt7tTxcuD9CeZTF+3mXsxseTk5GDn5kFyUpJuiv0E/Gsp1/Rx3z4sX69c09IF8zi0fz+JCfE4u7hS74WG3Lp+g+SkRCwsLHB1dUWtVtO3b1/efvvtYn8jqamppKcr5PxKlSrx5Zdf8vnnn+Pn50d0dDSVK1emd+/e1KxZs1R1GRgYyOuvv05sbCyWlpbY29vzxRdfsHz58iLr0tPTkzFjxlCtWjXh7++/AiU01j1dl9CGhYWVOKJsyp/nS+wAHOu9+Fx6sr/biWXz9PsYwD4p5ei8oUyEEF8CgcBkYBXgBTxBmZo+SEoZIZTpOOOBfijDhjEoEz2u6mxE8tSJWQJ3gQNSyv66412BSYANynDgLinlKN2xwcDnuv1q4Esp5THdsQrAYpRvZAIlZMtoKWVOASFkPgPmoYSfidTtM0pTlMrZif8+PQ/sxOcFO/U8sBP/TdipsmAnPg69UOJ7ToU6jf69TqxcZaNyJ/bvU7kTe6pyJ1a2KhMndu1iyZ1Y7ReeSydWTux4jlQWITNMyp3Yc6WyaNNndUJlEQ6mLBzhg6qFfZYuuardKzQcX8lUNd8y0n9EcVuWP7MN+wHPFA9T0XO8/quk+u+/gnKVq1zlKtf/rMrfxMpVrnKV639U5RT7cpWZ/P39O/p6eZKTk0O39m35z5tvGB3/ecdudhw6iqmJCY4VHPj204F4urly+tIVhk+dgbmZGQ46HM/333+vz1cSAHAufBTg1KlTjBs3jrS0NIQQnDlzxqgcBdmLjIxk5syZxMfHk52dTY8ePfT2iirDmTNn9HDezMxMsrKysLCwoHv37pw6dYqEhASsrJRZeXPnzmXevHl/i43Tp08zfvx41Go1pqamjBgxgrfeeguAgQMH6m08efIEExMTtFqtEZz18ePHjBkzhujoaDw9PZk+fToODg6cOnWK2dODeJKZSXxSMtO+/Iz2zZsCMH9tMHuOHkOdlo6NtRU1Klfm2yFKm0opadrzPczNzBBCULtOHZYvzz/8VBRw9tixYwr2ytubt7JzsDE14U66hrVRqYAyg6mbhw1vj55YIEAYnh0i/Pvvv7Ns2TLu3r3L6tWr+fnXbVw5fxaNVoOFhSUWOtxS1N07TF24FM9K3sz/bhKx0Y8wMTHhhWbNeWfAQP15Nq1awZ5fN4GEKt5erJv1nVE5gnftZcehEExNTXFysGfs4I/wdHXh9OU/mbViDYkpj7G2scHJyYl58+bhpVunV1ifnjp1KsnJydjb2+Pm5sbw4cN58cUXlfabP59NmzaRlZVFYGCgvi9BycDQplkZ5ORIXqsfQKMqPizcfxxNdjYmJoIXq/qy+9J1XOxtAej6Qm061q/FlXsPWX74tP5678xY+gR4JywsbBt/VWVI4hBCdESZ2GYKrMiDGUQIMQL4CNCiTNobIKW8l89QKfXcDicKIbJ1lI9QIcQWIYRNnv2522jd/qNCiDAhxJ9CiJtCiIVCCEcDex5CiI1CiAghxAUhxB4hRE3dsdpCiMO6/LeFEN/qZkMihJgohPgqT9kihRAuuv9LIcQcg2Nf6fKMNSijYZk/y3ut/v7+psCieWNHsemHWew/cYo7UcZUAv8qfqyZOZXg72fQrlkTFqzbQHZ2DjOXr8LSwoKj63/CqYIDw4YNM8q3fft27O3t2bZtG3369GHBAmVJnqWlJYMHD2b48OH6tNnZ2cyYMYOxY8eybds2srOzuXPnTpH25s+fz4wZM5gzZw7z5s3DyckJlUpVojI4Ojry/fffExwcTFZWFlqtli1btrB//34yMjKYOnWqfq3O8ePH/zYb9+7do1q1apw+fZpx48Yxa9Yso/Ln2rCzs2PChAls3bqVqKgoTp1SEFKrV6+mSZMmbN26lSZNmrB69Wp9Xc4dM5JK7u5YW1oSm6CsQ/3z5i3+vHmLycOHcmDVUnw8Pahe2ZcF6zYAcOriZUxMBCc2rmHx5HFkZRW87DIoKIhx48blK0/Tpk3ZtGkTGzduxNfXl92xGQBUsjLj25qOTPR34ouqFVj7IJXoI3u4Nq3gbytX1RpiM7OZFuDE2LFjCQoKKlU5qlWrxsyZM2nYsCF//vknMY8eMuendXz2zQRs7ewI+nE5g0eOwdXDA79qCmSnc8/ezF6xhmmLlnHr2jUunz8LwKOo++z5dTMrp07gyLrlaLNzuPvgoVE5/P0qs3r6JH6e/R1tm73IwvUbyc7JYfbKtTg62DPty2G4uroyadIkKlasWGj/zO3To0eP5tdff8XZ2ZmPPvqI8ePH6/NIKWnfvj1WVlZGfenOnTscOHCAzZs3s2DBAqZPn052djagTNefN28eCQkJTO7VmSUf9SbkejiLDpygT8tGLPygJ/1avcjxmxG8XKsaCz/oycIPetKxfi0A6leupN8X9E5XgHTgQIGNUkIJIUq8FWPHFAVa0Qllpvm7Ij/H9hLKTO16wC8opKNn1nPrxPjrUOF6QD0gE9gOoHNIW4GjUspqUspGKFQPd906tR3AdCmlP1AfBTT8aQnLmQm8mevUciWl/C63jHnKPL8AAHYStgAAIABJREFUG02A8Eoe7pibm9GhVXOOnTcmYTWuWxsr3ZNr3Zo1iEtM4lp4ON4e7piYCH2+kJAQo3wlAQDn6tq1a/j4+NC+fXs8PT0xNTUt1t7p06fx8fGhWrVqNG7cmLp16xoRHIoqQ0BAAK6urly7do2qVaui1WqRUtKhQ4d8fMe/00ZERATdu3dHCEHHjh3Jycnh0aNHRnmLgrMa2u3atStHjx7V1+XJi5d4pUVTfDw9uBGheyAQCti3XkBNTE1N0GZn0yDQn7jEJACOnb+AqampApytWeMvwXtzuY1169YlWUfusDQRmOpuRpociQAe37hcIEAYnh0iXKVKFf2i3IsXL/JS+1cRQlCjViDpqakkJyZy+uhhmrdup5TPyora9RsCYGZujl/1GiQlKOzArcHrcPeqhH9VP8zNzOj4UguOnb9oVJZGdQL1v5E6NaoRl5TM9fAInB0rYGZqSsuG9enQoQNnz57Vv50X1C9y+/TLL7+Ml5cXHTp04M6dO/o3fYDbt2/rQx4Z9qWSgqE9HR0wNzXl5VrVUaVnkK6zm5aZha3Bb7IwnQi7A7A3LCwsvbi0RarsAMBNgHAp5R0d7GIj0M0wgZTySC77lr8CKy5E/y3DicdRHFOJJKXMEkKMAsKFEPUBZ0AjpVxikOYKgBDiQ+CkDiiMlDJdCDEUJVzMohKcTouy6PoLCoYPl0RGAGC3ihW5dju80MQ7Dh2h+Qv1iU9Kxt3FmayrGt4fNRZ1ahqVq1Xngw8+0KctDG7q6Jh/FmNeAKkQokhIqZmZGZaWljg5PQWaODg4cO/evSLz5C1DXFwcWq2WgIAALCwscHNz0y9eNjU1pV27dn+rDUOA8aFDh7CzsyMlJUU/PDRp0iQ0Gg3Z2dlIKRFCGMFZk5KS9PQFZ2dnkpKSiIuLw8HBgaNnz7N40jgOnDjNY7UylFfPvyaN6tSm80efIpH06tiBC1ev0fyF+sq1JCWTrc3m/VFjMTMxxcLCgri4OCPCQ3GwWH1f2bGDug7m+r/vpGlYFZVKoiabj3zt9U6tICkQ4ac31Fxo7V8pR1JSEs4GiKiKrq4kJyZw5tgRRkyYmi99WmoqF8+epmP3NwGIefgAExMTPv52Cjk5OdQPqElWVuEorp2Hj9G8QT3ik5KxtLDAwtyMr2fPI+z+QypUqMD777+vp7MU16fd3NzYt2+fvm8VlCe3L8XFxVG3bl2jvEWBoV3sbanh6cZPR86y8sgZpJR0b1yP387/SWhUNJWcKjCwfQtcHYyX4YbciADYUGgF/A0SQgxECVuVq2VSymW6/xvdw1CiezQtwlypYcWF6Xl+EwP+MlQ4l8N4BQiglABgKWUEYCcU8HBJtAh4T7cwulQSBgDg1Vt+Kzb93pAT3Ii4S79uT5FF25fMZ+3M7+j52itcvnyZBw/+OiD1n1BsbCzXr1/nm2+eMpRzh8SWL1/OpUuXUBtgif4uG7mQ4FyyByhDiZs2bWLs2LGo1Wp2795dpA3DoZfQ0FCG9nsXkzxPsVHRMUQ+eMiuZQvZvWwRv586wx+h143aNOirz1k78zumfD6E+/fv53uYKIlWrlyJqakpzRyfOqKqtuZMCXBiXA1H9sRmoMn559aJRkXexcLSCh8/Y+RodnY2C6dP5bVuPXDzVB4kcnJyyEhPY/GEMUwZ/ik7jxwjS1OwE9t77CQ37tyl7xudAWXo7/KNW3zW710++eQTUlNT2blzZ4nLGRcXx59//mnUt8pS9xKS+Lh9c9Z+2peP27XgbHgkqwf14ccBvWhYxZs5u43X1yWlphEZnwSw/1nPXZrhRCnlMillY4NtWfFnKPCcfVHCYc0qLm1J9Dw7sb8CFc6rsph6U9ivXL9fx3ZcC+T73lWscQMAcP9eylNnXFISrs4V86U9d+Uqq37dxuwxX2Jhbo5rRSdiExJx06XVZGfj6+vLzZs39XkKAwAXpLwAUillkZBSrVZLZmYmycnJ+uMqlQpra+si8xiWITY2luDgYKpUqaJH/cTFxekdia2tLR07dsTExKRMbWzcuJHo6GgGDx6Mi4sLYWFhekjw48eP9ded+29lXcy23KEhQzhrxYoV9cNsCQkJODk54ebmRmJiIuPmLqDboM+4Fh7O5RthHD17nqNnz1OnZnVsrK0IvXWb1LR03F1c+GD0eN77cgwuTo76G7QyxGxOUlJSkW2VFxa7c+dOTpw4oQfO5pWXlRmWpoKHT7RG+8sCIpxbjlzI9I0bN3B0dCTRAFadFB/PrRuhtGjTLl/ZVs6bg4dXJTr1eBqh3NnVDStrG8zMzPByc8XB1hZzs/wDSef+DGX11h3MGvWF/jeS8eQJNf18qeTuRkJCAgEBAYSFhRV4DXn7dGxsLOvXr+e1117T962C8uT2x9KCoRPUaTxMekzLmoojfymgKhFxiZibKW+Jr9ULIDzGeAj32M07tKjpR1hYWPFU6OIkTEq+Fa2HGPNqvXX7jE+n4ALHAm9IKTOfufw8307sr0CF9dJ9aKwL3KCUAGChgIZTdc4pLwAYFD5iXhTDDyivyLalKadOCgA4Ng6NRsuBE6d5qbFxccPuRBK0dCWzR39JRd3NO7B6Ne49iiby4SM0Gi37jp0gJSWFqlWfcpILAwAXpMDAQKKionj48KF++Ozll182SpPXXtOmTY3yXLt2TT8MV1wZ1Go1n3/+OZ9//jkpKSl6G/v376dhQ+XbiFar5fjx49SrV69MbTg5OdGuXTs2bNhAkyZNWLRoEUOGDMHU1FQPZ9VqtaSkKM3s6OhIVlYWVlZW+eCsrVu31tvdtWsXrVu3JjAwEBcXF36cNI5fFszF2tKKQe/2ok3TF/FwdeHitRtcC49g2tKVeHu606vjK/w8J4if5wTxYt3a7DoSgpSS05cuo9FoaNCggVGdFgWLPXXqFGvXrmXu3LlG337iM7PJ1hF6ErKyiX6SjbOFMcKiLCDCueXIhUzXqlWLRo0acfzQQaSU3L5xHWtbW66cO0vz1sYEjs2rV5Kelka/Qcbh/Np27ExCXCyP4uKJT0omNiGRDq2aGaUJuxvJjOWrmTXqCypWUAZRalWrSrJKTdJjFXFJSRw4cIDs7GyqVHn69ldYn7516xbDhw/HxsaGt982HvAprE+XFAwdk6JCk53NsRvhONvacDUqGoAr9x7i7mCvT382/B4+zsZD/yHXw2ldqzQhG/9fdB6oIYSoIhSO7Dsocw30EkI0BJaiOLBnpwDk2n1esVPi2aDC5sB3KCDe1rqJHWeAlbmvwEKBAldAedO7hgIE/l030WMLsF9KuUCX7meghZRSLYR4E4XZ2C5veYQQM1Ea7ycp5cTiymwof3//zj6eHrtzcnJ4vV0bBvTsztINW6hVvSovv9iIIRO/I+J+FM66sXoPF2fmjPmK9dt3sTh4MxJwsLXl02HDiImJKRUAWKPRYG9vz8KFC3n06BHffvstaWlp5OTk4ObmRqVKlejbt2+h9iIjI5k7dy4PHz7EzMwMExMThBAMHTqU3r17F1qGFStWsHr1anx9fUlNTSU+Ph4XFxe6du3K8ePHiY2NxcLCgrZt2/Lpp58yadKkv8XG8uXLWbFihb7cHh4erFixAmtra1555RV8fHzIycmhevXqhIeH54OzpqSkMGbMGGJiYvD09CQoKIgKFSpw4sQJ5syYTk5ODrY2NnzwVjfCI+/jX9WP05eusPfYCbI0WhzsbHGtWFHfplduhPHl9DmkP3mCiRD07dePTz9V5hmVFN6bGzIGwDPxPu9723Eq6Ql74zIw1UHJX3e34d3xQQUChIFnhggfOXKEWbNmkZycjJ2dHcLUDDNzMywsrXj19e4cO7iPyT8sYsynHxP043IS4+P5rN/bePn4YmaufMfr8Hp32nbqgpSS7yeP58o5ZclH6yaN+O6LoSzb9CsB1arwcuMXGDplOhH3H+Ci+07q7uLM7K+/4NTFKwQt+4lklQoHhwq0aNECV1dX6tSpU2SfnjBhAiqViooVK+Ls7ExCQgLDhw+nS5cuzJ07l19//ZXMzEzMzMx46623GDlyJKAM4xYHhkZK7K0s6da4LnV9PZm27SDmpqY42trg6+zIreh4TE0E9tZWDOnQCh9n5Xcf+1jNV+u3sebTvtT48MtnHmlKuxdeYgdgW7l6kecTQnRGeZg3RbkHfieEmAz8IaXcIYT4HeXFIlqX5b6U8o1CzJVY/41OrCiosCfKbEFL4HdgrJQyRZfPC6WCG6HAhSOBz6WUt4UQdVHCwXiiNMA6YLLUVY4Q4hOU2YoSiEOBEt/JW04hhDsKeHhmaZ0YlA7GWZhMKtd8VhPlKkPl3Ct9dIy8etY2fV6wU2EJBc+CLI2qqZ7te6/Zvwg7VW3AiOfKif1Tem5nJxZ205dSFojwlFK2KcbeI6B3IceuAoXml1IuRXkNLrKcUspYFEp+oWnKVa5ylet5kfgXsBOfWydWrnKVq1zl+ptVjp0qV1lKmFv800UoVxnreWjTshgKLIshSeuZm5/ZRmZ8zDPlL4vhxMeH/jrlKVeVur77zDbKQsWROP4bVO7EylWucpXrf1VlyE78p1TuxMpVrnKV639V5W9i5Sor+fv7d/St5EVOdg7dOrSnf88eRsd/3raT7QcPYWpiQgUHezxdXbl8/SZWlhZYW1lx98EDGtQK4IclTxfRF0YXz0tdf/PNN/nxxx/JyspCSklSUhKffvop/fopVPOsrCz69+/PnTt3MDU1pUmTJkyfPp1Lly6xcOFCHj9+TGJiIhUqVODtt9+mf//+aDQaZs6cyYULCgzF0dGRpKQkI3p8aGgo06ZNAyA1NRWNRoOlpSXdu3enf//+ZGdn069fP9zc3Jg5c2aBJPyibNy7d48TJ07g5OTE5s2b9bTyS5cu6adO9+zZk8aNG+ttSCkZMGAAhw8f5saNG6SmppKTk4OLiwubN28ulFB+6tQpZs+eTU5Ojr78p06dYszor3mSmYWjgz0VHR2ZMHwI/lWrEHLmHEGLl6FOVaIFVPHxZuaYkXqK/RsfDSY2IRFrK0uWLV9RKnr84sWLOXr0KImJiWRkZODp6cnUqVPx8vJi8uTJPHjwAAsLC8aPH49GoymWQL9mzRr9Oc8kP2FfXIb+7wdPstm9cDY+TVoVSMLPlZSSNT8u4PK5s1hYWTHoy1FUqWE86zLzyRPmfTeJ2EdPKfbvfqhQjkIO7GPt4oVoszJBQvM6tZgy8H2j/NuPn2brsdOYCoG1pSVf9XkLP093Tl29zpTVG8jSaLGzt+e9994zQrMVFmXBsG9JKRk4cCBt27blXFgE41ZvQghwsLHBxcGexZ99mO+aj129waT1v/LjsAH4e3sRk5TCB3OW4GxvR0LqDCwszPmw73t82Pc9o3wXLl9h5vyF3L4TwYwJ43m1bRv9scFfjuTq9es0qFuXFavXUK6/YbGz+P+hzzcRCknewyDdIiHEGCFEGyHErgLKZS6EmC4USv1FIcRpIUQn3bEKQoi1Qohw3XnW5iKkCrInhFgthOhpUP4/DI411u17zeBaU3XXeFkIsTZv2fQU+wlj2bzoew4cO8Gd+1HGaapWYe3cGWxYMJcq3t6cvnSZ35Yu4Jshg1ClpTLpi/ywkMLo4obU9caNGzN16lTmz5/PypUrsbCw0MNQc7V+/XoePHjA0aNHGT9+PLdu3eLAgQM4Ojoye/ZsTExMmDVrFlJK9u/fz507d/jpp59wcnLit99+45133sHX1zcfPb569eqsXbuWdevWIaUkMzOTDRs26G1s2LBBvyi1MBJ+UTYaNWqkT5drw87ODktLS4YNG0bt2rXZv38/pqamrF27luDgYBYsWMDkyZOxs7Nj27Zt9OzZk1q1FIp4YYTyXGL9/Pnz9QT98PBwZsyYQZP69Zj0xTAqVqjA1C+H419VuZ4X69dlyojhHApezapZ04hLSGT+6nUAnLpwiYqOFZj1zSiqV65canp8v379GDZsGIGBgQwdOhQ/Pz+CgoJYtWoVNWvWZOPGjUyePJk5c+aUiEBvqGZOVvrF0B/52uNiYULaib2FkvBzdVWtIebhQ+auWsdHw0fw04IfCkzX5a3ezFm5hqAfjSn2OTkKOWTtt1+xd+4UHiYkEhkda5T3lcYNWT12BCu/+YJ3X23Nol93kp2Tw4yff6F+9SrsmzsFZ2dnNm3aZAR4Lq5v5faLadOmkZmZyfxte3G0s+Xn0cNwtLPh67fzL3VKz8zkt5PnqOVTyWi/Z0VHELBt/RpCdm5n3++HibgbaZTGw92NKd+MptMrr+Sz2//dd5g67q8iWvNLmJiUeHte9XeU7P+DPm8JTAdm69K9ALyU+3chmoKyDqyOlPIFoDsKeQMUpNUdKWV1KWU1lLVeK0pxzW65DjFXUsr9BhT7P3TX2EBK+X4B+ZsA4d46xNCrL7Uk5Ox5owSN69XRE7oTU1KwsbZW6OIBNZEStHk4ciWlrlevXh2tVou3tzfu7u688cYb+diLZ86cwdLSkszMTFq3bk1iYiIuLi4EBAQQFxeHj48PLVq0ICsri/bt2xMSEsKOHTv0T7vHjh3jzTcVpJYh8dvKygozMzOuXbuGu7s7ZmZmmJub06FDB3bv3s3Jkyfp3r17vjKX1EZ8fDwODk/xlyEhIdSqVQsfHx969erFH3/8wauvvsqZM2f0UNbMzEw0Gg2dOyvcvY8++ojr168XSSjPJdZ7e3vrz71lyxZ8fHywsbbGzNQ0X5vaWFvzYv26WFlakpGZiaWlBXG6UC0hZ8/T543XsbOxxsHOttT0eDs7O0JCQujcuTNPnjzB2dkZtVrNzZs39fGw/Pz8iIqKQqVSFUugL0xnUzJp4miJ6saVQkn4ubr8OIuXXjGg2KcpFHtDWVpZUbuBAcW+Rg2SdDDhuJhobGxt8XJxxtzMjHaN6nPiz2tG+W2tn9JJMrKyQAhuREZR0d4OUPh/rVu3RqPRYGv7FKxTXN8CpV8IIbh+/TqVnCtiZmqCuakpbevX5tT1/GsBV+0P4Z3WLbAwN14RlKnRUsm5It5eXpibm9OxfTuOnjhplKaSpyc1q1fDpIChvqaNG2FrY51v/19W2WGn/jH93cOJfyd9/iTwHyFEW2AaCkVDU9BsG93b4MdAlVxel25N12YhRHWUBdCGXJnJujJUK2HRZ6HwwP4qldmIAO3u4kxo2O1CE98Mv0OTBk+r1c25Iil5YngVRRc3pK7nxuDS23JzIy0tzchWSkoKvXr1omvXrlhaWmJubq5/O8k9z6FDhwgICMDT05NLly4BsHjxYi5cuKAfvoL8BPrQ0FBGjx5NYmIi06dPx8zMDDc3N7Zt28b06dP1ZSmKYl+YjdDQ0Hx1IqXUOzs7Ozvs7e25c+cOoaGhTJ48mejoaJydnfXoLDMzM2xtbcnJySmSUG5Y125ubly8eBF3d3e06sf8uH4DT55kUsHejve6v46FjkZx5PRZFq39meTHKhrXq01N3VtnfGIi7q7O+jhUf4Uef/78eY4ePYqTkxNLly7l/v37eHh4cPjwYRo2bEhoaChxcXH6dizIRnE6n5LJUL+SMbKTNdlUNKTYuygUeydn5wLTp6WmcvHMU4p9emoqapWKD76bi4+bK3Wr+fEwPjFfvq0hp9h8+BgabTY/DB9I+INo/H29ydRoePObqaRnZlGvXj0jfmhxfSu3X0yePJnExERcHR14kJDIqBXBqDMy8HBypE/blnp7tx5GE/9YRbNaNdh87LRR+RJVatIznzBg6HCGfvwhbq6uXL1xvUR1WK6C9be5V/E30+ellDnAYOBXIExKeayI4lRHQZwU9LgYCFzWndewDJdRCPcl0WkgS+dQSyVhQLFftemXYtPvOXKM1PQ0XmvdqrSnKqoMRR7PycnhzJkz7Nixg3379iGl5ODBg/rjKpWKBQsW6CnfUkpiY2OpV68eP//8M1ZWVqxYUfCLbZ06dRgxYgStW7dm1apVZGZmEhYWhpWVldENtigVZKO0qlOnDps3b2bt2rWkpKQUGoiytBr6/nv88uM8PunzNlkaDWt+fTo9u23zpvyyeD5vdXqNs5f/pN+b3YqwVDr5+fkxa9YsOnXqxObNytT2Ll26kJqaSp8+fdi0aZMRrb+0upOmwcJE4G1d9s/B2dnZLAyaSsduPXDXUeyr1KhJs5fbsGrsCBoH1GDnybMF5u3RugUbJo3mk+6dWbvvMAApqWmYCMFv08bxxRdfEBYWVuJID4b9YtWqVfoHvh8G/4elwz+i98vNuBsTx593lPBDOTmSJbsOMqhL/qHAig52DO/RiZa1A/hq2KeMnjzlL/XVspQwNS3x9rzq73gTy6XPg/ImZkSfL6GNEk2ZkVJeFkKEAj+WsoylUbEUe52mAuOAr0tlXMpl/v7+V4GJH7zdswNAbEJiPor95t17Cd6+i7jEJNq3aEZS8tOAj3GJSTg6GD8RF0UXz6Wuu7i4YGFhoY+rBMpTqeFQC4C5uTkODg44OTmh1WoRQhAersQ7MzMz4/Tp0yxcuBBvb28OHjxIpUqVsLKyol07hVDu6+vLrVvKkEtBJH03NzfS09OxsbEhIiKCmzdvEhMTw+uvv05WVhapqanY29sTGxurvN2UwEZeenhuGiEEsbGxehtqtdooXZUqVbC0tOTixYv4+Pig1WpJS0vD2tq6SEJ53v1eXl48fPgQl4oK8y4xJYWGtWtx/ZbxG/bZy39y5PQZTExM6PfFKExNTQmsUY3Y+ERcKjrqbZeEHq9Wq+nTpw+gwJxjYmLo1KkTn332GVqtFj8/PyZMmAAoDxpdunQxegvPS8IvSudSMmnqWHTwxsMJGRxLfAKAn40ZSYYU+4R4nJxdCsy34oc5eFSqRKc3n1LsvXx8OR2ihCTp0rIJ83/ZQYcmhb8Ftm9Un+83buWNVs2IePiIj17viJmpKWlpaXh7e3Pjxg09QzS3LgvrW6D0CxsbGzIzM4lPUeGqAwynZ2ZRzdOdm1GPqFe1MumZmdyNiWfEMuX7ZpI6lW9Xb2ZK/974e3vh6+bC0SvXCfT3x8fLi1sREbiXsM7LVbD+zm9ifzd9Plc5uq0ohQO+ouD4YNeBBkI8HfTV/b+B7lhBFPuKgNFHCinlYcAaaEbppVDsY2LRaDQcPH6Sl5u+aJSgfoA/ABsXzOW1l1ux+8hRhS5+8xZ2NjZUMCBfQ9F0cUPqenh4OGZmZnr6+4EDB/D19TWy1bRpU65cucKTJ084dOgQjo6OVKlSBbVazZIlS7CxscHV1VWfv3Xr1rz00kv6mYkeHh76tz1D4vfDhw/RarUEBgZy9+5dIiIicHV1Ra1W89NPP7Fz506+++47XnzxRQYMGFAgNbwwGwcOHCiQwH/9+nWioqLYsmULjRo14uDBgwQEBOhv5tHR0WRnZ+uHRA8dOkS9evWKJJTnpf8fOHCAt956i6ioKELDbin7jp8kM0tD1cpK3UY9iuZmxB2CflzKkPf7YGVhycYFcwmeN5s2TZvo21eVmlZievwHH3xAcHAw06dPp02bNuzZs4cjR47g5OSkn9Ci0X073bZtG40bN8be3r7APlKUcqTkfEoWTYpxYnmJ+Md/N6DY29gWOJRYGMW+oosrMQ8fEp2QRMilq5gIQcu6xguXH8Q9HQo9fe0m3m7OBFT2JiMzixN/Xkej1bJv3z7UarXR977CiPS5fQuUfhEZGUmrVq2ISkjkTkwsGm02hy6F8jgtAz8P5SHDztqKrRO+JHj0MIJHDyPQt5LegaWkplHDy4OHiUn8cfkykVEP+OPyZVq3alFsnf9dEqWIJ/a8qswBwEWAe8uUPi+lPJ43v+7vNrq/u+Y5z0zAFfhE9+3NFWgjpdwihPgNZUhxsi7teKC+lPItIYQlcBPoLKW8IYSoDBwD6kkpH+cpf2dgCcokkTYFXWNh9ebv79/Z18tzd3ZODm+80o4Bvd9iyc8bqVW9Gq2bvsin304iIvI+zhWdkFKSlp6OiYkJVpaWmJoI4hKTyXjyhOycHL7//nuaN29eKF08L3W9e/fuLFmyBI1Gg0r3bS0rKwsbGxu2b9+Oubk5ffv2JSoqSgmy2KwZQUFBrF27ltWrV1OxYkX9t5T33nuPoUOHMmvWLM6fP4+JiQkVKlTAysqKe/fuGdHjd+/ezZo1azAzMyMtLY3MzEwsLS154403+PDDD1myZAnm5uZcvXqVGTNmFEjCL8pGREQEx48fJzMzExcXFwYMGMD58+e5fPkyarUaJycn3nzzTTw8PPj++++xsbHB3t6e/v378/vvvxMWFoZKpcLExAS1Wo2zszOBgYHcvn07H6H8xIkTzJ07l+zsbH35T5w4wdejRpGdk4O9rS1NG9TDzcWZegH+RD54wIqNv6DRaDA3N8elohNVfLyZO240Uko69/+YpJTHSJTlCZMnT6Z58+YlosePHDmSyMhIkpKSyMzMxN3dnSlTpqDVapk4cSLR0dG0atWKb7/9lgcPHhRLoLe3t8czS82Iasrbyc3ULH6NTmdsDeVN0X/4xEJJ+LmSUrKpciuu/HEOS0srPvlyFFVrKg9mYwZ/TNBihWI/rK9CsTfPpdi/oVDsN/60nJOHD6FKSkSYCN5o2Yxhvd5g5a79BPh607JebeZv2c6Fm+GYmZpgZ2PN5727U8XLg6OXrjJ93SY02mzsHRzo168f6enpxUZ6MOxbQgg+/vhj2rRpw4agCczftg+JxM7KijdbNSFLq8Xf24sWgcbLBkYsXcsnXV7B39uLY1dvsPpACJkaLYmpaTjY2/PuWz34+P1+LFrxE7UD/GnTqiWhN27yxdhxqNSpWFpY4FyxIlvXrQag/5BhRN67T3pGBplZWQ+BD8PCwv5ycMys5IQSOwALJ5fn0pP9fzqxMqfP644fJb8T24vyBpWrXijf1qYCb+rspAHjpZT7hRBOKBT75rr0p1EmiuSWoSUwB7ACNMDOqDbDAAAgAElEQVQ3UsqDhZz/AqAurRMDUIVdfebGEF5+z2qiXGUo+SjymW08D236vGCnKoUX+RMqVrZN8wfhLK3KAjvl0iL/N7PSysrN85mdyr/BiZX5N7H/T/p8QfmllEdRhvUK0ijdltdGMtC3iHOcpJBhwgLOn2/4s7hrLFe5ylWuf0KZZkUPCRvqn6eAFqznNp7Y/6LUavW/ojGeiGd/Nnoe+qU12cUn+n9Q2rkjz5T/QdXiPisXr7L4JJIxqtBn0RIrbdyqZ8rfoornM5chNefZKyM5LaP4RMUo0Mv1mQtSmnuOvb39c/km9vyuYCtXucpVrnKVqxiVO7Fylatc5SrXf63KAcD/oPz9/QUwD+gMpK9fv75UoNelS5eydetW/VomFxcXZs2ahYODA7169dIvZq1Tpw49evQoFPT6ww8/EBMTg5ubG71796Z///6cOXOGhQsXotFoMDU11a/TMgSkpqSk8PXXX3Pt2jW8vb158uQJVlZWfPH1N3w/6ylVLD42jg6dO/Nal65MmzCezMxMmrdsxfCRyky427fCmD3tOzLS0/Hw8mL8lO9YvngRZ06exNLKikFDhzFhzNd8MHAQ7/Z7Su1atmgh+/fsQq1SceD4Kf3+yxcvMG/2LCJu38KpYkUcnSryzcRJ+AfkXzyd14aUknmzZxJy+BCqx4/RarVMmzaNV/Jw7Aprk4MHDxIUFIRKpcLHx4egoCACAgLywWQ7d+7Mrl27CmzTbdu24eSkrOpo27Yte7b+RpZWQ0KKiipeClki0K8yX/Z5i+3HTrP12ClMTXKhtz3x83RHm53NzPVbuBX1kCcm5tja26NOScFCNzOwIPju/O8mERv9FL77zoCB+uOnjx7hpwU/8ORJBpaWloydMafUAN+fQxNxMleem9u5WPOy81NMVI3BY3B6oWWxEOFfflrK9YsXsLC05L0hw/GpWj1fuh+nTkCVkkROdjbVatWm54BP2Lp2JWcO/w4yBw8PDzQaDfb29vqZnkW16bx58zh27Bjm5uZ4e3szYtwEVi9bwplTJ7GysuLjIUOZ9M0Y+n88kHf6Pu2fK35cxP49u1GrVewLOaHfv/nn9ezYthVTU1McKjgyZORodm7ZxIWzp7G0smLY199QTTdz07BuZ038lphHDzExMaFxi5ZMnzi+wHr6X9Nz9yYmhDgihHgtz77PhRB7hRAZeagf7+uORwohXAzSG0F7hRCdhBB/CCGuCyEuCSHmGBwbKBTw8E0hxDkhRCuDY4XaFUL0F0Lk6Kb85x4PFUL4CSHO6sp3XwgRb1BevzyX2wmoodsGlhb0CtCiRQsCAwM5deoU06ZN08NiK1WqRHBwMMHBwXzzzTeF2vDz80NKSe3atZk+fboevuvo6Mj333/Ppk2baNWqFdeuXcsHSLW0tGTw4MG8/vrrpKamsnXrVsaOHcvCH+ayesNm/ebu6Unrdu2ZE/Qdo74dz8ZtO4iKus+ZUwozbsaUSQwa9hlrN//Cy23bMWvaVB5E3WfD1u2MGjuOKePH0bRFS/Kq5csvs3TNunz73T086dq9B84uLgz/ahSjxo5jTtC0Aus2r40zJ0/wIOo+i1asYty4cdjb2xeYr7D6VKlUVK1alYYNG/LBBx/o2yMvTHbhwoWMGTOmwDbNnUa/bt06du3axcyhHzJn2EBMTUz49oP3WPnNCL7s8xYAr7zYkNXjvmTlNyN499U2LPp1BwBHLv6JRqtl9bgvebv/R9yLCGf0tFl8OHwEqxYWDN/t3LM3s1esYdoiY/huzMMHbFq1Ar/qNVi7az9DRo8rNcAXoImjpX7dmKEDA4g9uqdEEOH46Ed8u2Apb38yhM3LFxeY7oMRXzN69gLGzF1EquoxuzauJz76EbPWbWbp0qXY29vTrl072rY1BuwU1qZNmzZl06ZNbNy4EV9fX+ZMm8qDqCh+/nUbX44Zx7QJ42naPP9ar+YvvcySAkjzNfz9mb1kBT+sXEOL1m2YFzSFRw+j+HH9RgZ/OZKl3xeMgO329rssXBvMnOWruBl6FX9//04FJvwf03PnxIANwDt59r0DBAEReSDC+YjweSWEqAMsBPpKKQOBxiiLnxFCdAU+AVpJKQNQYMXBwoCOX4weoDATjSSlbKqjk4wHNhmUNzJP0m7A2rCwMBkWFnamtKBXUMjqnTt3VmDAdeuiVqtJSkoqsY309HQ9pcLMzIwOHToQEhJCQECAnt5w/fp1TExM9IDfXECqtbU1DRo0ICIigsqVK+vLkJqqJkG3buz+vXukJCdRyceHtNQ06tRVFg537NKV40eVCQtR9+7T4AVl8sGLTZtx9vQpOnbuihCCRB0k1t0jf5PUrlsPF5f8tANPLy/u3L6Nl7cPQghq161HqlpNQkJ+LmBeGydCQujYuStelSrRuXNntFqtfu1cSerz5s2b9OzZEyEE1atX18N7DWGy0dHRSCmpU6dOgW2aq1ywsJeLM2ZmpthaW3HiShHQ28wscmE3Qve3NjubC2dOYmNrh42drQLfTS0EvlvfAL5bvQZJuvo6vHc3FV1caduxE0IIGjZpWmqAb3EqKUS4Set2SuiamgFkpKXxODkpXzprGxsAcrKz0Wq1REWE6/Pl/kb279/Pa689fVYuqk2bNWumb7u6desSfiuM1zp3QQhBUmICSHDzyD9hpHbdujgX0D8bNn4RSyul3WoG1ib6wQPaduiIEAL/wDqkpaUqdg1kaWVF3YYvAApBp6ryFuxdZIX9j+h5dGK/AF2EEBYAurcXLwwAuaXUKOA7KeVNULiIUsrcR7ivgZFSygTdsYvAGmBIgZbyaxdQWwjhX2zKgmUM/tWBXg1VHOj19u3bLF68mEmTJqFSqXB3dycxMZFHjx7Rp08fBg4cyPHjxwu1kde+IdQ2V3fv3qVmzZpYWFgYAVJzpVarsdHdOBQb7iToEEOH9u+j3auvkRgfj6vhedzdSdCdp0q1qnqHduT3g6SnpeHm4UF6ejrBa1ZRrXoN0tPSS1qnAMTHx2FtcIN3NThfcfncDBymlZVVPidWVJvEx8fjYZDfsE1DQ0Pp3bs3gwYNomrVqvobY9423bx5M++88w6LFi2iYsWn+LHU9Aw2Hwrhs7mLuRJ+R79/a8hJ3h0fxJKtuxneW+Evtvk/9s47PIqq7cP32U3vPYEESGgbEkCaSBUQQaqCDQEVFV9RQUUFFaWDCEgvCijSBKQIUqUFCC0gvQRYIBB6eiF1k9093x+zWXbTSERf+Xzzu65c2Z0555mZc2bnmdPup1F9HO3teH7YOA7u3kWr9h1wcVWANV6+Cny3JGVlZnLiSBR1GygPzbjbt0hJTmTDL8sZ+dFATh/9wwzwLdXG4SjCTQ9egOPpOkZpU/ku9h4peeWf+Zmab8DDAlXl4e1NekpRCDDAd+NH8uXbr+Lg4IiNra1VPicnJ1xcXKzINA/6nRVo48aNODo54evvT3Z2NiuXLqF6rZpkF4Jml1W7tm7GycUZbwusmLePHylJpZVtBseiDgJE/KmD/sv0yDkxKWUK8AdKVxsorbDVKKzCGoW6E1tbZN1TsB3rMColQoRRAL+F9x2j7OBfIzAZ+LKM6f9SFQR0HDVqFD4+PkyfPh1QCA+bN29mxYoVfPzxx3z//fdWjLzyKCYmhuTkZAYNGvSn8kfs2M7TnUpfKDts5BjWr1nNW317k52dhcoUu2jRgnm83OdVVI8wfLQ8KoDJjhkzhrt37xYLf33xxRf57bffWLFiBW5ubmYSv7ebG4NefJanmjRg4IvdGffTCrJyFC5hzzYtWTl2GAN6dmXp78pz7ULsDVQqFeu+GUHYYw05vHc3CXfvFDleYRkMBuZMHM8zz/XEzwTfNRgM6HJzef39Dxk0bDg/zJhqJuyXaKMQwLdRs+ZMquPFGI0nYa62LLyZWb7CK6feHz6W8QuWotfnk5Vh/RKSnJxsDmZaHi1cuBC1Wo2Pica/+If5vNS7D2rVn7s/9+7cToz2IgGVAh+c2CSDQc/UcaPp+vxLaLXaqw/O8d+TEKKTUOImXhGmeJGF9tsLIVaZ9h8pZnjlT+lRndhR0KW4wfS/IGxqTCkQ4XYFLaoC9NRfcB7FraEovG0F8JUQIqQsBjUazUCUsDAAR1NTU/sJIWYANG3a9E+BXhMSEujZsyeDBw9Gr9cTGBiIh4eCBKpTpw6BgYHcvXvXykZBV+GDoLZDhw5Fo9GYHUsBIHX79u1s2LABUOJXZWdnW9iIx8fXj8uXtOgNekLrhJGUmEii5XHi4/ExHadaSAit2rZl0/p1RGzfjouLCwlxcZw/d469EbtITEjgYvQ51DY22NnZ8UKvwr3NitatXsWm39YBEBoWzo3r1837Ei2OV1y+3Nxc3uzTi9CwcBLi4sz7cnNzrWKSFVdmGzZs4OzZs/Tp08cM3rUs68J12qBBAwwGAzExMYSFhVnVh7cFT7Bz585mYK+drQ2ZObn4uLujqRpEoK83NxMSCa1WxZy+fePHmL5Suf4FG34nLjmVAZNmElS3IQZ9PlcvX8KvUmVSEkuG7y6cOZWAyoF07vkiOzb+xp5tW0hJTCSoWjDpKcmEP9aASkFBxN25XS6Ar6ubOzkqpavzSS8H1t4pW8u6MEQ4zaL1l5acjLtX8aFc9m3bQtSu7WRnZWJv72DOp9frSU5ONseLK1BpwGyAESNGsGfPHoKCgtCE1yUxPp4L584RuTuCpIQELpyPxsbGBjs7e55/udgAHVb6YdZ0dm7eSEBgEFWr1yDZopcgOSkBL5/iy/a7KZOpHFiF7i8+/Jq7v1JCYd7OBTqgDLMcFUJslFJaxpnpD6RKKWsKIV4BJmEdAutP6ZFriZm0AWgvlGCXTlLKklpSZVFpEOHzxexrbMoDReG/xYF/9ShIqjLR67Va7VytVttAq9U2AH7z9PQMql279uO1a9ceVLly5XKBXmfNmmUGve7evRtvb29cXFxQq9XmN+Vbt24RFxeHm5tbsaDXAnitTqdDr9ebwbkZGRkMHjyYQYMG0bVr1yKA1F69epknjoSGhnL9+nUFSHz2rAKs9fVl17ZtdHhGaYX5+Pri7OLMubNnkFKybctmWrdpC0BqSgovvPwKPy3/hdDwcJ7u1IVtWzcz54eFjJ4wkdqaUHr1fY3X3uxfogMDeP7lXixasYpFK1bRum077ty6iZSS6LNnTBDd4mnhz7/cCwcHB3O+bVs3m6/FxsamiBMrXCcpKSmMGTOGFStWmOtDSsmVK1fM8F5LmGx+fj56vZ60tLQi9WE5Jnr79m0A7ialkJiaTsTxU7SsH8adpGRuJSRR2cfbGnp77iJBfsr907xuHRpparLwy0+o3+Rxrl6+RKXAIAW+61w2+G7HZ3vwzXc/8P7nX6K2UbN/107S09K4ee0arq5u5QL4Wo6fnbqXRyWHsrVeCkOE/4jcjZSSa5cu4uDkhLundbQHXU4O6akpPNmpK0MmTSe4loYaYeHmfKtWrSo2zE9pwOxDhw5x8eJFNm3axC+//EKrNm3ZvnULsxb8yMjx31BLE8rLfV6l7xtvlsmBXdZe5PiRKGb8tJRZi5bxRMvW7NmhhDjSnj+Hk7MLXsW8ICxfuIDsrCzeGlQ0ivsjoKbAFSnlVRP0/ReUMX9LPYcyXAPKsFF78ReQhR9ZYocQYhWgATZIKUeZmp6bpRIxunDaWKBJ4ZaYlLKbafbgOhSA7yWhEOrfkVLOE0I8C4wAOkkpk4UQDYCNKADiu0KIKUC2lHKk6U1jDfCblHKpEOIN0zEHmcbvzqNEin6iYAKHZZrirtE0xX4O0AnIXrp0ad2wMIXMXRbQ64gRI9BqtSQnJ6PT6QgICDAH8Js/fz63b98mODiYAQMG4OPjUyLodfz48aSnp6NSqQgMDGT9+vUMGDCAM2fOEBISgtFoNDtCDw8PMyAVMM9MzM7ORkpJYGAgoyZMJDQsnJee7YqtrS0rTDG0Lp6P5uvRI9Hl6mjWsiUff/YFQghWr1jOujWrAGjTrj0DBn3A9MkTOXLoEA4ODgwbNZpD+/fj6OTEjt+3sGiFkva7mTPYtf13khIT8fH1pdtzPXlrwLtciI7myyEfk5qSglFKbNRqvlu4iNAwpZf4zT69SrTR9dkepKensX/vXlJTklGr1Tg6OuLt7Y2Njc0D62T37t2MGjWKnJwc1Go1derUYfHixWzZsoWvv/6a4OBgZWJLp05s2rSp2Dq9dOkSQggqVapEhw4dWDBnFlk5uUgp8fFwI+VeJl1bNOXtZzsxa/UGjmsvK9BbRycG91Kgt9m5OiYuW831uHh0NvbKOGZaqjLF/hML+O77/+Gb7xT47oevKfBdmwL4bncFviul5OcF37F/53Zyc3Nx9/Tkk5Fjyw3wPfbbalQCnNUqXgtyppLD/Y6gskKEF1d6ggunTmBnp0yxr1qjFgCThnzI51NmcS8tlQUTx6LP1yOlkVrh9enRrz/rFv/AhVMnyMvO4vnnn+eDDz4o8++sR48e5Ofnm8Oz1A6ri42Nmj+iDmHv4MDnI0YTdWA/jk6O7Pz9dxYuXwnAvFkz2bVjG8mJiXib7q033xnAJwPfI+bKZTxNrUgfPz98/Pw5efQI9vbKFPuaGmWpzcdvv8H0HxeTlJjAf15+nsCq1cxlGxtz5T9arbY8EeiLqDzEDjc3twHAOxabFliA2V9EeY6+bfr+Gsqz0PzsE0rYrE5Sylum7zGmNCUPAJZBj7IT6wGsB+pIKS+anNgFQGuR7Ccp5azSnJjpezdgDOCE0h24WUr5mWnfe8Bg0/YM4FNpCrAphHAHvkcZIxPANuALKaWxsIMSQnyIsuYrpKxOrLAqsFP39SjclxXYqfuqwE7dVwV2qqj+SSf2qI6JIaX8DYvgmCbHUCzYV0oZXOj7XmCvxffNKDMJi8v7PYqjKm5fOtCnhH2LgcUW32cBs0pLU6EKVahC/1LdBqpYfA8ybSsuzS0hhA3gjnW0kT+lR3VMrEIVqlCFKvT/R0eBWkKIENPwyisoQzOW2gj0M31+Edgt/4Iul0e2O/F/UZlXtQ9dGdK38l9xKhX6iyQSHzyt/UFK93q4OnW6fv7BiR4gXWLcgxM9QKf9imK/yivn8W8+VP7HFm576HPg7vUHp3mAxF+wbMSlRp1HpjsRQChBgWcAapShnq+FEGOBY1LKjUIIB2AZ0BBIAV6RUj70MoFHtjuxQhWqUIUq9P9HUsqtwNZC20ZafM5FCVD8l6qiO7FCFapQhSr0/1YVLbFHRBqNplO1wEAMRgM9OnXkzZdftNp/4uw5psz/kSvXYpnwxVCebq0AcQ8dO85Xk6aSnZuLm4szQz77nI4dO5rz5eXlMWrUKC5cuFAsgf78+fN069aNzz9XlrlJKXn99de5dOkSRqORZcuWPZCs36JFC4QQHDx4kMzMTBwcHHBxcSEoKIhRo0aZIbolUcK///579u7dS3JyMjk5OVSqVInx48fzxx9/sG2b0v2j1+uJjY1l7ty5TJkypVjSeGRkJOnp6eh0OipXrszYsWOpWbMm48aN4+LFixgMBrp27UqzZs3M51G9enViY2MxGo34+vqSkpJippWPGjUKe3t73nnnHbRaLWq1mkqVKhEbG8vPP//MoUOH2LBhAyqViqFDh9K8eXNiY2P58ksF4JKVlcWdO3dwd3Xh1Rd6ElQpgAU/r+TazVssnTGFXJ2u2DoFmLVwMQeOHkNKiXflIG7fuomDgwOfjRhN7WLqY+H3c9mxdSsZGffYune/efvGdWtZtfBHktLSEELwfMenGNyvr1XeFZt/Z2NEJGq1Gk83V756720q+SrrlOKSkpgw7yeu3bhJakYm3u6uPNe6OX07WsNzN+yPYv2+KNSigKb/wn2a/vK1aG/cIv5eFkIIPLy8y0ygf6n/u6jUahZNm0TCnduo4lPJNkic1ILRGk+rvCWR8KWUrLyTxdl7ebi98gqjR48uV7SIAv3888/MmDGDCUM/Yd6KX8jLy0NKSElL4/3X+vDa88qyqJ9/28iGHRGo1So83dwZ+dH7VDIteP9g1DhORl9ACPD29KTHMx148+UXrM7jxNlopixYaLovhvB0q/tw4Vk/LeHAUWXZbMz1G720Wu2qIhfyP6aKltgjII1Gowbmzho3irXz57J97z6uXr9hlSbAz5cxn35Ep3ZtzNsMBgOjp80ipGoQe9eswNPDg4ULF5KZeR/ps2HDBlxdXUsk0H/00UdWxzl48CA2NjZs3rwZOzs7ykLWP3v2LGfOnGH9+vX0798fLy8vM/F70aJFxeaxpIS/9tprfPDBB4SFhTFo0CCCg4P55ptveP31180LqgcNGkSjRo2YPXt2iaTxwYMHEx4ezksvvYRGo+Gbb75h165d5OXlsWrVKn7++WfWrVvH2LFjGT58OGvXruXIkSP069ePNWvWkJCQwMSJE63OfcOGDdSuXZuoqChGjBiBv78/lStXxtbWlh07drB69Wpmz57NxIkTMRgMBAcHmwn0AO6uLiya9i3b9+7D3taOb0cMo1Hd8BLrFGD/H0e5GBPDirkzee/1vpw/e4Z5i5fxyRdfMWNy8fXRvNWTfLeoKDG9bfsOqNQqfpk+kdEfvsvGiEiu3bKeNKYJrsbiiWNYPuVr2jV7nDk//2LeN2bOAnp364StjZoFn3/IwmGDiTh2iti78VY2nm7SkMVffcLCLz+md4c2zP11E3Cfpv9ejy5UrVETewcHOr/cu8wE+pOHD5q3fz5lFqM1njT2sKORu32RvCWR8M9m5BOvMzAh1JOvvvqqTPd04cgCcXFxHD58GH9/f2YvWcas0V+xcPIE7Gxt6da+rZWd0OohLJs2mV9mT6d9y2bMWnQ/SkLfHt1xdnIkvFZt1s6bzfbI/Vy9YY2FDfDzYcwnH9Kp7ZNW2/f/cYyLV66yYs50lkyfDDBEo9FYr8T/H1S5nZgQ4ishRLQQ4oyJVfiEEGKviZl1xhTSZI4QwsMiT5AQYoMQ4rIQIkYIMVMIYSeEeMaCg5hpsnFKCFEinV4I0VQIsc+U9qQQ4kchhJNpXw/TOVwQQpw1rTUryLfYtJahsL3aQoitpnM7IYRYLYTwN+1rJZTwLAWhWt6xyDdaCHHbdL6XhRDrhBBhFvsLyqTg+taWUqxNgStBlQKwtbWlY5vW7D18xCpBZX9/aoWEWL0ZRl+6jLOTI80bN8LRwYFObZ/Ezs6OqKgoc5rIyEi6desGUCyB3t7e+mEQGRlJr1698PX1RaVSURayvrOzM87Ozggh6N27N5mZmSQlJVGvXj0z/LY0SriLiwuRkZF06dKF3NxcvL29ixx3+/bttGjRolTS+P79++nSpQv169dHSklGRgYZGRnk5uai1+vJzc1FpVKRm5tLvXr1OH/+PFWqVOHcuXPY2trSo0cPDhxQ4j4VnHvh8jt58iQdOnQgMjKSjh07YmdnR2BgIFWqVCE6+j5hPjo6GldXV6oFBVI1sDId27TmyvXrBAfdB48XV6cA127cpGHdcGzUaqKOn6SmRsOxI4cJq1ePzIwMkouBw4bVq4d3MaiimzeuExTgR6C/H/p8Pd6eHuw7esIqTeO6YTiY7oO6tWqQkJKqnMet2xgMBlycHAn09aFGYCVcnZx4qvFjHDhTCk0/L8+8sEwIhaa/73Q0DZq1xMbWlpph9cpMoBdYl42UkqNpeTzhWdSJlUTCP5WeRwtPByuKfXmjRUybNo0PP/wQvV5PZX8/ggIC8Pfx5tkOT3GrkENvUr8eDg6m8tTUJt6CVuLk6Ii/jzcODvbKb/3JVuyNKu63HoxQFXdfhGGjVuOoUPDPoIAS/qdVLicmhGgOdAMaSSnrA09zn8Le17StPqBDQUdhwoqsQyFd1AJqAy4oZPntBWFKUMC7fU3fX6cYmZzLGuBzKaVGStkQZQGyqxDiMWAK8JyUsg7wLDBFWMT7KsaeA7AF+F5KWUtK2Qj4DvAVSjiWFcC7pjAtrYABQoiuFiamm863FrAK2C2EsGQbFVxPAyllEQdqIWuavY8PickPXj6RkJRMYEAAUcdPkJOrw8XJmRs3bhRhIRbQuYsj0BdWaRT24mwC6HQ6K5htQZ6NGzfSokWLYvMUpoQfPXqUqVOn8vvvv/Puu+9aHTc3N5eoqChCQ0NLtVFw7gXH9ff3JzQ0FAcHBzp16kS3bt3o2LEjlSpVMp9TQECA2YYlwb/ARuHy0+v1RbYXzltgOzs7m2faKG/TZa1TgFohIeY6vR0Xz63rN0gw1amvRYSAsigpIYHsnFxe+GAIc5av4rn2bUg0OanitGn3Ppo3UH4yN+7E4ersxPTFy9Fev8X36zZjMBrx9XAnKa2os1gfeYjeoyYyb/1WPnrpWQDaNlRo+tuPHOfXRQt4qntPnF1dy0ygb9DMOk7XpSw9bjYq/O3LPrsvNd+Al+39R115o0Xs3bsXPz8/ateujcFgwM8isoCftxdZOSUvXN6wM4IWje+T/BOSU/A0kT8A/H28SUwu6syLU63qwUQdP0lOro7U9HsA7bBem/U/qfK2xCoBSVJKHYCUMklKaTWH2MTN+gyoanIsTwG5UspFpv0G4GPgrYIWVDk0EFgipTQ3NaSUa6WU8SjA3wlSymum7ddQYpANLcVeHyBKSrnJwt5eKeU507EWm8KzYFpV/hlQhM5s2r8K2EEJi6NLkhDinbi4uEkZGRnP/bSy/N3bfj7etGzShLc+/Yw1W7bg7e1thvX+k9qwYQNqtZrOncsWty84OJhvv/2Wzp07s3r1aqt9+/bt47HHHsPFxeWBdjZv3mx13JiYGNRqNdu2bWPjxo1s3bqV3NzcUm0U0MoLn/u5c+cQQlC9evUHnofBYODu3btW41xlVfPGDc11qo2JIbhGjYeq0+CgQH6dPYWBfV9mf6FWmKV+33eQC1ev8eqzChzXYDRw6sIlujzZUmE2Jqew7fCxEvP3bG3IRuYAACAASURBVNOClWO+YECPLizdthuAC7E3UQlB49CavPnJ5+zZ9BtJ8aVP17ck0F86d8Zq3x9pOp7wsCvrpT+0cnNzWbRoEe+++265827dE8mFKzG8/nxhhOCfU/NGDWn5eGPeGvI5X02aChAFjwhW5h9UeX8ZO4AqQohLQojvhBBtiktkclSngVCKCXcipbwH3ACKjuyWrr86rMpfbe8EyjUXaLlFd+K3xWWQUi4ICAh41dXV9cRbvRV4aHxSEr7FwFULy8/Hm/jEJPr3fpmVc2fSuV1b7O3treIkWdK5Cwj07hZvggBXrlyhT58+9OnTBx8fnwdS2P38/Kzy2NnZWXVLXr16lejoaMaPH2/uKiuNxm953M6dOxMREWF13B07dvDMM8880EZWVhbHjx83Hzc+Pp5Tp07RvHlzbGxs8PLyon79+maiv5+fH3FxcWZaeUJCAsnJyRw4cMBsw/KYv//+OzY2Nri7u5dK/wcl8KWTkxPenp7lqlOA1Zu2sOuAMhbUtkVzcnJyCDLVaaIpQkBZ5ePnR4KpBdihRTPOx1zD18uzSLo/zpxj8fqNfPvZx9iZ2Hx+Xl7UDq6KpnowSen3aFU/nEs3b5OYlo6PR8lDMe0bP8aB09GsjzzEl/MXcyYmFh93d/JycwkJrcONmMulEugBbO3sqPd4M85aRIY2GAycSNfxuEfRrsTC2p2Uw2htKqO1qbjbqkjJN5r3lXRPF0exv3XrFnfu3KF37950796de/fuEXHoMEmpSms2ITkFZ8eiIKEjp07z0+pfmTZ8mLk8QWm5pVr0hMQnJePr7VUkf0nq/8pLrJwzg+8mjAGFaHSpzJn/pSqXE5NSZqJQ3t8BEoFVJj5gcfoLaGv/71T4mi27E0trER4Fat2OiyM/P58dkftp0+yJBx4srHYtbty+w4UrV8jPz2fTzghycnJo1qyZOc2TTz5ZhEBfeAymZs2a5gkUlhR2o9FoprBbysfHh4CAAIYNG8by5cvJysoiMzMTKSXLly8nIyOD2bNn4+DgYJWnJBr/xIkTzcfds2cPnp6e5uNmZmZy4sQJ2rRpU6qNQYMGcefOHQICArC3tzfT9IODgzl2TGk95OTkcOXKFTPRv06dOty8eZO6deuSn5/P+vXr0Wq1TJs2zXzuBeVnNBrZunUrjRo1QgjBk08+yY4dO8jLy+P27dvcvHmT8PD77zcXLlxACEF56xTghS6d+P6bcaycO5PaIcFcu3KZJk2f4PzZszi7uBQ79lWSXFxcuXk3njsJiUQePYFKJWjdpKFVGu21WCb9sJhvP/sYL/f7zqlOzepkZGdTydeHWwlJHDhzniq+vuw+fpqW9cKsbFjR9KMvEuTnTc82Lej9dBsaaWrS+rFwDu/ZxTXtRfT6/FIJ9KA4rOjjR/EPvD+GqD1zigB7NV52D+5KLEy/P5Saax1loQzRItq0aUPNmjXZuXMnmzZtYtOmTfj5+eHl4YFOl6fU674DVA2yXox+MeYqE+bOZ9qIL/DysH5hDKtVk4SkFHJ1OnP+Ns2aPvB6CsokzRSg9fK1WFCGbnaUKXMJylfblvnvUdVDETtMEyX6odDbh0gpj5m2q4HLQA/ADxgppXzSIp8bcA2oIqXMNm3ba2mjhOONA6TlAjqLfT+jYEx+stj2FkqcsdeEEItRwL9rLfb3B9oUNwYnhBgPGC2PJYR4ChgjpWwthBgNZEopp1jsX4qyOn1WWa7HUhqNpkvVwMpbDAYjz3V8mv69X+b7pcsJq12TNs2eIFp7mSHjJnAvMxN7Ozu8PT1YM38uew4d5otvJoOUeHl6MH3mLPbs2UOdOnVo06YNOp2OkSNHotVqcXNzK0Kgz8rKIj8/H1dXV+bMmUNISAh9+/blypUrGI1GPD09efHFFxkwYECJxO+CAINRUVHEx8fj5uZmfkjEx8cTERFRJI8lJXzo0KHExsaSkpKCTqfD39+fcePGERYWxqZNm5g6dap5kL000nheXh46nY7s7GwcHR2ZM2cOwcHBjBkzhv379xMYGEj37t1p0qSJ2UZISAg3btzAYDCQkZGBo6Mj+fn5ODg40KxZMz799FNGjhzJmTNnyMzMZOXKlebyW7hwIRs3bkStVvPpp5/SsqXSdZiTk0O3bt0YNmwY382eRUGdhlStwqipM9DpdLi7uVLZ35+EpOQidarLy6PvoI8BcHJ0wLdKNbQXL5im2I9CU0dxIP95tQ8//KzUx/zZM4nYvp3kpES8fXzp8txzvPGfAcyZOoWDETtJSU9Xyunptnzy5mssWPUroTVCeLJJIwaNm0jMjVv4mGLQ+ft4M+Vz5fhHzpxj1tKVZGZmkpGdjbuzM11bPM5rndqzcPN2QqsG0bJ+OLPWbOD4xSsKTd/JkcEvW9D0f15N7J14EjKzEULg7ulVZgJ9zzfeRm2iW/w8ZzqaK0do61MsQrVEEr6UkuW3sziXkYdblRBGjRpFeaJFWKp79+4M6tuL+StWka/Xcy9DmQmcp8/HycGBDT9+z2cTJnPl+g18TK1wf18fpo8YBsDbnw/n8rVYsnNyECoVXdq1YcynH/H9shWE1apJm2ZNib50mSHjJlrfF/NmK/fFB8rsS2cnJ85pLzXUarWnyvJ8KUnJWblldgDezg6PZMOkXE5MCKFBebBfNn0fD3igdMsNkVIeE0LYAl+j0InbmCZ2HAVmmUKYqIF5wD0p5acWtvfyYCfmjxL1+WUp5RHTtueBgyjjdWuADlLKWKFQ73cBL0opT5XgxByBs8BHUsotpm1PoiBRkoEjwLOm/N4ok0jGSik3FXZiQogXUILC1ZNSJpbXiUEFdurfqArs1H1VYKfu61HBTv0bnFh5Fzu7ALNN0+f1wBWUrsW1KOM/OsAexXk8B0qzSQjRE/hOCDECpQtzK/BleU9WShkvlIigU4QQfoAR2AdsM+37HNhkcqT5wGdSSss3lfnCFEUZuCmlbC6UMC0zTNvzUaatfmSy9yrwgxDCFaWrcIblJBDgY1MaZ+Ac8JSUMtFi/3IhRMHUpSQp5dPlveYKVahCFfq7ZPwXsHMrAMCPkP4t8cTODOj20DakKQryP6m/5K29Qo+UTvd/+GVVf8V9Ya/XPTjRA2Tn6fPQLaOEjOwyP3P8XJ3+FS2xClWoQhWq0L9E/4ZGzCPpxIQQzwCTCm2+JqXs+U+cT4UqVKEK/Rv1b+hOfCSdmJRyO7D9nz6PClWoQhWq0KOtR9KJ/Zul0Wg6ATNRAsf9qNVqJ1ruL4k6D5iBtJbUdCklU6ZM4eDBgyQkJBAWFsaPP/4IwPDhwzl//jw2NjYEBgZy586dIoTu9PR0vvjiCy5cuEB+fj6BgYGMHTsWBwcHxowZw8WLF3n//fd57bXXSqR8p6enM2zYMO7evUvHjh0ZOGUZKpWK/ZvWM3nuPACMEu7k6pnfvh6PvT8MWzcP9Jn3uPTd1+SlJOIe1pDgVwcCoHZ0wsGvEvlpKdzZuoZbG362KkN7H39qvfel2YZ29ljyUpT5NMF938OzYQvUDo4IG1uMebnER2wqs42z9/JYm2EDdva8tHw5/fr1Q28xPldc/cTGxjJhwgSSk5Nxd3fH09OTd955h3bt2qHT6ejfvz+3bt0iNzcXT09PFi5cWGqdHjp0iClTpmA0GsnNzSU0NJQZM2aY6zQ6OpqUlBSklAQHBzNx4sQikQmaNGnC9evXMRqNdO3alXPnznHr1i3UajWtW7dmwIABxd5nhw8fZs6cOeTn56PT6cjLy8POzo4ePXqQlZXF1q1buXfvHvv37y/xXj137hwTJkxASklCQgI2NjZ4enoyevRohg4dipOTE2q1GrVazbJly0q8r0qKTFBAoI+Li+Oll17inXfesVo2URqBfka4F642Ku7m6vnpZiY3cvT0DHCik59TiRT8s/fyWHknCyklrb0ceKzQb7q03+zly5eZMGECiYmJJCcn4+fnR8+ePXmr14t8PWUax06cRKgE7/d/i4jIfZzXavFwc+fb8WMJrFyJfL2e0RO+4bz2Ega9gWe7dOLtfq8XPEs8gB9RZodL4C2tVhtFOfRvaIn9rXwi8V+CBQshXIQQ803pj5uO8URp9kz72gohNhdz3nuFEMcsvjcxTZlHCPGGEGJOMembmD7HCiH2F9p/SghxroBWD3QGwoDeGo3GatVoSdT5q1evFktNP3jwIDdv3uSFF16gYcOGXLlyxWyrU6dO/Prrr6xatYrTp0/TokWLIoTuxYsX4+/vT/369Xn77bfN9Hc3NzeGDBnCq6++arZXEuV78eLFNG3alPXr1zNgwACmfTyQk0P70bJjZyZ3aMyYMB9eCHRB42pHeL9BJOzfzqkv3uLmuiVU66UwldPPn+T0l29z+qt3EEKFPjuL44P74NvyaRwDg63qJ+S1QSTs28bJof24sXYRwX0UJJBnw+Y4h2g4+flbICX599I4/eV/ymzDKCUrk/TMHD2cEb4GNm/ezI0b1tEECtfPrFmzmDRpEjNnzmT37t14enoyZMgQJkyYgF6vx87Ojs6dO9OxY0cOHDiAvb0948aNK7FO8/LymDRpErNmzaJnz57k5uaSnZ1tVae9e/fmmWeeoVWrVtSsWbNIZIIPPviAEydOMGvWLNasWcOuXbto3749v/76K8uXL+f06dNMmzat2PvMw8OD6dOns2LFCvLy8tDr9axZs4bt27dTo0YNlixZUmJZFNioWbMmS5cuZeDAgdSqVQuDwcAXX3xhpsfPnz/fivRf0n1VUmSCAk2bNs3M5iwLgd6SCeqsVtEn0JlnfO+vOSuOgm+UkuW3M/k4xI1xGk+OpOm4etU6GHFJ5aDX6xkxYgSff/45arWahQsXsmrVKrZv387E6TPx8vRk85pf2LByOXfj43Fzc2Xr2tW81rsX0+d+B8COiN3k5eWzfvkyVi35iTXrN3D7zt2CQ88Etmm12lDgMeAC5ZSUssx/j6r+Nicm/ruw4B9R1nbVklI2Bt4EfEqzV4ZL8BNClA38V1SuQogqpmuyXBzTFLii1WqvarXaPOAXTEsRClQSdb4kanpkZCQtW7bk0KFDvPHGGxgMBjOhu1WrVgghSE5ORq1WY2NjU4TQHRkZicFgoEuXLnTv3p3o6GgyMjIwGo2Eh4djY6M01kujfBecs0qlwtbWlp0XYpAGPYlRu/Fq3AqAIym5POHpgFNgNdKjFX5f+vmTeDW2Zgu61qyDMS+X1BNRGHKySDwUgffjra3SOAaFkHZOIYKlR5/Aq4my3ykohHsXTuFavTY5d2+SefUCHvWalNnG1Ww9gb4+uKbcwQYjHTt2JCIiwlwGxdVPVFQUVapUoUaNGjg6OpqdVUErQAhBVFQU3bp1Q6/X4+TkxIULF0qs082bN1OlShVsbW05fPgw7du3J9kCHNyqVSv27dtHt27dCA8Px9PTs0hkgqSkJHM8N1tbWzp16mS2YWtrS2hoKCdOnCj2PgsNDcXX15fo6GiqV6+OXq9HSknHjh25e/euFemipHvVwcEBGxsbIiMjadOmDSqVirp165KRkYHBYI36K+2+KikyQVJSEnv37iUwMJDq1auTlZVVJgK9ZcvMzVZFiJMtaov5dsVR8K9m6/GzU+Nrr8ZGJWjqYU9kZKRVmpLK4fDhw9SqVYu8vDyqVKlCWFgYDg4OdOzYka3bd/B2P6W1p1KpOHLsOM92UZiVHdq15cix40gpEUKQk6NEYdDpdNja2uLi7EyGEm7pSWAhgFarzdNqtWmUU1KW/e9R1d/ZEvuvwIKFEDWAJ4DhUkqjKd810+Llh4EPfwt89SeuG2A10Mv0uTew0vTZilYP3DJtM6sk6nxJ1PTExEQiIiLMP1I7O7sihO67d++aKQRgTehOSUkhIyODgIAAvL29SUlJKTflOyUlBR8fH1QqFTY2NtzTK5y6vJRE7L180Bkl5+7paOzpQNb1GLybKvAWr8dbY+PkjI3LfdSRnacPamdXEg/uBECXnICdl2VgAMi6fhmfpgq207tpG7ONrOtX8HzsCRz8KpN/Lw2P8EbYe/uV2UaG2h5PlRHPx55AZWdvvkbLh1/h+rG3t8fTRGY4d+4cq1evZsWKFQwbNszs/BISEhg3bhwdOnSgWbNmuLu7l1in169fx9/fn6lTp/Lhhx/i6elJXl5ekbrw8fFh69attGrVqkhkgoyMDJycnKzsFtRnRkYG+/fvR6/XlxrdICEhAb1eT2hoKHZ2dkUo/cWVhaWNc+fOsX37dmbPnm0uC39/f4xGIwMHDuTVV19l3bp1D4xuUFxkghs3brBkyRL+85//AJCZmVkmAv2fUVq+ES+7+49JT1tVmcuhoBX/zTffcOHCBXMr1s3NDYPRyJz5P/Dy62/yyZfDuRMXR4C/n4UNZ9LS0+nwVDscHR14qttzdHzuefr17Y27uxu379wBBf23SKPRnNRoND9qNBrn8l6fUcoy/z2q+jud2H8LFhwOnDLZKW7fn4UPRwF5Qoh2D0hXnH4Fnjd97g5sKilhTk5OuBDimBDimGUAybIqJSUFNzc36tQpmYawePFiXF1dadiwYYlpQGk1FMbs/BkVtnA6LZeaLna42KiIXf4d7qENeGzCj7jXaYAuOQFpvA9nVTu7YOvsStrpI5Sk2GVzcQtrSINJi3APu28j7cwfpJyMomrvAbjXbcS9S9FWth9oQ0ryUhJJORlF/fHzsbW1LVc3St26dRk0aBBPP/00ixYtsgpPM2fOHLZu3Up0dDT5+fml2omLi8PLy6vUOp07dy6NGjV6YJ1aSq/X89VXX9GrVy+r1mVxio+P5/z58+Yo1eVV3bp1adSoEcOHD7cqi+HDh7N8+XJzV+fFixcfaKtwZIL169fTp08fK0ddnB6GQP9XyGAwcPr0aXr37k3r1q3Zu3cvf/zxB0ajkZycHBrUr8fqpYt4rG5dkksIx3Iu+jwqlYqIzRv4fd1alq5Yyc3btwtatI2A77VabUMgixIibJSmf0N34t82sUNKmSmEaAy0Rol7s0oIUVIhP5KL6IDxwHDgc4ttJdWm5fZkINVEF7kAFAxq3MY6/k+Qo6PjDinlN6Asdj5+/Djx8fH4+/tbUectKdurV69m165dnDx5EgcHB06cOEH37t3Jy8vj3r17LFq0iG+/VaD5CxYsQKfTWcF4LenvOp0OFxcX4uLiSEpKwtPTs1yUbwAvLy+SkpLw8/NDSomrjfJuZOfliy4liSOpuTzhpRw/Ly2ZizNGAKCyd8T78ScxZN+PRO0UGEx+RjrS1O1k7+1nnrRRoLzUJC5O/fK+jSfamm3cWr+U9HPHqfpSfxCQc/cmztVqlsmGmzGPlDwjt9YvVf5a9cLPzw+jhSMsKIeC+tHpdKSm3o/PlZCQQM2aNUlOTiYmJoawsDBznvr169OoUSOio6NLJOHXrVuXPXv2cO3aNQ4ePGie1DBixAjzWFpeXh7x8fGMGzeu2MgErq6uVuNoBYT9r7/+mipVqtCnTx8OHTpU7H1WULcrVqwgJCTEzIksTOkvriwyMzPZvn07GzZsACAsLAyVSoWTkxMxMTHEx8ebJ2V4eXnRtm1bEhISSoxMAODs7Mz169dZuXKlOTJBdnY2s2bNYtasWWRkZCj3mp2dlY3CBPqCaxibJBleywN327K9v3vYqkjJu1//qflGKpWhHArqt2HDhgQHB7Njxw5atmzJxYsX0ev12NjY8HRb5b3+mfbtmPvDD8TFJxDg52eykYWHuztbduykVfNm2NrY4O3lSYP69Ym+cJEmDRsA3NJqtQVve2v5E07s36C/dWKHlNIglfhco4BBwAuF05hYivVQHvbnUSj5lvvdgKooiKviFA08ZrJTWH/GnuX57wYcgWYWm5OBwrEsvIDC4XZXoUziWGmx7ShQS6PRhGg0GjvgFWCjZaaSqPOW1PSWLVvi6enJ2rVrGThwIHXr1mXjxo30798fZ2dnswP77bffOHz4MFOmTCmR/v7KK69gY2PD1q1b2bRpE2FhYeWifAO0adPGTHrPz8+nfZ3qCLUNvs2f4s7R/VzKyKOhKZy8jau7Oepv0HN9SYj83eo4brXCESoV9r6VFBst2pNy7IBVGksbVXq+RvyeLcoOocLGxY2MmIs4VQnBJSSUtHMnymwjxMmG+DwDqTaO6I2SHTt28NRTT1mN4xSunyeeeIKbN29y4sQJcnJy2LFjB3Xq1CE2NpbKlSuTmppK06ZN2bx5M7m5uezYsQONRlMiCb9r164IIfjhhx9Yt24dnp6e1K9f3+zAfvvtN4xGI9WqVVPe0IuJTBAYGEhmZia3b99WSOk7dnDnzh0yMzP59NNPS73PMjIyGDx4MIMHDyYtLc3KxpNPmhneJdro1asX3377LUuXLqVt27asW7eOa9eukZaWhrOzM46msCU5OTkcOXKE+vXrlzsywZIlS8xU+d69e9O/f38CAgLKRKAfWbvsDgww3xOJOgN6o+SPNF2ZykEIQfPmzbly5QrVq1fnxo0bREVFUbVqVXbu3MkTTRpz9MRJAA4fPUa1KlXYuHUrADv37KVpk8YIIajk78+RY0pnUnZODmfORRNSrRo+SlifmxqNRmM6jfYoz7ty6d/Qnfi3YafEfxEWLIRYjRJXZ4SJ1RiM0pW4tTR7Qoi2JjtWnCRL+0KILqY8V6WUbYUCIT4CNJNSxplmJS4H6kgpjUKIWKAJyoSV94HpQGUU+HBdjUbTBZiBMsX+J61W+7VGoxkLHDt27NiG0qjzxVHTpZRMnjyZQ4cOIaXE19eXhQsXAtCkSRMCAwNxdnYmNzfXPFZiSehOS0vjiy++4OLFi+Tn51O5cmXGjBmDn58fr7/+OklJSTg5OeHk5MTYsWOZPHlyEcp3Wloaw4YNIy4ujk6dOvFen16o1CoS9m7ll4ULqN3rbUJTY0k5cQjvpm2o9so7ICX3Lp4mZtEMpF7pXrP3CaDe6DnE/DiFkFcHgkpN/J7N3Fq/lKovv01mzEVSjh/A+4m2yoxEKUm/cJqYhVOR+nyErR0NJ5mCGAgVKjt7pMFQLhtns4ysy3HEaDTy/Esv8cYbb/Ddd9+VGhUgNjaWcePGkZ6ejru7Oz4+PlSpUoXOnTtTuXJlRowYYR6X9PT05Icffii1Tg8cOMC0adMwGAw0btyYlJQUQkNDqVOnDp999hn+/v7cu3cPnU6Hh4eHlb2CyAS5ubkYDAZ8fHzo2LEjy5Ytw93dHWdnZ1xcXHj++ec5evRokfvsxx9/ZPHixVStWpXMzEwSExPx8fGhR48eZGZm8uuvv5KdnY2fnx9du3blxo0bRWxs2bKFJUuWoFarSUxMRK1W4+HhwXvvvcf8+fMBuH79Ov3796d///7ljkxgSaBv06YNTk5ONG7cuEwE+s+9dLjaqEjPNzLucho5BokAHNSC3+bNxCu8UREK/pl7efxyOxMj0MrLga8272PevHllihSxdetWFi9eTHZ2NllZWbi5ufHss8/So+PT9Hv3fYQQVA0KZMRnQ5g5bwEXL13C3c2NyePGUCUwkOzsbIaPn8DVa9eQEnp068Kbr/YFoF6zlg1RJrXZAVeBN7Vabclhu4vRlYSUMjuAmn5ej2SP2d/pxBoDs1EcV2FYcCWUh3wBLPgrKWWaKV8V4DuUMbICWPCQggkipjR7sXZibsBUlIkcOSitoqFSyqOl2TM5sd9RWlcFegklIrSl/eNAhpSyren7c8Aok71M4ENpigBd4MSkEgm64HyDMTmx0sqsgp14XxXsxAr9HapgJ1rrcnxymZ85tfy9//TxhBBeKL1TwUAsSiSS1EJpGgDfA24oEau/llI+MNx9BQD4EVKFE7uvCidWob9DFU7MWpfiyu7Eagc8lBObDKRIKSea5kZ4Sik/L5SmNkrgk8tCiMook/LqFDRwSrRd4cQeHemS4h66MvLsyz3LtkJ/o+x0WQ9t41Go0/SI3x7ahrrdw6NPXeJjH85ApWoPfQ6PiiN0dXX9/+TEtEBbKeVdIUQlYK+UUvOAPKdR4kFeLi1dBXaqQhWqUIX+R1WeCRtCiHdQhoQKtEBKuaCM2f2llAWokTjAv7TEQoimKGN9MQ8yXOHEKlShClXof1TlcWImh1Wi0xJC7AICitllBY0wTb4r8cCmltoyoF8BwKI0VTixR1AHDh9h0ozZygy57l3p/1pfq/1HT55iyPCRpKalU8nfn+nfjCdMU5RIUBJYdefOnYwZMwa9Xk9AQABLly7Fzc2N2NhYxowZw4ULFwgJCSEnJ8cMNHV1dWXcuHGcOHGCzMxMvL29GT58+AOBtVJKZs+ezdq1a8nLy8PHx4cFCxYUgc3a2try0Ucf8fjjj3Po0CHGjh1LWloa7u7u1K5dm3HjxuHhoSA2SwKulgavfeONN6zKpiQbUVFRjBw5koyMDNRqNZ988gkvvFBkZUiJZbtr1y4WLFjAtWvXWLJkCQ1qKN1XaenpvP3BYC5fvYazkxP9X+tbpF6PnTrN5JmzuXQlhhZNH+f6zVs4ONgzasx96G1p59CiRQumTp1KamoqarUaHx8fgoKCGDVqFK6uriQkJNC3b1/S0tLw9PRk8eLFpYKIAcaMGcOBAwewlUbsbNQYpaTL4w14XFODGet+J0+vR61S8VHPToRWCWTf2QuM+flXvvvgLTRBlYlLSePNqfMI8vEiecIc8vX5BFSqxBcjR1M7tOhi7h+/m8v2rVvIyLjHtsj7yyJWL/+Ztb+sIDU5GZVKRa/uXfjwjdes8v7820Y27IhArVbh6ebOyI/ep5KfH4eOn+Szb75Fl5dH1apV+fXXX8t0L8B9gG9WVhZCCJYuXQqA3qgwFbWZ+Qgh6BngRBMPeyuI8IlPX2XlnSzO3svDTiV4q4or1ZyKPnLLAtauVKkSEydOxM3Njb179zJv3jyuXLlyCmXS3GCtVmsuLI1G44Yy3f43rVY7qMgB/ybJUiLXL/m8iwAAIABJREFUCyHihRCVLLoTE0pI5wZsQZnsd7gsx/1b14mVJFE6GLgA8rvWIv2rprTRQojTQogfhQkabAnfLeY4PYQQUggRarEt2LTtA4ttc4QQb5g+LxZCXLM4j0Om7WbwrxBCJYRYIoT4SSiKFUKctcgzSwjxHyHEKotjuAkFQFy9tLIxGAxMmDqD76dO5rflS/h9VwQx12Kt0ty6c4dqVarQ9ZkOvNijO+OnTCvWVnFQVIPBwNdff81LL73E/v37ycnJMTucAuhvkyZNsLe3twKaTpkyhVq1auHr60tERATTp08vE7B206ZNHD9+nGeeeYbDhw/z5ptvFoHNrlq1itGjRzNy5EgMBgOTJk0iLy+PTZs24eXlhY+PD6tW3Z+kVBJwtTR4bVmhrdevX6dGjRpERUUxfPhw85q7spQtQI0aNZg8eXIRkoZarSY1/R7v93+Tzh2eLrZeK/n7Mf6rYTRu+BiJyclsXrWckZ8NsYLelnQON27cYOzYscyaNYtx48bh4+PDhAkTqFq1KgUkmF27dlG/fn0+//xzatWq9UC4NCjT0mfOnElKRgbfvNWbnz55l92no5m5/ndee7o1Cwb/hzc6tmHB1giydTrWHfyDOlWsSGpU9vbk7c5PoQkLY8vuSD4dNpzpk4q/puatn2Te4iVFtteoVQu1Ws2a72fy4Ruvsu73HVy9cdMqTWj1EJZNm8wvs6fTvmUzZi1aptxP837gy4EDmDRsCImJieUG+A4bNozVq1czf/58M+lkc0I2rjYqJtTxYpzGA42LLWANET6bkU+8zsCEUE9eD3Jh2e1MilNZwNpNmzZl8eLFADRt2pSVK1ei1WobAG+hTLO31DhgX7EHKySj0Vjmv4fURqCf6XM/TLxcSwkFzL4eWCqlXFt4f0n6rzsx8WAwcAPT34um9J1QeIedpZThKKiVQzygT9Wk3sAB039LJQAfmQqtOA21OI8Whc5foKwbswXelvdnxrSzyPMhyo1VRQhR8HYyFvhJSmn9CyqkcxcuUDUokKDAygq8tf1T7NlvvVD3bPR5XnmhJ2qVmmpVqpCRkUliUrJVmpLAqtHR0ej1evr27YutrS3du3c3A029vLwIDw/n5s2b5rU47du358iRI5w4cQK1Wk3Hjh1xdnamdu3aZQLWrl271nwcgOeee64IbBaUh79Op+PUqVMEBQWhUqnQ6/V06NCBq1evmtNBycDV0uC1ZYW2xsTE0KNHD4QQdOrUCaPRyJ07VsjPUqG1ISEhBAcHF6nXq7Gx1KoeQoCfH2qVqth6DaxUido1a5CQkEiTBg0QQvBY3XAz9La0c6hXrx5qtZqgoCBatWrFM888Q2RkJPXq1TOz/g4dOkS/fv2wt7cnKCjogXBpgEaNGhEXF4eNWk1lb09sbdS0eyyc9Kxssk0oqazcXLzdXFm0PZJX2rTAzrYod+BgtJZnuigLucPr1SMzI5PkpMQi6cLr1cPbx7fIdgcHR4KqVCUoIIDHwurg4uxE5JGjVmma1K+Hg4OyqL6upjbxyclEX75ClUoBdGnXBjcXF3x9fcsN8C3gLnp4eKBWK9d2IEVHVz8Fe6USwkypsYQIn0rPo4WnA0IIajjbkm2QpOVbO4OygLUBunXrZt7u5ORkuQbOGQtakEajaYzybNxRpBD/WU0EOgghLqM88yeCOUJIgRN+GQVq/IZFg6DBgwz/E92JRcDAQGnMvq9Q1mzdNqU3AD896CBCCBegFQryahPKuq4CJQIHUd4Ifijn+c8CvIFepfXXmvp93wVWmFp57SlEDylO8YlJ+Ftgbfz9fDkbbR1hISExiYBCaRISE/H18b6fpgSwagHYtYDIERISYtVyAsjOzsbFxQVQYKQODg64urqyZcsWdDodt27dYsiQIcUCayMiIqyAtbdv30alUjFhwgT8/PwYMmSIGZBa0D0ICukgNDSU1NRUAgIC6NmzJ6+88gpCCBwcHHjuufuw/5KAqwX2ioPXnjt3zroMS7BRAJwtOCcXFxfS0tLM3UullW1pKku9Fig3V4eH+30ocgGQ2ZKiUvgcVCqV1W+o4JrPnDlDhw4drPJcv34dlUplBZeuV6+eVV5LyG1ycjI2qvuOydfdFU1QZRZsiWD+ll0YJXzyfGe2HTtDszq1WL3POqRVXEoaCWnpXEzNwtfPn/oNG+Lr50diQmKxDqs4JSYm4Gu63g07IwirVZOE5OQS02/YGUGLxo1ISE7B36Lc7O3tyw3wHTRoEKmpqXTs2JF+/fqRbVB+9uvjstBm5eNrp6ZvoEsREkhqvgEvW3vzd09bFWn5Bjws0pUFrA2Y4dwF2rNnD0OHDr0I+AFdATQajQplveyrKI7igfpvkTiklMkoz8DC248Bb5s+/wz8XDjNg/RPdCeWBgZebuGBC/pxwoETf+I4zwHbpJSXgGTT4mtLTQKGiOJxVd9anMdyi+19UFqCr0gpCy9k2mOR52MAKeUZlAjVEcAHJmq/lYQQ7wgTAPjHpcv+xGX+d3TlyhVq1qzJ+++/j6Ojo7lrA0oH1ubl5aFSqZg5cyY9evRg7NixRdLExMQwe/ZsM2zWaDSaY18NHToUd3d3ygNHflh4reU5Vav28FOy/ylduHDBCpz7Vyo2PpH3unfgly8/4r2uT/PNLxt4t2vR56aXmwsrhn1AvZCqPP9yL8aN+IqszOK71cqirXsiuXAlhpZNGj0wzevPP1dimrKoAOA7fvx4Fi5caAb4GqTCUKzpbMuo2p7UcLZl9d2HX0pRmkQhOHe7du0wxRHrgdJ9CAohaKtWq71VVrsVAOA/oQeAgfsWUDKKkxCiHsqsFVfgywes5u6NEjQOlLhdvbEg2ksprwohjqA4psIaWkKf7AkU8kdTlJacpdpZUjosNBelK3RvcSdpOeNHlxQnT587R7zFm2J8QiJ+vj788ut6ft2o8NnC62iIK5LG+o22JGCvn58fNjY2JCUl4ePjw7Vr14rQwJ2cnMg0PWj0ej25ubn4+fkRGhpKfHw87du3Z/HixRgMhgcCa/38/MxQ4Xbt2jF69GhsbW2tYLNDhw5lzJgxBAUFkZKSwrVr13B0dCQoKIidO3dSv359zpw5U+Ta/ip47S+//MLdu3d57733CA8PR6vVsmrVKsaMGcPYsWPLBUMuSf6+PsXWa4Es69fe3p609PtxrcoCZDYajVYPmsjISBITE5k3b5754WeZx2g0FguXLq68vL290Rvv8yMT0zO4mZhM67rKUHMTTXUyc3V8skB5CUvJyGTE4tU83aguxy5dA0ATVAkHBwcqBwVx88YNEhMS8PUrWysMwNfXjyuXLnH+xDEWfDOODTsj8PP2LpLuyKnT/LT6VxZ8Mw47W1v8vL2It+iK1el0ZQIZWwJ8C1r4BQDf+mqBnQoauSujEY+723EgOReA3Uk57I+5gsOAgfjbqkjJt4YHexTqai0LWNvHx8cM5y4srVa7T6PRVNdoND5Ac6C1RqN5HyVuop1Go8nUarUlgoGNj65vKrP+kYkdZQEDWygapfWDlPKsVIJi/o4C5i1WJsTJU8CPQsFADQVeFkX7LCegEOrLuojvIkq/7SohRHgZ8xhNf2VSeGgo12/d4tadu+Tn57MtYjdtW7XklRd6smbJQtYsWchTT7Zm07btSCm5fvMmri7OVl2JUDKwNywsDBsbG1asWEF+fj6bNm0qAjStVq0a588rLNGIiAiaNm1KQEAANWvWZMeOHURFReHr61smYG3btm0JCAhg8+bNHD9+HE9PzyKw2UGDBtGggdL1HRYWRlJSEpcvXyYhIYEdO3YghCAkJMR8fn81vNbT05OnnnqKlStX0rRpU+bOncvAgQNRq9XlhiE/qF5T09IwGI3mei2QZf1W8vfj2KlTSCk5fS66TOdw9uxZDAYDt2/fZt++fRw4cIDx48dbRS+wvOZbt24VC5cuABGHh9+/vWvVqoXeYOBuSir5egN7Tkfj7ebC6avXAbh8O45agQGs+OIDVnzxAWFVAxn3xsv8X3vnHR5F1f3xz4FQAkkghQ5SBEEEFVBQQKWJqKiIYgHFhqivKPqzIJbXAvJKs1DEgoqKiqBiAV/EAgoviEhRINJEihQpgoQQAiTn98edTWaXLbPZJdmQ+TzPPtmdmXv33uzMnLnnnvs9/S/pwoh+vZlw7220O60xn3/yMX9u3sT+f/6hYkKCY1ciQOm40vy+bi2D7upHYsUKzP5hPue39o7nWv37BoaNf5Xnn3iElMrmoaZpo4Zs2badrTv+4ujRo+zatStsAd9Dh0xSyqVLl9KgQQMzV5lUljUHjOZn+oEj1ChvjFOntHiGndOQKa+Op0WlcizYe8jMtWYeoUIp8XIl+vsd/Qlrg0lH49m+ZcuWvAeWxo0bt8TI9+1Zs2ZNnzVr1py0Zs2aesCDwDvBDBhAruY6fsUqha7YIQ6EgX2OvwQzXL5CVf+0tr0BzFPVSeKjo2jt7w+0UtU7bNu+B57A5BLL0zEUIx58DvBvq75J1n6vkZg1r3WWqg4Qkcswc2MXqOpm8aOXaCtXDwe6iZCv2DFvwY+MGDOWnJxcenS/hP433cj419+gaZMmdDyvHSvS0+l3z/0cys7OU7r+70dTALj6ltt5//33AQIKq3711Vc888wzHD16lBo1avD222/zwQcfUKtWLSZMmMCBAwfy8j81atSI5557jszMTIYOHZqXCiMtLY2HHnoopGBty5YtefTRR/n11185cuQItWvX5vnnnz9GbNbDuHHjSE9P5+mnnyYjI4OkpCROO+006tatS4sWLYIKrgYTr73tttsciba+/vrrTJw4MW+OqXr16kycOJGUlBR69+4d8n87Z84cRo4cyd69e0lMTKRJw5N55YVRAHTo3oN9+/ahQIX4eCa/NoFZ33yb97uu/O037hv8BP/s34/m5pKrSr2T6vDvp572Er0N1IZ27drx/PPPs3XrVsqXL0+tWrXYvXs3p5xyCuPGjSM7O5vOnTvn/bYpKSlMmDCBBg0a+BUiBnj00UdZsmQJe//+GwQS4+O5qn1rTq9/Es+89zFl4uJITqjIwB4Xc0rtGgD836vvcMelXWhcuyY/rPiNSbO/p3SpUuw5dJjSpUtTqXJlBj3xFE2sPt3W53reeM8ke3hlzEt8M3sWe3btIrVKFS69vAe39L+D/7v7Ltb+lk72ITPiqVm9Kh9PGMsrkz/g1EYNuaDN2fzr8adYv2kzadaIpVqVNF54YjDzf17CoP+M4siRI0ipUqSmptKyZUsuvPBCxwK+YEZiAwcO5JfburH7cA4TN2eQlaMkxJXi1joJpJYtTeOBT1GpaQviEitzeN8eHr2rPz+tXmuF2CdQr4KJYhyelRLyXLILa9eoUYP//Oc/VKpUiUmTJvHll1+yYcOGXzBasQ/ZQ+wBGjdufDNwVqgQ+5//2OrYAJxVv1bJEgAO+IWhhYGzrEN3e9YdiMhNmCeL0sA+YCXwpLXmYC5wKuDJNLgQSAOGq2qetouI3GsdNxxvI3YGsAy41WbELgDy09wa92FvLCNmlbsFM8I7D+OmzMCIVgL8qqp9rePqEaYRi4RYkChyyceVncrHlZ3KJ1Zkp04EI1YUc2JLgLZ+dnUIUuZt4NjFI2ZfwHI+x42xfWxm2/4LNreqqt4coIpJ1stz3FuAJ9qgXpDv3Wj/PhcXF5dYIZYDNpziKna4uLi4lFBiOdmlU1wjFkN4FklGRAy4nlzyiYXfdOe0cJdCHkut7r56AeGzITMr9EEhSCztb0WMc8pGIQVKNFyB0XBJtp/qGyBdMnGNmIuLi0sJJSdyOakip0hC7F1cXFxcXKKBOxKLERo3btytbu1a5OTkcuXFF3LLtb289i9ZsZLRr7zOug0b+c+jD9PlPBMC/b/FS3jsuVEcPHSIhIoVuKjbxXkq2OBfoXvjxo2MGDGCXbt2kZOTw5VXXsmgQflJVj1l5s2bh6oybdq0oGrnCxYs4Mknn8wLib/55pvp3dusIX/11VeZPn06hw4dIjs7mxo1ajBu3Dhq1qzJtm3b6NWrF3Xr1iUzMzNPOqpHjx706dOHESNGsGTJEkSE/v37M3fuXL9K42BUQ3r27EmFChVISEigR48elClThs8+MzqjDRs2ZPDgwQwbNuy41LFv3z4GDRpEeno63bt3Z9CgQSxYsIDRI4aTcSATAZKTK1MlJYWhg/6P5EqVAv6mqkqfAfezfuMmRIQOHTowbNiwY6TZAqmfT5gwge+//55SpUqRnJzM+VUq8v6CJWQeOgwCleLjqVC2DHdfdB4Nqqby9Yo1vDHnR9ISjduye8vT6HbGqfyyaSuvf2ckpA6/8zl/bt9OWkoKvXtdxW03eCvwL1n+CyPGjGPdht8Z/uS/ubBjh7x9dz3wECvS0zml2Rk8/p8ReX18Y+xLLFm0kHLly3PPoEc5+RTvHInZhw4x8qkn2LHNSJfVqVefrevXkJObS4+LLuSWa7yXly5dsYpRr73B+j82MuyRB+nS3sSPLfh5KY+NeJ6Dhw5RKSmRR+6/j24X5quLHD58mEefHkL6mjVUTqrEyKHPULNGdYaNfp7Pv5xlZNpSUuh15RX0u6kvABkZGQwZMoT09HT27NlDcnIyHTt2dKxAn/3nXkqJcH3NijSyxIMBsnJyOXTDg3To0JFSGftY9qC3Un+0ORHmxAo0EhOR6iIyxVJlXyIiX4rIKSKSZckupYvIOyJSxlamvYj8JCKrrVd/277GYtTol4vIbyLymrW9goi8J0YhfqWIzBeRBBF5QUTus5X/yiYiiYiMFpH/s97HicguEXnOpw/HqN+LSAcRmWH7PFREZolIOfvxIlJfRNaJyEVWmX9sklPLReRCq60X2+rqJSJ+nemNGzcuDYwfO/QpPn59PLPm/MCGTZu9jqlRpQpPPXAf3TrmL6rNycnhmRfGULN6NX74+AOqpKSwdOlSlizJEyY5RqF7zJgxDB8+nNGjR/PSSy+RnJzM/v3e8zafffYZ+/fv54ILLqBSpUpB1c4PHz7M0KFDSUhI4OuvvyYlJYWvv/6aLVvyFcabNWtG165dWbhwIXfccUdefQC1atXi3XeN0sPkyZPzVOdHjx5NcnIyn3zyCdOmTWPHjh1+lcY9jB49mtKlS9OjRw+mTZvGzJkzmTx5Mu+88w5Tp04lNzeXkSNHHrc6ypUrx1133cXAgQPzfpvhw4fz4tNPkJubS6VKSTw3+CEaNajHh5/PDPibArz70XS2bt/Bgs+m8erwocyfP9/rN/UQSP38xhtvZMqUKbz//vu0a9eOcbPn8UyvS3jk8i4kxZdn8BVduK5tS8bMyhc6P//Ukxl3y9WMu+Vqup1h5MPOqFuLcbdczUs39SRXlYSKFZk++W1mffPdMQr81atVZcijj3Bxl2Olp26+/jqGPu6VUoqli35k29YtvDx5Cnc98BCvWmvpfLni2usZ9877jHxlIosX/o+bru7JR6+M5avv5x2jYl+9ahpP/9+9dOuQv5g5JyeHp14YQ/06tZk7dTLJlZN55a1JHMjMX/rwyeczSEpK5MuPpnLj9dfywviXmbdwIUuX/8p5557Dmy+PJTm5MtOmf8bWbSav46hRo2jbti0pKSm8/PLLTJkyJSwF+qcaJ3NLnQQm/ektwTV9x0F+nTWDsfff5ff/EW1Unb9ilbCNmKV6MR2TXvpkVW0FDMYoJ/9uKWo0B2pj1C0QkerA+8CdqtoEI8x7h4hcalU7BnjBUoA/FbOODGAg8JeqNrfWWd2GWQ/2P6wwfREphVkXZlfQaItRuge4EFgL9PKj2BGsn48D7YArPWLF1vbawCzgAVX9yto8z6Zgf6aqfg3cCTwvIuXFiBEPA+4O8HWtgfW1a1SnTJkyXNThfOYuXOR1QM3q1TilQX1Klcrvwso166jqUXIQoVP7tuzbt49UmxyPr0L3woULqVOnDieffDJnnXUWzZs3Z+vWrV7f9d1337Fnzx5uu+02KlasGFTtfMaMGVSqVIkWLVqQmJjIRRddRHx8PN99911efRs2bPCrEu5h1apV1KlTh9q1a1OmTBm6du3KrFmzuOWWWwAjbrt48eKAdcydO5dy5cqRkpJCpUqVKFOmDOeffz5ZWVlkZ2fnSWcFa0ekdcTHx3PmmWdSrlw5rz7VrF4NBNq3Pos5C34kM/MgVVJTAv6mAMtWpZOYUJGjOTk0PrkBOTk5lCrlfakGUz/3iDeDSS1TsVxZalRO4vS6NenYtBEL122kSa1q7MlwpmG4dvtOypcvx/ltzyUpMZFunTsxd753UIFHgb+Un0uszVmtqFjBW2Dnp//No2PXbogIjZs2IzPzAH/v8dYKKFe+PM1bGI3EP35fT6XKyeRorjlHzm9/7DVSrRqN6tdDbP/PVWvXUbFCBc5t1YL48uW59KILKVe2HPMX5qeqmjNvHpdfcgkAF3bswKKflzDn+3m0OvMMDh3K5rQmTdifkYGUKkVCxYocOHCAZcuW0a5dOzIzM2nRogVJSUlhK9Bn56qXVNDGg0fZfzSX0r//Sub+KAQElRAKMhLrCBxR1Vc8G6y1Vltsn3OAnwBPYqG7gUmqutTavxt4GPBIotQA/rSVX2HbvtW2fY1lUBZgdMLAGK+VQIaIJItIOcyiZo9osEdDcbOtTFBE5AHgYuAyVbWHVNXACBg/pqqfB6tDVVdi1PMHAf/G5MgJlGq7Frb/X9W0VHbuDqzQ7WHXnj00ql+Xs89oTtfrb2LShx+RmprqJdHkq9Bdrlw5Lw22pKQksrK8o8bWrl3LtddeS/nyJo2EXe3crrjtUbGvU6cOy5cvz0u2uH79ei89uG3btvHMM8/w9NNP5ynk//PPP3n7HnvsMdatW8eyZcvy2pSTk8OECRPo06cPgwYNYvv27X6Vxg8ePMjbb79N27ZtvW7eDRo0oGHDhnTv3p1u3bqRkJDA4cOHj1sdvnj+V2Xi4nj0nn8x5bMveOODqWzYvIUeF10Y9HfNycmheZPGdL3+Ji66/iZSU1O95KN8f1c4Vkl//PjxXHrppcybN4/mdWrkbU9LrMieA5nM/mU1rRrkK6X8b80f/OvNaTw7fTa79nsbtz0ZB9mfcYBunTsBULVKFf7yk0YlHPbs3k2qXZ8xrSp/7z5G8CaP7X9u5kDGflqfcbrpb1oqu/b8HfB4Dzv3/E2t6tVYuGQZWYeySaiYwKbNm/nrr3wdy527dlG9mmmL+U0rsnX7drp07EB8fHk6db+Crdu2c/GFnalUKYmtW7dSuXJlnn32WXbt2sWQIUPIysoKS4H+sdV7eemP/dxcx5xvuapM3XaAa2oUbnTxiSAAXBAj1gybkK4/RKQ80AYzYgFjaHzL/Ez+6OkF4DsR+a+I3C9WwktMypVBIrLQcu01AlDVbcBRETkJM+paCCzCGKmzgBWqethqRxeMMfmAY/OK+aMdZhR1sar6Pqq+DYzzIw58no878WRr+9MYpY+LgRH+vkxE+u/YsWN4RkbGFW++H0zP2D8HMg/yx5Y/mfXeWzx0V3927tyZZwwKwpo1azhy5Aht2/pbj+6fxMRE+vbty4ABA3j33Xe98i5dffXVnHTSSYwdO5a0tDReeOGFvHJpaWnMmDGDgQMH0qxZMx5//HEOHDhAbm4uWVlZnH766bz33ns0b97cK0eZnddee43evXtTtqx3arisrCy2bt3K559/zqxZs8jKysoTNT4edQTiyNGjTJvxJf+66QYu79qZRvXr8daHwfP9HTqUzbadO5n13lvMen8S+/fvZ82aNWF97913383MmTNp0aIFm3fv9dq3O+MAs39dza0d2gDQpmFdJt3Zm5dv7UWL+rUZPXOO1/EHDh1i//79tG3TOqw2RIucnKN8/tFUTqpXn9o1qoddvmpqKu3ObsWtDw5iysefkJaaSqnSoW99GzZupFSpUnw74zPObN6MmbNms2XrVnJyclizZg2dO3emWbNmx2R18EX8KNA/2ySZAfWS+HSHSYM0Z88hmieVJaVsZEsIwuVobq7jV6wS7ejEk0VkOfAXsN1KRRISS/3iVGAaRrnjRxEpp6rLgQbASCAFWCwinnwfCzAGzGPEFto+e3wd3YE51mjqY6CH+E+9Ymc9RhDY3+PyN8ANIlLBZ7uvO/F3q1+ZwIfAu3aXpE/fX6tevfoNiYmJS2/tfS0AO3fvoWrasQrdvlRJTWXthj9o3qQxFeLj2bd/Pw0bNvSr+A5GkT47O5u9e/Nvavv37yc+Pt/Vs2LFCo4cOULfvn3p168fmzZtYseOHQHVzuvWrctff/1Fjx49mDx5Mt27dyc5OTlPDzE1NZWqVauya9currzySlauXJmnEl62bFkqV65M1apVyc7OplatWmzevJmMjAzi4uLo1Mk8+Xfp0oWcnByvfnjqWLlyJWPGjGHkyJGsX7+et956iw8//JBly5aRlpZGcnIycXFxdOzYERE5bnX44vlfrf19g3VsDlXT0rjwgvb8kn5sHrEFPy/hurvu5bq77iUrO5tqaWlUiI+nQnw8cXFxbN++3W/9HgIp6Xfp0oWte/NHiut27GLllh08cdVFJMWb0V1SfHnKxJnL4qLTm7B+h/eIaNOefVSuXJkyVlbjnbt2US0M8V4PO3ds5/5+N3N/v5tJTk1ljz1n2e6dpPiIHHt4edQIatasQ4WK+aPkv3bvyXPLBsOjYn/bdb34YNyLdO/WlXLlylH3pDr5x1Spwo6/dvLBRx9z1Q03sW37DmpUr8633/9A+3PPoUxcHH/v3csZzZux6rfVVK1alapVq3LuuefmZXVYvXq1XwV6IKACfeOEMuw6nEPG0Vx+zzzKd7sP8XD630zblsnSfw6z/2jsGo5YoiBGbBWBkzt65sROBlqJyOXW9nQ/ZVpZdQFmdKWqb6rqFRhNxWbW9gOq+omq/guTMO0Sq4hnXqw5xp34I2YkZp/p1dM/AAAgAElEQVQPux7oYgn0LsEks+wUon9/Wd/xooh09Nk3AlgMTBMRp5GdTlTsFwONtu7YwZEjR/hq7g9ccE7op97TGjciIzOTBYuXkHXoELPm/sDBgweDKr63adOGLVu25Cm8r1q1yitC7+qrr+b+++/nggsuYOLEiaSmpubdvP2pnV966aVs2bKFVatWceTIEWbOnMm2bdvo1s0s5ty9e3deG+bMmUNCQkKeSvjevXvJycmhadOm/PHHH2zcuJGqVavy9ddfc/bZZ+cFMyxevDhv/s3TD08dEydO5IsvvmDmzJlUqFCBnj170rNnT9LT08nIyODQIaMivnjxYpo1a3bc6vCladOmbNmyhdzcXDZs2syX387lgnNas2jpcurXqXPM8W3PasWUCWOYMmEMZ53enMXLf+XI0aMsXWkycTdr5q1cFkz93JPMEWD79u0osGPffrbt3ceXy9K5s3NbaqfkJyT9+0B+kMOi9Zuok5q/D+C3P3eQm5vjlVnhgvbOR+oeqlavwQsTJ/HCxEm0aXcec2bPQlVZk76SChUTSEk91oi998ZrHMzM5L7Hn2D71i1s3fGXyUzww3xH10jTUxqxees2flv/O0eOHOHTGV+SdSiLtq3zy3Y4rz2ff/kl1199Ff1uupEuHTvQ+YLz2b5jBz8u/plfVq6kQoUKrF3/O/Xr1iUtLY1q1apx4MABKlasyBdffEH9+vXDVqDfdPAoR3MhobTQv24iI5umMKJpCr1qVqRlpbIkxR3/FVAngjsxbAFgKzjiR+ANNbmwEJHTgUrABJuw7pXAw6p6rojUwLj7LlfV5SKSinE1PqOqX4hIN+BbVT1iBYEsA1pgjGG6qu4VkbJWmZdV9SMxaas/ATbYhIKXYOaXmgGHMaOqOp5RkCXae56q3ir+1e87WNu6i8jZwKfApVab52JEiJdgglQOAzdjxIIfVNXuAf5fTwEHVNV/+JVF48aNLzmpVs2Zubm5XN61C/16X8uEtyfT9JRGXHBuG1atWcsDzwxjf8YBypUtS2pyZT56/WV++HERjw9/nkPZ2SQmJHDxpZdSoUKFoGrtGzduzFM7j4uLy1NsHzBgANdcc01emVWrVrF3714+/PDDPFVvf2rn8+fPZ9CgQeTk5FCpUiWGDBnC0qVLOfXUU/nmm29YvXo1O3fuJCcnh5NOOokRI0ZQu3Ztvv32W1599VXi4uLIzMzk8OHDlC1blssvv5xLLrmE22+/HRGhdu3aDB48mPHjx/tVGvfw2GOPsWjRIipWrMjll1/O0aNHmTp1KuXLl6dly5Y8/PDDDB069LjVcdlll5GZmcmRI0dITEzk1ltv5f1332F/xgEQSEtJIfvwYfr3uY5LO3cM+JsePXqU6+66l81btyGlStGpUyeeffZZILiKvUf9/KGHHsrL3lyjRg1aJ8XxwYKl7M08SE5OLrVTK/P3gYPEl43jjTt689b3i1i0bhOlSwmJ8eW5u2t76qSakcNf/2Tw4ORPefKJxxk19mVyc3PpcenF3N73RsZPfJPTmjSmQ/t2rPxtNfc/9nh+X1JSmP7uJABuvvseNm7aTGZWFolJlbj7oUc48+zWvPbS8yxbvIhy5UyIfcPGJj/Z/f1u5oWJk9i9aye3X9OTWifVpUyZMhzMzOTooYPEly/PFV27cNt1vZjw7vs0bdSQC85pzaq163hwyHPsP5D//5z2yljmLPiRR54bBaqkpqYwbtQIvpn7Pac1aULH888jOzubwU8PYfXatVRKSmLEkKepXbMmTz83nC+/+pqcnByqpKVx7VVXcssNfbiq7y08+eSTDB06lIyMDP7++28qVapE+/btHSvQH9m2iTKlhGtqeIfYA6Tc+QS1Tm9FYuVkjvzzN5unvsFfc2bgS/up/4tYkPeblescG4AuzRrFpABwgVTsRaQm8CJmNHUI2AjcB0y3GTEBlgMDVHWeiJyPSZ2diHHXvaiqE6xjn8ek2D5kfcVIVZ0sIn0xhkMwo8aZwCBVVcstuBcYo6qPW/VMAs5V1cZilO8vVtXrbO1OAdZgIie/4lj1+/HYDJKIdAUmYoJZ3rD2/WwZ1BnAL1abPgP+sP2LhnrmzZwaMYDMjWsjftzJTa0R+iCXQqPUnu2hDwpBpL9pzMhOHY18WepJWYGDP5xQNiV8N6gv2XHlIq4jSrJTrhGjCFKxuATGNWInHq4Ry8c1YvnEihH76lfn95yLTj8lJo2YKzvl4uLi4lJ8CWdiz30V/QvoX5TlT6Q6YqENsVJHLLQhVuqIhTZEq46S8HJHYsWP/qEPOa7lT6Q6YqENsVJHLLQhVuqIhTZEq44THteIubi4uLgUW1wj5uLi4uJSbHGNWPHjtSIufyLVEQttiJU6YqENsVJHLLQhWnWc8Lgh9i4uLi4uxRZ3JObi4uLiUmxxjZiLi4uLS7HFNWIuARGTsbteUbfDxcXFJRCuETuBsfKtBdp3noMq3gJmi8hjIlIm5NEnOA7S+BQKwX5Xh+UHRKENkyIsH1EfYgn3Qa9ocY1YjCIiU23vh/vsm+2wmrki8rD95isi1URkMiYRaVBUdRrQEkgCfhaRB0Xk/zwvh21ARFJF5B4RGW+9BliZDBwT6ahQRCaISFJBy1ssERFH2cHDRUSahHH4pxF+3a0Rlgc4PcLykfYBiPw6EZFfA7xWiIijfIjANyLySBjpmXzb4Ho8IsA1YrFLI9t73wSdTlVMW2HS2SwXkU4iMhD4CaPY7zRN72EgEyiHyUBgf4XESmK60mrLWmAdcDawIswbd6Sjwg0YI9S7AGU93AG8JCKvi8ixWQ4jw+mDCZisDkVNBRFpISIt/b0clI9WHyK9TnKBHOBd4BrgMuvV3frrhBZANcz55cTD4Yvr8YgAN8Q+RhGRpara0ve9v88O6hqIGXltA85R1T8dlusGPA98jsn9djCcPlh1fARMVdWpPtuvAnqr6lVh1JUAPAF0w9x08pKNqurzDsrXwvQnDZjgU/4Th20Q4E5MiqD/+tRxb4iyYwLtAm5SVUcjRRHZCUwJtN9BO44C/n5LMcVDt0NEMjDJXP0ZI1XVoMlnI+2DrZ6IrxPrYep6jNFKx+QLnK2qR520wVZPK+Bb4E/MeeH5f4YctUZ6bpdkIs+N4HK8qCAiLTCj5XjrvViveCcViEhlYDjQBnNxXAL8V0QGqup3Dqp4DOilqqtCHhmY5qp6te9GVf1YRIaFWZfvqDCs/O2qulVEZgLPYm5YnvKKSbDqhBTMSHIXJkFqOG24BXgAyPazL5xcJ1nWdxeUFaraIoLyAOtDGaoQRNoHDxFfJ6q6GngSeFJErgXewVw3I502QkQ6AS9h8g+OJ8xzkwjP7ZKMa8Ril+2YUQPADtt7z2cnLAVeBu62nipnWxmxXxaRTaoa9MapqgVxjfiSWcB9XviMCluGOyoUkdMwo69tQGtVDTvRl4jcCTyEubndpuG7MRYDK1V1gZ+6nwqjnj2q+naY3x1rRKsPEV8n1gj9OuBKTKLd+4HpThsgIlMwiXZ7q+oKp+Vs5SM6t0s6rhGLUVS1YxSqOd/Xdaiqy4G2InJ7FOp3QtUAQSCC87k9iHxU+BEwUFXDmXvypT0mc/jOApa/mvzs5V6oav0w6jlcwO/3MC3C8gAPR1g+0j4AkV8nIvI9ZuQzFTNS3mPtKisiKar6t4NqvlHViRE0IxoejxKLOycWw1gRfL0BTwDEb8D7Di+smEBEngy2X1WfdlhPF1X9xnpfX1X/sO3rGWpOS0ROVdXfrPflVDXbtu8cVf3RQRtuUNXJ1vt2qvo/274BqjrOSV8iJVR4uqpuDlH+SYwLNUBxHeKgDXNC1NE5RPmI+uBTV4GvExHZSH4/7P3xzGc1cFDHi6p6n/V+oKq+ZNs3SVVvDlE+onO7pOMasRjFiur7DvgKWIa5qFpgIrA6WX78EkOkE/hRCgCIWrCNn7qfUtWnHB67AnPDtQdVKGZkW1VVg65nE5EH/GyuAPQDUlU1wUEbWvnZfA5mhLZTVc8OUT6iPtjqKfLrJBbOzZKM606MXYZg3F/+ovqeBRxH9RUlIjKWwE/sjqPQ8L7Z+UbEOQnXjrR8tOoIhOMgB1Vt7vXFZo3RIKALEDJYRlVH28omAgMxa8emAKMDlfOpI6+9InIBJrKuPHCnqv73ePfBRkTXiZ/lAArsVtUtYbQh2HkRaflYWE4R07hGLHaJZlRfUfJzlOrRAO/9fT4e5aNVh/+KVb8It4yINMLMp7TBGJ97VfWIw7IpwP8BfYC3MQEFe8P8/ouAxzHRls+q6pxwylt1FLgPFpFeJ/6MdoqIlAWut+aQQ1HKWjdYyvbeY3ycjCiP23lVEnCNWOwSlai+GKCxqj4ahXoaiMjnmJuD5z3WZydBEbWtdVpie+8pX8thG5qIUXEQ4GTJV3QQwMncyVRVvcZ6P1xVB9n2zVbVrk4aISLNMDf+04ARmEjJHId9QERGAj0x+aqaq+oBp2VtdSzGuP5GYhbPe41qVHXp8eyDjYiuk0CBISJyFjAGON9BGyphRtIew2XvuxMjFOm5XaJx58RiFBH5E+9w4bxdwH2qWqeQm1QgouXTt1xWAVHV70OUvylE+ZDh3iJSN8juUvYJ+QDll3nWZ/mZ+8jb56AdOcAWYCZGbcKLUC5aEcnFjJ6O4j+Ywcli57kEvkFrqDVkkfbBVs9xu06ice6KSHKoEW6k53ZJxx2JxS6vE1jaKZJw3sKmtI97xYswIi3LqurX/naI0cwLdaEvV9VfApS/y2EbOvgzdmI0894l9ILlYE+M4TxN3hbm8d5fpBqx3Jyqdoiwioj6YOO4XCciUg2H7RORiaraz8/22sAsoFmIKiI9t0s0rhGLUZyGnhcDmuDtarGjOHDDWYwXkftVdaZng4iUAt4EqjsoP11EetkDEqw6nsaod0xwUMdAKzw/L228iFTELIx1EggQsboEgKpOcnqsP6z5MK8qgX3hLN4WkZ5+6tiNeVjICFU+0j7Y6onoOgkQeJQCtMUEvDihjBhR7b6qmmvV2xSYATzjoHyk53aJxnUnxjAicjEwGGhqbVoFDFfVL4uuVeERjpssRD31MVqFg1V1uojEYxbt7sfoDgYNBrBCwqcBfVR1oYgIxnA1Bq5Q1f0O2pCCebKerKpjRKQK8CXwrao+4qB80MCHQPMzfur5gmODAXYDczzr2EKU/4Njw9sTgeVAP1Xd6KCOt/xsTsGo29+mIWTNIu2DT10Fvk78uJkVs+B5sTpc1G6dS68CyRjljzbAh8BdqjrDQfmIzu2SjmvEYhQxihp3YNbdeCL8zgKeAybaRwOxTLSMmFVXbcx6oLHADZgbzf1hlD8dM2q6G/AolvRW28JnB3UkYW4484ArgFfsi1sLgwBzKCmY/8k6JwY1QL09gf6q2i2CttXFCD63CXFcVPoQS9eJFSzUAqgLXKMOFtDbykZ0bpdkXCMWo4hIOtDed85IjDrBfFU9tWhaFh4i8i9gmqru8tleBchQVb8yTH7q8Uyw18SEhH+NiWoDHEXDeVxoTTG5rL4BBmAJrTqZm7O50BIxwQTfYlNiVwfKCnIcVVjE5I1boqpnRlBHNIIZClxHuH2I9DqRCJVHrDo8LknB/LZLMb+rp5JQgTYRndslHXdOLHYRfzc2Vd1jvBfFhjMxQqy+N/j2QFfAaVCFfT3Pr5j8TZ5tCoRSVF9C/s0qA+Py+QkrIg9nc3P2/FKf+2wLqYQv/tUlzgYeFZGI1SVUNSeSc0NMOpCIgj5EpDH+VfodUYA+RHqdPOhnW57yiMM2/BzgvVMiPbdLNK4Ri132i8gZvhF1InIG5iZcXGilqv19N1q+/6FOK3E6XxSEDqq6KcI6vnAy2gpCVFRY/ARmgJmP6YuZDwpV3p8gczJwOeBI/9HPnBYYd2ANjDssVPmI+mAjoutEI1QeseoIuDxDnGV7vkhV/QoiW/NlLkFw3Ykxioi0B97DZH31XGhnATcBN6jq/KJqWziIyG+BXDrB9vk59gbM+fquz/YbgRxVfT9E+SJ1k1nl16hq43D3+TnWNzDDE4wwBxgaKkhFjhVl9pT/QR2mEvEzp+WpY12gG7JP+Yj6YKsn4utEIlQeEZH5qtreev+uqt5o2+dEO/FLoIfv/82aw/1cVeuF056ShjsSi1FUdb6ItMYEIdxsbU7HZGZ2mk8sFtgpIq1V9Sf7RhHxJJZ0yj2Av/mJT4AfMNl4gxELPtioqLBoeGlb/JXPC0u3XIhomKodngW41kjhNGvzn04MmFU+KiOMSK8TiVB5xKKi7f1pPvucnHdLMclqL1Mrl5iIdAAmY9LDuATBNWIxihX4kKqq//bZ3lREcnwDJWKYh4CpIjIJ7yflvphwZKeU8XejVdVMESnjoHwtyZeaOoZQk+8WHtkpX5ymoY9WbjVEpCrmxu25aa4CxocRFn4XJiy9ovX5ACYs/WWH5ROBN4BWgMeVd6aILMGE2DtZshBRH6w6Ir1OMoEDmFxvV+FtdJzOR0W0iF1VHxeRx4GvrOUCXYEXMaOzaGmPnrC4Rix2GYvJyuxLKsb10btwm1MwVPUnP0/Kq4A24dysMIuDK6qq14jFupmWdVA+izCU4gPwB97BHeESFXUJEWmHGXlOAt6xNrcCfhKRPmrLcxag/OOYxbwdVHWDta0B8JKYRJBO5irHYkY812n+Al/BzCmNwzykHLc++LSjwNeJBlEeEZFzHLahsohciQmKqWyLYhWMrmJIVHWoiBwkXxigk6qud/j9JRp3TixGEZGfVfWsAPtWqmooKZuYQESSAj2Vi8hJ6jD5oYg8iHEn3ukJ0BCTvmM8MFdVR4YoH405saiteYuwHT9iFtIu89l+JvCqgzVaa4AzfJc3WItsf1HVUxy0YZ2qNgp3X7T6YDv+uF0nIrJZVYMm77SO87fwOw9VDeoStAXJCNAOWI+J6PWUv9xRg0so7kgsdgn0xA7gxH0WK8wFPAn/vvVZd/OpZ18oVHWU5fL6wZrHEUz02XOq6kQyytFcTQicjg4CItFRYUnyvfkDqOpya2QaCvW3Pk9Vs8SIA0eKk3mgSPvg4XheJ47mUUMZKQeMCvDexQGuEYtd1ovIJb43N+smuKGI2lQQ7DcC37DqsIItVPUV4BXPTU4daPTZyAsdF5F2dneViAxQVSeh5YtFJKCbTFXfCbTP+p6A6hIiUludq0uI+FFHt8LWnazz2ioinVX1W5/ynYDtDtuwQET+DQxRmztHRJ7ACpAIQaR98HA8rxOnAsDBXKfqG1Hr54CAAr8i8iGuAHBQXHdijCIip2AERBfgHRBxLtBdVdcWVdvCQaKUej3EjcKJAYm4HWKUGfxxOVBLVYM+FEqUVFhEpD9GNutB8nNXtQKGA2+q6qshyp8GfAbMx/vcaofRkXSy1iwJE9jREqO5CGZh+zKM/uK+49kHWz2NMOlcCnSdiP/1bpA/L1XRzz7fOiI6L0LU7cilWZJxjViMYs33bMdMTHv8+qswEkWOpJpiAcnP9yTA/eTnfgor31MUDIg9l5fX3FZB5rqsIIY+wCBMgMOzquovctFeJipr5qzju2NGdKdhbsLpwEh1mCFaRMpjzi1PZGA68F6455aInEy+azRdVX8Po2xEfbDVU44CXicS5VxeBTkvQtTnGrEQuEYsRhGR9ZiItVGqerSo21NQ5NiFtV5oAVJpFNCARGtEGIeJsnwQ+BH4j6qucVh2EUZg15+6xOuq2tpJPZEiIg2Bar4RgFbE4A4nhkjMAuFEVf3IZ/vVwD8aID9WYSIi/1PVdg6PLQ80tD6uL4Axj+S8CHTuCTBDVWuE05aShmvEYhRr3ucZzDqVAao6r4ibVOREeKM4iIn6EuBk6z3W5wYO3UZ3Y3JMfYsJxtgYZvujosIiIiMxN9pXfbbfAdTXEArwIjIDk/Zjhc/25sAwVQ25jEBE/odZx+Qr7JyGkec693j2wQkisiXUSN86p4YBtwKbMOdDHcxv9Jg6SIMShfMiKil6SiquEYtxxOTB+hb4E6O47nRhbUwgQRYYY2R+fse4sYIGaUThRlE32H51oKtoRe7txCiN2C8cx7+JmIzB9gW+6ZgFvo5VWMQsKD5LfS5eMYkUfw0VVi4ii1X17AD7VqhqcwdtCBba/muo/0WkfXCCE1eciLyAiXC833MOWvN9o4AsVQ2ZGDMa50WQuss4MaQlGTc6MYaxosVewrgVx2OlDSlmBFtgHIe5mX8CXBiinrGYG0V7oJ3kK5Q7ulFo/tqyyoBnDdNaVf0nxPfaiUgqSaKnwlLO9+YPoKq5Io6k2ysH2ec0w3SSiMT5urrFqKc4qSPSPni+zzfDdN4uh+3oDpxib4uq7hejaLIaZ9mdoyrSa/W/E2aerztG1d4lAK4Ri1FEZApQG5O00ZEoayyiQRS+PYgRQA1FpAakHCb7bg+M8oYAdUVkOmYBdch1ZE5GayGIlgpLlog0UtV19o1WpF6Wg/I/i8jtqvq6T/l+OFc1+QR4XczyhEyrfALmocuJ0n+kffAQzPUZMqsy5gHInzHNERFHbqpA54XlPr4eM/IOiRiFkN6YczTFKucvVYyLHVV1XzH4Ah4s6jZEqR9pwJPAvUACMAFYiQnxbliI7RiCmY9KtG1LxEgeDXFYRwYmZbzvKwPY76D8z0H2rQyjLxdj5vRuBppbr1uAtcAlDspXw4Skz8XkrRqNWYu0EKjusA1xmOzJuzGGbwnGnfYcEHe8+xDF8+JToK+f7TdgFOTDra8FRkx4I0aR/x4HZYYB6zCu8n6Yh5o/Cut/UNxf7pxYjBJOxFwsIyKzMQt7EzGyUW8BXwDnAX00iHadTz0ZBF7Po6qaFKL8SqC1Wirhtu0JwI9aCDJeEqVULNbxzTDiyvaw8pEaxqhdRDray6vqd07L2uqIxzuqL0tE2qjqIgdlI+6DTz12IeFRTuoRkVqYkaNdW/MsjCvySlXd6qCOUzAjrusxRv1DzENo0HlYW/mdGOP9IiYoJltENqiqk0StJR7XiMUoJ5AR+0VVz7D8/JvUNtEuIsvVYRr6KLQjYLCB02CGKLRhJiaIw5+6xL2qevHxboPP9zYHmlgff1PVlVGqt9DWNonIFZggjP/grYIyGGNIPnNYTydswTbqo2YSomwuMA+j3r/e2ubYCIlIacyc8PWYB705QBegjhbj5TWFhTsnFrtEmvYjVsgB02AR2e2zrzADVVREksGv1FVhteN+YIaIXIMfdQmnlYgRnA309KmqeluI8pUw7tw6wK+Y/0lzEdmMUexwlJAy2FeEPCCwUgYQlujtM8CF6h2t+quIfIfpY1AjJiavXZqaLM7f2bZfDOxUW+bnIPTEpBWaIyKzgCk4+B94UNUcYBYwy5q77Y4ZCW4VozdaLDJWFBXuSCxGEZFVwCWB9mvkQQaFgojswyStFIwL8QfPLowEU3IhtWMj+UsUfNHCcN1IlFRYROQqP5vrYIxkaVWtHaL8GIwg8sOan0alFGY+K15V73HalgD1Owlt9yhlCCZFTT/7fnWolCEiq1TVNxGlZ1+6qjb1t892zHfALb7Xk7Uk4y1VdZJPzFOmInAFZkTVCTPfOl1VZ4codx9mjnKpfeRlhfr30BCSaiUd14jFKBIjaT8ixXaziseEtitmQj8Lwpf1OR6ISC0ncx9R+J6oq7CIyQP2KHA+8ALwhoaItBSj4Xi6bxushb8r1IH8VZCRlGPNQVtdBT7XReQX4DL1SeljGaEvQnksQqyZC7neLUi9yUAv4Fr1ztzg79hRmPxuTYAVmGwJC4AF6qOz6XIsrjsxdok47UeMsAB4FqOI4LnR1MEkQ3y0iNrky0KgMOZwWmDcX0us0PQCq7CISBNMWL4nGu7OMAzjYX/HqupREcl2WEewlCHhphOJ5En6SeAbERmGt4v2EYwsWSiCeQIqFLRRatT5XxORoAbMOvZBABEpi2l7W0yk5msisi/UaLKk4xqx2OUP8Z/KHgBVfT7QvhhjBCa0vr4eq4gwCmeLSY83YaWEKShW/+8XS4VFjDhy2CosIjINo/g+GuNCzMEsPvZ8T6in9/Ii0oJj+y1AOYfdOQczosxxeLz3F5mUKx5K+85XOh2BqOqnIvIH8ADgcYOuAq5RH43KAHwjIs8Cj6vllrKCkJ7GNkcWAUHlt3yIB5Iw2aArAdswIzOXILjuxBhFjoNwblEgIuvwUUSwtpcGVmuIDMCFQSFH03lUWL7CR4XF6TynNb/n+X96MgLbqgk+vycicwkeVBFSq09ExmHUU+5WHyFhJ1iGx7fttiY4juwrj1n756vhWAXICDXXaM1jTQRak59S5gxMpGM/VT3gpB1B6ncyP/gaJjIyA1iE0QX9UX1yrbn4xx2JxSjBjJR14RUX1NeAWRsdKyJEAzGpXALN4QSTYYpmG6KiwqKq9SJph9O1eSHqGCBGfX2ciPyGWcRuN8hLAxY2+6Ml1TQGE9nnqxLSHugK3BWi/HhVvd6aW8xbZ6aqjhNqSnAVeifZpU/CjIDXAVsxOqlB87G55OOOxGIYayFmDYwg6mERqQrcB9ysqjWLtnXOEJFPgU98I6xE5AaMy8dpKHWk7bgp2H51II8VhTY8qKpRST9vzZ/0wXuB7/uqGnJOS0QeVtUR1vteqjrNtm+YqjqeqxSRDsDHGLdX3ugwVFSfiNygqpOt9wXNtI2ILFHVVgH2BYxctB0T8XpMiYIKveXCPA0zH9YWE736N7BQVYN6ZUo6rhGLUayw28cwkXzlMJp7wzFhuyNU1Wka+SIlGooIx6FNCQCRuooK8L1RWcAuIk2BzzHBP57/aSscZmaW6GS5roqZk2sA/Mvh/FNU22AdG1GiURFZjQmJ9zsvGmpEGW1EpDbmd2yLWS+WqqqF4ikorrjuxNilP9BYVf8WkZMwsjTtHC6+jBksI9XGRxHhSw1DESFaiFEmHwxUtD4fwMv84kUAAAwfSURBVKR18SfKG8uMBe5Sn8STItIFGAeEevKXAO/9fQ7EIoxKRl9/7mIHRKMNADtFpLWq/uRVgVnE7CQrQC2MMfY7N4dZ7xUUK1CpmlpixiLSi3wF/a9U9a8Q5e8lfwR2BCu8HngTN7AjJK4Ri10OeSK0VHWzGG29YmXA7KjR5YtGtFeBEJHHMTeJDp75Dmse5CURSVHVoYXQjGipsNTyNWCYCr6x5v5CoQHe+/sciGuAsn4Cdpxmh45GG8BoJk4VkUl4j/T7YlQ0QrE+lOvTAaMwRsejyP8f4L8YQ9YWuDNE+XrANExOs2LhYYklXHdijCJGFHSKbdN19s+qem+hN6oYIyJrgDN8o9XECNj+oqqnFEIboqLCIiJrgea+819WpN6KUBGfIpIDZEJezi2PKLIA5VU1ZDCCRJgdWqKQadtWV1VM2hK7Cso4Vd3poGzEogIisgxoaQvRz6tTROaravsQ5SsAR9RKfikijTHnySZVdZLWpkTjjsRil4d8PhfbUViMoP7CrdWorheWduJhp4YqBO8AH4vI3Zqf7LMeJlLv3VCFVbV0FNpQzV+EpaqusNoSirmYFCR/EtliZyxjFTT4QUQ+VlV/cl2DrP3l8VbjdywDhkk9Y+/Djbb3TuazZgG3AetEpCFm8f17QHcROVtVB4fRlhKHa8RilGDRcmLkgVzCY6uIdPadi7MUFQrLhRMVFRZVHSoiA4B51lO8AAcwi49DuhOtG/admJv2r8CbGr4MVqTZob/CKI3UAKYCH6jqsjDbEA6B1p3NEZERGEWZTZj/ZR0xIsuPeUZHIcgVkeqqugNArWwAVlCTkwekZM1PDnoT5n9xjxWBugQzj+sSAPdmGKPY3RAi8q6q2p/ufgKKfZqWQuZe4DMRmY/33Ek7jGhrYRA1FRYrBH2ciCRanzPCaMfbmACCeRi31WmEr5wSUXZoVX0JMx9ZF+Mqf9Ny7X6AuYmvDbM9Ib8ywPYRmFx3kSjKjAS+EJEHAI8hbmmVHxlm2zp5yljLagoz00OxxJ0Ti1F8/Oq+IcgnhDhwYWK5aaoDp2DLGwWsAbY7CESIRhuiosIiIpdh1g56XIn/Bq7CjCQGquofIcrn5U+zRvU/hRv6LyLVgOkYNXz7Q0FZzNKJHeHUZ9XZAhORd3qUXJ72uv2G7UuUFGVEpBtGC/Q0jFFaBTynJsVLqLKTgR2Yhc6PYAzqQRGpDHyvqmc4aUNJxR2JxS7Bni7cJ4/weRETiPCmfaMViPAiEDQQIRoEM1JhqrA8i9EuRES6Azdg1jq1AF4BLgpRPs9Fpkb0N4yvziv3F9BWvLNDz9Qws0NbRvRizGisM2au7KmwG+TgqwJsV39LBDRMRRlVnYWZ2yoIt2NGfPWArpqffbwp4YsplzhcIxa7VBaRK4FS1vue1nbBiIO6hEekgQhRQYKosABOVVjUdqPriUm/sgSjjv8vB+XPEBFP4ksB4q3PnlD/JIftANiNGUUAhIwG9CAinkzGl2Dc41OA/qqaGcZ3IyKTVPVmB4cGUrRPF5G+6l9RZrXDNkxV1Wus98NVdZBt32xV7RqsvKpmYXK5ecqUwTwYrFfVBU7aUJJxjVjs8j1wue29faTww7GHu4Qg0kCEiPFVYRERuwqLX+mkwFVJAiY0vjNGzcVD+VCFo+Gqk8izQw8G3gce0MiEbh2trdPAiSnvBj4RkVvxoyjjsA12l+OFeBvMKqEKi8grwFhVXWX9XxdiMhOkiJEq+8BhO0okrhGLXQYXZF7BJSARBSJEiWipsLyIUVzfD/ymqj9D3pxSYUVaDsEovXfSY7NDP0t+WhS/RGGBsYcK4j+tjOd7QgkRR0NRJlLX/3mq6lkQfQuwVlV7iEh1zKJp14gFwTVisctyEVmJOYE/VlVX1Toy7gOmi0gf/AQiFFIboqLCoqpvishXQFXArlm4A+OWLAy6YAIw7Mr1uSLyKIUrlRSxbJTFLvLdokFlovzgMaSlMK5ZTwCJZzF5KOyZuC/EqHegqjsKMl9Z0nCjE2MUKzqqC2bC+xJMjqEPgM8sH7pLAfAJRFgVbiBChN99XFVYROQU4CFVvT2Sehx+13JVPTPcfcehHRFF6gZyi2KykDtxi3pU7O250ew3VdEQKvZW+dGY6MQ5QBPLgMUBK1W1SXi9Klm4I7EYRU3G3K+Ar6xFj54IrhdF5FtV7VOkDSymqOoczI2iKIiKCouInI6JWqsJfIpJrjkOaIO5GRYG0cgOHQtE5Ba1GARsUUv3UEzan6uAjTiLtLwDo7ZSA7jPNo3QGZjptCMlFXckVkwQkUaYaK4bgAPhrutxiW1EJM6paoaILMIkoVwIeNYnvQ38O0y5pAIjUcgOHaV2dFXV2QWVjRKRdIxb9KjP9jiMDmXQVC7WsUuBLtZc5/mY0fU9wJnAqap6dRhdcgkT14jFMCJSBzP6uh6TPuQDYIqqOgr9dYktgqmwBFqMG6AeL3ediGxQ1UCySic0Vjj6s/jIRgGOZKOi4RYVkV88C5JFZDywS1WfCrOOizELne1JToer6pehypZ0XHdijCIiCzCT1lOB2wsSAOASc9gXNPtmHA5nBt/XlZdt/xwqIi8aSBSzQ0dIpLJR0XCLlraNpDtjolA9hLzHisjtGJfiwxjXJpigo+dEpLaqvuawHSUSdyQWo1huiXn+1ARciicSvWzGcwnsytMohq8Ha0NU+hKFdkQkGxVpUIZVx2OY4KvdwElYaVksqbO3VbVdiPLpQHtP5Kpteyow34lLsyTjjsRilwGq+gMUTAXAJSaJigqLqnY4Dm0Ll2hlZo6USGWjIg3KQFWfFZFvMYEZs23tKYWzwBDxNWBWvXvcEPvQlCrqBrgExFcFwE5IFQCXmMSjwtKdfBWWy6zPjlVYRORh2/tePvuGRaWloYlWZuZISReRvr4bw5CNegXItsqcj8nK/DbwD+DYjaeqP6rqdLtslqqudeja3S8ix4j8WtvCyU5QInHdiTFKrLhrXKKH2HJORVhPkZ8bEoXs0FFqRy3gEyALP7JRliJHsPIRB2VEioi0xyTBfAvvPtwE3KCq8493G4ozrjsxdolUBcAl9oiWCkuRu/I0yqlSCkoUZKMiCsqIBqo6X0TaAP8iX3ElHTgnGg89JzquEYtdtpMvp7MD75QM7oldPKlFvgrLMBEpqApLkbvyJDrZoaNJQWWjPgC+F5HdmNHcPMCTf+6fqLYwCJax+rfvdhFpp6pRyQh+ouK6E2MUEWlNkAlnfxPBLsUHHxWWjoBjFZZYcOWJyIfkZ4e+GNikquFmh45GO6IhG3UO+UEZmda2U4CEQlquUBq4BvOQ8181avbdMYvY4yOR1SoJuEYsRnFVAE58irMKi0QhO3SU2jEGI6D7sB/ZqHhVdRIdWKSIyCSMEf4JIx22DTMn9oiqflqETSsWuO7E2KW0bbR1LfCaqn4MfCwiy4uwXS4REECF5fJwVFhixJUXcXboKBEravqRcBZWH6zfdgdwsqruKeJ2FQtcIxa7FPmEs0t0iaIKy9vku/IuwQQ0FLYrL5rZoSPhsD8DbhnW7EJqQ6Qc9hhhVT1kyYi5Bswh7s0wdomJCWeXqPII0VFhaWpz5b2BcUMVKrESnciJoabfRER+td4LcLLtM6rqKHt1ScU1YjFKFFQAXGKPaKmwxIorLxawR/GCd3RmcYniPQOoBmzx2V6H4tOHIsMN7HBxKSTElsDRzyJlx8kdbdGJ4B2hWNiuvCLnRIjiFZEZwGBVXeGzvTkwTFUvK5qWFQ9c2SkXl8Ij2BOj46dJVS2tqknWK1FV42zvS4wBs4iKbFQRU83XgAFY2+oVfnOKF6470cWl8HBVWKLPiRDFWznIPve8CIFrxFxcCg9XhSX6nAhRvD+LyO2q+rp9o4j0I19L0SUAxeVHdnE5EYg47YfLMZwIUbz3AdNFpA/eAsBlgSuLrFXFBDeww8WlkHBVWI4PRS0bFS1EpCPQzPq4SlW/K8r2FBdcI+biUkjEQtoPF5cTDTc60cWl8Cht6QyCmb+xP2m7rn0XlwLgXjguLoXHiTB/4+ISU7juRBeXQuREmb9xcYkVXCPm4uLi4lJscefEXFxcXFyKLa4Rc3FxcXEptrhGzMXFxcWl2OIaMRcXFxeXYsv/AxZbZvgCtxt7AAAAAElFTkSuQmCC\n",
            "text/plain": [
              "<Figure size 432x288 with 2 Axes>"
            ]
          },
          "metadata": {
            "tags": [],
            "needs_background": "light"
          }
        }
      ]
    },
    {
      "cell_type": "markdown",
      "metadata": {
        "id": "CSumNy5-MYrX"
      },
      "source": [
        "Selecting the columns that are relative to the problem and putting them in a new dataframe to work with."
      ]
<<<<<<< HEAD
    },
    {
      "cell_type": "code",
      "metadata": {
        "scrolled": true,
        "id": "SNz8m8diJPfM"
      },
      "source": [
        "cdf=df[['SEVERITYCODE', 'X', 'Y','OBJECTID',\n",
        "       'ADDRTYPE', 'LOCATION', 'EXCEPTRSNCODE',\n",
        "       'EXCEPTRSNDESC','COLLISIONTYPE',\n",
        "       'JUNCTIONTYPE',\n",
        "       'UNDERINFL', 'WEATHER', 'ROADCOND', 'LIGHTCOND',\n",
        "       'HITPARKEDCAR']]"
      ],
      "execution_count": 6,
      "outputs": []
    },
    {
      "cell_type": "markdown",
      "metadata": {
        "id": "O9VeTqIHNFS_"
      },
      "source": [
        "Printing the head of the new dataframe."
=======
     },
     "execution_count": 21,
     "metadata": {},
     "output_type": "execute_result"
    }
   ],
   "source": [
    "yhat = LR.predict(X_test)\n",
    "yhat_prob = LR.predict_proba(X_test)\n",
    "yhat\n"
   ]
  },
  {
   "cell_type": "code",
   "execution_count": 22,
   "metadata": {},
   "outputs": [
    {
     "name": "stdout",
     "output_type": "stream",
     "text": [
      "Requirement already satisfied: numpy in c:\\users\\yousef\\appdata\\local\\programs\\python\\python37\\lib\\site-packages (1.18.1)\n",
      "Requirement already satisfied: scipy in c:\\users\\yousef\\appdata\\local\\programs\\python\\python37\\lib\\site-packages (1.5.2)\n",
      "Requirement already satisfied: matplotlib in c:\\users\\yousef\\appdata\\local\\programs\\python\\python37\\lib\\site-packages (3.3.0)\n",
      "Requirement already satisfied: ipython in c:\\users\\yousef\\appdata\\local\\programs\\python\\python37\\lib\\site-packages (7.16.1)\n",
      "Requirement already satisfied: jupyter in c:\\users\\yousef\\appdata\\roaming\\python\\python37\\site-packages (1.0.0)\n",
      "Requirement already satisfied: pandas in c:\\users\\yousef\\appdata\\local\\programs\\python\\python37\\lib\\site-packages (1.0.1)\n",
      "Requirement already satisfied: sympy in c:\\users\\yousef\\appdata\\roaming\\python\\python37\\site-packages (1.6.2)\n",
      "Requirement already satisfied: nose in c:\\users\\yousef\\appdata\\roaming\\python\\python37\\site-packages (1.3.7)\n",
      "Requirement already satisfied: pyparsing!=2.0.4,!=2.1.2,!=2.1.6,>=2.0.3 in c:\\users\\yousef\\appdata\\local\\programs\\python\\python37\\lib\\site-packages (from matplotlib) (2.4.7)\n",
      "Requirement already satisfied: cycler>=0.10 in c:\\users\\yousef\\appdata\\local\\programs\\python\\python37\\lib\\site-packages (from matplotlib) (0.10.0)\n",
      "Requirement already satisfied: kiwisolver>=1.0.1 in c:\\users\\yousef\\appdata\\local\\programs\\python\\python37\\lib\\site-packages (from matplotlib) (1.2.0)\n",
      "Requirement already satisfied: python-dateutil>=2.1 in c:\\users\\yousef\\appdata\\local\\programs\\python\\python37\\lib\\site-packages (from matplotlib) (2.8.1)\n",
      "Requirement already satisfied: pillow>=6.2.0 in c:\\users\\yousef\\appdata\\local\\programs\\python\\python37\\lib\\site-packages (from matplotlib) (7.2.0)\n",
      "Requirement already satisfied: colorama; sys_platform == \"win32\" in c:\\users\\yousef\\appdata\\roaming\\python\\python37\\site-packages (from ipython) (0.4.3)\n",
      "Requirement already satisfied: pickleshare in c:\\users\\yousef\\appdata\\local\\programs\\python\\python37\\lib\\site-packages (from ipython) (0.7.5)\n",
      "Requirement already satisfied: traitlets>=4.2 in c:\\users\\yousef\\appdata\\local\\programs\\python\\python37\\lib\\site-packages (from ipython) (4.3.3)\n",
      "Requirement already satisfied: pygments in c:\\users\\yousef\\appdata\\local\\programs\\python\\python37\\lib\\site-packages (from ipython) (2.6.1)\n",
      "Requirement already satisfied: setuptools>=18.5 in c:\\users\\yousef\\appdata\\local\\programs\\python\\python37\\lib\\site-packages (from ipython) (40.8.0)\n",
      "Requirement already satisfied: prompt-toolkit!=3.0.0,!=3.0.1,<3.1.0,>=2.0.0 in c:\\users\\yousef\\appdata\\local\\programs\\python\\python37\\lib\\site-packages (from ipython) (3.0.5)\n",
      "Requirement already satisfied: backcall in c:\\users\\yousef\\appdata\\local\\programs\\python\\python37\\lib\\site-packages (from ipython) (0.2.0)\n",
      "Requirement already satisfied: decorator in c:\\users\\yousef\\appdata\\local\\programs\\python\\python37\\lib\\site-packages (from ipython) (4.4.2)\n",
      "Requirement already satisfied: jedi>=0.10 in c:\\users\\yousef\\appdata\\local\\programs\\python\\python37\\lib\\site-packages (from ipython) (0.17.2)\n",
      "Requirement already satisfied: ipywidgets in c:\\users\\yousef\\appdata\\roaming\\python\\python37\\site-packages (from jupyter) (7.5.1)\n",
      "Requirement already satisfied: jupyter-console in c:\\users\\yousef\\appdata\\roaming\\python\\python37\\site-packages (from jupyter) (6.2.0)\n",
      "Requirement already satisfied: nbconvert in c:\\users\\yousef\\appdata\\local\\programs\\python\\python37\\lib\\site-packages (from jupyter) (5.6.1)\n",
      "Requirement already satisfied: qtconsole in c:\\users\\yousef\\appdata\\roaming\\python\\python37\\site-packages (from jupyter) (4.7.7)\n",
      "Requirement already satisfied: ipykernel in c:\\users\\yousef\\appdata\\local\\programs\\python\\python37\\lib\\site-packages (from jupyter) (5.3.3)\n",
      "Requirement already satisfied: notebook in c:\\users\\yousef\\appdata\\local\\programs\\python\\python37\\lib\\site-packages (from jupyter) (6.0.3)\n",
      "Requirement already satisfied: pytz>=2017.2 in c:\\users\\yousef\\appdata\\local\\programs\\python\\python37\\lib\\site-packages (from pandas) (2019.3)\n",
      "Requirement already satisfied: mpmath>=0.19 in c:\\users\\yousef\\appdata\\roaming\\python\\python37\\site-packages (from sympy) (1.1.0)\n",
      "Requirement already satisfied: six in c:\\users\\yousef\\appdata\\local\\programs\\python\\python37\\lib\\site-packages (from cycler>=0.10->matplotlib) (1.14.0)\n",
      "Requirement already satisfied: ipython-genutils in c:\\users\\yousef\\appdata\\local\\programs\\python\\python37\\lib\\site-packages (from traitlets>=4.2->ipython) (0.2.0)\n",
      "Requirement already satisfied: wcwidth in c:\\users\\yousef\\appdata\\local\\programs\\python\\python37\\lib\\site-packages (from prompt-toolkit!=3.0.0,!=3.0.1,<3.1.0,>=2.0.0->ipython) (0.2.5)\n",
      "Requirement already satisfied: parso<0.8.0,>=0.7.0 in c:\\users\\yousef\\appdata\\local\\programs\\python\\python37\\lib\\site-packages (from jedi>=0.10->ipython) (0.7.0)\n",
      "Requirement already satisfied: nbformat>=4.2.0 in c:\\users\\yousef\\appdata\\local\\programs\\python\\python37\\lib\\site-packages (from ipywidgets->jupyter) (5.0.7)\n",
      "Requirement already satisfied: widgetsnbextension~=3.5.0 in c:\\users\\yousef\\appdata\\roaming\\python\\python37\\site-packages (from ipywidgets->jupyter) (3.5.1)\n",
      "Requirement already satisfied: jupyter-client in c:\\users\\yousef\\appdata\\local\\programs\\python\\python37\\lib\\site-packages (from jupyter-console->jupyter) (6.1.6)\n",
      "Requirement already satisfied: pandocfilters>=1.4.1 in c:\\users\\yousef\\appdata\\local\\programs\\python\\python37\\lib\\site-packages (from nbconvert->jupyter) (1.4.2)\n",
      "Requirement already satisfied: defusedxml in c:\\users\\yousef\\appdata\\local\\programs\\python\\python37\\lib\\site-packages (from nbconvert->jupyter) (0.6.0)\n",
      "Requirement already satisfied: mistune<2,>=0.8.1 in c:\\users\\yousef\\appdata\\local\\programs\\python\\python37\\lib\\site-packages (from nbconvert->jupyter) (0.8.4)\n",
      "Requirement already satisfied: entrypoints>=0.2.2 in c:\\users\\yousef\\appdata\\local\\programs\\python\\python37\\lib\\site-packages (from nbconvert->jupyter) (0.3)\n",
      "Requirement already satisfied: bleach in c:\\users\\yousef\\appdata\\local\\programs\\python\\python37\\lib\\site-packages (from nbconvert->jupyter) (3.1.5)\n",
      "Requirement already satisfied: jinja2>=2.4 in c:\\users\\yousef\\appdata\\local\\programs\\python\\python37\\lib\\site-packages (from nbconvert->jupyter) (2.11.2)\n",
      "Requirement already satisfied: jupyter-core in c:\\users\\yousef\\appdata\\local\\programs\\python\\python37\\lib\\site-packages (from nbconvert->jupyter) (4.6.3)\n",
      "Requirement already satisfied: testpath in c:\\users\\yousef\\appdata\\local\\programs\\python\\python37\\lib\\site-packages (from nbconvert->jupyter) (0.4.4)\n",
      "Requirement already satisfied: pyzmq>=17.1 in c:\\users\\yousef\\appdata\\local\\programs\\python\\python37\\lib\\site-packages (from qtconsole->jupyter) (19.0.1)\n",
      "Requirement already satisfied: qtpy in c:\\users\\yousef\\appdata\\roaming\\python\\python37\\site-packages (from qtconsole->jupyter) (1.9.0)\n",
      "Requirement already satisfied: tornado>=4.2 in c:\\users\\yousef\\appdata\\local\\programs\\python\\python37\\lib\\site-packages (from ipykernel->jupyter) (6.0.4)\n",
      "Requirement already satisfied: prometheus-client in c:\\users\\yousef\\appdata\\local\\programs\\python\\python37\\lib\\site-packages (from notebook->jupyter) (0.8.0)\n",
      "Requirement already satisfied: Send2Trash in c:\\users\\yousef\\appdata\\local\\programs\\python\\python37\\lib\\site-packages (from notebook->jupyter) (1.5.0)\n",
      "Requirement already satisfied: terminado>=0.8.1 in c:\\users\\yousef\\appdata\\local\\programs\\python\\python37\\lib\\site-packages (from notebook->jupyter) (0.8.3)\n",
      "Requirement already satisfied: jsonschema!=2.5.0,>=2.4 in c:\\users\\yousef\\appdata\\local\\programs\\python\\python37\\lib\\site-packages (from nbformat>=4.2.0->ipywidgets->jupyter) (3.2.0)\n",
      "Requirement already satisfied: packaging in c:\\users\\yousef\\appdata\\local\\programs\\python\\python37\\lib\\site-packages (from bleach->nbconvert->jupyter) (20.4)\n",
      "Requirement already satisfied: webencodings in c:\\users\\yousef\\appdata\\local\\programs\\python\\python37\\lib\\site-packages (from bleach->nbconvert->jupyter) (0.5.1)\n",
      "Requirement already satisfied: MarkupSafe>=0.23 in c:\\users\\yousef\\appdata\\local\\programs\\python\\python37\\lib\\site-packages (from jinja2>=2.4->nbconvert->jupyter) (1.1.1)\n",
      "Requirement already satisfied: pywin32>=1.0; sys_platform == \"win32\" in c:\\users\\yousef\\appdata\\local\\programs\\python\\python37\\lib\\site-packages (from jupyter-core->nbconvert->jupyter) (228)\n",
      "Requirement already satisfied: pywinpty>=0.5; os_name == \"nt\" in c:\\users\\yousef\\appdata\\local\\programs\\python\\python37\\lib\\site-packages (from terminado>=0.8.1->notebook->jupyter) (0.5.7)\n",
      "Requirement already satisfied: importlib-metadata; python_version < \"3.8\" in c:\\users\\yousef\\appdata\\local\\programs\\python\\python37\\lib\\site-packages (from jsonschema!=2.5.0,>=2.4->nbformat>=4.2.0->ipywidgets->jupyter) (1.7.0)\n",
      "Requirement already satisfied: attrs>=17.4.0 in c:\\users\\yousef\\appdata\\local\\programs\\python\\python37\\lib\\site-packages (from jsonschema!=2.5.0,>=2.4->nbformat>=4.2.0->ipywidgets->jupyter) (19.3.0)\n",
      "Requirement already satisfied: pyrsistent>=0.14.0 in c:\\users\\yousef\\appdata\\local\\programs\\python\\python37\\lib\\site-packages (from jsonschema!=2.5.0,>=2.4->nbformat>=4.2.0->ipywidgets->jupyter) (0.16.0)\n",
      "Requirement already satisfied: zipp>=0.5 in c:\\users\\yousef\\appdata\\local\\programs\\python\\python37\\lib\\site-packages (from importlib-metadata; python_version < \"3.8\"->jsonschema!=2.5.0,>=2.4->nbformat>=4.2.0->ipywidgets->jupyter) (3.1.0)\n"
     ]
    }
   ],
   "source": [
    "!pip install --user numpy scipy matplotlib ipython jupyter pandas sympy nose"
   ]
  },
  {
   "cell_type": "code",
   "execution_count": 23,
   "metadata": {},
   "outputs": [
    {
     "name": "stdout",
     "output_type": "stream",
     "text": [
      "Requirement already up-to-date: pip in c:\\users\\yousef\\appdata\\local\\programs\\python\\python37\\lib\\site-packages (20.2.3)\n"
     ]
    }
   ],
   "source": [
    "!pip install --user --upgrade pip"
   ]
  },
  {
   "cell_type": "code",
   "execution_count": 24,
   "metadata": {},
   "outputs": [
    {
     "data": {
      "text/plain": [
       "0.7403438893719672"
>>>>>>> e2194e0074fc99edf4e8b0cb0b7cfec96db1cc5b
      ]
    },
    {
      "cell_type": "code",
      "metadata": {
        "id": "Qyo4tWJCJPfP",
        "outputId": "2e61fe31-2ef4-4323-b929-c48ae35e7e18",
        "colab": {
          "base_uri": "https://localhost:8080/",
          "height": 536
        }
      },
      "source": [
        "cdf.head()"
      ],
      "execution_count": 7,
      "outputs": [
        {
          "output_type": "execute_result",
          "data": {
            "text/html": [
              "<div>\n",
              "<style scoped>\n",
              "    .dataframe tbody tr th:only-of-type {\n",
              "        vertical-align: middle;\n",
              "    }\n",
              "\n",
              "    .dataframe tbody tr th {\n",
              "        vertical-align: top;\n",
              "    }\n",
              "\n",
              "    .dataframe thead th {\n",
              "        text-align: right;\n",
              "    }\n",
              "</style>\n",
              "<table border=\"1\" class=\"dataframe\">\n",
              "  <thead>\n",
              "    <tr style=\"text-align: right;\">\n",
              "      <th></th>\n",
              "      <th>SEVERITYCODE</th>\n",
              "      <th>X</th>\n",
              "      <th>Y</th>\n",
              "      <th>OBJECTID</th>\n",
              "      <th>ADDRTYPE</th>\n",
              "      <th>LOCATION</th>\n",
              "      <th>EXCEPTRSNCODE</th>\n",
              "      <th>EXCEPTRSNDESC</th>\n",
              "      <th>COLLISIONTYPE</th>\n",
              "      <th>JUNCTIONTYPE</th>\n",
              "      <th>UNDERINFL</th>\n",
              "      <th>WEATHER</th>\n",
              "      <th>ROADCOND</th>\n",
              "      <th>LIGHTCOND</th>\n",
              "      <th>HITPARKEDCAR</th>\n",
              "    </tr>\n",
              "  </thead>\n",
              "  <tbody>\n",
              "    <tr>\n",
              "      <th>0</th>\n",
              "      <td>2</td>\n",
              "      <td>-122.323148</td>\n",
              "      <td>47.703140</td>\n",
              "      <td>1</td>\n",
              "      <td>Intersection</td>\n",
              "      <td>5TH AVE NE AND NE 103RD ST</td>\n",
              "      <td></td>\n",
              "      <td>NaN</td>\n",
              "      <td>Angles</td>\n",
              "      <td>At Intersection (intersection related)</td>\n",
              "      <td>N</td>\n",
              "      <td>Overcast</td>\n",
              "      <td>Wet</td>\n",
              "      <td>Daylight</td>\n",
              "      <td>N</td>\n",
              "    </tr>\n",
              "    <tr>\n",
              "      <th>1</th>\n",
              "      <td>1</td>\n",
              "      <td>-122.347294</td>\n",
              "      <td>47.647172</td>\n",
              "      <td>2</td>\n",
              "      <td>Block</td>\n",
              "      <td>AURORA BR BETWEEN RAYE ST AND BRIDGE WAY N</td>\n",
              "      <td>NaN</td>\n",
              "      <td>NaN</td>\n",
              "      <td>Sideswipe</td>\n",
              "      <td>Mid-Block (not related to intersection)</td>\n",
              "      <td>0</td>\n",
              "      <td>Raining</td>\n",
              "      <td>Wet</td>\n",
              "      <td>Dark - Street Lights On</td>\n",
              "      <td>N</td>\n",
              "    </tr>\n",
              "    <tr>\n",
              "      <th>2</th>\n",
              "      <td>1</td>\n",
              "      <td>-122.334540</td>\n",
              "      <td>47.607871</td>\n",
              "      <td>3</td>\n",
              "      <td>Block</td>\n",
              "      <td>4TH AVE BETWEEN SENECA ST AND UNIVERSITY ST</td>\n",
              "      <td>NaN</td>\n",
              "      <td>NaN</td>\n",
              "      <td>Parked Car</td>\n",
              "      <td>Mid-Block (not related to intersection)</td>\n",
              "      <td>0</td>\n",
              "      <td>Overcast</td>\n",
              "      <td>Dry</td>\n",
              "      <td>Daylight</td>\n",
              "      <td>N</td>\n",
              "    </tr>\n",
              "    <tr>\n",
              "      <th>3</th>\n",
              "      <td>1</td>\n",
              "      <td>-122.334803</td>\n",
              "      <td>47.604803</td>\n",
              "      <td>4</td>\n",
              "      <td>Block</td>\n",
              "      <td>2ND AVE BETWEEN MARION ST AND MADISON ST</td>\n",
              "      <td></td>\n",
              "      <td>NaN</td>\n",
              "      <td>Other</td>\n",
              "      <td>Mid-Block (not related to intersection)</td>\n",
              "      <td>N</td>\n",
              "      <td>Clear</td>\n",
              "      <td>Dry</td>\n",
              "      <td>Daylight</td>\n",
              "      <td>N</td>\n",
              "    </tr>\n",
              "    <tr>\n",
              "      <th>4</th>\n",
              "      <td>2</td>\n",
              "      <td>-122.306426</td>\n",
              "      <td>47.545739</td>\n",
              "      <td>5</td>\n",
              "      <td>Intersection</td>\n",
              "      <td>SWIFT AVE S AND SWIFT AV OFF RP</td>\n",
              "      <td>NaN</td>\n",
              "      <td>NaN</td>\n",
              "      <td>Angles</td>\n",
              "      <td>At Intersection (intersection related)</td>\n",
              "      <td>0</td>\n",
              "      <td>Raining</td>\n",
              "      <td>Wet</td>\n",
              "      <td>Daylight</td>\n",
              "      <td>N</td>\n",
              "    </tr>\n",
              "  </tbody>\n",
              "</table>\n",
              "</div>"
            ],
            "text/plain": [
              "   SEVERITYCODE           X  ...                LIGHTCOND  HITPARKEDCAR\n",
              "0             2 -122.323148  ...                 Daylight             N\n",
              "1             1 -122.347294  ...  Dark - Street Lights On             N\n",
              "2             1 -122.334540  ...                 Daylight             N\n",
              "3             1 -122.334803  ...                 Daylight             N\n",
              "4             2 -122.306426  ...                 Daylight             N\n",
              "\n",
              "[5 rows x 15 columns]"
            ]
          },
          "metadata": {
            "tags": []
          },
          "execution_count": 7
        }
      ]
    },
    {
      "cell_type": "markdown",
      "metadata": {
        "id": "A1nWK7krNLMV"
      },
      "source": [
        "Setting the index of the dataframe as the OBJECTID."
      ]
    },
    {
      "cell_type": "code",
      "metadata": {
        "id": "_60_dz9OJPfR"
      },
      "source": [
        "cdf.set_index(\"OBJECTID\",inplace=True,drop=True)"
      ],
      "execution_count": 8,
      "outputs": []
    },
    {
      "cell_type": "markdown",
      "metadata": {
        "id": "RkcvreAVNT8B"
      },
      "source": [
        "Droping the rows with NEI ( Not Enough Information )."
      ]
    },
    {
      "cell_type": "code",
      "metadata": {
        "id": "H-shQ_17JPfT",
        "outputId": "01f5b635-0da0-4008-b83e-7d745662d45e",
        "colab": {
          "base_uri": "https://localhost:8080/",
          "height": 98
        }
      },
      "source": [
        "ro=cdf[cdf[\"EXCEPTRSNCODE\"] == \"NEI\"]\n",
        "cdf.drop(ro.index,inplace=True)"
      ],
      "execution_count": 9,
      "outputs": [
        {
          "output_type": "stream",
          "text": [
            "/usr/local/lib/python3.6/dist-packages/pandas/core/frame.py:3997: SettingWithCopyWarning: \n",
            "A value is trying to be set on a copy of a slice from a DataFrame\n",
            "\n",
            "See the caveats in the documentation: https://pandas.pydata.org/pandas-docs/stable/user_guide/indexing.html#returning-a-view-versus-a-copy\n",
            "  errors=errors,\n"
          ],
          "name": "stderr"
        }
      ]
<<<<<<< HEAD
    },
    {
      "cell_type": "markdown",
      "metadata": {
        "id": "3PWkla17NdfG"
      },
      "source": [
        "Dropping the columns which are no longer needed."
      ]
    },
    {
      "cell_type": "code",
      "metadata": {
        "id": "WIdRuZPaJPfV",
        "outputId": "5cc728a4-aac7-4ef8-f2af-41bb6fe0eeea",
        "colab": {
          "base_uri": "https://localhost:8080/",
          "height": 98
        }
      },
      "source": [
        "cdf.drop(columns=[\"EXCEPTRSNDESC\",\"EXCEPTRSNCODE\"],inplace=True)"
      ],
      "execution_count": 10,
      "outputs": [
        {
          "output_type": "stream",
          "text": [
            "/usr/local/lib/python3.6/dist-packages/pandas/core/frame.py:3997: SettingWithCopyWarning: \n",
            "A value is trying to be set on a copy of a slice from a DataFrame\n",
            "\n",
            "See the caveats in the documentation: https://pandas.pydata.org/pandas-docs/stable/user_guide/indexing.html#returning-a-view-versus-a-copy\n",
            "  errors=errors,\n"
          ],
          "name": "stderr"
        }
      ]
    },
    {
      "cell_type": "markdown",
      "metadata": {
        "id": "AjGRAm9oNmEF"
      },
      "source": [
        "Dropping all rows with NaN values."
      ]
    },
    {
      "cell_type": "code",
      "metadata": {
        "id": "re4aJCO1JPfX",
        "outputId": "7b896756-c94f-4420-ecba-36f1e43f68e2",
        "colab": {
          "base_uri": "https://localhost:8080/",
          "height": 98
        }
      },
      "source": [
        "cdf.dropna(inplace=True)"
      ],
      "execution_count": 11,
      "outputs": [
        {
          "output_type": "stream",
          "text": [
            "/usr/local/lib/python3.6/dist-packages/ipykernel_launcher.py:1: SettingWithCopyWarning: \n",
            "A value is trying to be set on a copy of a slice from a DataFrame\n",
            "\n",
            "See the caveats in the documentation: https://pandas.pydata.org/pandas-docs/stable/user_guide/indexing.html#returning-a-view-versus-a-copy\n",
            "  \"\"\"Entry point for launching an IPython kernel.\n"
          ],
          "name": "stderr"
        }
      ]
    },
    {
      "cell_type": "markdown",
      "metadata": {
        "id": "DXsFPlXWNtIN"
      },
      "source": [
        "Replacing all N and \"0\" to 0 (integar) and all Y and \"1\" to 1 (integar) in UNDERINFL column."
      ]
    },
    {
      "cell_type": "code",
      "metadata": {
        "id": "ucn-kJvlJPfZ",
        "outputId": "f5757091-9fa9-42f6-f55f-c29109737a6f",
        "colab": {
          "base_uri": "https://localhost:8080/",
          "height": 98
        }
      },
      "source": [
        "cdf[\"UNDERINFL\"].replace([\"N\",\"0\",\"Y\",\"1\"],[0,0,1,1], inplace =True)"
      ],
      "execution_count": 12,
      "outputs": [
        {
          "output_type": "stream",
          "text": [
            "/usr/local/lib/python3.6/dist-packages/pandas/core/generic.py:6746: SettingWithCopyWarning: \n",
            "A value is trying to be set on a copy of a slice from a DataFrame\n",
            "\n",
            "See the caveats in the documentation: https://pandas.pydata.org/pandas-docs/stable/user_guide/indexing.html#returning-a-view-versus-a-copy\n",
            "  self._update_inplace(new_data)\n"
          ],
          "name": "stderr"
        }
      ]
    },
    {
      "cell_type": "markdown",
      "metadata": {
        "id": "0YD-pBqFOBZt"
      },
      "source": [
        "Changing all categorical features to Integars by using get_dummies() function."
      ]
    },
    {
      "cell_type": "code",
      "metadata": {
        "id": "5D73cXjZJPfb",
        "outputId": "adfff8c0-df15-4215-a387-84e3488afeb0",
        "colab": {
          "base_uri": "https://localhost:8080/",
          "height": 305
        }
      },
      "source": [
        "dum=[ 'ADDRTYPE','JUNCTIONTYPE','WEATHER',\n",
        "       'COLLISIONTYPE',\n",
        "       'ROADCOND',\n",
        "       'LIGHTCOND', 'HITPARKEDCAR']\n",
        "d=pd.get_dummies(cdf[dum])\n",
        "d.head()"
      ],
      "execution_count": 13,
      "outputs": [
        {
          "output_type": "execute_result",
          "data": {
            "text/html": [
              "<div>\n",
              "<style scoped>\n",
              "    .dataframe tbody tr th:only-of-type {\n",
              "        vertical-align: middle;\n",
              "    }\n",
              "\n",
              "    .dataframe tbody tr th {\n",
              "        vertical-align: top;\n",
              "    }\n",
              "\n",
              "    .dataframe thead th {\n",
              "        text-align: right;\n",
              "    }\n",
              "</style>\n",
              "<table border=\"1\" class=\"dataframe\">\n",
              "  <thead>\n",
              "    <tr style=\"text-align: right;\">\n",
              "      <th></th>\n",
              "      <th>ADDRTYPE_Block</th>\n",
              "      <th>ADDRTYPE_Intersection</th>\n",
              "      <th>JUNCTIONTYPE_At Intersection (but not related to intersection)</th>\n",
              "      <th>JUNCTIONTYPE_At Intersection (intersection related)</th>\n",
              "      <th>JUNCTIONTYPE_Driveway Junction</th>\n",
              "      <th>JUNCTIONTYPE_Mid-Block (but intersection related)</th>\n",
              "      <th>JUNCTIONTYPE_Mid-Block (not related to intersection)</th>\n",
              "      <th>JUNCTIONTYPE_Ramp Junction</th>\n",
              "      <th>JUNCTIONTYPE_Unknown</th>\n",
              "      <th>WEATHER_Blowing Sand/Dirt</th>\n",
              "      <th>WEATHER_Clear</th>\n",
              "      <th>WEATHER_Fog/Smog/Smoke</th>\n",
              "      <th>WEATHER_Other</th>\n",
              "      <th>WEATHER_Overcast</th>\n",
              "      <th>WEATHER_Partly Cloudy</th>\n",
              "      <th>WEATHER_Raining</th>\n",
              "      <th>WEATHER_Severe Crosswind</th>\n",
              "      <th>WEATHER_Sleet/Hail/Freezing Rain</th>\n",
              "      <th>WEATHER_Snowing</th>\n",
              "      <th>WEATHER_Unknown</th>\n",
              "      <th>COLLISIONTYPE_Angles</th>\n",
              "      <th>COLLISIONTYPE_Cycles</th>\n",
              "      <th>COLLISIONTYPE_Head On</th>\n",
              "      <th>COLLISIONTYPE_Left Turn</th>\n",
              "      <th>COLLISIONTYPE_Other</th>\n",
              "      <th>COLLISIONTYPE_Parked Car</th>\n",
              "      <th>COLLISIONTYPE_Pedestrian</th>\n",
              "      <th>COLLISIONTYPE_Rear Ended</th>\n",
              "      <th>COLLISIONTYPE_Right Turn</th>\n",
              "      <th>COLLISIONTYPE_Sideswipe</th>\n",
              "      <th>ROADCOND_Dry</th>\n",
              "      <th>ROADCOND_Ice</th>\n",
              "      <th>ROADCOND_Oil</th>\n",
              "      <th>ROADCOND_Other</th>\n",
              "      <th>ROADCOND_Sand/Mud/Dirt</th>\n",
              "      <th>ROADCOND_Snow/Slush</th>\n",
              "      <th>ROADCOND_Standing Water</th>\n",
              "      <th>ROADCOND_Unknown</th>\n",
              "      <th>ROADCOND_Wet</th>\n",
              "      <th>LIGHTCOND_Dark - No Street Lights</th>\n",
              "      <th>LIGHTCOND_Dark - Street Lights Off</th>\n",
              "      <th>LIGHTCOND_Dark - Street Lights On</th>\n",
              "      <th>LIGHTCOND_Dark - Unknown Lighting</th>\n",
              "      <th>LIGHTCOND_Dawn</th>\n",
              "      <th>LIGHTCOND_Daylight</th>\n",
              "      <th>LIGHTCOND_Dusk</th>\n",
              "      <th>LIGHTCOND_Other</th>\n",
              "      <th>LIGHTCOND_Unknown</th>\n",
              "      <th>HITPARKEDCAR_N</th>\n",
              "      <th>HITPARKEDCAR_Y</th>\n",
              "    </tr>\n",
              "    <tr>\n",
              "      <th>OBJECTID</th>\n",
              "      <th></th>\n",
              "      <th></th>\n",
              "      <th></th>\n",
              "      <th></th>\n",
              "      <th></th>\n",
              "      <th></th>\n",
              "      <th></th>\n",
              "      <th></th>\n",
              "      <th></th>\n",
              "      <th></th>\n",
              "      <th></th>\n",
              "      <th></th>\n",
              "      <th></th>\n",
              "      <th></th>\n",
              "      <th></th>\n",
              "      <th></th>\n",
              "      <th></th>\n",
              "      <th></th>\n",
              "      <th></th>\n",
              "      <th></th>\n",
              "      <th></th>\n",
              "      <th></th>\n",
              "      <th></th>\n",
              "      <th></th>\n",
              "      <th></th>\n",
              "      <th></th>\n",
              "      <th></th>\n",
              "      <th></th>\n",
              "      <th></th>\n",
              "      <th></th>\n",
              "      <th></th>\n",
              "      <th></th>\n",
              "      <th></th>\n",
              "      <th></th>\n",
              "      <th></th>\n",
              "      <th></th>\n",
              "      <th></th>\n",
              "      <th></th>\n",
              "      <th></th>\n",
              "      <th></th>\n",
              "      <th></th>\n",
              "      <th></th>\n",
              "      <th></th>\n",
              "      <th></th>\n",
              "      <th></th>\n",
              "      <th></th>\n",
              "      <th></th>\n",
              "      <th></th>\n",
              "      <th></th>\n",
              "      <th></th>\n",
              "    </tr>\n",
              "  </thead>\n",
              "  <tbody>\n",
              "    <tr>\n",
              "      <th>1</th>\n",
              "      <td>0</td>\n",
              "      <td>1</td>\n",
              "      <td>0</td>\n",
              "      <td>1</td>\n",
              "      <td>0</td>\n",
              "      <td>0</td>\n",
              "      <td>0</td>\n",
              "      <td>0</td>\n",
              "      <td>0</td>\n",
              "      <td>0</td>\n",
              "      <td>0</td>\n",
              "      <td>0</td>\n",
              "      <td>0</td>\n",
              "      <td>1</td>\n",
              "      <td>0</td>\n",
              "      <td>0</td>\n",
              "      <td>0</td>\n",
              "      <td>0</td>\n",
              "      <td>0</td>\n",
              "      <td>0</td>\n",
              "      <td>1</td>\n",
              "      <td>0</td>\n",
              "      <td>0</td>\n",
              "      <td>0</td>\n",
              "      <td>0</td>\n",
              "      <td>0</td>\n",
              "      <td>0</td>\n",
              "      <td>0</td>\n",
              "      <td>0</td>\n",
              "      <td>0</td>\n",
              "      <td>0</td>\n",
              "      <td>0</td>\n",
              "      <td>0</td>\n",
              "      <td>0</td>\n",
              "      <td>0</td>\n",
              "      <td>0</td>\n",
              "      <td>0</td>\n",
              "      <td>0</td>\n",
              "      <td>1</td>\n",
              "      <td>0</td>\n",
              "      <td>0</td>\n",
              "      <td>0</td>\n",
              "      <td>0</td>\n",
              "      <td>0</td>\n",
              "      <td>1</td>\n",
              "      <td>0</td>\n",
              "      <td>0</td>\n",
              "      <td>0</td>\n",
              "      <td>1</td>\n",
              "      <td>0</td>\n",
              "    </tr>\n",
              "    <tr>\n",
              "      <th>2</th>\n",
              "      <td>1</td>\n",
              "      <td>0</td>\n",
              "      <td>0</td>\n",
              "      <td>0</td>\n",
              "      <td>0</td>\n",
              "      <td>0</td>\n",
              "      <td>1</td>\n",
              "      <td>0</td>\n",
              "      <td>0</td>\n",
              "      <td>0</td>\n",
              "      <td>0</td>\n",
              "      <td>0</td>\n",
              "      <td>0</td>\n",
              "      <td>0</td>\n",
              "      <td>0</td>\n",
              "      <td>1</td>\n",
              "      <td>0</td>\n",
              "      <td>0</td>\n",
              "      <td>0</td>\n",
              "      <td>0</td>\n",
              "      <td>0</td>\n",
              "      <td>0</td>\n",
              "      <td>0</td>\n",
              "      <td>0</td>\n",
              "      <td>0</td>\n",
              "      <td>0</td>\n",
              "      <td>0</td>\n",
              "      <td>0</td>\n",
              "      <td>0</td>\n",
              "      <td>1</td>\n",
              "      <td>0</td>\n",
              "      <td>0</td>\n",
              "      <td>0</td>\n",
              "      <td>0</td>\n",
              "      <td>0</td>\n",
              "      <td>0</td>\n",
              "      <td>0</td>\n",
              "      <td>0</td>\n",
              "      <td>1</td>\n",
              "      <td>0</td>\n",
              "      <td>0</td>\n",
              "      <td>1</td>\n",
              "      <td>0</td>\n",
              "      <td>0</td>\n",
              "      <td>0</td>\n",
              "      <td>0</td>\n",
              "      <td>0</td>\n",
              "      <td>0</td>\n",
              "      <td>1</td>\n",
              "      <td>0</td>\n",
              "    </tr>\n",
              "    <tr>\n",
              "      <th>3</th>\n",
              "      <td>1</td>\n",
              "      <td>0</td>\n",
              "      <td>0</td>\n",
              "      <td>0</td>\n",
              "      <td>0</td>\n",
              "      <td>0</td>\n",
              "      <td>1</td>\n",
              "      <td>0</td>\n",
              "      <td>0</td>\n",
              "      <td>0</td>\n",
              "      <td>0</td>\n",
              "      <td>0</td>\n",
              "      <td>0</td>\n",
              "      <td>1</td>\n",
              "      <td>0</td>\n",
              "      <td>0</td>\n",
              "      <td>0</td>\n",
              "      <td>0</td>\n",
              "      <td>0</td>\n",
              "      <td>0</td>\n",
              "      <td>0</td>\n",
              "      <td>0</td>\n",
              "      <td>0</td>\n",
              "      <td>0</td>\n",
              "      <td>0</td>\n",
              "      <td>1</td>\n",
              "      <td>0</td>\n",
              "      <td>0</td>\n",
              "      <td>0</td>\n",
              "      <td>0</td>\n",
              "      <td>1</td>\n",
              "      <td>0</td>\n",
              "      <td>0</td>\n",
              "      <td>0</td>\n",
              "      <td>0</td>\n",
              "      <td>0</td>\n",
              "      <td>0</td>\n",
              "      <td>0</td>\n",
              "      <td>0</td>\n",
              "      <td>0</td>\n",
              "      <td>0</td>\n",
              "      <td>0</td>\n",
              "      <td>0</td>\n",
              "      <td>0</td>\n",
              "      <td>1</td>\n",
              "      <td>0</td>\n",
              "      <td>0</td>\n",
              "      <td>0</td>\n",
              "      <td>1</td>\n",
              "      <td>0</td>\n",
              "    </tr>\n",
              "    <tr>\n",
              "      <th>4</th>\n",
              "      <td>1</td>\n",
              "      <td>0</td>\n",
              "      <td>0</td>\n",
              "      <td>0</td>\n",
              "      <td>0</td>\n",
              "      <td>0</td>\n",
              "      <td>1</td>\n",
              "      <td>0</td>\n",
              "      <td>0</td>\n",
              "      <td>0</td>\n",
              "      <td>1</td>\n",
              "      <td>0</td>\n",
              "      <td>0</td>\n",
              "      <td>0</td>\n",
              "      <td>0</td>\n",
              "      <td>0</td>\n",
              "      <td>0</td>\n",
              "      <td>0</td>\n",
              "      <td>0</td>\n",
              "      <td>0</td>\n",
              "      <td>0</td>\n",
              "      <td>0</td>\n",
              "      <td>0</td>\n",
              "      <td>0</td>\n",
              "      <td>1</td>\n",
              "      <td>0</td>\n",
              "      <td>0</td>\n",
              "      <td>0</td>\n",
              "      <td>0</td>\n",
              "      <td>0</td>\n",
              "      <td>1</td>\n",
              "      <td>0</td>\n",
              "      <td>0</td>\n",
              "      <td>0</td>\n",
              "      <td>0</td>\n",
              "      <td>0</td>\n",
              "      <td>0</td>\n",
              "      <td>0</td>\n",
              "      <td>0</td>\n",
              "      <td>0</td>\n",
              "      <td>0</td>\n",
              "      <td>0</td>\n",
              "      <td>0</td>\n",
              "      <td>0</td>\n",
              "      <td>1</td>\n",
              "      <td>0</td>\n",
              "      <td>0</td>\n",
              "      <td>0</td>\n",
              "      <td>1</td>\n",
              "      <td>0</td>\n",
              "    </tr>\n",
              "    <tr>\n",
              "      <th>5</th>\n",
              "      <td>0</td>\n",
              "      <td>1</td>\n",
              "      <td>0</td>\n",
              "      <td>1</td>\n",
              "      <td>0</td>\n",
              "      <td>0</td>\n",
              "      <td>0</td>\n",
              "      <td>0</td>\n",
              "      <td>0</td>\n",
              "      <td>0</td>\n",
              "      <td>0</td>\n",
              "      <td>0</td>\n",
              "      <td>0</td>\n",
              "      <td>0</td>\n",
              "      <td>0</td>\n",
              "      <td>1</td>\n",
              "      <td>0</td>\n",
              "      <td>0</td>\n",
              "      <td>0</td>\n",
              "      <td>0</td>\n",
              "      <td>1</td>\n",
              "      <td>0</td>\n",
              "      <td>0</td>\n",
              "      <td>0</td>\n",
              "      <td>0</td>\n",
              "      <td>0</td>\n",
              "      <td>0</td>\n",
              "      <td>0</td>\n",
              "      <td>0</td>\n",
              "      <td>0</td>\n",
              "      <td>0</td>\n",
              "      <td>0</td>\n",
              "      <td>0</td>\n",
              "      <td>0</td>\n",
              "      <td>0</td>\n",
              "      <td>0</td>\n",
              "      <td>0</td>\n",
              "      <td>0</td>\n",
              "      <td>1</td>\n",
              "      <td>0</td>\n",
              "      <td>0</td>\n",
              "      <td>0</td>\n",
              "      <td>0</td>\n",
              "      <td>0</td>\n",
              "      <td>1</td>\n",
              "      <td>0</td>\n",
              "      <td>0</td>\n",
              "      <td>0</td>\n",
              "      <td>1</td>\n",
              "      <td>0</td>\n",
              "    </tr>\n",
              "  </tbody>\n",
              "</table>\n",
              "</div>"
            ],
            "text/plain": [
              "          ADDRTYPE_Block  ADDRTYPE_Intersection  ...  HITPARKEDCAR_N  HITPARKEDCAR_Y\n",
              "OBJECTID                                         ...                                \n",
              "1                      0                      1  ...               1               0\n",
              "2                      1                      0  ...               1               0\n",
              "3                      1                      0  ...               1               0\n",
              "4                      1                      0  ...               1               0\n",
              "5                      0                      1  ...               1               0\n",
              "\n",
              "[5 rows x 50 columns]"
            ]
          },
          "metadata": {
            "tags": []
          },
          "execution_count": 13
        }
      ]
    },
    {
      "cell_type": "markdown",
      "metadata": {
        "id": "W1wGU9XmOjZy"
      },
      "source": [
        "Adding the new dummy columns to our dataframe and dropping the categorical features."
      ]
    },
    {
      "cell_type": "code",
      "metadata": {
        "id": "RxRxNRPbJPff"
      },
      "source": [
        "cdf = pd.concat([cdf.drop(dum, axis=1), pd.get_dummies(cdf[dum])], axis=1)"
      ],
      "execution_count": 14,
      "outputs": []
    },
    {
      "cell_type": "code",
      "metadata": {
        "id": "rgJSHAfjJPfh",
        "outputId": "bb6f552b-889c-409d-e367-78b7f3e53557",
        "colab": {
          "base_uri": "https://localhost:8080/",
          "height": 630
        }
      },
      "source": [
        "cdf.head()"
      ],
      "execution_count": 15,
      "outputs": [
        {
          "output_type": "execute_result",
          "data": {
            "text/html": [
              "<div>\n",
              "<style scoped>\n",
              "    .dataframe tbody tr th:only-of-type {\n",
              "        vertical-align: middle;\n",
              "    }\n",
              "\n",
              "    .dataframe tbody tr th {\n",
              "        vertical-align: top;\n",
              "    }\n",
              "\n",
              "    .dataframe thead th {\n",
              "        text-align: right;\n",
              "    }\n",
              "</style>\n",
              "<table border=\"1\" class=\"dataframe\">\n",
              "  <thead>\n",
              "    <tr style=\"text-align: right;\">\n",
              "      <th></th>\n",
              "      <th>SEVERITYCODE</th>\n",
              "      <th>X</th>\n",
              "      <th>Y</th>\n",
              "      <th>LOCATION</th>\n",
              "      <th>UNDERINFL</th>\n",
              "      <th>ADDRTYPE_Block</th>\n",
              "      <th>ADDRTYPE_Intersection</th>\n",
              "      <th>JUNCTIONTYPE_At Intersection (but not related to intersection)</th>\n",
              "      <th>JUNCTIONTYPE_At Intersection (intersection related)</th>\n",
              "      <th>JUNCTIONTYPE_Driveway Junction</th>\n",
              "      <th>JUNCTIONTYPE_Mid-Block (but intersection related)</th>\n",
              "      <th>JUNCTIONTYPE_Mid-Block (not related to intersection)</th>\n",
              "      <th>JUNCTIONTYPE_Ramp Junction</th>\n",
              "      <th>JUNCTIONTYPE_Unknown</th>\n",
              "      <th>WEATHER_Blowing Sand/Dirt</th>\n",
              "      <th>WEATHER_Clear</th>\n",
              "      <th>WEATHER_Fog/Smog/Smoke</th>\n",
              "      <th>WEATHER_Other</th>\n",
              "      <th>WEATHER_Overcast</th>\n",
              "      <th>WEATHER_Partly Cloudy</th>\n",
              "      <th>WEATHER_Raining</th>\n",
              "      <th>WEATHER_Severe Crosswind</th>\n",
              "      <th>WEATHER_Sleet/Hail/Freezing Rain</th>\n",
              "      <th>WEATHER_Snowing</th>\n",
              "      <th>WEATHER_Unknown</th>\n",
              "      <th>COLLISIONTYPE_Angles</th>\n",
              "      <th>COLLISIONTYPE_Cycles</th>\n",
              "      <th>COLLISIONTYPE_Head On</th>\n",
              "      <th>COLLISIONTYPE_Left Turn</th>\n",
              "      <th>COLLISIONTYPE_Other</th>\n",
              "      <th>COLLISIONTYPE_Parked Car</th>\n",
              "      <th>COLLISIONTYPE_Pedestrian</th>\n",
              "      <th>COLLISIONTYPE_Rear Ended</th>\n",
              "      <th>COLLISIONTYPE_Right Turn</th>\n",
              "      <th>COLLISIONTYPE_Sideswipe</th>\n",
              "      <th>ROADCOND_Dry</th>\n",
              "      <th>ROADCOND_Ice</th>\n",
              "      <th>ROADCOND_Oil</th>\n",
              "      <th>ROADCOND_Other</th>\n",
              "      <th>ROADCOND_Sand/Mud/Dirt</th>\n",
              "      <th>ROADCOND_Snow/Slush</th>\n",
              "      <th>ROADCOND_Standing Water</th>\n",
              "      <th>ROADCOND_Unknown</th>\n",
              "      <th>ROADCOND_Wet</th>\n",
              "      <th>LIGHTCOND_Dark - No Street Lights</th>\n",
              "      <th>LIGHTCOND_Dark - Street Lights Off</th>\n",
              "      <th>LIGHTCOND_Dark - Street Lights On</th>\n",
              "      <th>LIGHTCOND_Dark - Unknown Lighting</th>\n",
              "      <th>LIGHTCOND_Dawn</th>\n",
              "      <th>LIGHTCOND_Daylight</th>\n",
              "      <th>LIGHTCOND_Dusk</th>\n",
              "      <th>LIGHTCOND_Other</th>\n",
              "      <th>LIGHTCOND_Unknown</th>\n",
              "      <th>HITPARKEDCAR_N</th>\n",
              "      <th>HITPARKEDCAR_Y</th>\n",
              "    </tr>\n",
              "    <tr>\n",
              "      <th>OBJECTID</th>\n",
              "      <th></th>\n",
              "      <th></th>\n",
              "      <th></th>\n",
              "      <th></th>\n",
              "      <th></th>\n",
              "      <th></th>\n",
              "      <th></th>\n",
              "      <th></th>\n",
              "      <th></th>\n",
              "      <th></th>\n",
              "      <th></th>\n",
              "      <th></th>\n",
              "      <th></th>\n",
              "      <th></th>\n",
              "      <th></th>\n",
              "      <th></th>\n",
              "      <th></th>\n",
              "      <th></th>\n",
              "      <th></th>\n",
              "      <th></th>\n",
              "      <th></th>\n",
              "      <th></th>\n",
              "      <th></th>\n",
              "      <th></th>\n",
              "      <th></th>\n",
              "      <th></th>\n",
              "      <th></th>\n",
              "      <th></th>\n",
              "      <th></th>\n",
              "      <th></th>\n",
              "      <th></th>\n",
              "      <th></th>\n",
              "      <th></th>\n",
              "      <th></th>\n",
              "      <th></th>\n",
              "      <th></th>\n",
              "      <th></th>\n",
              "      <th></th>\n",
              "      <th></th>\n",
              "      <th></th>\n",
              "      <th></th>\n",
              "      <th></th>\n",
              "      <th></th>\n",
              "      <th></th>\n",
              "      <th></th>\n",
              "      <th></th>\n",
              "      <th></th>\n",
              "      <th></th>\n",
              "      <th></th>\n",
              "      <th></th>\n",
              "      <th></th>\n",
              "      <th></th>\n",
              "      <th></th>\n",
              "      <th></th>\n",
              "      <th></th>\n",
              "    </tr>\n",
              "  </thead>\n",
              "  <tbody>\n",
              "    <tr>\n",
              "      <th>1</th>\n",
              "      <td>2</td>\n",
              "      <td>-122.323148</td>\n",
              "      <td>47.703140</td>\n",
              "      <td>5TH AVE NE AND NE 103RD ST</td>\n",
              "      <td>0</td>\n",
              "      <td>0</td>\n",
              "      <td>1</td>\n",
              "      <td>0</td>\n",
              "      <td>1</td>\n",
              "      <td>0</td>\n",
              "      <td>0</td>\n",
              "      <td>0</td>\n",
              "      <td>0</td>\n",
              "      <td>0</td>\n",
              "      <td>0</td>\n",
              "      <td>0</td>\n",
              "      <td>0</td>\n",
              "      <td>0</td>\n",
              "      <td>1</td>\n",
              "      <td>0</td>\n",
              "      <td>0</td>\n",
              "      <td>0</td>\n",
              "      <td>0</td>\n",
              "      <td>0</td>\n",
              "      <td>0</td>\n",
              "      <td>1</td>\n",
              "      <td>0</td>\n",
              "      <td>0</td>\n",
              "      <td>0</td>\n",
              "      <td>0</td>\n",
              "      <td>0</td>\n",
              "      <td>0</td>\n",
              "      <td>0</td>\n",
              "      <td>0</td>\n",
              "      <td>0</td>\n",
              "      <td>0</td>\n",
              "      <td>0</td>\n",
              "      <td>0</td>\n",
              "      <td>0</td>\n",
              "      <td>0</td>\n",
              "      <td>0</td>\n",
              "      <td>0</td>\n",
              "      <td>0</td>\n",
              "      <td>1</td>\n",
              "      <td>0</td>\n",
              "      <td>0</td>\n",
              "      <td>0</td>\n",
              "      <td>0</td>\n",
              "      <td>0</td>\n",
              "      <td>1</td>\n",
              "      <td>0</td>\n",
              "      <td>0</td>\n",
              "      <td>0</td>\n",
              "      <td>1</td>\n",
              "      <td>0</td>\n",
              "    </tr>\n",
              "    <tr>\n",
              "      <th>2</th>\n",
              "      <td>1</td>\n",
              "      <td>-122.347294</td>\n",
              "      <td>47.647172</td>\n",
              "      <td>AURORA BR BETWEEN RAYE ST AND BRIDGE WAY N</td>\n",
              "      <td>0</td>\n",
              "      <td>1</td>\n",
              "      <td>0</td>\n",
              "      <td>0</td>\n",
              "      <td>0</td>\n",
              "      <td>0</td>\n",
              "      <td>0</td>\n",
              "      <td>1</td>\n",
              "      <td>0</td>\n",
              "      <td>0</td>\n",
              "      <td>0</td>\n",
              "      <td>0</td>\n",
              "      <td>0</td>\n",
              "      <td>0</td>\n",
              "      <td>0</td>\n",
              "      <td>0</td>\n",
              "      <td>1</td>\n",
              "      <td>0</td>\n",
              "      <td>0</td>\n",
              "      <td>0</td>\n",
              "      <td>0</td>\n",
              "      <td>0</td>\n",
              "      <td>0</td>\n",
              "      <td>0</td>\n",
              "      <td>0</td>\n",
              "      <td>0</td>\n",
              "      <td>0</td>\n",
              "      <td>0</td>\n",
              "      <td>0</td>\n",
              "      <td>0</td>\n",
              "      <td>1</td>\n",
              "      <td>0</td>\n",
              "      <td>0</td>\n",
              "      <td>0</td>\n",
              "      <td>0</td>\n",
              "      <td>0</td>\n",
              "      <td>0</td>\n",
              "      <td>0</td>\n",
              "      <td>0</td>\n",
              "      <td>1</td>\n",
              "      <td>0</td>\n",
              "      <td>0</td>\n",
              "      <td>1</td>\n",
              "      <td>0</td>\n",
              "      <td>0</td>\n",
              "      <td>0</td>\n",
              "      <td>0</td>\n",
              "      <td>0</td>\n",
              "      <td>0</td>\n",
              "      <td>1</td>\n",
              "      <td>0</td>\n",
              "    </tr>\n",
              "    <tr>\n",
              "      <th>3</th>\n",
              "      <td>1</td>\n",
              "      <td>-122.334540</td>\n",
              "      <td>47.607871</td>\n",
              "      <td>4TH AVE BETWEEN SENECA ST AND UNIVERSITY ST</td>\n",
              "      <td>0</td>\n",
              "      <td>1</td>\n",
              "      <td>0</td>\n",
              "      <td>0</td>\n",
              "      <td>0</td>\n",
              "      <td>0</td>\n",
              "      <td>0</td>\n",
              "      <td>1</td>\n",
              "      <td>0</td>\n",
              "      <td>0</td>\n",
              "      <td>0</td>\n",
              "      <td>0</td>\n",
              "      <td>0</td>\n",
              "      <td>0</td>\n",
              "      <td>1</td>\n",
              "      <td>0</td>\n",
              "      <td>0</td>\n",
              "      <td>0</td>\n",
              "      <td>0</td>\n",
              "      <td>0</td>\n",
              "      <td>0</td>\n",
              "      <td>0</td>\n",
              "      <td>0</td>\n",
              "      <td>0</td>\n",
              "      <td>0</td>\n",
              "      <td>0</td>\n",
              "      <td>1</td>\n",
              "      <td>0</td>\n",
              "      <td>0</td>\n",
              "      <td>0</td>\n",
              "      <td>0</td>\n",
              "      <td>1</td>\n",
              "      <td>0</td>\n",
              "      <td>0</td>\n",
              "      <td>0</td>\n",
              "      <td>0</td>\n",
              "      <td>0</td>\n",
              "      <td>0</td>\n",
              "      <td>0</td>\n",
              "      <td>0</td>\n",
              "      <td>0</td>\n",
              "      <td>0</td>\n",
              "      <td>0</td>\n",
              "      <td>0</td>\n",
              "      <td>0</td>\n",
              "      <td>1</td>\n",
              "      <td>0</td>\n",
              "      <td>0</td>\n",
              "      <td>0</td>\n",
              "      <td>1</td>\n",
              "      <td>0</td>\n",
              "    </tr>\n",
              "    <tr>\n",
              "      <th>4</th>\n",
              "      <td>1</td>\n",
              "      <td>-122.334803</td>\n",
              "      <td>47.604803</td>\n",
              "      <td>2ND AVE BETWEEN MARION ST AND MADISON ST</td>\n",
              "      <td>0</td>\n",
              "      <td>1</td>\n",
              "      <td>0</td>\n",
              "      <td>0</td>\n",
              "      <td>0</td>\n",
              "      <td>0</td>\n",
              "      <td>0</td>\n",
              "      <td>1</td>\n",
              "      <td>0</td>\n",
              "      <td>0</td>\n",
              "      <td>0</td>\n",
              "      <td>1</td>\n",
              "      <td>0</td>\n",
              "      <td>0</td>\n",
              "      <td>0</td>\n",
              "      <td>0</td>\n",
              "      <td>0</td>\n",
              "      <td>0</td>\n",
              "      <td>0</td>\n",
              "      <td>0</td>\n",
              "      <td>0</td>\n",
              "      <td>0</td>\n",
              "      <td>0</td>\n",
              "      <td>0</td>\n",
              "      <td>0</td>\n",
              "      <td>1</td>\n",
              "      <td>0</td>\n",
              "      <td>0</td>\n",
              "      <td>0</td>\n",
              "      <td>0</td>\n",
              "      <td>0</td>\n",
              "      <td>1</td>\n",
              "      <td>0</td>\n",
              "      <td>0</td>\n",
              "      <td>0</td>\n",
              "      <td>0</td>\n",
              "      <td>0</td>\n",
              "      <td>0</td>\n",
              "      <td>0</td>\n",
              "      <td>0</td>\n",
              "      <td>0</td>\n",
              "      <td>0</td>\n",
              "      <td>0</td>\n",
              "      <td>0</td>\n",
              "      <td>0</td>\n",
              "      <td>1</td>\n",
              "      <td>0</td>\n",
              "      <td>0</td>\n",
              "      <td>0</td>\n",
              "      <td>1</td>\n",
              "      <td>0</td>\n",
              "    </tr>\n",
              "    <tr>\n",
              "      <th>5</th>\n",
              "      <td>2</td>\n",
              "      <td>-122.306426</td>\n",
              "      <td>47.545739</td>\n",
              "      <td>SWIFT AVE S AND SWIFT AV OFF RP</td>\n",
              "      <td>0</td>\n",
              "      <td>0</td>\n",
              "      <td>1</td>\n",
              "      <td>0</td>\n",
              "      <td>1</td>\n",
              "      <td>0</td>\n",
              "      <td>0</td>\n",
              "      <td>0</td>\n",
              "      <td>0</td>\n",
              "      <td>0</td>\n",
              "      <td>0</td>\n",
              "      <td>0</td>\n",
              "      <td>0</td>\n",
              "      <td>0</td>\n",
              "      <td>0</td>\n",
              "      <td>0</td>\n",
              "      <td>1</td>\n",
              "      <td>0</td>\n",
              "      <td>0</td>\n",
              "      <td>0</td>\n",
              "      <td>0</td>\n",
              "      <td>1</td>\n",
              "      <td>0</td>\n",
              "      <td>0</td>\n",
              "      <td>0</td>\n",
              "      <td>0</td>\n",
              "      <td>0</td>\n",
              "      <td>0</td>\n",
              "      <td>0</td>\n",
              "      <td>0</td>\n",
              "      <td>0</td>\n",
              "      <td>0</td>\n",
              "      <td>0</td>\n",
              "      <td>0</td>\n",
              "      <td>0</td>\n",
              "      <td>0</td>\n",
              "      <td>0</td>\n",
              "      <td>0</td>\n",
              "      <td>0</td>\n",
              "      <td>1</td>\n",
              "      <td>0</td>\n",
              "      <td>0</td>\n",
              "      <td>0</td>\n",
              "      <td>0</td>\n",
              "      <td>0</td>\n",
              "      <td>1</td>\n",
              "      <td>0</td>\n",
              "      <td>0</td>\n",
              "      <td>0</td>\n",
              "      <td>1</td>\n",
              "      <td>0</td>\n",
              "    </tr>\n",
              "  </tbody>\n",
              "</table>\n",
              "</div>"
            ],
            "text/plain": [
              "          SEVERITYCODE           X  ...  HITPARKEDCAR_N HITPARKEDCAR_Y\n",
              "OBJECTID                            ...                               \n",
              "1                    2 -122.323148  ...               1              0\n",
              "2                    1 -122.347294  ...               1              0\n",
              "3                    1 -122.334540  ...               1              0\n",
              "4                    1 -122.334803  ...               1              0\n",
              "5                    2 -122.306426  ...               1              0\n",
              "\n",
              "[5 rows x 55 columns]"
            ]
          },
          "metadata": {
            "tags": []
          },
          "execution_count": 15
        }
      ]
    },
    {
      "cell_type": "markdown",
      "metadata": {
        "id": "_pmohEXcOsee"
      },
      "source": [
        "Splitting the dataframe to train and test datasets."
      ]
    },
    {
      "cell_type": "code",
      "metadata": {
        "scrolled": false,
        "id": "9eXSAXD2JPfi"
      },
      "source": [
        "from sklearn.model_selection import train_test_split\n",
        "cdf.drop(\"LOCATION\",axis=1,inplace = True)\n",
        "X= np.asarray(cdf[[i for i in list(cdf.columns) if i != 'SEVERITYCODE']])\n",
        "y=np.asarray(cdf[\"SEVERITYCODE\"])\n",
        "X_train, X_test, y_train, y_test = train_test_split( X, y, test_size=0.2, random_state=4)"
      ],
      "execution_count": 16,
      "outputs": []
    },
    {
      "cell_type": "markdown",
      "metadata": {
        "id": "NWoFGGZgO8Fk"
      },
      "source": [
        "Importing the libraries needed for evaluation."
      ]
    },
    {
      "cell_type": "code",
      "metadata": {
        "id": "6zeqDX4dJPfk"
      },
      "source": [
        "from sklearn.metrics import jaccard_similarity_score\n",
        "from sklearn.metrics import f1_score\n",
        "from sklearn.metrics import log_loss"
      ],
      "execution_count": 17,
      "outputs": []
    },
    {
      "cell_type": "markdown",
      "metadata": {
        "id": "MjWLw8pFJPfm"
      },
      "source": [
        "# Logistic Regression"
      ]
    },
    {
      "cell_type": "markdown",
      "metadata": {
        "id": "YznSVt7DPBBD"
      },
      "source": [
        "Building the logistic regression model."
      ]
    },
    {
      "cell_type": "code",
      "metadata": {
        "id": "JBgbVDjcJPfm",
        "outputId": "7b145241-7475-4802-8624-cff1f100ef3c",
        "colab": {
          "base_uri": "https://localhost:8080/",
          "height": 33
        }
      },
      "source": [
        "from sklearn.linear_model import LogisticRegression\n",
        "from sklearn.metrics import confusion_matrix\n",
        "LR = LogisticRegression(C=0.01, solver='liblinear').fit(X_train,y_train)\n",
        "s=LR.score(X_train,y_train)\n",
        "s"
      ],
      "execution_count": 18,
      "outputs": [
        {
          "output_type": "execute_result",
          "data": {
            "text/plain": [
              "0.7393426413559512"
            ]
          },
          "metadata": {
            "tags": []
          },
          "execution_count": 18
        }
      ]
    },
    {
      "cell_type": "markdown",
      "metadata": {
        "id": "0q35r8-3PK7Z"
      },
      "source": [
        "Testing the model."
      ]
    },
    {
      "cell_type": "code",
      "metadata": {
        "id": "uSlS0YBXJPfo"
      },
      "source": [
        "yhat = LR.predict(X_test)"
      ],
      "execution_count": 19,
      "outputs": []
    },
    {
      "cell_type": "code",
      "metadata": {
        "id": "0y2N_yexJPfp",
        "outputId": "73d245e9-6df2-4879-a8fb-157f12c4824c",
        "colab": {
          "base_uri": "https://localhost:8080/",
          "height": 33
        }
      },
      "source": [
        "sa=LR.score(X_test,y_test)\n",
        "sa"
      ],
      "execution_count": 20,
      "outputs": [
        {
          "output_type": "execute_result",
          "data": {
            "text/plain": [
              "0.7403438893719672"
            ]
          },
          "metadata": {
            "tags": []
          },
          "execution_count": 20
        }
      ]
    },
    {
      "cell_type": "code",
      "metadata": {
        "scrolled": false,
        "id": "Hm6OvZycJPfv",
        "outputId": "318074ed-7d26-4513-c562-0b43d0b46f44",
        "colab": {
          "base_uri": "https://localhost:8080/",
          "height": 33
        }
      },
      "source": [
        "yhat = LR.predict(X_test)\n",
        "yhat_prob = LR.predict_proba(X_test)\n",
        "yhat\n"
      ],
      "execution_count": 21,
      "outputs": [
        {
          "output_type": "execute_result",
          "data": {
            "text/plain": [
              "array([1, 2, 1, ..., 1, 1, 1])"
            ]
          },
          "metadata": {
            "tags": []
          },
          "execution_count": 21
        }
      ]
    },
    {
      "cell_type": "markdown",
      "metadata": {
        "id": "PQ7Ii1W8PXwl"
      },
      "source": [
        "Evaluating the model using Jaccard index, F1-score, log loss and classification report."
      ]
    },
    {
      "cell_type": "markdown",
      "metadata": {
        "id": "cK6rDZyOPqbL"
      },
      "source": [
        "Jaccard index and F1-score results."
      ]
    },
    {
      "cell_type": "code",
      "metadata": {
        "id": "OaNGpA6yJPf1",
        "outputId": "bffbf817-0ce1-4491-e77c-d5fbb4dbcfdb",
        "colab": {
          "base_uri": "https://localhost:8080/",
          "height": 86
        }
      },
      "source": [
        "from sklearn.metrics import jaccard_similarity_score\n",
        "jaccard_similarity_score(y_test, yhat)"
      ],
      "execution_count": 22,
      "outputs": [
        {
          "output_type": "stream",
          "text": [
            "/usr/local/lib/python3.6/dist-packages/sklearn/metrics/_classification.py:664: FutureWarning: jaccard_similarity_score has been deprecated and replaced with jaccard_score. It will be removed in version 0.23. This implementation has surprising behavior for binary and multiclass classification tasks.\n",
            "  FutureWarning)\n"
          ],
          "name": "stderr"
        },
        {
          "output_type": "execute_result",
          "data": {
            "text/plain": [
              "0.7403438893719672"
            ]
          },
          "metadata": {
            "tags": []
          },
          "execution_count": 22
        }
      ]
    },
    {
      "cell_type": "code",
      "metadata": {
        "id": "O1RSbM6OJPf2",
        "outputId": "c0e37612-b07a-4291-e411-c6d4bcd92f7c",
        "colab": {
          "base_uri": "https://localhost:8080/",
          "height": 102
        }
      },
      "source": [
        "print(\"LR Jaccard index: %.2f\" % jaccard_similarity_score(y_test, yhat))\n",
        "print(\"LR F1-score: %.2f\" % f1_score(y_test, yhat, average='weighted') )"
      ],
      "execution_count": 23,
      "outputs": [
        {
          "output_type": "stream",
          "text": [
            "LR Jaccard index: 0.74\n",
            "LR F1-score: 0.68\n"
          ],
          "name": "stdout"
        },
        {
          "output_type": "stream",
          "text": [
            "/usr/local/lib/python3.6/dist-packages/sklearn/metrics/_classification.py:664: FutureWarning: jaccard_similarity_score has been deprecated and replaced with jaccard_score. It will be removed in version 0.23. This implementation has surprising behavior for binary and multiclass classification tasks.\n",
            "  FutureWarning)\n"
          ],
          "name": "stderr"
        }
      ]
    },
    {
      "cell_type": "markdown",
      "metadata": {
        "id": "JoTnT_qwPj5Y"
      },
      "source": [
        "Classification report results."
      ]
    },
    {
      "cell_type": "code",
      "metadata": {
        "id": "7GAx0BuhJPf5",
        "outputId": "29c7dc80-8730-4eaa-81dd-7013a589afd9",
        "colab": {
          "base_uri": "https://localhost:8080/",
          "height": 163
        }
      },
      "source": [
        "from sklearn.metrics import classification_report\n",
        "print (classification_report(y_test, yhat))\n"
      ],
      "execution_count": 24,
      "outputs": [
        {
          "output_type": "stream",
          "text": [
            "              precision    recall  f1-score   support\n",
            "\n",
            "           1       0.73      0.98      0.84     24610\n",
            "           2       0.81      0.21      0.33     11041\n",
            "\n",
            "    accuracy                           0.74     35651\n",
            "   macro avg       0.77      0.59      0.59     35651\n",
            "weighted avg       0.76      0.74      0.68     35651\n",
            "\n"
          ],
          "name": "stdout"
        }
      ]
    },
    {
      "cell_type": "markdown",
      "metadata": {
        "id": "QxLgJoy2PmGK"
      },
      "source": [
        "Log loss results."
      ]
    },
    {
      "cell_type": "code",
      "metadata": {
        "id": "8QAtrGcgJPf6",
        "outputId": "35881fcd-a817-4ca9-cc6c-1a6172096659",
        "colab": {
          "base_uri": "https://localhost:8080/",
          "height": 33
        }
      },
      "source": [
        "from sklearn.metrics import log_loss\n",
        "log_loss(y_test, yhat_prob)"
      ],
      "execution_count": 25,
      "outputs": [
        {
          "output_type": "execute_result",
          "data": {
            "text/plain": [
              "0.5027292962976999"
            ]
          },
          "metadata": {
            "tags": []
          },
          "execution_count": 25
        }
      ]
    },
    {
      "cell_type": "markdown",
      "metadata": {
        "id": "UgJNbh7jPwFt"
      },
      "source": [
        "Evalutating the model using cross_val_score."
      ]
    },
    {
      "cell_type": "code",
      "metadata": {
        "scrolled": true,
        "id": "Xr7KyEmlJPf8",
        "outputId": "60c239aa-18a9-4f72-a09f-9ea088e1bfab",
        "colab": {
          "base_uri": "https://localhost:8080/",
          "height": 50
        }
      },
      "source": [
        "from sklearn.model_selection import cross_val_score\n",
        "\n",
        "scores = cross_val_score(LR, X_train, y_train, cv=10)\n",
        "print('Cross-Validation Accuracy Scores', scores)"
      ],
      "execution_count": 26,
      "outputs": [
        {
          "output_type": "stream",
          "text": [
            "Cross-Validation Accuracy Scores [0.738728   0.73884993 0.73927069 0.74004208 0.7411641  0.73597475\n",
            " 0.73969144 0.74018233 0.74025245 0.73934081]\n"
          ],
          "name": "stdout"
        }
      ]
    },
    {
      "cell_type": "markdown",
      "metadata": {
        "id": "2Nsg-Lo4JPf9"
      },
      "source": [
        "<h1> Decision Tree</h1>"
      ]
    },
    {
      "cell_type": "markdown",
      "metadata": {
        "id": "4ML3SoDZQGvu"
      },
      "source": [
        "Building the Decision Tree model."
      ]
    },
    {
      "cell_type": "code",
      "metadata": {
        "id": "EQynpYAcJPf-"
      },
      "source": [
        "from sklearn.tree import DecisionTreeClassifier\n",
        "tree = DecisionTreeClassifier(criterion=\"entropy\", max_depth = 20)"
      ],
      "execution_count": 27,
      "outputs": []
    },
    {
      "cell_type": "markdown",
      "metadata": {
        "id": "BOv4BhakQJpM"
      },
      "source": [
        "Fitting the data to the model."
      ]
    },
    {
      "cell_type": "code",
      "metadata": {
        "id": "fpZ5ddxIJPf_",
        "outputId": "29421345-9812-48f2-c365-fce035a7fccf",
        "colab": {
          "base_uri": "https://localhost:8080/",
          "height": 115
        }
      },
      "source": [
        "tree.fit(X_train,y_train)"
      ],
      "execution_count": 28,
      "outputs": [
        {
          "output_type": "execute_result",
          "data": {
            "text/plain": [
              "DecisionTreeClassifier(ccp_alpha=0.0, class_weight=None, criterion='entropy',\n",
              "                       max_depth=20, max_features=None, max_leaf_nodes=None,\n",
              "                       min_impurity_decrease=0.0, min_impurity_split=None,\n",
              "                       min_samples_leaf=1, min_samples_split=2,\n",
              "                       min_weight_fraction_leaf=0.0, presort='deprecated',\n",
              "                       random_state=None, splitter='best')"
            ]
          },
          "metadata": {
            "tags": []
          },
          "execution_count": 28
        }
      ]
    },
    {
      "cell_type": "markdown",
      "metadata": {
        "id": "1tld72DZQMR2"
      },
      "source": [
        "Testing the model."
      ]
    },
    {
      "cell_type": "code",
      "metadata": {
        "id": "ZumjMSJpJPgC"
      },
      "source": [
        "predTree = tree.predict(X_test)"
      ],
      "execution_count": 29,
      "outputs": []
    },
    {
      "cell_type": "markdown",
      "metadata": {
        "id": "GpMCXLkzQSHq"
      },
      "source": [
        "Printing the accuarcy of the model."
      ]
    },
    {
      "cell_type": "code",
      "metadata": {
        "scrolled": true,
        "id": "yGJsjFkoJPgD",
        "outputId": "c677dbea-691d-4230-cc65-ffd6f37511e7",
        "colab": {
          "base_uri": "https://localhost:8080/",
          "height": 33
        }
      },
      "source": [
        "from sklearn import metrics\n",
        "import matplotlib.pyplot as plt\n",
        "print(\"DecisionTrees's Accuracy: \", metrics.accuracy_score(y_test, predTree))"
      ],
      "execution_count": 30,
      "outputs": [
        {
          "output_type": "stream",
          "text": [
            "DecisionTrees's Accuracy:  0.7252811982833581\n"
          ],
          "name": "stdout"
        }
      ]
    },
    {
      "cell_type": "markdown",
      "metadata": {
        "id": "KX0js1-MQXoR"
      },
      "source": [
        "Classification report results."
      ]
    },
    {
      "cell_type": "code",
      "metadata": {
        "scrolled": true,
        "id": "zBEqshRGJPgF",
        "outputId": "f11fa0fa-bf84-4ee8-900a-4b07f106ee17",
        "colab": {
          "base_uri": "https://localhost:8080/",
          "height": 163
        }
      },
      "source": [
        "print(classification_report(y_test,predTree))"
      ],
      "execution_count": 31,
      "outputs": [
        {
          "output_type": "stream",
          "text": [
            "              precision    recall  f1-score   support\n",
            "\n",
            "           1       0.74      0.94      0.82     24610\n",
            "           2       0.64      0.26      0.37     11041\n",
            "\n",
            "    accuracy                           0.73     35651\n",
            "   macro avg       0.69      0.60      0.60     35651\n",
            "weighted avg       0.71      0.73      0.68     35651\n",
            "\n"
          ],
          "name": "stdout"
        }
      ]
    },
    {
      "cell_type": "markdown",
      "metadata": {
        "id": "GIOke13mQc3b"
      },
      "source": [
        "Jaccard index and F1-score results."
      ]
    },
    {
      "cell_type": "code",
      "metadata": {
        "id": "xswBjMmiJPgJ",
        "outputId": "08d8b3e5-2d6b-4222-fe1e-9b567abfacc9",
        "colab": {
          "base_uri": "https://localhost:8080/",
          "height": 102
        }
      },
      "source": [
        "print(\"DT Jaccard index: %.2f\" % jaccard_similarity_score(y_test, predTree))\n",
        "print(\"DT F1-score: %.2f\" % f1_score(y_test, predTree, average='weighted') )"
      ],
      "execution_count": 32,
      "outputs": [
        {
          "output_type": "stream",
          "text": [
            "DT Jaccard index: 0.73\n",
            "DT F1-score: 0.68\n"
          ],
          "name": "stdout"
        },
        {
          "output_type": "stream",
          "text": [
            "/usr/local/lib/python3.6/dist-packages/sklearn/metrics/_classification.py:664: FutureWarning: jaccard_similarity_score has been deprecated and replaced with jaccard_score. It will be removed in version 0.23. This implementation has surprising behavior for binary and multiclass classification tasks.\n",
            "  FutureWarning)\n"
          ],
          "name": "stderr"
        }
      ]
    }
  ]
}
=======
     },
     "execution_count": 38,
     "metadata": {},
     "output_type": "execute_result"
    }
   ],
   "source": [
    "cdf.columns"
   ]
  },
  {
   "cell_type": "code",
   "execution_count": 39,
   "metadata": {},
   "outputs": [
    {
     "data": {
      "text/plain": [
       "Clear                       111135\n",
       "Raining                      33145\n",
       "Overcast                     27714\n",
       "Unknown                      15091\n",
       "Snowing                        907\n",
       "Other                          832\n",
       "Fog/Smog/Smoke                 569\n",
       "Sleet/Hail/Freezing Rain       113\n",
       "Blowing Sand/Dirt               56\n",
       "Severe Crosswind                25\n",
       "Partly Cloudy                    5\n",
       "Name: WEATHER, dtype: int64"
      ]
     },
     "execution_count": 39,
     "metadata": {},
     "output_type": "execute_result"
    }
   ],
   "source": [
    "df[\"WEATHER\"].value_counts()"
   ]
  },
  {
   "cell_type": "markdown",
   "metadata": {
    "scrolled": true
   },
   "source": [
    "\n",
    "import numpy as np \n",
    "import pandas as pd \n",
    "import gmaps \n",
    "import gmaps.datasets\n",
    "import folium"
   ]
  },
  {
   "cell_type": "markdown",
   "metadata": {},
   "source": [
    "m = folium.Map([47.6062, -122.3321], zoom_start=11)"
   ]
  },
  {
   "cell_type": "code",
   "execution_count": 40,
   "metadata": {},
   "outputs": [
    {
     "data": {
      "text/plain": [
       "BATTERY ST TUNNEL NB BETWEEN ALASKAN WY VI NB AND AURORA AVE N    276\n",
       "BATTERY ST TUNNEL SB BETWEEN AURORA AVE N AND ALASKAN WY VI SB    271\n",
       "N NORTHGATE WAY BETWEEN MERIDIAN AVE N AND CORLISS AVE N          265\n",
       "AURORA AVE N BETWEEN N 117TH PL AND N 125TH ST                    254\n",
       "6TH AVE AND JAMES ST                                              252\n",
       "                                                                 ... \n",
       "INTERLAKE AVE N BETWEEN N 43RD ST AND N 44TH ST                     1\n",
       "NW 89TH PL BETWEEN 23RD AVE NW AND JONES AVE NW                     1\n",
       "MINOR AVE AND UNION ST                                              1\n",
       "47TH AVE SW AND LINCOLN PARK WAY SW                                 1\n",
       "56TH AVE SW AND ALKI AVE SW                                         1\n",
       "Name: LOCATION, Length: 24102, dtype: int64"
      ]
     },
     "execution_count": 40,
     "metadata": {},
     "output_type": "execute_result"
    }
   ],
   "source": [
    "df[\"LOCATION\"].value_counts()"
   ]
  },
  {
   "cell_type": "markdown",
   "metadata": {},
   "source": [
    "import numpy as np\n",
    "import numpy.random\n",
    "import matplotlib.pyplot as plt\n",
    "\n",
    "# Generate some test data\n",
    "x = cdf[\"X\"]\n",
    "y = cdf[\"Y\"]\n",
    "\n",
    "heatmap, xedges, yedges = np.histogram2d(x, y, bins=20)\n",
    "extent = [xedges[0], xedges[-1], yedges[0], yedges[-1]]\n",
    "\n",
    "plt.clf()\n",
    "plt.imshow(heatmap.T, extent=extent, origin='lower')\n",
    "plt.show()"
   ]
  },
  {
   "cell_type": "code",
   "execution_count": 41,
   "metadata": {},
   "outputs": [
    {
     "data": {
      "text/plain": [
       "(178252, 54)"
      ]
     },
     "execution_count": 41,
     "metadata": {},
     "output_type": "execute_result"
    }
   ],
   "source": [
    "cdf.shape"
   ]
  },
  {
   "cell_type": "code",
   "execution_count": 42,
   "metadata": {},
   "outputs": [
    {
     "data": {
      "text/plain": [
       "47.49557292"
      ]
     },
     "execution_count": 42,
     "metadata": {},
     "output_type": "execute_result"
    }
   ],
   "source": [
    "cdf[\"Y\"].min()"
   ]
  },
  {
   "cell_type": "code",
   "execution_count": 43,
   "metadata": {},
   "outputs": [
    {
     "data": {
      "text/plain": [
       "Index(['SEVERITYCODE', 'X', 'Y', 'OBJECTID', 'INCKEY', 'COLDETKEY', 'REPORTNO',\n",
       "       'STATUS', 'ADDRTYPE', 'INTKEY', 'LOCATION', 'EXCEPTRSNCODE',\n",
       "       'EXCEPTRSNDESC', 'SEVERITYCODE.1', 'SEVERITYDESC', 'COLLISIONTYPE',\n",
       "       'PERSONCOUNT', 'PEDCOUNT', 'PEDCYLCOUNT', 'VEHCOUNT', 'INCDATE',\n",
       "       'INCDTTM', 'JUNCTIONTYPE', 'SDOT_COLCODE', 'SDOT_COLDESC',\n",
       "       'INATTENTIONIND', 'UNDERINFL', 'WEATHER', 'ROADCOND', 'LIGHTCOND',\n",
       "       'PEDROWNOTGRNT', 'SDOTCOLNUM', 'SPEEDING', 'ST_COLCODE', 'ST_COLDESC',\n",
       "       'SEGLANEKEY', 'CROSSWALKKEY', 'HITPARKEDCAR'],\n",
       "      dtype='object')"
      ]
     },
     "execution_count": 43,
     "metadata": {},
     "output_type": "execute_result"
    }
   ],
   "source": [
    "df.columns"
   ]
  },
  {
   "cell_type": "code",
   "execution_count": null,
   "metadata": {},
   "outputs": [
    {
     "name": "stderr",
     "output_type": "stream",
     "text": [
      "c:\\users\\yousef\\appdata\\local\\programs\\python\\python37\\lib\\site-packages\\matplotlib\\axes\\_axes.py:6607: RuntimeWarning: All-NaN slice encountered\n",
      "  xmin = min(xmin, np.nanmin(xi))\n",
      "c:\\users\\yousef\\appdata\\local\\programs\\python\\python37\\lib\\site-packages\\matplotlib\\axes\\_axes.py:6608: RuntimeWarning: All-NaN slice encountered\n",
      "  xmax = max(xmax, np.nanmax(xi))\n"
     ]
    },
    {
     "ename": "KeyboardInterrupt",
     "evalue": "",
     "output_type": "error",
     "traceback": [
      "\u001b[1;31m---------------------------------------------------------------------------\u001b[0m",
      "\u001b[1;31mKeyboardInterrupt\u001b[0m                         Traceback (most recent call last)",
      "\u001b[1;32m<ipython-input-44-5ac09a3a015c>\u001b[0m in \u001b[0;36m<module>\u001b[1;34m\u001b[0m\n\u001b[1;32m----> 1\u001b[1;33m \u001b[0mplt\u001b[0m\u001b[1;33m.\u001b[0m\u001b[0mhist\u001b[0m\u001b[1;33m(\u001b[0m\u001b[0mdf\u001b[0m\u001b[1;33m[\u001b[0m\u001b[1;34m'ROADCOND'\u001b[0m\u001b[1;33m]\u001b[0m\u001b[1;33m)\u001b[0m\u001b[1;33m\u001b[0m\u001b[1;33m\u001b[0m\u001b[0m\n\u001b[0m",
      "\u001b[1;32mc:\\users\\yousef\\appdata\\local\\programs\\python\\python37\\lib\\site-packages\\matplotlib\\pyplot.py\u001b[0m in \u001b[0;36mhist\u001b[1;34m(x, bins, range, density, weights, cumulative, bottom, histtype, align, orientation, rwidth, log, color, label, stacked, data, **kwargs)\u001b[0m\n\u001b[0;32m   2671\u001b[0m         \u001b[0malign\u001b[0m\u001b[1;33m=\u001b[0m\u001b[0malign\u001b[0m\u001b[1;33m,\u001b[0m \u001b[0morientation\u001b[0m\u001b[1;33m=\u001b[0m\u001b[0morientation\u001b[0m\u001b[1;33m,\u001b[0m \u001b[0mrwidth\u001b[0m\u001b[1;33m=\u001b[0m\u001b[0mrwidth\u001b[0m\u001b[1;33m,\u001b[0m \u001b[0mlog\u001b[0m\u001b[1;33m=\u001b[0m\u001b[0mlog\u001b[0m\u001b[1;33m,\u001b[0m\u001b[1;33m\u001b[0m\u001b[1;33m\u001b[0m\u001b[0m\n\u001b[0;32m   2672\u001b[0m         \u001b[0mcolor\u001b[0m\u001b[1;33m=\u001b[0m\u001b[0mcolor\u001b[0m\u001b[1;33m,\u001b[0m \u001b[0mlabel\u001b[0m\u001b[1;33m=\u001b[0m\u001b[0mlabel\u001b[0m\u001b[1;33m,\u001b[0m \u001b[0mstacked\u001b[0m\u001b[1;33m=\u001b[0m\u001b[0mstacked\u001b[0m\u001b[1;33m,\u001b[0m\u001b[1;33m\u001b[0m\u001b[1;33m\u001b[0m\u001b[0m\n\u001b[1;32m-> 2673\u001b[1;33m         **({\"data\": data} if data is not None else {}), **kwargs)\n\u001b[0m\u001b[0;32m   2674\u001b[0m \u001b[1;33m\u001b[0m\u001b[0m\n\u001b[0;32m   2675\u001b[0m \u001b[1;33m\u001b[0m\u001b[0m\n",
      "\u001b[1;32mc:\\users\\yousef\\appdata\\local\\programs\\python\\python37\\lib\\site-packages\\matplotlib\\__init__.py\u001b[0m in \u001b[0;36minner\u001b[1;34m(ax, data, *args, **kwargs)\u001b[0m\n\u001b[0;32m   1429\u001b[0m     \u001b[1;32mdef\u001b[0m \u001b[0minner\u001b[0m\u001b[1;33m(\u001b[0m\u001b[0max\u001b[0m\u001b[1;33m,\u001b[0m \u001b[1;33m*\u001b[0m\u001b[0margs\u001b[0m\u001b[1;33m,\u001b[0m \u001b[0mdata\u001b[0m\u001b[1;33m=\u001b[0m\u001b[1;32mNone\u001b[0m\u001b[1;33m,\u001b[0m \u001b[1;33m**\u001b[0m\u001b[0mkwargs\u001b[0m\u001b[1;33m)\u001b[0m\u001b[1;33m:\u001b[0m\u001b[1;33m\u001b[0m\u001b[1;33m\u001b[0m\u001b[0m\n\u001b[0;32m   1430\u001b[0m         \u001b[1;32mif\u001b[0m \u001b[0mdata\u001b[0m \u001b[1;32mis\u001b[0m \u001b[1;32mNone\u001b[0m\u001b[1;33m:\u001b[0m\u001b[1;33m\u001b[0m\u001b[1;33m\u001b[0m\u001b[0m\n\u001b[1;32m-> 1431\u001b[1;33m             \u001b[1;32mreturn\u001b[0m \u001b[0mfunc\u001b[0m\u001b[1;33m(\u001b[0m\u001b[0max\u001b[0m\u001b[1;33m,\u001b[0m \u001b[1;33m*\u001b[0m\u001b[0mmap\u001b[0m\u001b[1;33m(\u001b[0m\u001b[0msanitize_sequence\u001b[0m\u001b[1;33m,\u001b[0m \u001b[0margs\u001b[0m\u001b[1;33m)\u001b[0m\u001b[1;33m,\u001b[0m \u001b[1;33m**\u001b[0m\u001b[0mkwargs\u001b[0m\u001b[1;33m)\u001b[0m\u001b[1;33m\u001b[0m\u001b[1;33m\u001b[0m\u001b[0m\n\u001b[0m\u001b[0;32m   1432\u001b[0m \u001b[1;33m\u001b[0m\u001b[0m\n\u001b[0;32m   1433\u001b[0m         \u001b[0mbound\u001b[0m \u001b[1;33m=\u001b[0m \u001b[0mnew_sig\u001b[0m\u001b[1;33m.\u001b[0m\u001b[0mbind\u001b[0m\u001b[1;33m(\u001b[0m\u001b[0max\u001b[0m\u001b[1;33m,\u001b[0m \u001b[1;33m*\u001b[0m\u001b[0margs\u001b[0m\u001b[1;33m,\u001b[0m \u001b[1;33m**\u001b[0m\u001b[0mkwargs\u001b[0m\u001b[1;33m)\u001b[0m\u001b[1;33m\u001b[0m\u001b[1;33m\u001b[0m\u001b[0m\n",
      "\u001b[1;32mc:\\users\\yousef\\appdata\\local\\programs\\python\\python37\\lib\\site-packages\\matplotlib\\axes\\_axes.py\u001b[0m in \u001b[0;36mhist\u001b[1;34m(self, x, bins, range, density, weights, cumulative, bottom, histtype, align, orientation, rwidth, log, color, label, stacked, **kwargs)\u001b[0m\n\u001b[0;32m   6702\u001b[0m                 patch = _barfunc(bins[:-1]+boffset, height, width,\n\u001b[0;32m   6703\u001b[0m                                  \u001b[0malign\u001b[0m\u001b[1;33m=\u001b[0m\u001b[1;34m'center'\u001b[0m\u001b[1;33m,\u001b[0m \u001b[0mlog\u001b[0m\u001b[1;33m=\u001b[0m\u001b[0mlog\u001b[0m\u001b[1;33m,\u001b[0m\u001b[1;33m\u001b[0m\u001b[1;33m\u001b[0m\u001b[0m\n\u001b[1;32m-> 6704\u001b[1;33m                                  color=c, **{bottom_kwarg: bottom})\n\u001b[0m\u001b[0;32m   6705\u001b[0m                 \u001b[0mpatches\u001b[0m\u001b[1;33m.\u001b[0m\u001b[0mappend\u001b[0m\u001b[1;33m(\u001b[0m\u001b[0mpatch\u001b[0m\u001b[1;33m)\u001b[0m\u001b[1;33m\u001b[0m\u001b[1;33m\u001b[0m\u001b[0m\n\u001b[0;32m   6706\u001b[0m                 \u001b[1;32mif\u001b[0m \u001b[0mstacked\u001b[0m\u001b[1;33m:\u001b[0m\u001b[1;33m\u001b[0m\u001b[1;33m\u001b[0m\u001b[0m\n",
      "\u001b[1;32mc:\\users\\yousef\\appdata\\local\\programs\\python\\python37\\lib\\site-packages\\matplotlib\\__init__.py\u001b[0m in \u001b[0;36minner\u001b[1;34m(ax, data, *args, **kwargs)\u001b[0m\n\u001b[0;32m   1429\u001b[0m     \u001b[1;32mdef\u001b[0m \u001b[0minner\u001b[0m\u001b[1;33m(\u001b[0m\u001b[0max\u001b[0m\u001b[1;33m,\u001b[0m \u001b[1;33m*\u001b[0m\u001b[0margs\u001b[0m\u001b[1;33m,\u001b[0m \u001b[0mdata\u001b[0m\u001b[1;33m=\u001b[0m\u001b[1;32mNone\u001b[0m\u001b[1;33m,\u001b[0m \u001b[1;33m**\u001b[0m\u001b[0mkwargs\u001b[0m\u001b[1;33m)\u001b[0m\u001b[1;33m:\u001b[0m\u001b[1;33m\u001b[0m\u001b[1;33m\u001b[0m\u001b[0m\n\u001b[0;32m   1430\u001b[0m         \u001b[1;32mif\u001b[0m \u001b[0mdata\u001b[0m \u001b[1;32mis\u001b[0m \u001b[1;32mNone\u001b[0m\u001b[1;33m:\u001b[0m\u001b[1;33m\u001b[0m\u001b[1;33m\u001b[0m\u001b[0m\n\u001b[1;32m-> 1431\u001b[1;33m             \u001b[1;32mreturn\u001b[0m \u001b[0mfunc\u001b[0m\u001b[1;33m(\u001b[0m\u001b[0max\u001b[0m\u001b[1;33m,\u001b[0m \u001b[1;33m*\u001b[0m\u001b[0mmap\u001b[0m\u001b[1;33m(\u001b[0m\u001b[0msanitize_sequence\u001b[0m\u001b[1;33m,\u001b[0m \u001b[0margs\u001b[0m\u001b[1;33m)\u001b[0m\u001b[1;33m,\u001b[0m \u001b[1;33m**\u001b[0m\u001b[0mkwargs\u001b[0m\u001b[1;33m)\u001b[0m\u001b[1;33m\u001b[0m\u001b[1;33m\u001b[0m\u001b[0m\n\u001b[0m\u001b[0;32m   1432\u001b[0m \u001b[1;33m\u001b[0m\u001b[0m\n\u001b[0;32m   1433\u001b[0m         \u001b[0mbound\u001b[0m \u001b[1;33m=\u001b[0m \u001b[0mnew_sig\u001b[0m\u001b[1;33m.\u001b[0m\u001b[0mbind\u001b[0m\u001b[1;33m(\u001b[0m\u001b[0max\u001b[0m\u001b[1;33m,\u001b[0m \u001b[1;33m*\u001b[0m\u001b[0margs\u001b[0m\u001b[1;33m,\u001b[0m \u001b[1;33m**\u001b[0m\u001b[0mkwargs\u001b[0m\u001b[1;33m)\u001b[0m\u001b[1;33m\u001b[0m\u001b[1;33m\u001b[0m\u001b[0m\n",
      "\u001b[1;32mc:\\users\\yousef\\appdata\\local\\programs\\python\\python37\\lib\\site-packages\\matplotlib\\axes\\_axes.py\u001b[0m in \u001b[0;36mbar\u001b[1;34m(self, x, height, width, bottom, align, **kwargs)\u001b[0m\n\u001b[0;32m   2492\u001b[0m             \u001b[1;32melif\u001b[0m \u001b[0morientation\u001b[0m \u001b[1;33m==\u001b[0m \u001b[1;34m'horizontal'\u001b[0m\u001b[1;33m:\u001b[0m\u001b[1;33m\u001b[0m\u001b[1;33m\u001b[0m\u001b[0m\n\u001b[0;32m   2493\u001b[0m                 \u001b[0mr\u001b[0m\u001b[1;33m.\u001b[0m\u001b[0msticky_edges\u001b[0m\u001b[1;33m.\u001b[0m\u001b[0mx\u001b[0m\u001b[1;33m.\u001b[0m\u001b[0mappend\u001b[0m\u001b[1;33m(\u001b[0m\u001b[0ml\u001b[0m\u001b[1;33m)\u001b[0m\u001b[1;33m\u001b[0m\u001b[1;33m\u001b[0m\u001b[0m\n\u001b[1;32m-> 2494\u001b[1;33m             \u001b[0mself\u001b[0m\u001b[1;33m.\u001b[0m\u001b[0madd_patch\u001b[0m\u001b[1;33m(\u001b[0m\u001b[0mr\u001b[0m\u001b[1;33m)\u001b[0m\u001b[1;33m\u001b[0m\u001b[1;33m\u001b[0m\u001b[0m\n\u001b[0m\u001b[0;32m   2495\u001b[0m             \u001b[0mpatches\u001b[0m\u001b[1;33m.\u001b[0m\u001b[0mappend\u001b[0m\u001b[1;33m(\u001b[0m\u001b[0mr\u001b[0m\u001b[1;33m)\u001b[0m\u001b[1;33m\u001b[0m\u001b[1;33m\u001b[0m\u001b[0m\n\u001b[0;32m   2496\u001b[0m \u001b[1;33m\u001b[0m\u001b[0m\n",
      "\u001b[1;32mc:\\users\\yousef\\appdata\\local\\programs\\python\\python37\\lib\\site-packages\\matplotlib\\axes\\_base.py\u001b[0m in \u001b[0;36madd_patch\u001b[1;34m(self, p)\u001b[0m\n\u001b[0;32m   2035\u001b[0m         \u001b[0mself\u001b[0m\u001b[1;33m.\u001b[0m\u001b[0m_set_artist_props\u001b[0m\u001b[1;33m(\u001b[0m\u001b[0mp\u001b[0m\u001b[1;33m)\u001b[0m\u001b[1;33m\u001b[0m\u001b[1;33m\u001b[0m\u001b[0m\n\u001b[0;32m   2036\u001b[0m         \u001b[1;32mif\u001b[0m \u001b[0mp\u001b[0m\u001b[1;33m.\u001b[0m\u001b[0mget_clip_path\u001b[0m\u001b[1;33m(\u001b[0m\u001b[1;33m)\u001b[0m \u001b[1;32mis\u001b[0m \u001b[1;32mNone\u001b[0m\u001b[1;33m:\u001b[0m\u001b[1;33m\u001b[0m\u001b[1;33m\u001b[0m\u001b[0m\n\u001b[1;32m-> 2037\u001b[1;33m             \u001b[0mp\u001b[0m\u001b[1;33m.\u001b[0m\u001b[0mset_clip_path\u001b[0m\u001b[1;33m(\u001b[0m\u001b[0mself\u001b[0m\u001b[1;33m.\u001b[0m\u001b[0mpatch\u001b[0m\u001b[1;33m)\u001b[0m\u001b[1;33m\u001b[0m\u001b[1;33m\u001b[0m\u001b[0m\n\u001b[0m\u001b[0;32m   2038\u001b[0m         \u001b[0mself\u001b[0m\u001b[1;33m.\u001b[0m\u001b[0m_update_patch_limits\u001b[0m\u001b[1;33m(\u001b[0m\u001b[0mp\u001b[0m\u001b[1;33m)\u001b[0m\u001b[1;33m\u001b[0m\u001b[1;33m\u001b[0m\u001b[0m\n\u001b[0;32m   2039\u001b[0m         \u001b[0mself\u001b[0m\u001b[1;33m.\u001b[0m\u001b[0mpatches\u001b[0m\u001b[1;33m.\u001b[0m\u001b[0mappend\u001b[0m\u001b[1;33m(\u001b[0m\u001b[0mp\u001b[0m\u001b[1;33m)\u001b[0m\u001b[1;33m\u001b[0m\u001b[1;33m\u001b[0m\u001b[0m\n",
      "\u001b[1;32mc:\\users\\yousef\\appdata\\local\\programs\\python\\python37\\lib\\site-packages\\matplotlib\\artist.py\u001b[0m in \u001b[0;36mset_clip_path\u001b[1;34m(self, path, transform)\u001b[0m\n\u001b[0;32m    752\u001b[0m             \u001b[1;32mif\u001b[0m \u001b[0misinstance\u001b[0m\u001b[1;33m(\u001b[0m\u001b[0mpath\u001b[0m\u001b[1;33m,\u001b[0m \u001b[0mRectangle\u001b[0m\u001b[1;33m)\u001b[0m\u001b[1;33m:\u001b[0m\u001b[1;33m\u001b[0m\u001b[1;33m\u001b[0m\u001b[0m\n\u001b[0;32m    753\u001b[0m                 self.clipbox = TransformedBbox(Bbox.unit(),\n\u001b[1;32m--> 754\u001b[1;33m                                                path.get_transform())\n\u001b[0m\u001b[0;32m    755\u001b[0m                 \u001b[0mself\u001b[0m\u001b[1;33m.\u001b[0m\u001b[0m_clippath\u001b[0m \u001b[1;33m=\u001b[0m \u001b[1;32mNone\u001b[0m\u001b[1;33m\u001b[0m\u001b[1;33m\u001b[0m\u001b[0m\n\u001b[0;32m    756\u001b[0m                 \u001b[0msuccess\u001b[0m \u001b[1;33m=\u001b[0m \u001b[1;32mTrue\u001b[0m\u001b[1;33m\u001b[0m\u001b[1;33m\u001b[0m\u001b[0m\n",
      "\u001b[1;32mc:\\users\\yousef\\appdata\\local\\programs\\python\\python37\\lib\\site-packages\\matplotlib\\patches.py\u001b[0m in \u001b[0;36mget_transform\u001b[1;34m(self)\u001b[0m\n\u001b[0;32m    258\u001b[0m     \u001b[1;32mdef\u001b[0m \u001b[0mget_transform\u001b[0m\u001b[1;33m(\u001b[0m\u001b[0mself\u001b[0m\u001b[1;33m)\u001b[0m\u001b[1;33m:\u001b[0m\u001b[1;33m\u001b[0m\u001b[1;33m\u001b[0m\u001b[0m\n\u001b[0;32m    259\u001b[0m         \u001b[1;34m\"\"\"Return the `~.transforms.Transform` applied to the `Patch`.\"\"\"\u001b[0m\u001b[1;33m\u001b[0m\u001b[1;33m\u001b[0m\u001b[0m\n\u001b[1;32m--> 260\u001b[1;33m         \u001b[1;32mreturn\u001b[0m \u001b[0mself\u001b[0m\u001b[1;33m.\u001b[0m\u001b[0mget_patch_transform\u001b[0m\u001b[1;33m(\u001b[0m\u001b[1;33m)\u001b[0m \u001b[1;33m+\u001b[0m \u001b[0martist\u001b[0m\u001b[1;33m.\u001b[0m\u001b[0mArtist\u001b[0m\u001b[1;33m.\u001b[0m\u001b[0mget_transform\u001b[0m\u001b[1;33m(\u001b[0m\u001b[0mself\u001b[0m\u001b[1;33m)\u001b[0m\u001b[1;33m\u001b[0m\u001b[1;33m\u001b[0m\u001b[0m\n\u001b[0m\u001b[0;32m    261\u001b[0m \u001b[1;33m\u001b[0m\u001b[0m\n\u001b[0;32m    262\u001b[0m     \u001b[1;32mdef\u001b[0m \u001b[0mget_data_transform\u001b[0m\u001b[1;33m(\u001b[0m\u001b[0mself\u001b[0m\u001b[1;33m)\u001b[0m\u001b[1;33m:\u001b[0m\u001b[1;33m\u001b[0m\u001b[1;33m\u001b[0m\u001b[0m\n",
      "\u001b[1;32mc:\\users\\yousef\\appdata\\local\\programs\\python\\python37\\lib\\site-packages\\matplotlib\\patches.py\u001b[0m in \u001b[0;36mget_patch_transform\u001b[1;34m(self)\u001b[0m\n\u001b[0;32m    790\u001b[0m \u001b[1;33m\u001b[0m\u001b[0m\n\u001b[0;32m    791\u001b[0m     \u001b[1;32mdef\u001b[0m \u001b[0mget_patch_transform\u001b[0m\u001b[1;33m(\u001b[0m\u001b[0mself\u001b[0m\u001b[1;33m)\u001b[0m\u001b[1;33m:\u001b[0m\u001b[1;33m\u001b[0m\u001b[1;33m\u001b[0m\u001b[0m\n\u001b[1;32m--> 792\u001b[1;33m         \u001b[0mself\u001b[0m\u001b[1;33m.\u001b[0m\u001b[0m_update_patch_transform\u001b[0m\u001b[1;33m(\u001b[0m\u001b[1;33m)\u001b[0m\u001b[1;33m\u001b[0m\u001b[1;33m\u001b[0m\u001b[0m\n\u001b[0m\u001b[0;32m    793\u001b[0m         \u001b[1;32mreturn\u001b[0m \u001b[0mself\u001b[0m\u001b[1;33m.\u001b[0m\u001b[0m_rect_transform\u001b[0m\u001b[1;33m\u001b[0m\u001b[1;33m\u001b[0m\u001b[0m\n\u001b[0;32m    794\u001b[0m \u001b[1;33m\u001b[0m\u001b[0m\n",
      "\u001b[1;32mc:\\users\\yousef\\appdata\\local\\programs\\python\\python37\\lib\\site-packages\\matplotlib\\patches.py\u001b[0m in \u001b[0;36m_update_patch_transform\u001b[1;34m(self)\u001b[0m\n\u001b[0;32m    770\u001b[0m         \u001b[0mx0\u001b[0m\u001b[1;33m,\u001b[0m \u001b[0my0\u001b[0m\u001b[1;33m,\u001b[0m \u001b[0mx1\u001b[0m\u001b[1;33m,\u001b[0m \u001b[0my1\u001b[0m \u001b[1;33m=\u001b[0m \u001b[0mself\u001b[0m\u001b[1;33m.\u001b[0m\u001b[0m_convert_units\u001b[0m\u001b[1;33m(\u001b[0m\u001b[1;33m)\u001b[0m\u001b[1;33m\u001b[0m\u001b[1;33m\u001b[0m\u001b[0m\n\u001b[0;32m    771\u001b[0m         \u001b[0mbbox\u001b[0m \u001b[1;33m=\u001b[0m \u001b[0mtransforms\u001b[0m\u001b[1;33m.\u001b[0m\u001b[0mBbox\u001b[0m\u001b[1;33m.\u001b[0m\u001b[0mfrom_extents\u001b[0m\u001b[1;33m(\u001b[0m\u001b[0mx0\u001b[0m\u001b[1;33m,\u001b[0m \u001b[0my0\u001b[0m\u001b[1;33m,\u001b[0m \u001b[0mx1\u001b[0m\u001b[1;33m,\u001b[0m \u001b[0my1\u001b[0m\u001b[1;33m)\u001b[0m\u001b[1;33m\u001b[0m\u001b[1;33m\u001b[0m\u001b[0m\n\u001b[1;32m--> 772\u001b[1;33m         \u001b[0mrot_trans\u001b[0m \u001b[1;33m=\u001b[0m \u001b[0mtransforms\u001b[0m\u001b[1;33m.\u001b[0m\u001b[0mAffine2D\u001b[0m\u001b[1;33m(\u001b[0m\u001b[1;33m)\u001b[0m\u001b[1;33m\u001b[0m\u001b[1;33m\u001b[0m\u001b[0m\n\u001b[0m\u001b[0;32m    773\u001b[0m         \u001b[0mrot_trans\u001b[0m\u001b[1;33m.\u001b[0m\u001b[0mrotate_deg_around\u001b[0m\u001b[1;33m(\u001b[0m\u001b[0mx0\u001b[0m\u001b[1;33m,\u001b[0m \u001b[0my0\u001b[0m\u001b[1;33m,\u001b[0m \u001b[0mself\u001b[0m\u001b[1;33m.\u001b[0m\u001b[0mangle\u001b[0m\u001b[1;33m)\u001b[0m\u001b[1;33m\u001b[0m\u001b[1;33m\u001b[0m\u001b[0m\n\u001b[0;32m    774\u001b[0m         \u001b[0mself\u001b[0m\u001b[1;33m.\u001b[0m\u001b[0m_rect_transform\u001b[0m \u001b[1;33m=\u001b[0m \u001b[0mtransforms\u001b[0m\u001b[1;33m.\u001b[0m\u001b[0mBboxTransformTo\u001b[0m\u001b[1;33m(\u001b[0m\u001b[0mbbox\u001b[0m\u001b[1;33m)\u001b[0m\u001b[1;33m\u001b[0m\u001b[1;33m\u001b[0m\u001b[0m\n",
      "\u001b[1;32mc:\\users\\yousef\\appdata\\local\\programs\\python\\python37\\lib\\site-packages\\matplotlib\\transforms.py\u001b[0m in \u001b[0;36m__init__\u001b[1;34m(self, matrix, **kwargs)\u001b[0m\n\u001b[0;32m   1843\u001b[0m         \u001b[1;32mif\u001b[0m \u001b[0mmatrix\u001b[0m \u001b[1;32mis\u001b[0m \u001b[1;32mNone\u001b[0m\u001b[1;33m:\u001b[0m\u001b[1;33m\u001b[0m\u001b[1;33m\u001b[0m\u001b[0m\n\u001b[0;32m   1844\u001b[0m             \u001b[1;31m# A bit faster than np.identity(3).\u001b[0m\u001b[1;33m\u001b[0m\u001b[1;33m\u001b[0m\u001b[1;33m\u001b[0m\u001b[0m\n\u001b[1;32m-> 1845\u001b[1;33m             \u001b[0mmatrix\u001b[0m \u001b[1;33m=\u001b[0m \u001b[0mIdentityTransform\u001b[0m\u001b[1;33m.\u001b[0m\u001b[0m_mtx\u001b[0m\u001b[1;33m.\u001b[0m\u001b[0mcopy\u001b[0m\u001b[1;33m(\u001b[0m\u001b[1;33m)\u001b[0m\u001b[1;33m\u001b[0m\u001b[1;33m\u001b[0m\u001b[0m\n\u001b[0m\u001b[0;32m   1846\u001b[0m         \u001b[0mself\u001b[0m\u001b[1;33m.\u001b[0m\u001b[0m_mtx\u001b[0m \u001b[1;33m=\u001b[0m \u001b[0mmatrix\u001b[0m\u001b[1;33m.\u001b[0m\u001b[0mcopy\u001b[0m\u001b[1;33m(\u001b[0m\u001b[1;33m)\u001b[0m\u001b[1;33m\u001b[0m\u001b[1;33m\u001b[0m\u001b[0m\n\u001b[0;32m   1847\u001b[0m         \u001b[0mself\u001b[0m\u001b[1;33m.\u001b[0m\u001b[0m_invalid\u001b[0m \u001b[1;33m=\u001b[0m \u001b[1;36m0\u001b[0m\u001b[1;33m\u001b[0m\u001b[1;33m\u001b[0m\u001b[0m\n",
      "\u001b[1;31mKeyboardInterrupt\u001b[0m: "
     ]
    }
   ],
   "source": [
    "plt.hist(df['ROADCOND'])"
   ]
  },
  {
   "cell_type": "code",
   "execution_count": null,
   "metadata": {},
   "outputs": [],
   "source": []
  }
 ],
 "metadata": {
  "kernelspec": {
   "display_name": "Python 3",
   "language": "python",
   "name": "python3"
  },
  "language_info": {
   "codemirror_mode": {
    "name": "ipython",
    "version": 3
   },
   "file_extension": ".py",
   "mimetype": "text/x-python",
   "name": "python",
   "nbconvert_exporter": "python",
   "pygments_lexer": "ipython3",
   "version": "3.7.3"
  }
 },
 "nbformat": 4,
 "nbformat_minor": 4
}
>>>>>>> e2194e0074fc99edf4e8b0cb0b7cfec96db1cc5b
