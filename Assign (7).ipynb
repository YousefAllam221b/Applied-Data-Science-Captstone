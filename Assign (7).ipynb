{
  "nbformat": 4,
  "nbformat_minor": 0,
  "metadata": {
    "kernelspec": {
      "display_name": "Python 3",
      "language": "python",
      "name": "python3"
    },
    "language_info": {
      "codemirror_mode": {
        "name": "ipython",
        "version": 3
      },
      "file_extension": ".py",
      "mimetype": "text/x-python",
      "name": "python",
      "nbconvert_exporter": "python",
      "pygments_lexer": "ipython3",
      "version": "3.7.3"
    },
    "colab": {
      "name": "Assign.ipynb",
      "provenance": [],
      "collapsed_sections": [],
      "toc_visible": true
    }
  },
  "cells": [
    {
      "cell_type": "markdown",
      "metadata": {
        "id": "X4eQ8N1kJPfC"
      },
      "source": [
        "This is notebook is going to be used for the capstone projects."
      ]
    },
    {
      "cell_type": "markdown",
      "metadata": {
        "id": "dBMRtmHSLEP9"
      },
      "source": [
        "Importing pandas and numpy."
      ]
    },
    {
      "cell_type": "code",
      "metadata": {
        "id": "aZ7uBa0dJPfD"
      },
      "source": [
        "import pandas as pd\n",
        "import numpy as np"
      ],
      "execution_count": 1,
      "outputs": []
    },
    {
      "cell_type": "markdown",
      "metadata": {
        "id": "2dvYLOOvLJC-"
      },
      "source": [
        "Reading the data file in a data frame."
      ]
    },
    {
      "cell_type": "code",
      "metadata": {
        "scrolled": false,
        "id": "wITcAEcEJPfI",
        "outputId": "6053daaa-8fe2-442d-a27a-e97666e236c0",
        "colab": {
          "base_uri": "https://localhost:8080/",
          "height": 70
        }
      },
      "source": [
        "df=pd.read_csv(\"Data-Collisions.csv\")"
      ],
      "execution_count": 2,
      "outputs": [
        {
          "output_type": "stream",
          "text": [
            "/usr/local/lib/python3.6/dist-packages/IPython/core/interactiveshell.py:2718: DtypeWarning: Columns (33) have mixed types.Specify dtype option on import or set low_memory=False.\n",
            "  interactivity=interactivity, compiler=compiler, result=result)\n"
          ],
          "name": "stderr"
        }
      ]
    },
    {
      "cell_type": "markdown",
      "metadata": {
        "id": "ZJTlclSaLqgn"
      },
      "source": [
        "Priniting the first 5 rows of the data frame."
      ]
    },
    {
      "cell_type": "code",
      "metadata": {
        "scrolled": true,
        "id": "6tmwQiokJPfK",
        "outputId": "0606c8e4-018e-4bd6-9865-4dca27671f5b",
        "colab": {
          "base_uri": "https://localhost:8080/",
          "height": 666
        }
      },
      "source": [
        "df.head()"
      ],
      "execution_count": 3,
      "outputs": [
        {
          "output_type": "execute_result",
          "data": {
            "text/html": [
              "<div>\n",
              "<style scoped>\n",
              "    .dataframe tbody tr th:only-of-type {\n",
              "        vertical-align: middle;\n",
              "    }\n",
              "\n",
              "    .dataframe tbody tr th {\n",
              "        vertical-align: top;\n",
              "    }\n",
              "\n",
              "    .dataframe thead th {\n",
              "        text-align: right;\n",
              "    }\n",
              "</style>\n",
              "<table border=\"1\" class=\"dataframe\">\n",
              "  <thead>\n",
              "    <tr style=\"text-align: right;\">\n",
              "      <th></th>\n",
              "      <th>SEVERITYCODE</th>\n",
              "      <th>X</th>\n",
              "      <th>Y</th>\n",
              "      <th>OBJECTID</th>\n",
              "      <th>INCKEY</th>\n",
              "      <th>COLDETKEY</th>\n",
              "      <th>REPORTNO</th>\n",
              "      <th>STATUS</th>\n",
              "      <th>ADDRTYPE</th>\n",
              "      <th>INTKEY</th>\n",
              "      <th>LOCATION</th>\n",
              "      <th>EXCEPTRSNCODE</th>\n",
              "      <th>EXCEPTRSNDESC</th>\n",
              "      <th>SEVERITYCODE.1</th>\n",
              "      <th>SEVERITYDESC</th>\n",
              "      <th>COLLISIONTYPE</th>\n",
              "      <th>PERSONCOUNT</th>\n",
              "      <th>PEDCOUNT</th>\n",
              "      <th>PEDCYLCOUNT</th>\n",
              "      <th>VEHCOUNT</th>\n",
              "      <th>INCDATE</th>\n",
              "      <th>INCDTTM</th>\n",
              "      <th>JUNCTIONTYPE</th>\n",
              "      <th>SDOT_COLCODE</th>\n",
              "      <th>SDOT_COLDESC</th>\n",
              "      <th>INATTENTIONIND</th>\n",
              "      <th>UNDERINFL</th>\n",
              "      <th>WEATHER</th>\n",
              "      <th>ROADCOND</th>\n",
              "      <th>LIGHTCOND</th>\n",
              "      <th>PEDROWNOTGRNT</th>\n",
              "      <th>SDOTCOLNUM</th>\n",
              "      <th>SPEEDING</th>\n",
              "      <th>ST_COLCODE</th>\n",
              "      <th>ST_COLDESC</th>\n",
              "      <th>SEGLANEKEY</th>\n",
              "      <th>CROSSWALKKEY</th>\n",
              "      <th>HITPARKEDCAR</th>\n",
              "    </tr>\n",
              "  </thead>\n",
              "  <tbody>\n",
              "    <tr>\n",
              "      <th>0</th>\n",
              "      <td>2</td>\n",
              "      <td>-122.323148</td>\n",
              "      <td>47.703140</td>\n",
              "      <td>1</td>\n",
              "      <td>1307</td>\n",
              "      <td>1307</td>\n",
              "      <td>3502005</td>\n",
              "      <td>Matched</td>\n",
              "      <td>Intersection</td>\n",
              "      <td>37475.0</td>\n",
              "      <td>5TH AVE NE AND NE 103RD ST</td>\n",
              "      <td></td>\n",
              "      <td>NaN</td>\n",
              "      <td>2</td>\n",
              "      <td>Injury Collision</td>\n",
              "      <td>Angles</td>\n",
              "      <td>2</td>\n",
              "      <td>0</td>\n",
              "      <td>0</td>\n",
              "      <td>2</td>\n",
              "      <td>2013/03/27 00:00:00+00</td>\n",
              "      <td>3/27/2013 2:54:00 PM</td>\n",
              "      <td>At Intersection (intersection related)</td>\n",
              "      <td>11</td>\n",
              "      <td>MOTOR VEHICLE STRUCK MOTOR VEHICLE, FRONT END ...</td>\n",
              "      <td>NaN</td>\n",
              "      <td>N</td>\n",
              "      <td>Overcast</td>\n",
              "      <td>Wet</td>\n",
              "      <td>Daylight</td>\n",
              "      <td>NaN</td>\n",
              "      <td>NaN</td>\n",
              "      <td>NaN</td>\n",
              "      <td>10</td>\n",
              "      <td>Entering at angle</td>\n",
              "      <td>0</td>\n",
              "      <td>0</td>\n",
              "      <td>N</td>\n",
              "    </tr>\n",
              "    <tr>\n",
              "      <th>1</th>\n",
              "      <td>1</td>\n",
              "      <td>-122.347294</td>\n",
              "      <td>47.647172</td>\n",
              "      <td>2</td>\n",
              "      <td>52200</td>\n",
              "      <td>52200</td>\n",
              "      <td>2607959</td>\n",
              "      <td>Matched</td>\n",
              "      <td>Block</td>\n",
              "      <td>NaN</td>\n",
              "      <td>AURORA BR BETWEEN RAYE ST AND BRIDGE WAY N</td>\n",
              "      <td>NaN</td>\n",
              "      <td>NaN</td>\n",
              "      <td>1</td>\n",
              "      <td>Property Damage Only Collision</td>\n",
              "      <td>Sideswipe</td>\n",
              "      <td>2</td>\n",
              "      <td>0</td>\n",
              "      <td>0</td>\n",
              "      <td>2</td>\n",
              "      <td>2006/12/20 00:00:00+00</td>\n",
              "      <td>12/20/2006 6:55:00 PM</td>\n",
              "      <td>Mid-Block (not related to intersection)</td>\n",
              "      <td>16</td>\n",
              "      <td>MOTOR VEHICLE STRUCK MOTOR VEHICLE, LEFT SIDE ...</td>\n",
              "      <td>NaN</td>\n",
              "      <td>0</td>\n",
              "      <td>Raining</td>\n",
              "      <td>Wet</td>\n",
              "      <td>Dark - Street Lights On</td>\n",
              "      <td>NaN</td>\n",
              "      <td>6354039.0</td>\n",
              "      <td>NaN</td>\n",
              "      <td>11</td>\n",
              "      <td>From same direction - both going straight - bo...</td>\n",
              "      <td>0</td>\n",
              "      <td>0</td>\n",
              "      <td>N</td>\n",
              "    </tr>\n",
              "    <tr>\n",
              "      <th>2</th>\n",
              "      <td>1</td>\n",
              "      <td>-122.334540</td>\n",
              "      <td>47.607871</td>\n",
              "      <td>3</td>\n",
              "      <td>26700</td>\n",
              "      <td>26700</td>\n",
              "      <td>1482393</td>\n",
              "      <td>Matched</td>\n",
              "      <td>Block</td>\n",
              "      <td>NaN</td>\n",
              "      <td>4TH AVE BETWEEN SENECA ST AND UNIVERSITY ST</td>\n",
              "      <td>NaN</td>\n",
              "      <td>NaN</td>\n",
              "      <td>1</td>\n",
              "      <td>Property Damage Only Collision</td>\n",
              "      <td>Parked Car</td>\n",
              "      <td>4</td>\n",
              "      <td>0</td>\n",
              "      <td>0</td>\n",
              "      <td>3</td>\n",
              "      <td>2004/11/18 00:00:00+00</td>\n",
              "      <td>11/18/2004 10:20:00 AM</td>\n",
              "      <td>Mid-Block (not related to intersection)</td>\n",
              "      <td>14</td>\n",
              "      <td>MOTOR VEHICLE STRUCK MOTOR VEHICLE, REAR END</td>\n",
              "      <td>NaN</td>\n",
              "      <td>0</td>\n",
              "      <td>Overcast</td>\n",
              "      <td>Dry</td>\n",
              "      <td>Daylight</td>\n",
              "      <td>NaN</td>\n",
              "      <td>4323031.0</td>\n",
              "      <td>NaN</td>\n",
              "      <td>32</td>\n",
              "      <td>One parked--one moving</td>\n",
              "      <td>0</td>\n",
              "      <td>0</td>\n",
              "      <td>N</td>\n",
              "    </tr>\n",
              "    <tr>\n",
              "      <th>3</th>\n",
              "      <td>1</td>\n",
              "      <td>-122.334803</td>\n",
              "      <td>47.604803</td>\n",
              "      <td>4</td>\n",
              "      <td>1144</td>\n",
              "      <td>1144</td>\n",
              "      <td>3503937</td>\n",
              "      <td>Matched</td>\n",
              "      <td>Block</td>\n",
              "      <td>NaN</td>\n",
              "      <td>2ND AVE BETWEEN MARION ST AND MADISON ST</td>\n",
              "      <td></td>\n",
              "      <td>NaN</td>\n",
              "      <td>1</td>\n",
              "      <td>Property Damage Only Collision</td>\n",
              "      <td>Other</td>\n",
              "      <td>3</td>\n",
              "      <td>0</td>\n",
              "      <td>0</td>\n",
              "      <td>3</td>\n",
              "      <td>2013/03/29 00:00:00+00</td>\n",
              "      <td>3/29/2013 9:26:00 AM</td>\n",
              "      <td>Mid-Block (not related to intersection)</td>\n",
              "      <td>11</td>\n",
              "      <td>MOTOR VEHICLE STRUCK MOTOR VEHICLE, FRONT END ...</td>\n",
              "      <td>NaN</td>\n",
              "      <td>N</td>\n",
              "      <td>Clear</td>\n",
              "      <td>Dry</td>\n",
              "      <td>Daylight</td>\n",
              "      <td>NaN</td>\n",
              "      <td>NaN</td>\n",
              "      <td>NaN</td>\n",
              "      <td>23</td>\n",
              "      <td>From same direction - all others</td>\n",
              "      <td>0</td>\n",
              "      <td>0</td>\n",
              "      <td>N</td>\n",
              "    </tr>\n",
              "    <tr>\n",
              "      <th>4</th>\n",
              "      <td>2</td>\n",
              "      <td>-122.306426</td>\n",
              "      <td>47.545739</td>\n",
              "      <td>5</td>\n",
              "      <td>17700</td>\n",
              "      <td>17700</td>\n",
              "      <td>1807429</td>\n",
              "      <td>Matched</td>\n",
              "      <td>Intersection</td>\n",
              "      <td>34387.0</td>\n",
              "      <td>SWIFT AVE S AND SWIFT AV OFF RP</td>\n",
              "      <td>NaN</td>\n",
              "      <td>NaN</td>\n",
              "      <td>2</td>\n",
              "      <td>Injury Collision</td>\n",
              "      <td>Angles</td>\n",
              "      <td>2</td>\n",
              "      <td>0</td>\n",
              "      <td>0</td>\n",
              "      <td>2</td>\n",
              "      <td>2004/01/28 00:00:00+00</td>\n",
              "      <td>1/28/2004 8:04:00 AM</td>\n",
              "      <td>At Intersection (intersection related)</td>\n",
              "      <td>11</td>\n",
              "      <td>MOTOR VEHICLE STRUCK MOTOR VEHICLE, FRONT END ...</td>\n",
              "      <td>NaN</td>\n",
              "      <td>0</td>\n",
              "      <td>Raining</td>\n",
              "      <td>Wet</td>\n",
              "      <td>Daylight</td>\n",
              "      <td>NaN</td>\n",
              "      <td>4028032.0</td>\n",
              "      <td>NaN</td>\n",
              "      <td>10</td>\n",
              "      <td>Entering at angle</td>\n",
              "      <td>0</td>\n",
              "      <td>0</td>\n",
              "      <td>N</td>\n",
              "    </tr>\n",
              "  </tbody>\n",
              "</table>\n",
              "</div>"
            ],
            "text/plain": [
              "   SEVERITYCODE           X          Y  ...  SEGLANEKEY  CROSSWALKKEY  HITPARKEDCAR\n",
              "0             2 -122.323148  47.703140  ...           0             0             N\n",
              "1             1 -122.347294  47.647172  ...           0             0             N\n",
              "2             1 -122.334540  47.607871  ...           0             0             N\n",
              "3             1 -122.334803  47.604803  ...           0             0             N\n",
              "4             2 -122.306426  47.545739  ...           0             0             N\n",
              "\n",
              "[5 rows x 38 columns]"
            ]
          },
          "metadata": {
            "tags": []
          },
          "execution_count": 3
        }
      ]
    },
    {
      "cell_type": "markdown",
      "metadata": {
        "id": "lVltupSdMGob"
      },
      "source": [
        "Printing the correlation between the columns."
      ]
    },
    {
      "cell_type": "code",
      "metadata": {
        "id": "vkEmGocpLwuP",
        "outputId": "45b2698e-9b54-466a-9742-5868eee2ebf4",
        "colab": {
          "base_uri": "https://localhost:8080/",
          "height": 527
        }
      },
      "source": [
        "df.corr()"
      ],
      "execution_count": 4,
      "outputs": [
        {
          "output_type": "execute_result",
          "data": {
            "text/html": [
              "<div>\n",
              "<style scoped>\n",
              "    .dataframe tbody tr th:only-of-type {\n",
              "        vertical-align: middle;\n",
              "    }\n",
              "\n",
              "    .dataframe tbody tr th {\n",
              "        vertical-align: top;\n",
              "    }\n",
              "\n",
              "    .dataframe thead th {\n",
              "        text-align: right;\n",
              "    }\n",
              "</style>\n",
              "<table border=\"1\" class=\"dataframe\">\n",
              "  <thead>\n",
              "    <tr style=\"text-align: right;\">\n",
              "      <th></th>\n",
              "      <th>SEVERITYCODE</th>\n",
              "      <th>X</th>\n",
              "      <th>Y</th>\n",
              "      <th>OBJECTID</th>\n",
              "      <th>INCKEY</th>\n",
              "      <th>COLDETKEY</th>\n",
              "      <th>INTKEY</th>\n",
              "      <th>SEVERITYCODE.1</th>\n",
              "      <th>PERSONCOUNT</th>\n",
              "      <th>PEDCOUNT</th>\n",
              "      <th>PEDCYLCOUNT</th>\n",
              "      <th>VEHCOUNT</th>\n",
              "      <th>SDOT_COLCODE</th>\n",
              "      <th>SDOTCOLNUM</th>\n",
              "      <th>SEGLANEKEY</th>\n",
              "      <th>CROSSWALKKEY</th>\n",
              "    </tr>\n",
              "  </thead>\n",
              "  <tbody>\n",
              "    <tr>\n",
              "      <th>SEVERITYCODE</th>\n",
              "      <td>1.000000</td>\n",
              "      <td>0.010309</td>\n",
              "      <td>0.017737</td>\n",
              "      <td>0.020131</td>\n",
              "      <td>0.022065</td>\n",
              "      <td>0.022079</td>\n",
              "      <td>0.006553</td>\n",
              "      <td>1.000000</td>\n",
              "      <td>0.130949</td>\n",
              "      <td>0.246338</td>\n",
              "      <td>0.214218</td>\n",
              "      <td>-0.054686</td>\n",
              "      <td>0.188905</td>\n",
              "      <td>0.004226</td>\n",
              "      <td>0.104276</td>\n",
              "      <td>0.175093</td>\n",
              "    </tr>\n",
              "    <tr>\n",
              "      <th>X</th>\n",
              "      <td>0.010309</td>\n",
              "      <td>1.000000</td>\n",
              "      <td>-0.160262</td>\n",
              "      <td>0.009956</td>\n",
              "      <td>0.010309</td>\n",
              "      <td>0.010300</td>\n",
              "      <td>0.120754</td>\n",
              "      <td>0.010309</td>\n",
              "      <td>0.012887</td>\n",
              "      <td>0.011304</td>\n",
              "      <td>-0.001752</td>\n",
              "      <td>-0.012168</td>\n",
              "      <td>0.010904</td>\n",
              "      <td>-0.001016</td>\n",
              "      <td>-0.001618</td>\n",
              "      <td>0.013586</td>\n",
              "    </tr>\n",
              "    <tr>\n",
              "      <th>Y</th>\n",
              "      <td>0.017737</td>\n",
              "      <td>-0.160262</td>\n",
              "      <td>1.000000</td>\n",
              "      <td>-0.023848</td>\n",
              "      <td>-0.027396</td>\n",
              "      <td>-0.027415</td>\n",
              "      <td>-0.114935</td>\n",
              "      <td>0.017737</td>\n",
              "      <td>-0.013850</td>\n",
              "      <td>0.010178</td>\n",
              "      <td>0.026304</td>\n",
              "      <td>0.017058</td>\n",
              "      <td>-0.019694</td>\n",
              "      <td>-0.006958</td>\n",
              "      <td>0.004618</td>\n",
              "      <td>0.009508</td>\n",
              "    </tr>\n",
              "    <tr>\n",
              "      <th>OBJECTID</th>\n",
              "      <td>0.020131</td>\n",
              "      <td>0.009956</td>\n",
              "      <td>-0.023848</td>\n",
              "      <td>1.000000</td>\n",
              "      <td>0.946383</td>\n",
              "      <td>0.945837</td>\n",
              "      <td>0.046929</td>\n",
              "      <td>0.020131</td>\n",
              "      <td>-0.062333</td>\n",
              "      <td>0.024604</td>\n",
              "      <td>0.034432</td>\n",
              "      <td>-0.094280</td>\n",
              "      <td>-0.037094</td>\n",
              "      <td>0.969276</td>\n",
              "      <td>0.028076</td>\n",
              "      <td>0.056046</td>\n",
              "    </tr>\n",
              "    <tr>\n",
              "      <th>INCKEY</th>\n",
              "      <td>0.022065</td>\n",
              "      <td>0.010309</td>\n",
              "      <td>-0.027396</td>\n",
              "      <td>0.946383</td>\n",
              "      <td>1.000000</td>\n",
              "      <td>0.999996</td>\n",
              "      <td>0.048524</td>\n",
              "      <td>0.022065</td>\n",
              "      <td>-0.061500</td>\n",
              "      <td>0.024918</td>\n",
              "      <td>0.031342</td>\n",
              "      <td>-0.107528</td>\n",
              "      <td>-0.027617</td>\n",
              "      <td>0.990571</td>\n",
              "      <td>0.019701</td>\n",
              "      <td>0.048179</td>\n",
              "    </tr>\n",
              "    <tr>\n",
              "      <th>COLDETKEY</th>\n",
              "      <td>0.022079</td>\n",
              "      <td>0.010300</td>\n",
              "      <td>-0.027415</td>\n",
              "      <td>0.945837</td>\n",
              "      <td>0.999996</td>\n",
              "      <td>1.000000</td>\n",
              "      <td>0.048499</td>\n",
              "      <td>0.022079</td>\n",
              "      <td>-0.061403</td>\n",
              "      <td>0.024914</td>\n",
              "      <td>0.031296</td>\n",
              "      <td>-0.107598</td>\n",
              "      <td>-0.027461</td>\n",
              "      <td>0.990571</td>\n",
              "      <td>0.019586</td>\n",
              "      <td>0.048063</td>\n",
              "    </tr>\n",
              "    <tr>\n",
              "      <th>INTKEY</th>\n",
              "      <td>0.006553</td>\n",
              "      <td>0.120754</td>\n",
              "      <td>-0.114935</td>\n",
              "      <td>0.046929</td>\n",
              "      <td>0.048524</td>\n",
              "      <td>0.048499</td>\n",
              "      <td>1.000000</td>\n",
              "      <td>0.006553</td>\n",
              "      <td>0.001886</td>\n",
              "      <td>-0.004784</td>\n",
              "      <td>0.000531</td>\n",
              "      <td>-0.012929</td>\n",
              "      <td>0.007114</td>\n",
              "      <td>0.032604</td>\n",
              "      <td>-0.010510</td>\n",
              "      <td>0.018420</td>\n",
              "    </tr>\n",
              "    <tr>\n",
              "      <th>SEVERITYCODE.1</th>\n",
              "      <td>1.000000</td>\n",
              "      <td>0.010309</td>\n",
              "      <td>0.017737</td>\n",
              "      <td>0.020131</td>\n",
              "      <td>0.022065</td>\n",
              "      <td>0.022079</td>\n",
              "      <td>0.006553</td>\n",
              "      <td>1.000000</td>\n",
              "      <td>0.130949</td>\n",
              "      <td>0.246338</td>\n",
              "      <td>0.214218</td>\n",
              "      <td>-0.054686</td>\n",
              "      <td>0.188905</td>\n",
              "      <td>0.004226</td>\n",
              "      <td>0.104276</td>\n",
              "      <td>0.175093</td>\n",
              "    </tr>\n",
              "    <tr>\n",
              "      <th>PERSONCOUNT</th>\n",
              "      <td>0.130949</td>\n",
              "      <td>0.012887</td>\n",
              "      <td>-0.013850</td>\n",
              "      <td>-0.062333</td>\n",
              "      <td>-0.061500</td>\n",
              "      <td>-0.061403</td>\n",
              "      <td>0.001886</td>\n",
              "      <td>0.130949</td>\n",
              "      <td>1.000000</td>\n",
              "      <td>-0.023464</td>\n",
              "      <td>-0.038809</td>\n",
              "      <td>0.380523</td>\n",
              "      <td>-0.128960</td>\n",
              "      <td>0.011784</td>\n",
              "      <td>-0.021383</td>\n",
              "      <td>-0.032258</td>\n",
              "    </tr>\n",
              "    <tr>\n",
              "      <th>PEDCOUNT</th>\n",
              "      <td>0.246338</td>\n",
              "      <td>0.011304</td>\n",
              "      <td>0.010178</td>\n",
              "      <td>0.024604</td>\n",
              "      <td>0.024918</td>\n",
              "      <td>0.024914</td>\n",
              "      <td>-0.004784</td>\n",
              "      <td>0.246338</td>\n",
              "      <td>-0.023464</td>\n",
              "      <td>1.000000</td>\n",
              "      <td>-0.016920</td>\n",
              "      <td>-0.261285</td>\n",
              "      <td>0.260393</td>\n",
              "      <td>0.021461</td>\n",
              "      <td>0.001810</td>\n",
              "      <td>0.565326</td>\n",
              "    </tr>\n",
              "    <tr>\n",
              "      <th>PEDCYLCOUNT</th>\n",
              "      <td>0.214218</td>\n",
              "      <td>-0.001752</td>\n",
              "      <td>0.026304</td>\n",
              "      <td>0.034432</td>\n",
              "      <td>0.031342</td>\n",
              "      <td>0.031296</td>\n",
              "      <td>0.000531</td>\n",
              "      <td>0.214218</td>\n",
              "      <td>-0.038809</td>\n",
              "      <td>-0.016920</td>\n",
              "      <td>1.000000</td>\n",
              "      <td>-0.253773</td>\n",
              "      <td>0.382521</td>\n",
              "      <td>0.034593</td>\n",
              "      <td>0.453657</td>\n",
              "      <td>0.109820</td>\n",
              "    </tr>\n",
              "    <tr>\n",
              "      <th>VEHCOUNT</th>\n",
              "      <td>-0.054686</td>\n",
              "      <td>-0.012168</td>\n",
              "      <td>0.017058</td>\n",
              "      <td>-0.094280</td>\n",
              "      <td>-0.107528</td>\n",
              "      <td>-0.107598</td>\n",
              "      <td>-0.012929</td>\n",
              "      <td>-0.054686</td>\n",
              "      <td>0.380523</td>\n",
              "      <td>-0.261285</td>\n",
              "      <td>-0.253773</td>\n",
              "      <td>1.000000</td>\n",
              "      <td>-0.365814</td>\n",
              "      <td>-0.023813</td>\n",
              "      <td>-0.122941</td>\n",
              "      <td>-0.200526</td>\n",
              "    </tr>\n",
              "    <tr>\n",
              "      <th>SDOT_COLCODE</th>\n",
              "      <td>0.188905</td>\n",
              "      <td>0.010904</td>\n",
              "      <td>-0.019694</td>\n",
              "      <td>-0.037094</td>\n",
              "      <td>-0.027617</td>\n",
              "      <td>-0.027461</td>\n",
              "      <td>0.007114</td>\n",
              "      <td>0.188905</td>\n",
              "      <td>-0.128960</td>\n",
              "      <td>0.260393</td>\n",
              "      <td>0.382521</td>\n",
              "      <td>-0.365814</td>\n",
              "      <td>1.000000</td>\n",
              "      <td>-0.041084</td>\n",
              "      <td>0.206835</td>\n",
              "      <td>0.189518</td>\n",
              "    </tr>\n",
              "    <tr>\n",
              "      <th>SDOTCOLNUM</th>\n",
              "      <td>0.004226</td>\n",
              "      <td>-0.001016</td>\n",
              "      <td>-0.006958</td>\n",
              "      <td>0.969276</td>\n",
              "      <td>0.990571</td>\n",
              "      <td>0.990571</td>\n",
              "      <td>0.032604</td>\n",
              "      <td>0.004226</td>\n",
              "      <td>0.011784</td>\n",
              "      <td>0.021461</td>\n",
              "      <td>0.034593</td>\n",
              "      <td>-0.023813</td>\n",
              "      <td>-0.041084</td>\n",
              "      <td>1.000000</td>\n",
              "      <td>0.066449</td>\n",
              "      <td>0.086228</td>\n",
              "    </tr>\n",
              "    <tr>\n",
              "      <th>SEGLANEKEY</th>\n",
              "      <td>0.104276</td>\n",
              "      <td>-0.001618</td>\n",
              "      <td>0.004618</td>\n",
              "      <td>0.028076</td>\n",
              "      <td>0.019701</td>\n",
              "      <td>0.019586</td>\n",
              "      <td>-0.010510</td>\n",
              "      <td>0.104276</td>\n",
              "      <td>-0.021383</td>\n",
              "      <td>0.001810</td>\n",
              "      <td>0.453657</td>\n",
              "      <td>-0.122941</td>\n",
              "      <td>0.206835</td>\n",
              "      <td>0.066449</td>\n",
              "      <td>1.000000</td>\n",
              "      <td>-0.003422</td>\n",
              "    </tr>\n",
              "    <tr>\n",
              "      <th>CROSSWALKKEY</th>\n",
              "      <td>0.175093</td>\n",
              "      <td>0.013586</td>\n",
              "      <td>0.009508</td>\n",
              "      <td>0.056046</td>\n",
              "      <td>0.048179</td>\n",
              "      <td>0.048063</td>\n",
              "      <td>0.018420</td>\n",
              "      <td>0.175093</td>\n",
              "      <td>-0.032258</td>\n",
              "      <td>0.565326</td>\n",
              "      <td>0.109820</td>\n",
              "      <td>-0.200526</td>\n",
              "      <td>0.189518</td>\n",
              "      <td>0.086228</td>\n",
              "      <td>-0.003422</td>\n",
              "      <td>1.000000</td>\n",
              "    </tr>\n",
              "  </tbody>\n",
              "</table>\n",
              "</div>"
            ],
            "text/plain": [
              "                SEVERITYCODE         X  ...  SEGLANEKEY  CROSSWALKKEY\n",
              "SEVERITYCODE        1.000000  0.010309  ...    0.104276      0.175093\n",
              "X                   0.010309  1.000000  ...   -0.001618      0.013586\n",
              "Y                   0.017737 -0.160262  ...    0.004618      0.009508\n",
              "OBJECTID            0.020131  0.009956  ...    0.028076      0.056046\n",
              "INCKEY              0.022065  0.010309  ...    0.019701      0.048179\n",
              "COLDETKEY           0.022079  0.010300  ...    0.019586      0.048063\n",
              "INTKEY              0.006553  0.120754  ...   -0.010510      0.018420\n",
              "SEVERITYCODE.1      1.000000  0.010309  ...    0.104276      0.175093\n",
              "PERSONCOUNT         0.130949  0.012887  ...   -0.021383     -0.032258\n",
              "PEDCOUNT            0.246338  0.011304  ...    0.001810      0.565326\n",
              "PEDCYLCOUNT         0.214218 -0.001752  ...    0.453657      0.109820\n",
              "VEHCOUNT           -0.054686 -0.012168  ...   -0.122941     -0.200526\n",
              "SDOT_COLCODE        0.188905  0.010904  ...    0.206835      0.189518\n",
              "SDOTCOLNUM          0.004226 -0.001016  ...    0.066449      0.086228\n",
              "SEGLANEKEY          0.104276 -0.001618  ...    1.000000     -0.003422\n",
              "CROSSWALKKEY        0.175093  0.013586  ...   -0.003422      1.000000\n",
              "\n",
              "[16 rows x 16 columns]"
            ]
          },
          "metadata": {
            "tags": []
          },
          "execution_count": 4
        }
      ]
    },
    {
      "cell_type": "markdown",
      "metadata": {
        "id": "DQf60cBBMLNn"
      },
      "source": [
        "Ploting a heat map for the correlation"
      ]
    },
    {
      "cell_type": "code",
      "metadata": {
        "id": "WakMOtXRLyWV",
        "outputId": "5b6f96a9-e97b-4757-8314-7e081a20af91",
        "colab": {
          "base_uri": "https://localhost:8080/",
          "height": 1000
        }
      },
      "source": [
        "import seaborn as sns\n",
        "df['SEVERITYCODE'] = df['SEVERITYCODE'].astype(int)\n",
        "cmap = sns.diverging_palette(220, 20, sep=20, as_cmap=True)\n",
        "sns.heatmap(df.corr(), annot=True,cmap=cmap, center=0).set_title(\"Correlation Heatmap\", fontsize=16)\n",
        "sns.set(rc={'figure.figsize':(60,60)})"
      ],
      "execution_count": 33,
      "outputs": [
        {
          "output_type": "display_data",
          "data": {
            "image/png": "[encoded data removed]",
            "text/plain": [
              "<Figure size 4320x3600 with 2 Axes>"
            ]
          },
          "metadata": {
            "tags": []
          }
        }
      ]
    },
    {
      "cell_type": "markdown",
      "metadata": {
        "id": "CSumNy5-MYrX"
      },
      "source": [
        "Selecting the columns that are relative to the problem and putting them in a new dataframe to work with."
      ]
    },
    {
      "cell_type": "code",
      "metadata": {
        "scrolled": true,
        "id": "SNz8m8diJPfM"
      },
      "source": [
        "cdf=df[['SEVERITYCODE', 'X', 'Y','OBJECTID',\n",
        "       'ADDRTYPE', 'LOCATION', 'EXCEPTRSNCODE',\n",
        "       'EXCEPTRSNDESC','COLLISIONTYPE',\n",
        "       'JUNCTIONTYPE',\n",
        "       'UNDERINFL', 'WEATHER', 'ROADCOND', 'LIGHTCOND',\n",
        "       'HITPARKEDCAR']]"
      ],
      "execution_count": 6,
      "outputs": []
    },
    {
      "cell_type": "markdown",
      "metadata": {
        "id": "O9VeTqIHNFS_"
      },
      "source": [
        "Printing the head of the new dataframe."
      ]
    },
    {
      "cell_type": "code",
      "metadata": {
        "id": "Qyo4tWJCJPfP",
        "outputId": "d60edbb4-02c7-4858-ca8f-f15c07dbfbce",
        "colab": {
          "base_uri": "https://localhost:8080/",
          "height": 536
        }
      },
      "source": [
        "cdf.head()"
      ],
      "execution_count": 7,
      "outputs": [
        {
          "output_type": "execute_result",
          "data": {
            "text/html": [
              "<div>\n",
              "<style scoped>\n",
              "    .dataframe tbody tr th:only-of-type {\n",
              "        vertical-align: middle;\n",
              "    }\n",
              "\n",
              "    .dataframe tbody tr th {\n",
              "        vertical-align: top;\n",
              "    }\n",
              "\n",
              "    .dataframe thead th {\n",
              "        text-align: right;\n",
              "    }\n",
              "</style>\n",
              "<table border=\"1\" class=\"dataframe\">\n",
              "  <thead>\n",
              "    <tr style=\"text-align: right;\">\n",
              "      <th></th>\n",
              "      <th>SEVERITYCODE</th>\n",
              "      <th>X</th>\n",
              "      <th>Y</th>\n",
              "      <th>OBJECTID</th>\n",
              "      <th>ADDRTYPE</th>\n",
              "      <th>LOCATION</th>\n",
              "      <th>EXCEPTRSNCODE</th>\n",
              "      <th>EXCEPTRSNDESC</th>\n",
              "      <th>COLLISIONTYPE</th>\n",
              "      <th>JUNCTIONTYPE</th>\n",
              "      <th>UNDERINFL</th>\n",
              "      <th>WEATHER</th>\n",
              "      <th>ROADCOND</th>\n",
              "      <th>LIGHTCOND</th>\n",
              "      <th>HITPARKEDCAR</th>\n",
              "    </tr>\n",
              "  </thead>\n",
              "  <tbody>\n",
              "    <tr>\n",
              "      <th>0</th>\n",
              "      <td>2</td>\n",
              "      <td>-122.323148</td>\n",
              "      <td>47.703140</td>\n",
              "      <td>1</td>\n",
              "      <td>Intersection</td>\n",
              "      <td>5TH AVE NE AND NE 103RD ST</td>\n",
              "      <td></td>\n",
              "      <td>NaN</td>\n",
              "      <td>Angles</td>\n",
              "      <td>At Intersection (intersection related)</td>\n",
              "      <td>N</td>\n",
              "      <td>Overcast</td>\n",
              "      <td>Wet</td>\n",
              "      <td>Daylight</td>\n",
              "      <td>N</td>\n",
              "    </tr>\n",
              "    <tr>\n",
              "      <th>1</th>\n",
              "      <td>1</td>\n",
              "      <td>-122.347294</td>\n",
              "      <td>47.647172</td>\n",
              "      <td>2</td>\n",
              "      <td>Block</td>\n",
              "      <td>AURORA BR BETWEEN RAYE ST AND BRIDGE WAY N</td>\n",
              "      <td>NaN</td>\n",
              "      <td>NaN</td>\n",
              "      <td>Sideswipe</td>\n",
              "      <td>Mid-Block (not related to intersection)</td>\n",
              "      <td>0</td>\n",
              "      <td>Raining</td>\n",
              "      <td>Wet</td>\n",
              "      <td>Dark - Street Lights On</td>\n",
              "      <td>N</td>\n",
              "    </tr>\n",
              "    <tr>\n",
              "      <th>2</th>\n",
              "      <td>1</td>\n",
              "      <td>-122.334540</td>\n",
              "      <td>47.607871</td>\n",
              "      <td>3</td>\n",
              "      <td>Block</td>\n",
              "      <td>4TH AVE BETWEEN SENECA ST AND UNIVERSITY ST</td>\n",
              "      <td>NaN</td>\n",
              "      <td>NaN</td>\n",
              "      <td>Parked Car</td>\n",
              "      <td>Mid-Block (not related to intersection)</td>\n",
              "      <td>0</td>\n",
              "      <td>Overcast</td>\n",
              "      <td>Dry</td>\n",
              "      <td>Daylight</td>\n",
              "      <td>N</td>\n",
              "    </tr>\n",
              "    <tr>\n",
              "      <th>3</th>\n",
              "      <td>1</td>\n",
              "      <td>-122.334803</td>\n",
              "      <td>47.604803</td>\n",
              "      <td>4</td>\n",
              "      <td>Block</td>\n",
              "      <td>2ND AVE BETWEEN MARION ST AND MADISON ST</td>\n",
              "      <td></td>\n",
              "      <td>NaN</td>\n",
              "      <td>Other</td>\n",
              "      <td>Mid-Block (not related to intersection)</td>\n",
              "      <td>N</td>\n",
              "      <td>Clear</td>\n",
              "      <td>Dry</td>\n",
              "      <td>Daylight</td>\n",
              "      <td>N</td>\n",
              "    </tr>\n",
              "    <tr>\n",
              "      <th>4</th>\n",
              "      <td>2</td>\n",
              "      <td>-122.306426</td>\n",
              "      <td>47.545739</td>\n",
              "      <td>5</td>\n",
              "      <td>Intersection</td>\n",
              "      <td>SWIFT AVE S AND SWIFT AV OFF RP</td>\n",
              "      <td>NaN</td>\n",
              "      <td>NaN</td>\n",
              "      <td>Angles</td>\n",
              "      <td>At Intersection (intersection related)</td>\n",
              "      <td>0</td>\n",
              "      <td>Raining</td>\n",
              "      <td>Wet</td>\n",
              "      <td>Daylight</td>\n",
              "      <td>N</td>\n",
              "    </tr>\n",
              "  </tbody>\n",
              "</table>\n",
              "</div>"
            ],
            "text/plain": [
              "   SEVERITYCODE           X  ...                LIGHTCOND  HITPARKEDCAR\n",
              "0             2 -122.323148  ...                 Daylight             N\n",
              "1             1 -122.347294  ...  Dark - Street Lights On             N\n",
              "2             1 -122.334540  ...                 Daylight             N\n",
              "3             1 -122.334803  ...                 Daylight             N\n",
              "4             2 -122.306426  ...                 Daylight             N\n",
              "\n",
              "[5 rows x 15 columns]"
            ]
          },
          "metadata": {
            "tags": []
          },
          "execution_count": 7
        }
      ]
    },
    {
      "cell_type": "markdown",
      "metadata": {
        "id": "A1nWK7krNLMV"
      },
      "source": [
        "Setting the index of the dataframe as the OBJECTID."
      ]
    },
    {
      "cell_type": "code",
      "metadata": {
        "id": "_60_dz9OJPfR"
      },
      "source": [
        "cdf.set_index(\"OBJECTID\",inplace=True,drop=True)"
      ],
      "execution_count": 8,
      "outputs": []
    },
    {
      "cell_type": "markdown",
      "metadata": {
        "id": "RkcvreAVNT8B"
      },
      "source": [
        "Droping the rows with NEI ( Not Enough Information )."
      ]
    },
    {
      "cell_type": "code",
      "metadata": {
        "id": "H-shQ_17JPfT",
        "outputId": "e3b3ab3e-216c-4d5a-ae0e-9e11f00ec129",
        "colab": {
          "base_uri": "https://localhost:8080/",
          "height": 98
        }
      },
      "source": [
        "ro=cdf[cdf[\"EXCEPTRSNCODE\"] == \"NEI\"]\n",
        "cdf.drop(ro.index,inplace=True)"
      ],
      "execution_count": 9,
      "outputs": [
        {
          "output_type": "stream",
          "text": [
            "/usr/local/lib/python3.6/dist-packages/pandas/core/frame.py:3997: SettingWithCopyWarning: \n",
            "A value is trying to be set on a copy of a slice from a DataFrame\n",
            "\n",
            "See the caveats in the documentation: https://pandas.pydata.org/pandas-docs/stable/user_guide/indexing.html#returning-a-view-versus-a-copy\n",
            "  errors=errors,\n"
          ],
          "name": "stderr"
        }
      ]
    },
    {
      "cell_type": "markdown",
      "metadata": {
        "id": "3PWkla17NdfG"
      },
      "source": [
        "Dropping the columns which are no longer needed."
      ]
    },
    {
      "cell_type": "code",
      "metadata": {
        "id": "WIdRuZPaJPfV",
        "outputId": "b4cfc66a-9c96-478c-c5b0-594061c6f82d",
        "colab": {
          "base_uri": "https://localhost:8080/",
          "height": 98
        }
      },
      "source": [
        "cdf.drop(columns=[\"EXCEPTRSNDESC\",\"EXCEPTRSNCODE\"],inplace=True)"
      ],
      "execution_count": 10,
      "outputs": [
        {
          "output_type": "stream",
          "text": [
            "/usr/local/lib/python3.6/dist-packages/pandas/core/frame.py:3997: SettingWithCopyWarning: \n",
            "A value is trying to be set on a copy of a slice from a DataFrame\n",
            "\n",
            "See the caveats in the documentation: https://pandas.pydata.org/pandas-docs/stable/user_guide/indexing.html#returning-a-view-versus-a-copy\n",
            "  errors=errors,\n"
          ],
          "name": "stderr"
        }
      ]
    },
    {
      "cell_type": "markdown",
      "metadata": {
        "id": "AjGRAm9oNmEF"
      },
      "source": [
        "Dropping all rows with NaN values."
      ]
    },
    {
      "cell_type": "code",
      "metadata": {
        "id": "re4aJCO1JPfX",
        "outputId": "e1d2d35c-e4f6-465f-d04d-03de120542a8",
        "colab": {
          "base_uri": "https://localhost:8080/",
          "height": 98
        }
      },
      "source": [
        "cdf.dropna(inplace=True)"
      ],
      "execution_count": 11,
      "outputs": [
        {
          "output_type": "stream",
          "text": [
            "/usr/local/lib/python3.6/dist-packages/ipykernel_launcher.py:1: SettingWithCopyWarning: \n",
            "A value is trying to be set on a copy of a slice from a DataFrame\n",
            "\n",
            "See the caveats in the documentation: https://pandas.pydata.org/pandas-docs/stable/user_guide/indexing.html#returning-a-view-versus-a-copy\n",
            "  \"\"\"Entry point for launching an IPython kernel.\n"
          ],
          "name": "stderr"
        }
      ]
    },
    {
      "cell_type": "markdown",
      "metadata": {
        "id": "DXsFPlXWNtIN"
      },
      "source": [
        "Replacing all N and \"0\" to 0 (integar) and all Y and \"1\" to 1 (integar) in UNDERINFL column."
      ]
    },
    {
      "cell_type": "code",
      "metadata": {
        "id": "ucn-kJvlJPfZ",
        "outputId": "8364b691-9e41-45b1-937a-77b00f47a143",
        "colab": {
          "base_uri": "https://localhost:8080/",
          "height": 98
        }
      },
      "source": [
        "cdf[\"UNDERINFL\"].replace([\"N\",\"0\",\"Y\",\"1\"],[0,0,1,1], inplace =True)"
      ],
      "execution_count": 12,
      "outputs": [
        {
          "output_type": "stream",
          "text": [
            "/usr/local/lib/python3.6/dist-packages/pandas/core/generic.py:6746: SettingWithCopyWarning: \n",
            "A value is trying to be set on a copy of a slice from a DataFrame\n",
            "\n",
            "See the caveats in the documentation: https://pandas.pydata.org/pandas-docs/stable/user_guide/indexing.html#returning-a-view-versus-a-copy\n",
            "  self._update_inplace(new_data)\n"
          ],
          "name": "stderr"
        }
      ]
    },
    {
      "cell_type": "markdown",
      "metadata": {
        "id": "0YD-pBqFOBZt"
      },
      "source": [
        "Changing all categorical features to Integars by using get_dummies() function."
      ]
    },
    {
      "cell_type": "code",
      "metadata": {
        "id": "5D73cXjZJPfb",
        "outputId": "5c2e34b0-9489-4585-f304-e5687d06831b",
        "colab": {
          "base_uri": "https://localhost:8080/",
          "height": 305
        }
      },
      "source": [
        "dum=[ 'ADDRTYPE','JUNCTIONTYPE','WEATHER',\n",
        "       'COLLISIONTYPE',\n",
        "       'ROADCOND',\n",
        "       'LIGHTCOND', 'HITPARKEDCAR']\n",
        "d=pd.get_dummies(cdf[dum])\n",
        "d.head()"
      ],
      "execution_count": 13,
      "outputs": [
        {
          "output_type": "execute_result",
          "data": {
            "text/html": [
              "<div>\n",
              "<style scoped>\n",
              "    .dataframe tbody tr th:only-of-type {\n",
              "        vertical-align: middle;\n",
              "    }\n",
              "\n",
              "    .dataframe tbody tr th {\n",
              "        vertical-align: top;\n",
              "    }\n",
              "\n",
              "    .dataframe thead th {\n",
              "        text-align: right;\n",
              "    }\n",
              "</style>\n",
              "<table border=\"1\" class=\"dataframe\">\n",
              "  <thead>\n",
              "    <tr style=\"text-align: right;\">\n",
              "      <th></th>\n",
              "      <th>ADDRTYPE_Block</th>\n",
              "      <th>ADDRTYPE_Intersection</th>\n",
              "      <th>JUNCTIONTYPE_At Intersection (but not related to intersection)</th>\n",
              "      <th>JUNCTIONTYPE_At Intersection (intersection related)</th>\n",
              "      <th>JUNCTIONTYPE_Driveway Junction</th>\n",
              "      <th>JUNCTIONTYPE_Mid-Block (but intersection related)</th>\n",
              "      <th>JUNCTIONTYPE_Mid-Block (not related to intersection)</th>\n",
              "      <th>JUNCTIONTYPE_Ramp Junction</th>\n",
              "      <th>JUNCTIONTYPE_Unknown</th>\n",
              "      <th>WEATHER_Blowing Sand/Dirt</th>\n",
              "      <th>WEATHER_Clear</th>\n",
              "      <th>WEATHER_Fog/Smog/Smoke</th>\n",
              "      <th>WEATHER_Other</th>\n",
              "      <th>WEATHER_Overcast</th>\n",
              "      <th>WEATHER_Partly Cloudy</th>\n",
              "      <th>WEATHER_Raining</th>\n",
              "      <th>WEATHER_Severe Crosswind</th>\n",
              "      <th>WEATHER_Sleet/Hail/Freezing Rain</th>\n",
              "      <th>WEATHER_Snowing</th>\n",
              "      <th>WEATHER_Unknown</th>\n",
              "      <th>COLLISIONTYPE_Angles</th>\n",
              "      <th>COLLISIONTYPE_Cycles</th>\n",
              "      <th>COLLISIONTYPE_Head On</th>\n",
              "      <th>COLLISIONTYPE_Left Turn</th>\n",
              "      <th>COLLISIONTYPE_Other</th>\n",
              "      <th>COLLISIONTYPE_Parked Car</th>\n",
              "      <th>COLLISIONTYPE_Pedestrian</th>\n",
              "      <th>COLLISIONTYPE_Rear Ended</th>\n",
              "      <th>COLLISIONTYPE_Right Turn</th>\n",
              "      <th>COLLISIONTYPE_Sideswipe</th>\n",
              "      <th>ROADCOND_Dry</th>\n",
              "      <th>ROADCOND_Ice</th>\n",
              "      <th>ROADCOND_Oil</th>\n",
              "      <th>ROADCOND_Other</th>\n",
              "      <th>ROADCOND_Sand/Mud/Dirt</th>\n",
              "      <th>ROADCOND_Snow/Slush</th>\n",
              "      <th>ROADCOND_Standing Water</th>\n",
              "      <th>ROADCOND_Unknown</th>\n",
              "      <th>ROADCOND_Wet</th>\n",
              "      <th>LIGHTCOND_Dark - No Street Lights</th>\n",
              "      <th>LIGHTCOND_Dark - Street Lights Off</th>\n",
              "      <th>LIGHTCOND_Dark - Street Lights On</th>\n",
              "      <th>LIGHTCOND_Dark - Unknown Lighting</th>\n",
              "      <th>LIGHTCOND_Dawn</th>\n",
              "      <th>LIGHTCOND_Daylight</th>\n",
              "      <th>LIGHTCOND_Dusk</th>\n",
              "      <th>LIGHTCOND_Other</th>\n",
              "      <th>LIGHTCOND_Unknown</th>\n",
              "      <th>HITPARKEDCAR_N</th>\n",
              "      <th>HITPARKEDCAR_Y</th>\n",
              "    </tr>\n",
              "    <tr>\n",
              "      <th>OBJECTID</th>\n",
              "      <th></th>\n",
              "      <th></th>\n",
              "      <th></th>\n",
              "      <th></th>\n",
              "      <th></th>\n",
              "      <th></th>\n",
              "      <th></th>\n",
              "      <th></th>\n",
              "      <th></th>\n",
              "      <th></th>\n",
              "      <th></th>\n",
              "      <th></th>\n",
              "      <th></th>\n",
              "      <th></th>\n",
              "      <th></th>\n",
              "      <th></th>\n",
              "      <th></th>\n",
              "      <th></th>\n",
              "      <th></th>\n",
              "      <th></th>\n",
              "      <th></th>\n",
              "      <th></th>\n",
              "      <th></th>\n",
              "      <th></th>\n",
              "      <th></th>\n",
              "      <th></th>\n",
              "      <th></th>\n",
              "      <th></th>\n",
              "      <th></th>\n",
              "      <th></th>\n",
              "      <th></th>\n",
              "      <th></th>\n",
              "      <th></th>\n",
              "      <th></th>\n",
              "      <th></th>\n",
              "      <th></th>\n",
              "      <th></th>\n",
              "      <th></th>\n",
              "      <th></th>\n",
              "      <th></th>\n",
              "      <th></th>\n",
              "      <th></th>\n",
              "      <th></th>\n",
              "      <th></th>\n",
              "      <th></th>\n",
              "      <th></th>\n",
              "      <th></th>\n",
              "      <th></th>\n",
              "      <th></th>\n",
              "      <th></th>\n",
              "    </tr>\n",
              "  </thead>\n",
              "  <tbody>\n",
              "    <tr>\n",
              "      <th>1</th>\n",
              "      <td>0</td>\n",
              "      <td>1</td>\n",
              "      <td>0</td>\n",
              "      <td>1</td>\n",
              "      <td>0</td>\n",
              "      <td>0</td>\n",
              "      <td>0</td>\n",
              "      <td>0</td>\n",
              "      <td>0</td>\n",
              "      <td>0</td>\n",
              "      <td>0</td>\n",
              "      <td>0</td>\n",
              "      <td>0</td>\n",
              "      <td>1</td>\n",
              "      <td>0</td>\n",
              "      <td>0</td>\n",
              "      <td>0</td>\n",
              "      <td>0</td>\n",
              "      <td>0</td>\n",
              "      <td>0</td>\n",
              "      <td>1</td>\n",
              "      <td>0</td>\n",
              "      <td>0</td>\n",
              "      <td>0</td>\n",
              "      <td>0</td>\n",
              "      <td>0</td>\n",
              "      <td>0</td>\n",
              "      <td>0</td>\n",
              "      <td>0</td>\n",
              "      <td>0</td>\n",
              "      <td>0</td>\n",
              "      <td>0</td>\n",
              "      <td>0</td>\n",
              "      <td>0</td>\n",
              "      <td>0</td>\n",
              "      <td>0</td>\n",
              "      <td>0</td>\n",
              "      <td>0</td>\n",
              "      <td>1</td>\n",
              "      <td>0</td>\n",
              "      <td>0</td>\n",
              "      <td>0</td>\n",
              "      <td>0</td>\n",
              "      <td>0</td>\n",
              "      <td>1</td>\n",
              "      <td>0</td>\n",
              "      <td>0</td>\n",
              "      <td>0</td>\n",
              "      <td>1</td>\n",
              "      <td>0</td>\n",
              "    </tr>\n",
              "    <tr>\n",
              "      <th>2</th>\n",
              "      <td>1</td>\n",
              "      <td>0</td>\n",
              "      <td>0</td>\n",
              "      <td>0</td>\n",
              "      <td>0</td>\n",
              "      <td>0</td>\n",
              "      <td>1</td>\n",
              "      <td>0</td>\n",
              "      <td>0</td>\n",
              "      <td>0</td>\n",
              "      <td>0</td>\n",
              "      <td>0</td>\n",
              "      <td>0</td>\n",
              "      <td>0</td>\n",
              "      <td>0</td>\n",
              "      <td>1</td>\n",
              "      <td>0</td>\n",
              "      <td>0</td>\n",
              "      <td>0</td>\n",
              "      <td>0</td>\n",
              "      <td>0</td>\n",
              "      <td>0</td>\n",
              "      <td>0</td>\n",
              "      <td>0</td>\n",
              "      <td>0</td>\n",
              "      <td>0</td>\n",
              "      <td>0</td>\n",
              "      <td>0</td>\n",
              "      <td>0</td>\n",
              "      <td>1</td>\n",
              "      <td>0</td>\n",
              "      <td>0</td>\n",
              "      <td>0</td>\n",
              "      <td>0</td>\n",
              "      <td>0</td>\n",
              "      <td>0</td>\n",
              "      <td>0</td>\n",
              "      <td>0</td>\n",
              "      <td>1</td>\n",
              "      <td>0</td>\n",
              "      <td>0</td>\n",
              "      <td>1</td>\n",
              "      <td>0</td>\n",
              "      <td>0</td>\n",
              "      <td>0</td>\n",
              "      <td>0</td>\n",
              "      <td>0</td>\n",
              "      <td>0</td>\n",
              "      <td>1</td>\n",
              "      <td>0</td>\n",
              "    </tr>\n",
              "    <tr>\n",
              "      <th>3</th>\n",
              "      <td>1</td>\n",
              "      <td>0</td>\n",
              "      <td>0</td>\n",
              "      <td>0</td>\n",
              "      <td>0</td>\n",
              "      <td>0</td>\n",
              "      <td>1</td>\n",
              "      <td>0</td>\n",
              "      <td>0</td>\n",
              "      <td>0</td>\n",
              "      <td>0</td>\n",
              "      <td>0</td>\n",
              "      <td>0</td>\n",
              "      <td>1</td>\n",
              "      <td>0</td>\n",
              "      <td>0</td>\n",
              "      <td>0</td>\n",
              "      <td>0</td>\n",
              "      <td>0</td>\n",
              "      <td>0</td>\n",
              "      <td>0</td>\n",
              "      <td>0</td>\n",
              "      <td>0</td>\n",
              "      <td>0</td>\n",
              "      <td>0</td>\n",
              "      <td>1</td>\n",
              "      <td>0</td>\n",
              "      <td>0</td>\n",
              "      <td>0</td>\n",
              "      <td>0</td>\n",
              "      <td>1</td>\n",
              "      <td>0</td>\n",
              "      <td>0</td>\n",
              "      <td>0</td>\n",
              "      <td>0</td>\n",
              "      <td>0</td>\n",
              "      <td>0</td>\n",
              "      <td>0</td>\n",
              "      <td>0</td>\n",
              "      <td>0</td>\n",
              "      <td>0</td>\n",
              "      <td>0</td>\n",
              "      <td>0</td>\n",
              "      <td>0</td>\n",
              "      <td>1</td>\n",
              "      <td>0</td>\n",
              "      <td>0</td>\n",
              "      <td>0</td>\n",
              "      <td>1</td>\n",
              "      <td>0</td>\n",
              "    </tr>\n",
              "    <tr>\n",
              "      <th>4</th>\n",
              "      <td>1</td>\n",
              "      <td>0</td>\n",
              "      <td>0</td>\n",
              "      <td>0</td>\n",
              "      <td>0</td>\n",
              "      <td>0</td>\n",
              "      <td>1</td>\n",
              "      <td>0</td>\n",
              "      <td>0</td>\n",
              "      <td>0</td>\n",
              "      <td>1</td>\n",
              "      <td>0</td>\n",
              "      <td>0</td>\n",
              "      <td>0</td>\n",
              "      <td>0</td>\n",
              "      <td>0</td>\n",
              "      <td>0</td>\n",
              "      <td>0</td>\n",
              "      <td>0</td>\n",
              "      <td>0</td>\n",
              "      <td>0</td>\n",
              "      <td>0</td>\n",
              "      <td>0</td>\n",
              "      <td>0</td>\n",
              "      <td>1</td>\n",
              "      <td>0</td>\n",
              "      <td>0</td>\n",
              "      <td>0</td>\n",
              "      <td>0</td>\n",
              "      <td>0</td>\n",
              "      <td>1</td>\n",
              "      <td>0</td>\n",
              "      <td>0</td>\n",
              "      <td>0</td>\n",
              "      <td>0</td>\n",
              "      <td>0</td>\n",
              "      <td>0</td>\n",
              "      <td>0</td>\n",
              "      <td>0</td>\n",
              "      <td>0</td>\n",
              "      <td>0</td>\n",
              "      <td>0</td>\n",
              "      <td>0</td>\n",
              "      <td>0</td>\n",
              "      <td>1</td>\n",
              "      <td>0</td>\n",
              "      <td>0</td>\n",
              "      <td>0</td>\n",
              "      <td>1</td>\n",
              "      <td>0</td>\n",
              "    </tr>\n",
              "    <tr>\n",
              "      <th>5</th>\n",
              "      <td>0</td>\n",
              "      <td>1</td>\n",
              "      <td>0</td>\n",
              "      <td>1</td>\n",
              "      <td>0</td>\n",
              "      <td>0</td>\n",
              "      <td>0</td>\n",
              "      <td>0</td>\n",
              "      <td>0</td>\n",
              "      <td>0</td>\n",
              "      <td>0</td>\n",
              "      <td>0</td>\n",
              "      <td>0</td>\n",
              "      <td>0</td>\n",
              "      <td>0</td>\n",
              "      <td>1</td>\n",
              "      <td>0</td>\n",
              "      <td>0</td>\n",
              "      <td>0</td>\n",
              "      <td>0</td>\n",
              "      <td>1</td>\n",
              "      <td>0</td>\n",
              "      <td>0</td>\n",
              "      <td>0</td>\n",
              "      <td>0</td>\n",
              "      <td>0</td>\n",
              "      <td>0</td>\n",
              "      <td>0</td>\n",
              "      <td>0</td>\n",
              "      <td>0</td>\n",
              "      <td>0</td>\n",
              "      <td>0</td>\n",
              "      <td>0</td>\n",
              "      <td>0</td>\n",
              "      <td>0</td>\n",
              "      <td>0</td>\n",
              "      <td>0</td>\n",
              "      <td>0</td>\n",
              "      <td>1</td>\n",
              "      <td>0</td>\n",
              "      <td>0</td>\n",
              "      <td>0</td>\n",
              "      <td>0</td>\n",
              "      <td>0</td>\n",
              "      <td>1</td>\n",
              "      <td>0</td>\n",
              "      <td>0</td>\n",
              "      <td>0</td>\n",
              "      <td>1</td>\n",
              "      <td>0</td>\n",
              "    </tr>\n",
              "  </tbody>\n",
              "</table>\n",
              "</div>"
            ],
            "text/plain": [
              "          ADDRTYPE_Block  ADDRTYPE_Intersection  ...  HITPARKEDCAR_N  HITPARKEDCAR_Y\n",
              "OBJECTID                                         ...                                \n",
              "1                      0                      1  ...               1               0\n",
              "2                      1                      0  ...               1               0\n",
              "3                      1                      0  ...               1               0\n",
              "4                      1                      0  ...               1               0\n",
              "5                      0                      1  ...               1               0\n",
              "\n",
              "[5 rows x 50 columns]"
            ]
          },
          "metadata": {
            "tags": []
          },
          "execution_count": 13
        }
      ]
    },
    {
      "cell_type": "markdown",
      "metadata": {
        "id": "W1wGU9XmOjZy"
      },
      "source": [
        "Adding the new dummy columns to our dataframe and dropping the categorical features."
      ]
    },
    {
      "cell_type": "code",
      "metadata": {
        "id": "RxRxNRPbJPff"
      },
      "source": [
        "cdf = pd.concat([cdf.drop(dum, axis=1), pd.get_dummies(cdf[dum])], axis=1)"
      ],
      "execution_count": 14,
      "outputs": []
    },
    {
      "cell_type": "code",
      "metadata": {
        "id": "rgJSHAfjJPfh",
        "outputId": "3b8e58ef-6771-49de-d8da-78775aee1a45",
        "colab": {
          "base_uri": "https://localhost:8080/",
          "height": 630
        }
      },
      "source": [
        "cdf.head()"
      ],
      "execution_count": 15,
      "outputs": [
        {
          "output_type": "execute_result",
          "data": {
            "text/html": [
              "<div>\n",
              "<style scoped>\n",
              "    .dataframe tbody tr th:only-of-type {\n",
              "        vertical-align: middle;\n",
              "    }\n",
              "\n",
              "    .dataframe tbody tr th {\n",
              "        vertical-align: top;\n",
              "    }\n",
              "\n",
              "    .dataframe thead th {\n",
              "        text-align: right;\n",
              "    }\n",
              "</style>\n",
              "<table border=\"1\" class=\"dataframe\">\n",
              "  <thead>\n",
              "    <tr style=\"text-align: right;\">\n",
              "      <th></th>\n",
              "      <th>SEVERITYCODE</th>\n",
              "      <th>X</th>\n",
              "      <th>Y</th>\n",
              "      <th>LOCATION</th>\n",
              "      <th>UNDERINFL</th>\n",
              "      <th>ADDRTYPE_Block</th>\n",
              "      <th>ADDRTYPE_Intersection</th>\n",
              "      <th>JUNCTIONTYPE_At Intersection (but not related to intersection)</th>\n",
              "      <th>JUNCTIONTYPE_At Intersection (intersection related)</th>\n",
              "      <th>JUNCTIONTYPE_Driveway Junction</th>\n",
              "      <th>JUNCTIONTYPE_Mid-Block (but intersection related)</th>\n",
              "      <th>JUNCTIONTYPE_Mid-Block (not related to intersection)</th>\n",
              "      <th>JUNCTIONTYPE_Ramp Junction</th>\n",
              "      <th>JUNCTIONTYPE_Unknown</th>\n",
              "      <th>WEATHER_Blowing Sand/Dirt</th>\n",
              "      <th>WEATHER_Clear</th>\n",
              "      <th>WEATHER_Fog/Smog/Smoke</th>\n",
              "      <th>WEATHER_Other</th>\n",
              "      <th>WEATHER_Overcast</th>\n",
              "      <th>WEATHER_Partly Cloudy</th>\n",
              "      <th>WEATHER_Raining</th>\n",
              "      <th>WEATHER_Severe Crosswind</th>\n",
              "      <th>WEATHER_Sleet/Hail/Freezing Rain</th>\n",
              "      <th>WEATHER_Snowing</th>\n",
              "      <th>WEATHER_Unknown</th>\n",
              "      <th>COLLISIONTYPE_Angles</th>\n",
              "      <th>COLLISIONTYPE_Cycles</th>\n",
              "      <th>COLLISIONTYPE_Head On</th>\n",
              "      <th>COLLISIONTYPE_Left Turn</th>\n",
              "      <th>COLLISIONTYPE_Other</th>\n",
              "      <th>COLLISIONTYPE_Parked Car</th>\n",
              "      <th>COLLISIONTYPE_Pedestrian</th>\n",
              "      <th>COLLISIONTYPE_Rear Ended</th>\n",
              "      <th>COLLISIONTYPE_Right Turn</th>\n",
              "      <th>COLLISIONTYPE_Sideswipe</th>\n",
              "      <th>ROADCOND_Dry</th>\n",
              "      <th>ROADCOND_Ice</th>\n",
              "      <th>ROADCOND_Oil</th>\n",
              "      <th>ROADCOND_Other</th>\n",
              "      <th>ROADCOND_Sand/Mud/Dirt</th>\n",
              "      <th>ROADCOND_Snow/Slush</th>\n",
              "      <th>ROADCOND_Standing Water</th>\n",
              "      <th>ROADCOND_Unknown</th>\n",
              "      <th>ROADCOND_Wet</th>\n",
              "      <th>LIGHTCOND_Dark - No Street Lights</th>\n",
              "      <th>LIGHTCOND_Dark - Street Lights Off</th>\n",
              "      <th>LIGHTCOND_Dark - Street Lights On</th>\n",
              "      <th>LIGHTCOND_Dark - Unknown Lighting</th>\n",
              "      <th>LIGHTCOND_Dawn</th>\n",
              "      <th>LIGHTCOND_Daylight</th>\n",
              "      <th>LIGHTCOND_Dusk</th>\n",
              "      <th>LIGHTCOND_Other</th>\n",
              "      <th>LIGHTCOND_Unknown</th>\n",
              "      <th>HITPARKEDCAR_N</th>\n",
              "      <th>HITPARKEDCAR_Y</th>\n",
              "    </tr>\n",
              "    <tr>\n",
              "      <th>OBJECTID</th>\n",
              "      <th></th>\n",
              "      <th></th>\n",
              "      <th></th>\n",
              "      <th></th>\n",
              "      <th></th>\n",
              "      <th></th>\n",
              "      <th></th>\n",
              "      <th></th>\n",
              "      <th></th>\n",
              "      <th></th>\n",
              "      <th></th>\n",
              "      <th></th>\n",
              "      <th></th>\n",
              "      <th></th>\n",
              "      <th></th>\n",
              "      <th></th>\n",
              "      <th></th>\n",
              "      <th></th>\n",
              "      <th></th>\n",
              "      <th></th>\n",
              "      <th></th>\n",
              "      <th></th>\n",
              "      <th></th>\n",
              "      <th></th>\n",
              "      <th></th>\n",
              "      <th></th>\n",
              "      <th></th>\n",
              "      <th></th>\n",
              "      <th></th>\n",
              "      <th></th>\n",
              "      <th></th>\n",
              "      <th></th>\n",
              "      <th></th>\n",
              "      <th></th>\n",
              "      <th></th>\n",
              "      <th></th>\n",
              "      <th></th>\n",
              "      <th></th>\n",
              "      <th></th>\n",
              "      <th></th>\n",
              "      <th></th>\n",
              "      <th></th>\n",
              "      <th></th>\n",
              "      <th></th>\n",
              "      <th></th>\n",
              "      <th></th>\n",
              "      <th></th>\n",
              "      <th></th>\n",
              "      <th></th>\n",
              "      <th></th>\n",
              "      <th></th>\n",
              "      <th></th>\n",
              "      <th></th>\n",
              "      <th></th>\n",
              "      <th></th>\n",
              "    </tr>\n",
              "  </thead>\n",
              "  <tbody>\n",
              "    <tr>\n",
              "      <th>1</th>\n",
              "      <td>2</td>\n",
              "      <td>-122.323148</td>\n",
              "      <td>47.703140</td>\n",
              "      <td>5TH AVE NE AND NE 103RD ST</td>\n",
              "      <td>0</td>\n",
              "      <td>0</td>\n",
              "      <td>1</td>\n",
              "      <td>0</td>\n",
              "      <td>1</td>\n",
              "      <td>0</td>\n",
              "      <td>0</td>\n",
              "      <td>0</td>\n",
              "      <td>0</td>\n",
              "      <td>0</td>\n",
              "      <td>0</td>\n",
              "      <td>0</td>\n",
              "      <td>0</td>\n",
              "      <td>0</td>\n",
              "      <td>1</td>\n",
              "      <td>0</td>\n",
              "      <td>0</td>\n",
              "      <td>0</td>\n",
              "      <td>0</td>\n",
              "      <td>0</td>\n",
              "      <td>0</td>\n",
              "      <td>1</td>\n",
              "      <td>0</td>\n",
              "      <td>0</td>\n",
              "      <td>0</td>\n",
              "      <td>0</td>\n",
              "      <td>0</td>\n",
              "      <td>0</td>\n",
              "      <td>0</td>\n",
              "      <td>0</td>\n",
              "      <td>0</td>\n",
              "      <td>0</td>\n",
              "      <td>0</td>\n",
              "      <td>0</td>\n",
              "      <td>0</td>\n",
              "      <td>0</td>\n",
              "      <td>0</td>\n",
              "      <td>0</td>\n",
              "      <td>0</td>\n",
              "      <td>1</td>\n",
              "      <td>0</td>\n",
              "      <td>0</td>\n",
              "      <td>0</td>\n",
              "      <td>0</td>\n",
              "      <td>0</td>\n",
              "      <td>1</td>\n",
              "      <td>0</td>\n",
              "      <td>0</td>\n",
              "      <td>0</td>\n",
              "      <td>1</td>\n",
              "      <td>0</td>\n",
              "    </tr>\n",
              "    <tr>\n",
              "      <th>2</th>\n",
              "      <td>1</td>\n",
              "      <td>-122.347294</td>\n",
              "      <td>47.647172</td>\n",
              "      <td>AURORA BR BETWEEN RAYE ST AND BRIDGE WAY N</td>\n",
              "      <td>0</td>\n",
              "      <td>1</td>\n",
              "      <td>0</td>\n",
              "      <td>0</td>\n",
              "      <td>0</td>\n",
              "      <td>0</td>\n",
              "      <td>0</td>\n",
              "      <td>1</td>\n",
              "      <td>0</td>\n",
              "      <td>0</td>\n",
              "      <td>0</td>\n",
              "      <td>0</td>\n",
              "      <td>0</td>\n",
              "      <td>0</td>\n",
              "      <td>0</td>\n",
              "      <td>0</td>\n",
              "      <td>1</td>\n",
              "      <td>0</td>\n",
              "      <td>0</td>\n",
              "      <td>0</td>\n",
              "      <td>0</td>\n",
              "      <td>0</td>\n",
              "      <td>0</td>\n",
              "      <td>0</td>\n",
              "      <td>0</td>\n",
              "      <td>0</td>\n",
              "      <td>0</td>\n",
              "      <td>0</td>\n",
              "      <td>0</td>\n",
              "      <td>0</td>\n",
              "      <td>1</td>\n",
              "      <td>0</td>\n",
              "      <td>0</td>\n",
              "      <td>0</td>\n",
              "      <td>0</td>\n",
              "      <td>0</td>\n",
              "      <td>0</td>\n",
              "      <td>0</td>\n",
              "      <td>0</td>\n",
              "      <td>1</td>\n",
              "      <td>0</td>\n",
              "      <td>0</td>\n",
              "      <td>1</td>\n",
              "      <td>0</td>\n",
              "      <td>0</td>\n",
              "      <td>0</td>\n",
              "      <td>0</td>\n",
              "      <td>0</td>\n",
              "      <td>0</td>\n",
              "      <td>1</td>\n",
              "      <td>0</td>\n",
              "    </tr>\n",
              "    <tr>\n",
              "      <th>3</th>\n",
              "      <td>1</td>\n",
              "      <td>-122.334540</td>\n",
              "      <td>47.607871</td>\n",
              "      <td>4TH AVE BETWEEN SENECA ST AND UNIVERSITY ST</td>\n",
              "      <td>0</td>\n",
              "      <td>1</td>\n",
              "      <td>0</td>\n",
              "      <td>0</td>\n",
              "      <td>0</td>\n",
              "      <td>0</td>\n",
              "      <td>0</td>\n",
              "      <td>1</td>\n",
              "      <td>0</td>\n",
              "      <td>0</td>\n",
              "      <td>0</td>\n",
              "      <td>0</td>\n",
              "      <td>0</td>\n",
              "      <td>0</td>\n",
              "      <td>1</td>\n",
              "      <td>0</td>\n",
              "      <td>0</td>\n",
              "      <td>0</td>\n",
              "      <td>0</td>\n",
              "      <td>0</td>\n",
              "      <td>0</td>\n",
              "      <td>0</td>\n",
              "      <td>0</td>\n",
              "      <td>0</td>\n",
              "      <td>0</td>\n",
              "      <td>0</td>\n",
              "      <td>1</td>\n",
              "      <td>0</td>\n",
              "      <td>0</td>\n",
              "      <td>0</td>\n",
              "      <td>0</td>\n",
              "      <td>1</td>\n",
              "      <td>0</td>\n",
              "      <td>0</td>\n",
              "      <td>0</td>\n",
              "      <td>0</td>\n",
              "      <td>0</td>\n",
              "      <td>0</td>\n",
              "      <td>0</td>\n",
              "      <td>0</td>\n",
              "      <td>0</td>\n",
              "      <td>0</td>\n",
              "      <td>0</td>\n",
              "      <td>0</td>\n",
              "      <td>0</td>\n",
              "      <td>1</td>\n",
              "      <td>0</td>\n",
              "      <td>0</td>\n",
              "      <td>0</td>\n",
              "      <td>1</td>\n",
              "      <td>0</td>\n",
              "    </tr>\n",
              "    <tr>\n",
              "      <th>4</th>\n",
              "      <td>1</td>\n",
              "      <td>-122.334803</td>\n",
              "      <td>47.604803</td>\n",
              "      <td>2ND AVE BETWEEN MARION ST AND MADISON ST</td>\n",
              "      <td>0</td>\n",
              "      <td>1</td>\n",
              "      <td>0</td>\n",
              "      <td>0</td>\n",
              "      <td>0</td>\n",
              "      <td>0</td>\n",
              "      <td>0</td>\n",
              "      <td>1</td>\n",
              "      <td>0</td>\n",
              "      <td>0</td>\n",
              "      <td>0</td>\n",
              "      <td>1</td>\n",
              "      <td>0</td>\n",
              "      <td>0</td>\n",
              "      <td>0</td>\n",
              "      <td>0</td>\n",
              "      <td>0</td>\n",
              "      <td>0</td>\n",
              "      <td>0</td>\n",
              "      <td>0</td>\n",
              "      <td>0</td>\n",
              "      <td>0</td>\n",
              "      <td>0</td>\n",
              "      <td>0</td>\n",
              "      <td>0</td>\n",
              "      <td>1</td>\n",
              "      <td>0</td>\n",
              "      <td>0</td>\n",
              "      <td>0</td>\n",
              "      <td>0</td>\n",
              "      <td>0</td>\n",
              "      <td>1</td>\n",
              "      <td>0</td>\n",
              "      <td>0</td>\n",
              "      <td>0</td>\n",
              "      <td>0</td>\n",
              "      <td>0</td>\n",
              "      <td>0</td>\n",
              "      <td>0</td>\n",
              "      <td>0</td>\n",
              "      <td>0</td>\n",
              "      <td>0</td>\n",
              "      <td>0</td>\n",
              "      <td>0</td>\n",
              "      <td>0</td>\n",
              "      <td>1</td>\n",
              "      <td>0</td>\n",
              "      <td>0</td>\n",
              "      <td>0</td>\n",
              "      <td>1</td>\n",
              "      <td>0</td>\n",
              "    </tr>\n",
              "    <tr>\n",
              "      <th>5</th>\n",
              "      <td>2</td>\n",
              "      <td>-122.306426</td>\n",
              "      <td>47.545739</td>\n",
              "      <td>SWIFT AVE S AND SWIFT AV OFF RP</td>\n",
              "      <td>0</td>\n",
              "      <td>0</td>\n",
              "      <td>1</td>\n",
              "      <td>0</td>\n",
              "      <td>1</td>\n",
              "      <td>0</td>\n",
              "      <td>0</td>\n",
              "      <td>0</td>\n",
              "      <td>0</td>\n",
              "      <td>0</td>\n",
              "      <td>0</td>\n",
              "      <td>0</td>\n",
              "      <td>0</td>\n",
              "      <td>0</td>\n",
              "      <td>0</td>\n",
              "      <td>0</td>\n",
              "      <td>1</td>\n",
              "      <td>0</td>\n",
              "      <td>0</td>\n",
              "      <td>0</td>\n",
              "      <td>0</td>\n",
              "      <td>1</td>\n",
              "      <td>0</td>\n",
              "      <td>0</td>\n",
              "      <td>0</td>\n",
              "      <td>0</td>\n",
              "      <td>0</td>\n",
              "      <td>0</td>\n",
              "      <td>0</td>\n",
              "      <td>0</td>\n",
              "      <td>0</td>\n",
              "      <td>0</td>\n",
              "      <td>0</td>\n",
              "      <td>0</td>\n",
              "      <td>0</td>\n",
              "      <td>0</td>\n",
              "      <td>0</td>\n",
              "      <td>0</td>\n",
              "      <td>0</td>\n",
              "      <td>1</td>\n",
              "      <td>0</td>\n",
              "      <td>0</td>\n",
              "      <td>0</td>\n",
              "      <td>0</td>\n",
              "      <td>0</td>\n",
              "      <td>1</td>\n",
              "      <td>0</td>\n",
              "      <td>0</td>\n",
              "      <td>0</td>\n",
              "      <td>1</td>\n",
              "      <td>0</td>\n",
              "    </tr>\n",
              "  </tbody>\n",
              "</table>\n",
              "</div>"
            ],
            "text/plain": [
              "          SEVERITYCODE           X  ...  HITPARKEDCAR_N HITPARKEDCAR_Y\n",
              "OBJECTID                            ...                               \n",
              "1                    2 -122.323148  ...               1              0\n",
              "2                    1 -122.347294  ...               1              0\n",
              "3                    1 -122.334540  ...               1              0\n",
              "4                    1 -122.334803  ...               1              0\n",
              "5                    2 -122.306426  ...               1              0\n",
              "\n",
              "[5 rows x 55 columns]"
            ]
          },
          "metadata": {
            "tags": []
          },
          "execution_count": 15
        }
      ]
    },
    {
      "cell_type": "markdown",
      "metadata": {
        "id": "_pmohEXcOsee"
      },
      "source": [
        "Splitting the dataframe to train and test datasets."
      ]
    },
    {
      "cell_type": "code",
      "metadata": {
        "scrolled": false,
        "id": "9eXSAXD2JPfi"
      },
      "source": [
        "from sklearn.model_selection import train_test_split\n",
        "cdf.drop(\"LOCATION\",axis=1,inplace = True)\n",
        "X= np.asarray(cdf[[i for i in list(cdf.columns) if i != 'SEVERITYCODE']])\n",
        "y=np.asarray(cdf[\"SEVERITYCODE\"])\n",
        "X_train, X_test, y_train, y_test = train_test_split( X, y, test_size=0.2, random_state=4)"
      ],
      "execution_count": 16,
      "outputs": []
    },
    {
      "cell_type": "markdown",
      "metadata": {
        "id": "NWoFGGZgO8Fk"
      },
      "source": [
        "Importing the libraries needed for evaluation."
      ]
    },
    {
      "cell_type": "code",
      "metadata": {
        "id": "6zeqDX4dJPfk"
      },
      "source": [
        "from sklearn.metrics import jaccard_similarity_score\n",
        "from sklearn.metrics import f1_score\n",
        "from sklearn.metrics import log_loss"
      ],
      "execution_count": 17,
      "outputs": []
    },
    {
      "cell_type": "markdown",
      "metadata": {
        "id": "MjWLw8pFJPfm"
      },
      "source": [
        "# Logistic Regression"
      ]
    },
    {
      "cell_type": "markdown",
      "metadata": {
        "id": "YznSVt7DPBBD"
      },
      "source": [
        "Building the logistic regression model."
      ]
    },
    {
      "cell_type": "code",
      "metadata": {
        "id": "JBgbVDjcJPfm",
        "outputId": "d9f08cd7-c30d-4bf6-bbef-c97026e1f8f8",
        "colab": {
          "base_uri": "https://localhost:8080/",
          "height": 33
        }
      },
      "source": [
        "from sklearn.linear_model import LogisticRegression\n",
        "from sklearn.metrics import confusion_matrix\n",
        "LR = LogisticRegression(C=0.01, solver='liblinear').fit(X_train,y_train)\n",
        "s=LR.score(X_train,y_train)\n",
        "s"
      ],
      "execution_count": 18,
      "outputs": [
        {
          "output_type": "execute_result",
          "data": {
            "text/plain": [
              "0.7393426413559512"
            ]
          },
          "metadata": {
            "tags": []
          },
          "execution_count": 18
        }
      ]
    },
    {
      "cell_type": "markdown",
      "metadata": {
        "id": "0q35r8-3PK7Z"
      },
      "source": [
        "Testing the model."
      ]
    },
    {
      "cell_type": "code",
      "metadata": {
        "id": "uSlS0YBXJPfo"
      },
      "source": [
        "yhat = LR.predict(X_test)"
      ],
      "execution_count": 19,
      "outputs": []
    },
    {
      "cell_type": "code",
      "metadata": {
        "id": "0y2N_yexJPfp",
        "outputId": "5b682073-be94-497a-80c7-243647a5ad81",
        "colab": {
          "base_uri": "https://localhost:8080/",
          "height": 33
        }
      },
      "source": [
        "sa=LR.score(X_test,y_test)\n",
        "sa"
      ],
      "execution_count": 20,
      "outputs": [
        {
          "output_type": "execute_result",
          "data": {
            "text/plain": [
              "0.7403438893719672"
            ]
          },
          "metadata": {
            "tags": []
          },
          "execution_count": 20
        }
      ]
    },
    {
      "cell_type": "code",
      "metadata": {
        "scrolled": false,
        "id": "Hm6OvZycJPfv",
        "outputId": "893709fa-2d56-42b4-fb2a-646f32bceebb",
        "colab": {
          "base_uri": "https://localhost:8080/",
          "height": 33
        }
      },
      "source": [
        "yhat = LR.predict(X_test)\n",
        "yhat_prob = LR.predict_proba(X_test)\n",
        "yhat\n"
      ],
      "execution_count": 21,
      "outputs": [
        {
          "output_type": "execute_result",
          "data": {
            "text/plain": [
              "array([1, 2, 1, ..., 1, 1, 1])"
            ]
          },
          "metadata": {
            "tags": []
          },
          "execution_count": 21
        }
      ]
    },
    {
      "cell_type": "markdown",
      "metadata": {
        "id": "PQ7Ii1W8PXwl"
      },
      "source": [
        "Evaluating the model using Jaccard index, F1-score, log loss and classification report."
      ]
    },
    {
      "cell_type": "markdown",
      "metadata": {
        "id": "cK6rDZyOPqbL"
      },
      "source": [
        "Jaccard index and F1-score results."
      ]
    },
    {
      "cell_type": "code",
      "metadata": {
        "id": "OaNGpA6yJPf1",
        "outputId": "8f4a8ad6-1b66-406a-9fa3-5a7b00220463",
        "colab": {
          "base_uri": "https://localhost:8080/",
          "height": 86
        }
      },
      "source": [
        "from sklearn.metrics import jaccard_similarity_score\n",
        "jaccard_similarity_score(y_test, yhat)"
      ],
      "execution_count": 22,
      "outputs": [
        {
          "output_type": "stream",
          "text": [
            "/usr/local/lib/python3.6/dist-packages/sklearn/metrics/_classification.py:664: FutureWarning: jaccard_similarity_score has been deprecated and replaced with jaccard_score. It will be removed in version 0.23. This implementation has surprising behavior for binary and multiclass classification tasks.\n",
            "  FutureWarning)\n"
          ],
          "name": "stderr"
        },
        {
          "output_type": "execute_result",
          "data": {
            "text/plain": [
              "0.7403438893719672"
            ]
          },
          "metadata": {
            "tags": []
          },
          "execution_count": 22
        }
      ]
    },
    {
      "cell_type": "code",
      "metadata": {
        "id": "O1RSbM6OJPf2",
        "outputId": "88291d86-c0bb-48fc-8f2f-8e31e7369295",
        "colab": {
          "base_uri": "https://localhost:8080/",
          "height": 102
        }
      },
      "source": [
        "print(\"LR Jaccard index: %.2f\" % jaccard_similarity_score(y_test, yhat))\n",
        "print(\"LR F1-score: %.2f\" % f1_score(y_test, yhat, average='weighted') )"
      ],
      "execution_count": 23,
      "outputs": [
        {
          "output_type": "stream",
          "text": [
            "LR Jaccard index: 0.74\n",
            "LR F1-score: 0.68\n"
          ],
          "name": "stdout"
        },
        {
          "output_type": "stream",
          "text": [
            "/usr/local/lib/python3.6/dist-packages/sklearn/metrics/_classification.py:664: FutureWarning: jaccard_similarity_score has been deprecated and replaced with jaccard_score. It will be removed in version 0.23. This implementation has surprising behavior for binary and multiclass classification tasks.\n",
            "  FutureWarning)\n"
          ],
          "name": "stderr"
        }
      ]
    },
    {
      "cell_type": "markdown",
      "metadata": {
        "id": "JoTnT_qwPj5Y"
      },
      "source": [
        "Classification report results."
      ]
    },
    {
      "cell_type": "code",
      "metadata": {
        "id": "7GAx0BuhJPf5",
        "outputId": "8d677aba-0a1b-4a30-d989-13d82da1873e",
        "colab": {
          "base_uri": "https://localhost:8080/",
          "height": 163
        }
      },
      "source": [
        "from sklearn.metrics import classification_report\n",
        "print (classification_report(y_test, yhat))\n"
      ],
      "execution_count": 24,
      "outputs": [
        {
          "output_type": "stream",
          "text": [
            "              precision    recall  f1-score   support\n",
            "\n",
            "           1       0.73      0.98      0.84     24610\n",
            "           2       0.81      0.21      0.33     11041\n",
            "\n",
            "    accuracy                           0.74     35651\n",
            "   macro avg       0.77      0.59      0.59     35651\n",
            "weighted avg       0.76      0.74      0.68     35651\n",
            "\n"
          ],
          "name": "stdout"
        }
      ]
    },
    {
      "cell_type": "markdown",
      "metadata": {
        "id": "QxLgJoy2PmGK"
      },
      "source": [
        "Log loss results."
      ]
    },
    {
      "cell_type": "code",
      "metadata": {
        "id": "8QAtrGcgJPf6",
        "outputId": "7e8d81b2-97b9-44cc-fd46-6394b6e9a659",
        "colab": {
          "base_uri": "https://localhost:8080/",
          "height": 33
        }
      },
      "source": [
        "from sklearn.metrics import log_loss\n",
        "log_loss(y_test, yhat_prob)"
      ],
      "execution_count": 25,
      "outputs": [
        {
          "output_type": "execute_result",
          "data": {
            "text/plain": [
              "0.5027292962976999"
            ]
          },
          "metadata": {
            "tags": []
          },
          "execution_count": 25
        }
      ]
    },
    {
      "cell_type": "markdown",
      "metadata": {
        "id": "UgJNbh7jPwFt"
      },
      "source": [
        "Evalutating the model using cross_val_score."
      ]
    },
    {
      "cell_type": "code",
      "metadata": {
        "scrolled": true,
        "id": "Xr7KyEmlJPf8",
        "outputId": "cea34247-33df-415b-a951-1f3149c389e5",
        "colab": {
          "base_uri": "https://localhost:8080/",
          "height": 50
        }
      },
      "source": [
        "from sklearn.model_selection import cross_val_score\n",
        "\n",
        "scores = cross_val_score(LR, X_train, y_train, cv=10)\n",
        "print('Cross-Validation Accuracy Scores', scores)"
      ],
      "execution_count": 26,
      "outputs": [
        {
          "output_type": "stream",
          "text": [
            "Cross-Validation Accuracy Scores [0.738728   0.73884993 0.73927069 0.74004208 0.7411641  0.73597475\n",
            " 0.73969144 0.74018233 0.74025245 0.73934081]\n"
          ],
          "name": "stdout"
        }
      ]
    },
    {
      "cell_type": "markdown",
      "metadata": {
        "id": "2Nsg-Lo4JPf9"
      },
      "source": [
        "<h1> Decision Tree</h1>"
      ]
    },
    {
      "cell_type": "markdown",
      "metadata": {
        "id": "4ML3SoDZQGvu"
      },
      "source": [
        "Building the Decision Tree model."
      ]
    },
    {
      "cell_type": "code",
      "metadata": {
        "id": "EQynpYAcJPf-"
      },
      "source": [
        "from sklearn.tree import DecisionTreeClassifier\n",
        "tree = DecisionTreeClassifier(criterion=\"entropy\", max_depth = 20)"
      ],
      "execution_count": 27,
      "outputs": []
    },
    {
      "cell_type": "markdown",
      "metadata": {
        "id": "BOv4BhakQJpM"
      },
      "source": [
        "Fitting the data to the model."
      ]
    },
    {
      "cell_type": "code",
      "metadata": {
        "id": "fpZ5ddxIJPf_",
        "outputId": "cfb94adc-ad82-40c7-9786-e98a49e9ef5e",
        "colab": {
          "base_uri": "https://localhost:8080/",
          "height": 115
        }
      },
      "source": [
        "tree.fit(X_train,y_train)"
      ],
      "execution_count": 28,
      "outputs": [
        {
          "output_type": "execute_result",
          "data": {
            "text/plain": [
              "DecisionTreeClassifier(ccp_alpha=0.0, class_weight=None, criterion='entropy',\n",
              "                       max_depth=20, max_features=None, max_leaf_nodes=None,\n",
              "                       min_impurity_decrease=0.0, min_impurity_split=None,\n",
              "                       min_samples_leaf=1, min_samples_split=2,\n",
              "                       min_weight_fraction_leaf=0.0, presort='deprecated',\n",
              "                       random_state=None, splitter='best')"
            ]
          },
          "metadata": {
            "tags": []
          },
          "execution_count": 28
        }
      ]
    },
    {
      "cell_type": "markdown",
      "metadata": {
        "id": "1tld72DZQMR2"
      },
      "source": [
        "Testing the model."
      ]
    },
    {
      "cell_type": "code",
      "metadata": {
        "id": "ZumjMSJpJPgC"
      },
      "source": [
        "predTree = tree.predict(X_test)"
      ],
      "execution_count": 29,
      "outputs": []
    },
    {
      "cell_type": "markdown",
      "metadata": {
        "id": "GpMCXLkzQSHq"
      },
      "source": [
        "Printing the accuarcy of the model."
      ]
    },
    {
      "cell_type": "code",
      "metadata": {
        "scrolled": true,
        "id": "yGJsjFkoJPgD",
        "outputId": "c5c71acd-8053-4f10-93a3-bee65f008dc3",
        "colab": {
          "base_uri": "https://localhost:8080/",
          "height": 33
        }
      },
      "source": [
        "from sklearn import metrics\n",
        "import matplotlib.pyplot as plt\n",
        "print(\"DecisionTrees's Accuracy: \", metrics.accuracy_score(y_test, predTree))"
      ],
      "execution_count": 30,
      "outputs": [
        {
          "output_type": "stream",
          "text": [
            "DecisionTrees's Accuracy:  0.7254214468037362\n"
          ],
          "name": "stdout"
        }
      ]
    },
    {
      "cell_type": "markdown",
      "metadata": {
        "id": "KX0js1-MQXoR"
      },
      "source": [
        "Classification report results."
      ]
    },
    {
      "cell_type": "code",
      "metadata": {
        "scrolled": true,
        "id": "zBEqshRGJPgF",
        "outputId": "7785dcb2-4e4a-4419-ecca-5d42f31df3a7",
        "colab": {
          "base_uri": "https://localhost:8080/",
          "height": 163
        }
      },
      "source": [
        "print(classification_report(y_test,predTree))"
      ],
      "execution_count": 31,
      "outputs": [
        {
          "output_type": "stream",
          "text": [
            "              precision    recall  f1-score   support\n",
            "\n",
            "           1       0.74      0.94      0.82     24610\n",
            "           2       0.64      0.26      0.37     11041\n",
            "\n",
            "    accuracy                           0.73     35651\n",
            "   macro avg       0.69      0.60      0.60     35651\n",
            "weighted avg       0.71      0.73      0.68     35651\n",
            "\n"
          ],
          "name": "stdout"
        }
      ]
    },
    {
      "cell_type": "markdown",
      "metadata": {
        "id": "GIOke13mQc3b"
      },
      "source": [
        "Jaccard index and F1-score results."
      ]
    },
    {
      "cell_type": "code",
      "metadata": {
        "id": "xswBjMmiJPgJ",
        "outputId": "2528489b-ce0b-4948-98cc-585ecca1a925",
        "colab": {
          "base_uri": "https://localhost:8080/",
          "height": 102
        }
      },
      "source": [
        "print(\"DT Jaccard index: %.2f\" % jaccard_similarity_score(y_test, predTree))\n",
        "print(\"DT F1-score: %.2f\" % f1_score(y_test, predTree, average='weighted') )"
      ],
      "execution_count": 32,
      "outputs": [
        {
          "output_type": "stream",
          "text": [
            "DT Jaccard index: 0.73\n",
            "DT F1-score: 0.68\n"
          ],
          "name": "stdout"
        },
        {
          "output_type": "stream",
          "text": [
            "/usr/local/lib/python3.6/dist-packages/sklearn/metrics/_classification.py:664: FutureWarning: jaccard_similarity_score has been deprecated and replaced with jaccard_score. It will be removed in version 0.23. This implementation has surprising behavior for binary and multiclass classification tasks.\n",
            "  FutureWarning)\n"
          ],
          "name": "stderr"
        }
      ]
    }
  ]
}