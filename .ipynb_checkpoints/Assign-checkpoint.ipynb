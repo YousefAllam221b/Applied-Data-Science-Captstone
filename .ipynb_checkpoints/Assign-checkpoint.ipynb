{
 "cells": [
  {
   "cell_type": "markdown",
   "metadata": {},
   "source": [
    "This is notebook is going to be used for the capstone projects."
   ]
  },
  {
   "cell_type": "code",
   "execution_count": 1,
   "metadata": {},
   "outputs": [],
   "source": [
    "import pandas as pd\n",
    "import numpy as np"
   ]
  },
  {
   "cell_type": "code",
   "execution_count": 2,
   "metadata": {},
   "outputs": [
    {
     "name": "stdout",
     "output_type": "stream",
     "text": [
      "Hello Capstone Project Course!\n"
     ]
    }
   ],
   "source": [
    "print(\"Hello Capstone Project Course!\")"
   ]
  },
  {
   "cell_type": "code",
   "execution_count": 3,
   "metadata": {
    "scrolled": true
   },
   "outputs": [
    {
     "name": "stderr",
     "output_type": "stream",
     "text": [
      "c:\\users\\yousef\\appdata\\local\\programs\\python\\python37\\lib\\site-packages\\IPython\\core\\interactiveshell.py:3072: DtypeWarning: Columns (33) have mixed types.Specify dtype option on import or set low_memory=False.\n",
      "  interactivity=interactivity, compiler=compiler, result=result)\n"
     ]
    }
   ],
   "source": [
    "df=pd.read_csv(\"Data-Collisions.csv\")"
   ]
  },
  {
   "cell_type": "code",
   "execution_count": 4,
   "metadata": {
    "scrolled": true
   },
   "outputs": [],
   "source": [
    "cdf=df[['SEVERITYCODE', 'X', 'Y','OBJECTID',\n",
    "       'ADDRTYPE', 'LOCATION', 'EXCEPTRSNCODE',\n",
    "       'EXCEPTRSNDESC','COLLISIONTYPE',\n",
    "       'JUNCTIONTYPE',\n",
    "       'UNDERINFL', 'WEATHER', 'ROADCOND', 'LIGHTCOND',\n",
    "       'HITPARKEDCAR']]"
   ]
  },
  {
   "cell_type": "markdown",
   "metadata": {},
   "source": [
    "EXCEPTRSNDESC or EXCEPTRSNCODE is to check if there is enough information about the location or not"
   ]
  },
  {
   "cell_type": "code",
   "execution_count": 5,
   "metadata": {},
   "outputs": [],
   "source": [
    "cdf.set_index(\"OBJECTID\",inplace=True,drop=True)"
   ]
  },
  {
   "cell_type": "code",
   "execution_count": 6,
   "metadata": {},
   "outputs": [
    {
     "name": "stderr",
     "output_type": "stream",
     "text": [
      "c:\\users\\yousef\\appdata\\local\\programs\\python\\python37\\lib\\site-packages\\pandas\\core\\frame.py:3997: SettingWithCopyWarning: \n",
      "A value is trying to be set on a copy of a slice from a DataFrame\n",
      "\n",
      "See the caveats in the documentation: https://pandas.pydata.org/pandas-docs/stable/user_guide/indexing.html#returning-a-view-versus-a-copy\n",
      "  errors=errors,\n"
     ]
    }
   ],
   "source": [
    "ro=cdf[cdf[\"EXCEPTRSNCODE\"] == \"NEI\"]\n",
    "cdf.drop(ro.index,inplace=True)"
   ]
  },
  {
   "cell_type": "code",
   "execution_count": 7,
   "metadata": {},
   "outputs": [],
   "source": [
    "cdf.drop(columns=[\"EXCEPTRSNDESC\",\"EXCEPTRSNCODE\"],inplace=True)"
   ]
  },
  {
   "cell_type": "markdown",
   "metadata": {},
   "source": [
    "SEVERITYCODE(target) \n",
    "X , Y , LOCATION : Coordinates and locations\n",
    "WEATHER , ROADCOND , LIGHTCOND : Conditions\n",
    "SPEEDING , INATTENTIONIND : Driver conditions\n",
    "PERSONCOUNT , PEDCOUNT , PEDCYLCOUNT , VEHCOUNT : objects involved in the accident\n"
   ]
  },
  {
   "cell_type": "code",
   "execution_count": 8,
   "metadata": {},
   "outputs": [
    {
     "name": "stderr",
     "output_type": "stream",
     "text": [
      "c:\\users\\yousef\\appdata\\local\\programs\\python\\python37\\lib\\site-packages\\ipykernel_launcher.py:1: SettingWithCopyWarning: \n",
      "A value is trying to be set on a copy of a slice from a DataFrame\n",
      "\n",
      "See the caveats in the documentation: https://pandas.pydata.org/pandas-docs/stable/user_guide/indexing.html#returning-a-view-versus-a-copy\n",
      "  \"\"\"Entry point for launching an IPython kernel.\n"
     ]
    }
   ],
   "source": [
    "cdf.dropna(inplace=True)"
   ]
  },
  {
   "cell_type": "code",
   "execution_count": 9,
   "metadata": {},
   "outputs": [
    {
     "name": "stderr",
     "output_type": "stream",
     "text": [
      "c:\\users\\yousef\\appdata\\local\\programs\\python\\python37\\lib\\site-packages\\pandas\\core\\generic.py:6746: SettingWithCopyWarning: \n",
      "A value is trying to be set on a copy of a slice from a DataFrame\n",
      "\n",
      "See the caveats in the documentation: https://pandas.pydata.org/pandas-docs/stable/user_guide/indexing.html#returning-a-view-versus-a-copy\n",
      "  self._update_inplace(new_data)\n"
     ]
    }
   ],
   "source": [
    "cdf[\"UNDERINFL\"].replace([\"N\",\"0\",\"Y\",\"1\"],[0,0,1,1], inplace =True)\n"
   ]
  },
  {
   "cell_type": "code",
   "execution_count": 10,
   "metadata": {},
   "outputs": [],
   "source": [
    "dum=[ 'ADDRTYPE','JUNCTIONTYPE','WEATHER',\n",
    "       'COLLISIONTYPE',\n",
    "       'ROADCOND',\n",
    "       'LIGHTCOND', 'HITPARKEDCAR']\n",
    "d=pd.get_dummies(cdf[dum])"
   ]
  },
  {
   "cell_type": "code",
   "execution_count": 11,
   "metadata": {},
   "outputs": [
    {
     "data": {
      "text/plain": [
       "Index(['SEVERITYCODE', 'X', 'Y', 'ADDRTYPE', 'LOCATION', 'COLLISIONTYPE',\n",
       "       'JUNCTIONTYPE', 'UNDERINFL', 'WEATHER', 'ROADCOND', 'LIGHTCOND',\n",
       "       'HITPARKEDCAR'],\n",
       "      dtype='object')"
      ]
     },
     "execution_count": 11,
     "metadata": {},
     "output_type": "execute_result"
    }
   ],
   "source": [
    "cdf.columns"
   ]
  },
  {
   "cell_type": "code",
   "execution_count": 12,
   "metadata": {},
   "outputs": [],
   "source": [
    "cdf = pd.concat([cdf.drop(dum, axis=1), pd.get_dummies(cdf[dum])], axis=1)"
   ]
  },
  {
   "cell_type": "code",
   "execution_count": 13,
   "metadata": {},
   "outputs": [
    {
     "data": {
      "text/html": [
       "<div>\n",
       "<style scoped>\n",
       "    .dataframe tbody tr th:only-of-type {\n",
       "        vertical-align: middle;\n",
       "    }\n",
       "\n",
       "    .dataframe tbody tr th {\n",
       "        vertical-align: top;\n",
       "    }\n",
       "\n",
       "    .dataframe thead th {\n",
       "        text-align: right;\n",
       "    }\n",
       "</style>\n",
       "<table border=\"1\" class=\"dataframe\">\n",
       "  <thead>\n",
       "    <tr style=\"text-align: right;\">\n",
       "      <th></th>\n",
       "      <th>SEVERITYCODE</th>\n",
       "      <th>X</th>\n",
       "      <th>Y</th>\n",
       "      <th>LOCATION</th>\n",
       "      <th>UNDERINFL</th>\n",
       "      <th>ADDRTYPE_Block</th>\n",
       "      <th>ADDRTYPE_Intersection</th>\n",
       "      <th>JUNCTIONTYPE_At Intersection (but not related to intersection)</th>\n",
       "      <th>JUNCTIONTYPE_At Intersection (intersection related)</th>\n",
       "      <th>JUNCTIONTYPE_Driveway Junction</th>\n",
       "      <th>...</th>\n",
       "      <th>LIGHTCOND_Dark - Street Lights Off</th>\n",
       "      <th>LIGHTCOND_Dark - Street Lights On</th>\n",
       "      <th>LIGHTCOND_Dark - Unknown Lighting</th>\n",
       "      <th>LIGHTCOND_Dawn</th>\n",
       "      <th>LIGHTCOND_Daylight</th>\n",
       "      <th>LIGHTCOND_Dusk</th>\n",
       "      <th>LIGHTCOND_Other</th>\n",
       "      <th>LIGHTCOND_Unknown</th>\n",
       "      <th>HITPARKEDCAR_N</th>\n",
       "      <th>HITPARKEDCAR_Y</th>\n",
       "    </tr>\n",
       "    <tr>\n",
       "      <th>OBJECTID</th>\n",
       "      <th></th>\n",
       "      <th></th>\n",
       "      <th></th>\n",
       "      <th></th>\n",
       "      <th></th>\n",
       "      <th></th>\n",
       "      <th></th>\n",
       "      <th></th>\n",
       "      <th></th>\n",
       "      <th></th>\n",
       "      <th></th>\n",
       "      <th></th>\n",
       "      <th></th>\n",
       "      <th></th>\n",
       "      <th></th>\n",
       "      <th></th>\n",
       "      <th></th>\n",
       "      <th></th>\n",
       "      <th></th>\n",
       "      <th></th>\n",
       "      <th></th>\n",
       "    </tr>\n",
       "  </thead>\n",
       "  <tbody>\n",
       "    <tr>\n",
       "      <th>1</th>\n",
       "      <td>2</td>\n",
       "      <td>-122.323148</td>\n",
       "      <td>47.703140</td>\n",
       "      <td>5TH AVE NE AND NE 103RD ST</td>\n",
       "      <td>0</td>\n",
       "      <td>0</td>\n",
       "      <td>1</td>\n",
       "      <td>0</td>\n",
       "      <td>1</td>\n",
       "      <td>0</td>\n",
       "      <td>...</td>\n",
       "      <td>0</td>\n",
       "      <td>0</td>\n",
       "      <td>0</td>\n",
       "      <td>0</td>\n",
       "      <td>1</td>\n",
       "      <td>0</td>\n",
       "      <td>0</td>\n",
       "      <td>0</td>\n",
       "      <td>1</td>\n",
       "      <td>0</td>\n",
       "    </tr>\n",
       "    <tr>\n",
       "      <th>2</th>\n",
       "      <td>1</td>\n",
       "      <td>-122.347294</td>\n",
       "      <td>47.647172</td>\n",
       "      <td>AURORA BR BETWEEN RAYE ST AND BRIDGE WAY N</td>\n",
       "      <td>0</td>\n",
       "      <td>1</td>\n",
       "      <td>0</td>\n",
       "      <td>0</td>\n",
       "      <td>0</td>\n",
       "      <td>0</td>\n",
       "      <td>...</td>\n",
       "      <td>0</td>\n",
       "      <td>1</td>\n",
       "      <td>0</td>\n",
       "      <td>0</td>\n",
       "      <td>0</td>\n",
       "      <td>0</td>\n",
       "      <td>0</td>\n",
       "      <td>0</td>\n",
       "      <td>1</td>\n",
       "      <td>0</td>\n",
       "    </tr>\n",
       "    <tr>\n",
       "      <th>3</th>\n",
       "      <td>1</td>\n",
       "      <td>-122.334540</td>\n",
       "      <td>47.607871</td>\n",
       "      <td>4TH AVE BETWEEN SENECA ST AND UNIVERSITY ST</td>\n",
       "      <td>0</td>\n",
       "      <td>1</td>\n",
       "      <td>0</td>\n",
       "      <td>0</td>\n",
       "      <td>0</td>\n",
       "      <td>0</td>\n",
       "      <td>...</td>\n",
       "      <td>0</td>\n",
       "      <td>0</td>\n",
       "      <td>0</td>\n",
       "      <td>0</td>\n",
       "      <td>1</td>\n",
       "      <td>0</td>\n",
       "      <td>0</td>\n",
       "      <td>0</td>\n",
       "      <td>1</td>\n",
       "      <td>0</td>\n",
       "    </tr>\n",
       "    <tr>\n",
       "      <th>4</th>\n",
       "      <td>1</td>\n",
       "      <td>-122.334803</td>\n",
       "      <td>47.604803</td>\n",
       "      <td>2ND AVE BETWEEN MARION ST AND MADISON ST</td>\n",
       "      <td>0</td>\n",
       "      <td>1</td>\n",
       "      <td>0</td>\n",
       "      <td>0</td>\n",
       "      <td>0</td>\n",
       "      <td>0</td>\n",
       "      <td>...</td>\n",
       "      <td>0</td>\n",
       "      <td>0</td>\n",
       "      <td>0</td>\n",
       "      <td>0</td>\n",
       "      <td>1</td>\n",
       "      <td>0</td>\n",
       "      <td>0</td>\n",
       "      <td>0</td>\n",
       "      <td>1</td>\n",
       "      <td>0</td>\n",
       "    </tr>\n",
       "    <tr>\n",
       "      <th>5</th>\n",
       "      <td>2</td>\n",
       "      <td>-122.306426</td>\n",
       "      <td>47.545739</td>\n",
       "      <td>SWIFT AVE S AND SWIFT AV OFF RP</td>\n",
       "      <td>0</td>\n",
       "      <td>0</td>\n",
       "      <td>1</td>\n",
       "      <td>0</td>\n",
       "      <td>1</td>\n",
       "      <td>0</td>\n",
       "      <td>...</td>\n",
       "      <td>0</td>\n",
       "      <td>0</td>\n",
       "      <td>0</td>\n",
       "      <td>0</td>\n",
       "      <td>1</td>\n",
       "      <td>0</td>\n",
       "      <td>0</td>\n",
       "      <td>0</td>\n",
       "      <td>1</td>\n",
       "      <td>0</td>\n",
       "    </tr>\n",
       "  </tbody>\n",
       "</table>\n",
       "<p>5 rows × 55 columns</p>\n",
       "</div>"
      ],
      "text/plain": [
       "          SEVERITYCODE           X          Y  \\\n",
       "OBJECTID                                        \n",
       "1                    2 -122.323148  47.703140   \n",
       "2                    1 -122.347294  47.647172   \n",
       "3                    1 -122.334540  47.607871   \n",
       "4                    1 -122.334803  47.604803   \n",
       "5                    2 -122.306426  47.545739   \n",
       "\n",
       "                                             LOCATION  UNDERINFL  \\\n",
       "OBJECTID                                                           \n",
       "1                          5TH AVE NE AND NE 103RD ST          0   \n",
       "2          AURORA BR BETWEEN RAYE ST AND BRIDGE WAY N          0   \n",
       "3         4TH AVE BETWEEN SENECA ST AND UNIVERSITY ST          0   \n",
       "4            2ND AVE BETWEEN MARION ST AND MADISON ST          0   \n",
       "5                     SWIFT AVE S AND SWIFT AV OFF RP          0   \n",
       "\n",
       "          ADDRTYPE_Block  ADDRTYPE_Intersection  \\\n",
       "OBJECTID                                          \n",
       "1                      0                      1   \n",
       "2                      1                      0   \n",
       "3                      1                      0   \n",
       "4                      1                      0   \n",
       "5                      0                      1   \n",
       "\n",
       "          JUNCTIONTYPE_At Intersection (but not related to intersection)  \\\n",
       "OBJECTID                                                                   \n",
       "1                                                         0                \n",
       "2                                                         0                \n",
       "3                                                         0                \n",
       "4                                                         0                \n",
       "5                                                         0                \n",
       "\n",
       "          JUNCTIONTYPE_At Intersection (intersection related)  \\\n",
       "OBJECTID                                                        \n",
       "1                                                         1     \n",
       "2                                                         0     \n",
       "3                                                         0     \n",
       "4                                                         0     \n",
       "5                                                         1     \n",
       "\n",
       "          JUNCTIONTYPE_Driveway Junction  ...  \\\n",
       "OBJECTID                                  ...   \n",
       "1                                      0  ...   \n",
       "2                                      0  ...   \n",
       "3                                      0  ...   \n",
       "4                                      0  ...   \n",
       "5                                      0  ...   \n",
       "\n",
       "          LIGHTCOND_Dark - Street Lights Off  \\\n",
       "OBJECTID                                       \n",
       "1                                          0   \n",
       "2                                          0   \n",
       "3                                          0   \n",
       "4                                          0   \n",
       "5                                          0   \n",
       "\n",
       "          LIGHTCOND_Dark - Street Lights On  \\\n",
       "OBJECTID                                      \n",
       "1                                         0   \n",
       "2                                         1   \n",
       "3                                         0   \n",
       "4                                         0   \n",
       "5                                         0   \n",
       "\n",
       "          LIGHTCOND_Dark - Unknown Lighting  LIGHTCOND_Dawn  \\\n",
       "OBJECTID                                                      \n",
       "1                                         0               0   \n",
       "2                                         0               0   \n",
       "3                                         0               0   \n",
       "4                                         0               0   \n",
       "5                                         0               0   \n",
       "\n",
       "          LIGHTCOND_Daylight  LIGHTCOND_Dusk  LIGHTCOND_Other  \\\n",
       "OBJECTID                                                        \n",
       "1                          1               0                0   \n",
       "2                          0               0                0   \n",
       "3                          1               0                0   \n",
       "4                          1               0                0   \n",
       "5                          1               0                0   \n",
       "\n",
       "          LIGHTCOND_Unknown  HITPARKEDCAR_N  HITPARKEDCAR_Y  \n",
       "OBJECTID                                                     \n",
       "1                         0               1               0  \n",
       "2                         0               1               0  \n",
       "3                         0               1               0  \n",
       "4                         0               1               0  \n",
       "5                         0               1               0  \n",
       "\n",
       "[5 rows x 55 columns]"
      ]
     },
     "execution_count": 13,
     "metadata": {},
     "output_type": "execute_result"
    }
   ],
   "source": [
    "cdf.head()"
   ]
  },
  {
   "cell_type": "code",
   "execution_count": 14,
   "metadata": {
    "scrolled": false
   },
   "outputs": [],
   "source": [
    "from sklearn.model_selection import train_test_split\n",
    "cdf.drop(\"LOCATION\",axis=1,inplace = True)\n",
    "X= np.asarray(cdf[[i for i in list(cdf.columns) if i != 'SEVERITYCODE']])\n",
    "y=np.asarray(cdf[\"SEVERITYCODE\"])\n",
    "X_train, X_test, y_train, y_test = train_test_split( X, y, test_size=0.2, random_state=4)"
   ]
  },
  {
   "cell_type": "code",
   "execution_count": 15,
   "metadata": {},
   "outputs": [],
   "source": [
    "from sklearn.metrics import jaccard_similarity_score\n",
    "from sklearn.metrics import f1_score\n",
    "from sklearn.metrics import log_loss"
   ]
  },
  {
   "cell_type": "markdown",
   "metadata": {},
   "source": [
    "# Logistic Regression"
   ]
  },
  {
   "cell_type": "code",
   "execution_count": 16,
   "metadata": {},
   "outputs": [
    {
     "data": {
      "text/plain": [
       "0.7393426413559512"
      ]
     },
     "execution_count": 16,
     "metadata": {},
     "output_type": "execute_result"
    }
   ],
   "source": [
    "from sklearn.linear_model import LogisticRegression\n",
    "from sklearn.metrics import confusion_matrix\n",
    "LR = LogisticRegression(C=0.01, solver='liblinear').fit(X_train,y_train)\n",
    "s=LR.score(X_train,y_train)\n",
    "s"
   ]
  },
  {
   "cell_type": "code",
   "execution_count": 17,
   "metadata": {},
   "outputs": [],
   "source": [
    "yhat = LR.predict(X_test)"
   ]
  },
  {
   "cell_type": "code",
   "execution_count": 18,
   "metadata": {},
   "outputs": [
    {
     "data": {
      "text/plain": [
       "0.7403438893719672"
      ]
     },
     "execution_count": 18,
     "metadata": {},
     "output_type": "execute_result"
    }
   ],
   "source": [
    "sa=LR.score(X_test,y_test)\n",
    "sa"
   ]
  },
  {
   "cell_type": "code",
   "execution_count": 19,
   "metadata": {
    "scrolled": false
   },
   "outputs": [
    {
     "data": {
      "text/plain": [
       "array([1, 2, 1, ..., 1, 1, 1], dtype=int64)"
      ]
     },
     "execution_count": 19,
     "metadata": {},
     "output_type": "execute_result"
    }
   ],
   "source": [
    "yhat = LR.predict(X_test)\n",
    "yhat_prob = LR.predict_proba(X_test)\n",
    "yhat\n"
   ]
  },
  {
   "cell_type": "code",
   "execution_count": 20,
   "metadata": {},
   "outputs": [
    {
     "name": "stdout",
     "output_type": "stream",
     "text": [
      "Requirement already satisfied: numpy in c:\\users\\yousef\\appdata\\local\\programs\\python\\python37\\lib\\site-packages (1.18.1)\n",
      "Requirement already satisfied: scipy in c:\\users\\yousef\\appdata\\local\\programs\\python\\python37\\lib\\site-packages (1.5.2)\n",
      "Requirement already satisfied: matplotlib in c:\\users\\yousef\\appdata\\local\\programs\\python\\python37\\lib\\site-packages (3.3.0)\n",
      "Requirement already satisfied: ipython in c:\\users\\yousef\\appdata\\local\\programs\\python\\python37\\lib\\site-packages (7.16.1)\n",
      "Requirement already satisfied: jupyter in c:\\users\\yousef\\appdata\\roaming\\python\\python37\\site-packages (1.0.0)\n",
      "Requirement already satisfied: pandas in c:\\users\\yousef\\appdata\\local\\programs\\python\\python37\\lib\\site-packages (1.0.1)\n",
      "Requirement already satisfied: sympy in c:\\users\\yousef\\appdata\\roaming\\python\\python37\\site-packages (1.6.2)\n",
      "Requirement already satisfied: nose in c:\\users\\yousef\\appdata\\roaming\\python\\python37\\site-packages (1.3.7)\n",
      "Requirement already satisfied: pyparsing!=2.0.4,!=2.1.2,!=2.1.6,>=2.0.3 in c:\\users\\yousef\\appdata\\local\\programs\\python\\python37\\lib\\site-packages (from matplotlib) (2.4.7)\n",
      "Requirement already satisfied: kiwisolver>=1.0.1 in c:\\users\\yousef\\appdata\\local\\programs\\python\\python37\\lib\\site-packages (from matplotlib) (1.2.0)\n",
      "Requirement already satisfied: python-dateutil>=2.1 in c:\\users\\yousef\\appdata\\local\\programs\\python\\python37\\lib\\site-packages (from matplotlib) (2.8.1)\n",
      "Requirement already satisfied: cycler>=0.10 in c:\\users\\yousef\\appdata\\local\\programs\\python\\python37\\lib\\site-packages (from matplotlib) (0.10.0)\n",
      "Requirement already satisfied: pillow>=6.2.0 in c:\\users\\yousef\\appdata\\local\\programs\\python\\python37\\lib\\site-packages (from matplotlib) (7.2.0)\n",
      "Requirement already satisfied: colorama; sys_platform == \"win32\" in c:\\users\\yousef\\appdata\\roaming\\python\\python37\\site-packages (from ipython) (0.4.3)\n",
      "Requirement already satisfied: pygments in c:\\users\\yousef\\appdata\\local\\programs\\python\\python37\\lib\\site-packages (from ipython) (2.6.1)\n",
      "Requirement already satisfied: pickleshare in c:\\users\\yousef\\appdata\\local\\programs\\python\\python37\\lib\\site-packages (from ipython) (0.7.5)\n",
      "Requirement already satisfied: backcall in c:\\users\\yousef\\appdata\\local\\programs\\python\\python37\\lib\\site-packages (from ipython) (0.2.0)\n",
      "Requirement already satisfied: traitlets>=4.2 in c:\\users\\yousef\\appdata\\local\\programs\\python\\python37\\lib\\site-packages (from ipython) (4.3.3)\n",
      "Requirement already satisfied: jedi>=0.10 in c:\\users\\yousef\\appdata\\local\\programs\\python\\python37\\lib\\site-packages (from ipython) (0.17.2)\n",
      "Requirement already satisfied: setuptools>=18.5 in c:\\users\\yousef\\appdata\\local\\programs\\python\\python37\\lib\\site-packages (from ipython) (40.8.0)\n",
      "Requirement already satisfied: decorator in c:\\users\\yousef\\appdata\\local\\programs\\python\\python37\\lib\\site-packages (from ipython) (4.4.2)\n",
      "Requirement already satisfied: prompt-toolkit!=3.0.0,!=3.0.1,<3.1.0,>=2.0.0 in c:\\users\\yousef\\appdata\\local\\programs\\python\\python37\\lib\\site-packages (from ipython) (3.0.5)\n",
      "Requirement already satisfied: ipywidgets in c:\\users\\yousef\\appdata\\roaming\\python\\python37\\site-packages (from jupyter) (7.5.1)\n",
      "Requirement already satisfied: ipykernel in c:\\users\\yousef\\appdata\\local\\programs\\python\\python37\\lib\\site-packages (from jupyter) (5.3.3)\n",
      "Requirement already satisfied: nbconvert in c:\\users\\yousef\\appdata\\local\\programs\\python\\python37\\lib\\site-packages (from jupyter) (5.6.1)\n",
      "Requirement already satisfied: jupyter-console in c:\\users\\yousef\\appdata\\roaming\\python\\python37\\site-packages (from jupyter) (6.2.0)\n",
      "Requirement already satisfied: qtconsole in c:\\users\\yousef\\appdata\\roaming\\python\\python37\\site-packages (from jupyter) (4.7.7)\n",
      "Requirement already satisfied: notebook in c:\\users\\yousef\\appdata\\local\\programs\\python\\python37\\lib\\site-packages (from jupyter) (6.0.3)\n",
      "Requirement already satisfied: pytz>=2017.2 in c:\\users\\yousef\\appdata\\local\\programs\\python\\python37\\lib\\site-packages (from pandas) (2019.3)\n",
      "Requirement already satisfied: mpmath>=0.19 in c:\\users\\yousef\\appdata\\roaming\\python\\python37\\site-packages (from sympy) (1.1.0)\n",
      "Requirement already satisfied: six>=1.5 in c:\\users\\yousef\\appdata\\local\\programs\\python\\python37\\lib\\site-packages (from python-dateutil>=2.1->matplotlib) (1.14.0)\n",
      "Requirement already satisfied: ipython-genutils in c:\\users\\yousef\\appdata\\local\\programs\\python\\python37\\lib\\site-packages (from traitlets>=4.2->ipython) (0.2.0)\n",
      "Requirement already satisfied: parso<0.8.0,>=0.7.0 in c:\\users\\yousef\\appdata\\local\\programs\\python\\python37\\lib\\site-packages (from jedi>=0.10->ipython) (0.7.0)\n",
      "Requirement already satisfied: wcwidth in c:\\users\\yousef\\appdata\\local\\programs\\python\\python37\\lib\\site-packages (from prompt-toolkit!=3.0.0,!=3.0.1,<3.1.0,>=2.0.0->ipython) (0.2.5)\n",
      "Requirement already satisfied: widgetsnbextension~=3.5.0 in c:\\users\\yousef\\appdata\\roaming\\python\\python37\\site-packages (from ipywidgets->jupyter) (3.5.1)\n",
      "Requirement already satisfied: nbformat>=4.2.0 in c:\\users\\yousef\\appdata\\local\\programs\\python\\python37\\lib\\site-packages (from ipywidgets->jupyter) (5.0.7)\n",
      "Requirement already satisfied: tornado>=4.2 in c:\\users\\yousef\\appdata\\local\\programs\\python\\python37\\lib\\site-packages (from ipykernel->jupyter) (6.0.4)\n",
      "Requirement already satisfied: jupyter-client in c:\\users\\yousef\\appdata\\local\\programs\\python\\python37\\lib\\site-packages (from ipykernel->jupyter) (6.1.6)\n",
      "Requirement already satisfied: pandocfilters>=1.4.1 in c:\\users\\yousef\\appdata\\local\\programs\\python\\python37\\lib\\site-packages (from nbconvert->jupyter) (1.4.2)\n",
      "Requirement already satisfied: mistune<2,>=0.8.1 in c:\\users\\yousef\\appdata\\local\\programs\\python\\python37\\lib\\site-packages (from nbconvert->jupyter) (0.8.4)\n",
      "Requirement already satisfied: jinja2>=2.4 in c:\\users\\yousef\\appdata\\local\\programs\\python\\python37\\lib\\site-packages (from nbconvert->jupyter) (2.11.2)\n",
      "Requirement already satisfied: jupyter-core in c:\\users\\yousef\\appdata\\local\\programs\\python\\python37\\lib\\site-packages (from nbconvert->jupyter) (4.6.3)\n",
      "Requirement already satisfied: bleach in c:\\users\\yousef\\appdata\\local\\programs\\python\\python37\\lib\\site-packages (from nbconvert->jupyter) (3.1.5)\n",
      "Requirement already satisfied: defusedxml in c:\\users\\yousef\\appdata\\local\\programs\\python\\python37\\lib\\site-packages (from nbconvert->jupyter) (0.6.0)\n",
      "Requirement already satisfied: testpath in c:\\users\\yousef\\appdata\\local\\programs\\python\\python37\\lib\\site-packages (from nbconvert->jupyter) (0.4.4)\n",
      "Requirement already satisfied: entrypoints>=0.2.2 in c:\\users\\yousef\\appdata\\local\\programs\\python\\python37\\lib\\site-packages (from nbconvert->jupyter) (0.3)\n",
      "Requirement already satisfied: qtpy in c:\\users\\yousef\\appdata\\roaming\\python\\python37\\site-packages (from qtconsole->jupyter) (1.9.0)\n",
      "Requirement already satisfied: pyzmq>=17.1 in c:\\users\\yousef\\appdata\\local\\programs\\python\\python37\\lib\\site-packages (from qtconsole->jupyter) (19.0.1)\n",
      "Requirement already satisfied: Send2Trash in c:\\users\\yousef\\appdata\\local\\programs\\python\\python37\\lib\\site-packages (from notebook->jupyter) (1.5.0)\n",
      "Requirement already satisfied: terminado>=0.8.1 in c:\\users\\yousef\\appdata\\local\\programs\\python\\python37\\lib\\site-packages (from notebook->jupyter) (0.8.3)\n",
      "Requirement already satisfied: prometheus-client in c:\\users\\yousef\\appdata\\local\\programs\\python\\python37\\lib\\site-packages (from notebook->jupyter) (0.8.0)\n",
      "Requirement already satisfied: jsonschema!=2.5.0,>=2.4 in c:\\users\\yousef\\appdata\\local\\programs\\python\\python37\\lib\\site-packages (from nbformat>=4.2.0->ipywidgets->jupyter) (3.2.0)\n",
      "Requirement already satisfied: MarkupSafe>=0.23 in c:\\users\\yousef\\appdata\\local\\programs\\python\\python37\\lib\\site-packages (from jinja2>=2.4->nbconvert->jupyter) (1.1.1)\n",
      "Requirement already satisfied: pywin32>=1.0; sys_platform == \"win32\" in c:\\users\\yousef\\appdata\\local\\programs\\python\\python37\\lib\\site-packages (from jupyter-core->nbconvert->jupyter) (228)\n",
      "Requirement already satisfied: webencodings in c:\\users\\yousef\\appdata\\local\\programs\\python\\python37\\lib\\site-packages (from bleach->nbconvert->jupyter) (0.5.1)\n",
      "Requirement already satisfied: packaging in c:\\users\\yousef\\appdata\\local\\programs\\python\\python37\\lib\\site-packages (from bleach->nbconvert->jupyter) (20.4)\n",
      "Requirement already satisfied: pywinpty>=0.5; os_name == \"nt\" in c:\\users\\yousef\\appdata\\local\\programs\\python\\python37\\lib\\site-packages (from terminado>=0.8.1->notebook->jupyter) (0.5.7)\n",
      "Requirement already satisfied: pyrsistent>=0.14.0 in c:\\users\\yousef\\appdata\\local\\programs\\python\\python37\\lib\\site-packages (from jsonschema!=2.5.0,>=2.4->nbformat>=4.2.0->ipywidgets->jupyter) (0.16.0)\n",
      "Requirement already satisfied: importlib-metadata; python_version < \"3.8\" in c:\\users\\yousef\\appdata\\local\\programs\\python\\python37\\lib\\site-packages (from jsonschema!=2.5.0,>=2.4->nbformat>=4.2.0->ipywidgets->jupyter) (1.7.0)\n",
      "Requirement already satisfied: attrs>=17.4.0 in c:\\users\\yousef\\appdata\\local\\programs\\python\\python37\\lib\\site-packages (from jsonschema!=2.5.0,>=2.4->nbformat>=4.2.0->ipywidgets->jupyter) (19.3.0)\n",
      "Requirement already satisfied: zipp>=0.5 in c:\\users\\yousef\\appdata\\local\\programs\\python\\python37\\lib\\site-packages (from importlib-metadata; python_version < \"3.8\"->jsonschema!=2.5.0,>=2.4->nbformat>=4.2.0->ipywidgets->jupyter) (3.1.0)\n"
     ]
    }
   ],
   "source": [
    "!pip install --user numpy scipy matplotlib ipython jupyter pandas sympy nose"
   ]
  },
  {
   "cell_type": "code",
   "execution_count": 21,
   "metadata": {},
   "outputs": [
    {
     "name": "stdout",
     "output_type": "stream",
     "text": [
      "Requirement already up-to-date: pip in c:\\users\\yousef\\appdata\\local\\programs\\python\\python37\\lib\\site-packages (20.2.3)\n"
     ]
    }
   ],
   "source": [
    "!pip install --user --upgrade pip"
   ]
  },
  {
   "cell_type": "code",
   "execution_count": 22,
   "metadata": {},
   "outputs": [
    {
     "data": {
      "text/plain": [
       "0.7403438893719672"
      ]
     },
     "execution_count": 22,
     "metadata": {},
     "output_type": "execute_result"
    }
   ],
   "source": [
    "from sklearn.metrics import jaccard_similarity_score\n",
    "jaccard_similarity_score(y_test, yhat)"
   ]
  },
  {
   "cell_type": "code",
   "execution_count": 23,
   "metadata": {},
   "outputs": [
    {
     "name": "stdout",
     "output_type": "stream",
     "text": [
      "DT Jaccard index: 0.74\n",
      "DT F1-score: 0.68\n"
     ]
    }
   ],
   "source": [
    "print(\"DT Jaccard index: %.2f\" % jaccard_similarity_score(y_test, yhat))\n",
    "print(\"DT F1-score: %.2f\" % f1_score(y_test, yhat, average='weighted') )"
   ]
  },
  {
   "cell_type": "code",
   "execution_count": 24,
   "metadata": {},
   "outputs": [
    {
     "name": "stdout",
     "output_type": "stream",
     "text": [
      "              precision    recall  f1-score   support\n",
      "\n",
      "           1       0.73      0.98      0.84     24610\n",
      "           2       0.81      0.21      0.33     11041\n",
      "\n",
      "   micro avg       0.74      0.74      0.74     35651\n",
      "   macro avg       0.77      0.59      0.59     35651\n",
      "weighted avg       0.76      0.74      0.68     35651\n",
      "\n"
     ]
    }
   ],
   "source": [
    "from sklearn.metrics import classification_report\n",
    "print (classification_report(y_test, yhat))\n"
   ]
  },
  {
   "cell_type": "code",
   "execution_count": 25,
   "metadata": {},
   "outputs": [
    {
     "data": {
      "text/plain": [
       "0.5027292962976487"
      ]
     },
     "execution_count": 25,
     "metadata": {},
     "output_type": "execute_result"
    }
   ],
   "source": [
    "from sklearn.metrics import log_loss\n",
    "log_loss(y_test, yhat_prob)"
   ]
  },
  {
   "cell_type": "code",
   "execution_count": 26,
   "metadata": {
    "scrolled": true
   },
   "outputs": [
    {
     "name": "stdout",
     "output_type": "stream",
     "text": [
      "Cross-Validation Accuracy Scores [0.738728   0.73886824 0.73927069 0.74004208 0.7411641  0.73597475\n",
      " 0.73969144 0.74018233 0.74025245 0.73932253]\n"
     ]
    }
   ],
   "source": [
    "from sklearn.model_selection import cross_val_score\n",
    "\n",
    "scores = cross_val_score(LR, X_train, y_train, cv=10)\n",
    "print('Cross-Validation Accuracy Scores', scores)"
   ]
  },
  {
   "cell_type": "markdown",
   "metadata": {},
   "source": [
    "<h1> Decision Tree</h1>"
   ]
  },
  {
   "cell_type": "code",
   "execution_count": 27,
   "metadata": {},
   "outputs": [],
   "source": [
    "from sklearn.tree import DecisionTreeClassifier\n",
    "tree = DecisionTreeClassifier(criterion=\"entropy\", max_depth = 4)"
   ]
  },
  {
   "cell_type": "code",
   "execution_count": 28,
   "metadata": {},
   "outputs": [
    {
     "data": {
      "text/plain": [
       "DecisionTreeClassifier(class_weight=None, criterion='entropy', max_depth=4,\n",
       "            max_features=None, max_leaf_nodes=None,\n",
       "            min_impurity_decrease=0.0, min_impurity_split=None,\n",
       "            min_samples_leaf=1, min_samples_split=2,\n",
       "            min_weight_fraction_leaf=0.0, presort=False, random_state=None,\n",
       "            splitter='best')"
      ]
     },
     "execution_count": 28,
     "metadata": {},
     "output_type": "execute_result"
    }
   ],
   "source": [
    "tree.fit(X_train,y_train)"
   ]
  },
  {
   "cell_type": "code",
   "execution_count": 29,
   "metadata": {},
   "outputs": [],
   "source": [
    "predTree = tree.predict(X_test)"
   ]
  },
  {
   "cell_type": "code",
   "execution_count": 30,
   "metadata": {
    "scrolled": true
   },
   "outputs": [
    {
     "name": "stdout",
     "output_type": "stream",
     "text": [
      "DecisionTrees's Accuracy:  0.740203640851589\n"
     ]
    }
   ],
   "source": [
    "from sklearn import metrics\n",
    "import matplotlib.pyplot as plt\n",
    "print(\"DecisionTrees's Accuracy: \", metrics.accuracy_score(y_test, predTree))"
   ]
  },
  {
   "cell_type": "code",
   "execution_count": 31,
   "metadata": {
    "scrolled": true
   },
   "outputs": [
    {
     "name": "stdout",
     "output_type": "stream",
     "text": [
      "              precision    recall  f1-score   support\n",
      "\n",
      "           1       0.73      0.99      0.84     24610\n",
      "           2       0.88      0.19      0.31     11041\n",
      "\n",
      "   micro avg       0.74      0.74      0.74     35651\n",
      "   macro avg       0.81      0.59      0.57     35651\n",
      "weighted avg       0.78      0.74      0.68     35651\n",
      "\n"
     ]
    }
   ],
   "source": [
    "print(classification_report(y_test,predTree))"
   ]
  },
  {
   "cell_type": "code",
   "execution_count": null,
   "metadata": {},
   "outputs": [],
   "source": []
  },
  {
   "cell_type": "code",
   "execution_count": 33,
   "metadata": {},
   "outputs": [],
   "source": [
    "from sklearn.metrics import jaccard_similarity_score\n",
    "from sklearn.metrics import f1_score\n",
    "from sklearn.metrics import log_loss"
   ]
  },
  {
   "cell_type": "code",
   "execution_count": 35,
   "metadata": {},
   "outputs": [
    {
     "name": "stdout",
     "output_type": "stream",
     "text": [
      "DT Jaccard index: 0.74\n",
      "DT F1-score: 0.68\n"
     ]
    }
   ],
   "source": [
    "print(\"DT Jaccard index: %.2f\" % jaccard_similarity_score(y_test, predTree))\n",
    "print(\"DT F1-score: %.2f\" % f1_score(y_test, predTree, average='weighted') )"
   ]
  },
  {
   "cell_type": "code",
   "execution_count": 36,
   "metadata": {},
   "outputs": [
    {
     "name": "stdout",
     "output_type": "stream",
     "text": [
      "Windows-10-10.0.18362-SP0\n",
      "Python 3.7.3 (v3.7.3:ef4ec6ed12, Mar 25 2019, 22:22:05) [MSC v.1916 64 bit (AMD64)]\n",
      "NumPy 1.18.1\n",
      "SciPy 1.5.2\n",
      "Scikit-Learn 0.20.3\n"
     ]
    }
   ],
   "source": [
    "import platform; print(platform.platform())\n",
    "import sys; print(\"Python\", sys.version)\n",
    "import numpy; print(\"NumPy\", numpy.__version__)\n",
    "import scipy; print(\"SciPy\", scipy.__version__)\n",
    "import sklearn; print(\"Scikit-Learn\", sklearn.__version__)"
   ]
  },
  {
   "cell_type": "code",
   "execution_count": null,
   "metadata": {},
   "outputs": [],
   "source": []
  }
 ],
 "metadata": {
  "kernelspec": {
   "display_name": "Python 3",
   "language": "python",
   "name": "python3"
  },
  "language_info": {
   "codemirror_mode": {
    "name": "ipython",
    "version": 3
   },
   "file_extension": ".py",
   "mimetype": "text/x-python",
   "name": "python",
   "nbconvert_exporter": "python",
   "pygments_lexer": "ipython3",
   "version": "3.7.3"
  }
 },
 "nbformat": 4,
 "nbformat_minor": 4
}
